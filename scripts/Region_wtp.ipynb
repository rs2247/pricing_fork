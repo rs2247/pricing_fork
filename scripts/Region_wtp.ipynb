{
 "cells": [
  {
   "cell_type": "code",
   "execution_count": 1,
   "metadata": {},
   "outputs": [],
   "source": [
    "%load_ext autoreload\n",
    "%autoreload 2\n",
    "\n",
    "from pricing.operations.functions import *\n",
    "from pricing.operations.utils import *\n",
    "from pprint import pprint\n",
    "import os\n",
    "\n",
    "\n",
    "from pyspark.sql import SparkSession\n",
    "spark = SparkSession.builder.getOrCreate()\n",
    "\n",
    "from pricing.operations.experiments import level_1_kind_1_courses_1"
   ]
  },
  {
   "cell_type": "code",
   "execution_count": 11,
   "metadata": {},
   "outputs": [
    {
     "data": {
      "application/vnd.plotly.v1+json": {
       "config": {
        "plotlyServerURL": "https://plot.ly"
       },
       "data": [
        {
         "hoverlabel": {
          "namelength": 0
         },
         "hovertemplate": "state=TO<br>canonico=%{x}<br>wtp=%{y}",
         "legendgroup": "state=TO",
         "marker": {
          "color": "#636efa",
          "symbol": "circle"
         },
         "mode": "markers",
         "name": "state=TO",
         "showlegend": true,
         "type": "scatter",
         "x": [
          "Arquitetura e Urbanismo",
          "Engenharia Mecânica",
          "Engenharia Civil",
          "Biomedicina",
          "Direito",
          "Fisioterapia",
          "Engenharia de Produção",
          "Psicologia",
          "Enfermagem",
          "Nutrição",
          "Publicidade e Propaganda",
          "Farmácia",
          "Educação Física",
          "Análise e Desenvolvimento de Sistemas",
          "Administração",
          "Ciências Contábeis",
          "Estética",
          "Pedagogia",
          "Recursos Humanos"
         ],
         "xaxis": "x",
         "y": [
          704.1099611901682,
          710.8515625,
          658.8618042226487,
          621.8581081081081,
          669.1257761502945,
          635.780888618381,
          794.5783132530121,
          622.2160433070866,
          510.5561998976633,
          575.0707350901525,
          562.9901960784314,
          550.7381294964028,
          379.474679270763,
          396.4673913043478,
          488.0168509741969,
          444.76956839795173,
          486.6796875,
          286.61971830985914,
          233.54700854700855
         ],
         "yaxis": "y"
        },
        {
         "hoverlabel": {
          "namelength": 0
         },
         "hovertemplate": "state=SP<br>canonico=%{x}<br>wtp=%{y}",
         "legendgroup": "state=SP",
         "marker": {
          "color": "#EF553B",
          "symbol": "circle"
         },
         "mode": "markers",
         "name": "state=SP",
         "showlegend": true,
         "type": "scatter",
         "x": [
          "Arquitetura e Urbanismo",
          "Engenharia Mecânica",
          "Engenharia Civil",
          "Biomedicina",
          "Direito",
          "Fisioterapia",
          "Engenharia de Produção",
          "Psicologia",
          "Enfermagem",
          "Nutrição",
          "Publicidade e Propaganda",
          "Farmácia",
          "Educação Física",
          "Análise e Desenvolvimento de Sistemas",
          "Administração",
          "Ciências Contábeis",
          "Estética",
          "Pedagogia",
          "Logística",
          "Recursos Humanos"
         ],
         "xaxis": "x",
         "y": [
          746.2633077381043,
          721.6444839180359,
          698.1563805959295,
          623.6743061052684,
          680.6263397966258,
          604.5889651226636,
          708.0142358546582,
          663.5989483560222,
          562.8839288251814,
          584.2704302689717,
          675.7699394431726,
          592.098683686258,
          513.3327604003902,
          519.4090377049304,
          531.1021151556511,
          550.3236834415085,
          528.7535515158157,
          411.1120538783674,
          449.3692577023245,
          423.6251568770773
         ],
         "yaxis": "y"
        },
        {
         "hoverlabel": {
          "namelength": 0
         },
         "hovertemplate": "state=SE<br>canonico=%{x}<br>wtp=%{y}",
         "legendgroup": "state=SE",
         "marker": {
          "color": "#00cc96",
          "symbol": "circle"
         },
         "mode": "markers",
         "name": "state=SE",
         "showlegend": true,
         "type": "scatter",
         "x": [
          "Arquitetura e Urbanismo",
          "Engenharia Mecânica",
          "Engenharia Civil",
          "Biomedicina",
          "Direito",
          "Fisioterapia",
          "Engenharia de Produção",
          "Psicologia",
          "Enfermagem",
          "Nutrição",
          "Publicidade e Propaganda",
          "Farmácia",
          "Educação Física",
          "Análise e Desenvolvimento de Sistemas",
          "Administração",
          "Ciências Contábeis",
          "Estética",
          "Pedagogia",
          "Logística",
          "Recursos Humanos"
         ],
         "xaxis": "x",
         "y": [
          590.533950617284,
          512.2591792656588,
          552.2445414847161,
          558.5169738118332,
          608.6313458262351,
          544.0424883106323,
          526.2401960784314,
          549.2836026803311,
          507.51627075731625,
          518.2067254685777,
          517.7789934354486,
          533.5144302290985,
          419.83821478382146,
          485.69767441860466,
          401.34646390619275,
          423.54899186416696,
          438.7295081967213,
          330.5523131672598,
          313.53304904051174,
          343.34181818181816
         ],
         "yaxis": "y"
        },
        {
         "hoverlabel": {
          "namelength": 0
         },
         "hovertemplate": "state=SC<br>canonico=%{x}<br>wtp=%{y}",
         "legendgroup": "state=SC",
         "marker": {
          "color": "#ab63fa",
          "symbol": "circle"
         },
         "mode": "markers",
         "name": "state=SC",
         "showlegend": true,
         "type": "scatter",
         "x": [
          "Arquitetura e Urbanismo",
          "Engenharia Mecânica",
          "Engenharia Civil",
          "Biomedicina",
          "Direito",
          "Fisioterapia",
          "Engenharia de Produção",
          "Psicologia",
          "Enfermagem",
          "Nutrição",
          "Publicidade e Propaganda",
          "Farmácia",
          "Educação Física",
          "Análise e Desenvolvimento de Sistemas",
          "Administração",
          "Ciências Contábeis",
          "Estética",
          "Pedagogia",
          "Logística",
          "Recursos Humanos"
         ],
         "xaxis": "x",
         "y": [
          842.5352422907489,
          826.1254098360656,
          748.423563081326,
          762.6859479988315,
          722.9494933160845,
          705.7936507936508,
          682.658773527626,
          714.9379045792376,
          640.6183748169839,
          642.7480497575374,
          662.3403019744483,
          693.2754454847478,
          537.8028048571917,
          620.41280148423,
          528.7368981678738,
          597.6358740003265,
          546.412915851272,
          406.67243451093486,
          447.4349710982659,
          435.1659482758621
         ],
         "yaxis": "y"
        },
        {
         "hoverlabel": {
          "namelength": 0
         },
         "hovertemplate": "state=RS<br>canonico=%{x}<br>wtp=%{y}",
         "legendgroup": "state=RS",
         "marker": {
          "color": "#FFA15A",
          "symbol": "circle"
         },
         "mode": "markers",
         "name": "state=RS",
         "showlegend": true,
         "type": "scatter",
         "x": [
          "Arquitetura e Urbanismo",
          "Engenharia Mecânica",
          "Engenharia Civil",
          "Biomedicina",
          "Direito",
          "Fisioterapia",
          "Engenharia de Produção",
          "Psicologia",
          "Enfermagem",
          "Nutrição",
          "Publicidade e Propaganda",
          "Farmácia",
          "Educação Física",
          "Análise e Desenvolvimento de Sistemas",
          "Administração",
          "Ciências Contábeis",
          "Estética",
          "Pedagogia",
          "Logística",
          "Recursos Humanos"
         ],
         "xaxis": "x",
         "y": [
          816.2767134951043,
          772.4150406504065,
          776.988837660762,
          769.660223567769,
          728.2996703626011,
          750.6297903109183,
          740.1599229287091,
          704.327025072324,
          634.2171185649852,
          674.261551292744,
          746.5666666666667,
          690.4528875379939,
          586.7863681171666,
          635.7211155378486,
          563.7602835883757,
          573.7898658718331,
          484.9387186629526,
          431.1823236196319,
          484.4374453193351,
          447.1996007984032
         ],
         "yaxis": "y"
        },
        {
         "hoverlabel": {
          "namelength": 0
         },
         "hovertemplate": "state=RR<br>canonico=%{x}<br>wtp=%{y}",
         "legendgroup": "state=RR",
         "marker": {
          "color": "#19d3f3",
          "symbol": "circle"
         },
         "mode": "markers",
         "name": "state=RR",
         "showlegend": true,
         "type": "scatter",
         "x": [
          "Arquitetura e Urbanismo",
          "Engenharia Civil",
          "Biomedicina",
          "Direito",
          "Fisioterapia",
          "Psicologia",
          "Enfermagem",
          "Nutrição",
          "Farmácia",
          "Educação Física",
          "Administração",
          "Ciências Contábeis",
          "Pedagogia"
         ],
         "xaxis": "x",
         "y": [
          610.8928571428571,
          642.2169811320755,
          516.8410041841004,
          542.5493218249076,
          503.46820809248555,
          457.0647619047619,
          439.385591485878,
          469.50323974082073,
          509.93589743589746,
          384.36995153473345,
          298.58870967741933,
          315.9324618736383,
          277.89672544080605
         ],
         "yaxis": "y"
        },
        {
         "hoverlabel": {
          "namelength": 0
         },
         "hovertemplate": "state=RO<br>canonico=%{x}<br>wtp=%{y}",
         "legendgroup": "state=RO",
         "marker": {
          "color": "#FF6692",
          "symbol": "circle"
         },
         "mode": "markers",
         "name": "state=RO",
         "showlegend": true,
         "type": "scatter",
         "x": [
          "Arquitetura e Urbanismo",
          "Engenharia Mecânica",
          "Engenharia Civil",
          "Biomedicina",
          "Direito",
          "Fisioterapia",
          "Engenharia de Produção",
          "Psicologia",
          "Enfermagem",
          "Nutrição",
          "Publicidade e Propaganda",
          "Farmácia",
          "Educação Física",
          "Análise e Desenvolvimento de Sistemas",
          "Administração",
          "Ciências Contábeis",
          "Estética",
          "Pedagogia",
          "Logística",
          "Recursos Humanos"
         ],
         "xaxis": "x",
         "y": [
          686.3950850661626,
          629.0517448856799,
          712.4508560558022,
          659.0026178010471,
          731.6740079975392,
          633.595869297164,
          600.1401673640167,
          583.7306746310611,
          549.4209842154132,
          559.2530276816609,
          517.8294573643411,
          608.787622322137,
          445.95498392282957,
          488.6574074074074,
          429.61173309449174,
          432.4317797633422,
          437.3370577281192,
          322.0921456779289,
          314.5238095238095,
          359.7022587268994
         ],
         "yaxis": "y"
        },
        {
         "hoverlabel": {
          "namelength": 0
         },
         "hovertemplate": "state=RN<br>canonico=%{x}<br>wtp=%{y}",
         "legendgroup": "state=RN",
         "marker": {
          "color": "#B6E880",
          "symbol": "circle"
         },
         "mode": "markers",
         "name": "state=RN",
         "showlegend": true,
         "type": "scatter",
         "x": [
          "Arquitetura e Urbanismo",
          "Engenharia Mecânica",
          "Engenharia Civil",
          "Biomedicina",
          "Direito",
          "Fisioterapia",
          "Engenharia de Produção",
          "Psicologia",
          "Enfermagem",
          "Nutrição",
          "Publicidade e Propaganda",
          "Farmácia",
          "Educação Física",
          "Análise e Desenvolvimento de Sistemas",
          "Administração",
          "Ciências Contábeis",
          "Estética",
          "Pedagogia",
          "Logística",
          "Recursos Humanos"
         ],
         "xaxis": "x",
         "y": [
          590.0876640419948,
          683.6337760910816,
          605.5961422543701,
          581.6971371170266,
          604.2722014013361,
          554.0083256244218,
          592.5823293172691,
          556.4307709472275,
          466.4382237077713,
          511.56032617740055,
          511.88602442333786,
          585.5036355859709,
          446.15888377337217,
          406.30060422960725,
          379.5815744438106,
          411.87301854974703,
          401.0055248618784,
          314.7309417040359,
          341.0863509749304,
          326.86055396370585
         ],
         "yaxis": "y"
        },
        {
         "hoverlabel": {
          "namelength": 0
         },
         "hovertemplate": "state=RJ<br>canonico=%{x}<br>wtp=%{y}",
         "legendgroup": "state=RJ",
         "marker": {
          "color": "#FF97FF",
          "symbol": "circle"
         },
         "mode": "markers",
         "name": "state=RJ",
         "showlegend": true,
         "type": "scatter",
         "x": [
          "Arquitetura e Urbanismo",
          "Engenharia Mecânica",
          "Engenharia Civil",
          "Biomedicina",
          "Direito",
          "Fisioterapia",
          "Engenharia de Produção",
          "Psicologia",
          "Enfermagem",
          "Nutrição",
          "Publicidade e Propaganda",
          "Farmácia",
          "Educação Física",
          "Análise e Desenvolvimento de Sistemas",
          "Administração",
          "Ciências Contábeis",
          "Estética",
          "Pedagogia",
          "Logística",
          "Recursos Humanos"
         ],
         "xaxis": "x",
         "y": [
          843.2251772075389,
          760.3887325704995,
          743.9492402878909,
          687.207071799308,
          707.4846393008443,
          662.7000381630836,
          738.8587329606747,
          716.6163816934576,
          626.147369565893,
          673.9822755029211,
          774.4364134443157,
          662.5985306547038,
          564.6126993680409,
          622.044956811535,
          563.5500313040916,
          576.6396548835651,
          530.5034699631317,
          460.91466698479786,
          479.50805599577393,
          483.3089197285566
         ],
         "yaxis": "y"
        },
        {
         "hoverlabel": {
          "namelength": 0
         },
         "hovertemplate": "state=PR<br>canonico=%{x}<br>wtp=%{y}",
         "legendgroup": "state=PR",
         "marker": {
          "color": "#FECB52",
          "symbol": "circle"
         },
         "mode": "markers",
         "name": "state=PR",
         "showlegend": true,
         "type": "scatter",
         "x": [
          "Arquitetura e Urbanismo",
          "Engenharia Mecânica",
          "Engenharia Civil",
          "Biomedicina",
          "Direito",
          "Fisioterapia",
          "Engenharia de Produção",
          "Psicologia",
          "Enfermagem",
          "Nutrição",
          "Publicidade e Propaganda",
          "Farmácia",
          "Educação Física",
          "Análise e Desenvolvimento de Sistemas",
          "Administração",
          "Ciências Contábeis",
          "Estética",
          "Pedagogia",
          "Logística",
          "Recursos Humanos"
         ],
         "xaxis": "x",
         "y": [
          939.2056877465326,
          926.622156624414,
          886.3293499771655,
          817.6140373063547,
          804.2262712275987,
          791.8284822473664,
          831.1344606295203,
          793.6584101382489,
          708.8172214657965,
          776.8143688269517,
          771.936297180367,
          744.8438726864835,
          687.5649444035217,
          653.5206400742115,
          617.3671352139145,
          634.2611188708373,
          573.1696214662195,
          494.83986074847695,
          514.3186925434117,
          515.4383585463397
         ],
         "yaxis": "y"
        },
        {
         "hoverlabel": {
          "namelength": 0
         },
         "hovertemplate": "state=PI<br>canonico=%{x}<br>wtp=%{y}",
         "legendgroup": "state=PI",
         "marker": {
          "color": "#636efa",
          "symbol": "circle"
         },
         "mode": "markers",
         "name": "state=PI",
         "showlegend": true,
         "type": "scatter",
         "x": [
          "Arquitetura e Urbanismo",
          "Engenharia Mecânica",
          "Engenharia Civil",
          "Biomedicina",
          "Direito",
          "Fisioterapia",
          "Engenharia de Produção",
          "Psicologia",
          "Enfermagem",
          "Nutrição",
          "Publicidade e Propaganda",
          "Farmácia",
          "Educação Física",
          "Análise e Desenvolvimento de Sistemas",
          "Administração",
          "Ciências Contábeis",
          "Estética",
          "Pedagogia",
          "Logística",
          "Recursos Humanos"
         ],
         "xaxis": "x",
         "y": [
          672.4303005008347,
          621.0227272727273,
          663.6243463102847,
          609.5090782122905,
          573.903276502524,
          560.5940344992813,
          576.738683127572,
          535.6940397350993,
          518.4498578968737,
          512.7884270578647,
          511.9102402022756,
          571.9558962710581,
          419.15689366315166,
          509.30709677419355,
          424.5210797147242,
          449.25188339338354,
          464.95171997586,
          315.45571922167665,
          360.3658536585366,
          390.5484180249281
         ],
         "yaxis": "y"
        },
        {
         "hoverlabel": {
          "namelength": 0
         },
         "hovertemplate": "state=PE<br>canonico=%{x}<br>wtp=%{y}",
         "legendgroup": "state=PE",
         "marker": {
          "color": "#EF553B",
          "symbol": "circle"
         },
         "mode": "markers",
         "name": "state=PE",
         "showlegend": true,
         "type": "scatter",
         "x": [
          "Arquitetura e Urbanismo",
          "Engenharia Mecânica",
          "Engenharia Civil",
          "Biomedicina",
          "Direito",
          "Fisioterapia",
          "Engenharia de Produção",
          "Psicologia",
          "Enfermagem",
          "Nutrição",
          "Publicidade e Propaganda",
          "Farmácia",
          "Educação Física",
          "Análise e Desenvolvimento de Sistemas",
          "Administração",
          "Ciências Contábeis",
          "Estética",
          "Pedagogia",
          "Logística",
          "Recursos Humanos"
         ],
         "xaxis": "x",
         "y": [
          593.1225038402458,
          567.7669505962522,
          565.0218475830036,
          555.2355185080531,
          614.1424664402763,
          519.711286673343,
          561.3284090909091,
          518.7297934705704,
          463.51090544563476,
          505.1118870502505,
          535.8041695146958,
          531.3411417760962,
          432.21006077975983,
          500.6131633227077,
          409.59677947853766,
          432.92515898460084,
          405.0184049079755,
          316.67990818381975,
          352.5372754089568,
          327.90702423087396
         ],
         "yaxis": "y"
        },
        {
         "hoverlabel": {
          "namelength": 0
         },
         "hovertemplate": "state=PB<br>canonico=%{x}<br>wtp=%{y}",
         "legendgroup": "state=PB",
         "marker": {
          "color": "#00cc96",
          "symbol": "circle"
         },
         "mode": "markers",
         "name": "state=PB",
         "showlegend": true,
         "type": "scatter",
         "x": [
          "Arquitetura e Urbanismo",
          "Engenharia Mecânica",
          "Engenharia Civil",
          "Biomedicina",
          "Direito",
          "Fisioterapia",
          "Engenharia de Produção",
          "Psicologia",
          "Enfermagem",
          "Nutrição",
          "Publicidade e Propaganda",
          "Farmácia",
          "Educação Física",
          "Análise e Desenvolvimento de Sistemas",
          "Administração",
          "Ciências Contábeis",
          "Estética",
          "Pedagogia",
          "Logística",
          "Recursos Humanos"
         ],
         "xaxis": "x",
         "y": [
          602.4828423929548,
          593.5670194003527,
          587.8702837542875,
          520.2472826086956,
          599.8964517998584,
          528.4687250996016,
          608.4360465116279,
          526.8840032371189,
          457.07902291068626,
          485.48063306955436,
          490.3175313059034,
          513.1449159327462,
          466.6749731086411,
          444.67329545454544,
          406.84837545126356,
          438.1945897204689,
          402.7946228528753,
          321.9564471143531,
          426.9689655172414,
          329.01028277634964
         ],
         "yaxis": "y"
        },
        {
         "hoverlabel": {
          "namelength": 0
         },
         "hovertemplate": "state=PA<br>canonico=%{x}<br>wtp=%{y}",
         "legendgroup": "state=PA",
         "marker": {
          "color": "#ab63fa",
          "symbol": "circle"
         },
         "mode": "markers",
         "name": "state=PA",
         "showlegend": true,
         "type": "scatter",
         "x": [
          "Arquitetura e Urbanismo",
          "Engenharia Mecânica",
          "Engenharia Civil",
          "Biomedicina",
          "Direito",
          "Fisioterapia",
          "Engenharia de Produção",
          "Psicologia",
          "Enfermagem",
          "Nutrição",
          "Publicidade e Propaganda",
          "Farmácia",
          "Educação Física",
          "Análise e Desenvolvimento de Sistemas",
          "Administração",
          "Ciências Contábeis",
          "Estética",
          "Pedagogia",
          "Logística",
          "Recursos Humanos"
         ],
         "xaxis": "x",
         "y": [
          687.2072109407377,
          658.438337182448,
          648.0302217889349,
          657.1838814265864,
          723.9477548922422,
          634.0428660826033,
          614.1638981173865,
          627.7354902795515,
          552.0529031557221,
          568.039156626506,
          576.0675324675325,
          559.9008630744111,
          478.0154836731565,
          460.3163087637841,
          459.33988596253056,
          488.30527966544696,
          439.46927374301674,
          343.59197027223524,
          367.25797306874557,
          369.6387943607195
         ],
         "yaxis": "y"
        },
        {
         "hoverlabel": {
          "namelength": 0
         },
         "hovertemplate": "state=MT<br>canonico=%{x}<br>wtp=%{y}",
         "legendgroup": "state=MT",
         "marker": {
          "color": "#FFA15A",
          "symbol": "circle"
         },
         "mode": "markers",
         "name": "state=MT",
         "showlegend": true,
         "type": "scatter",
         "x": [
          "Arquitetura e Urbanismo",
          "Engenharia Mecânica",
          "Engenharia Civil",
          "Biomedicina",
          "Direito",
          "Fisioterapia",
          "Engenharia de Produção",
          "Psicologia",
          "Enfermagem",
          "Nutrição",
          "Publicidade e Propaganda",
          "Farmácia",
          "Educação Física",
          "Análise e Desenvolvimento de Sistemas",
          "Administração",
          "Ciências Contábeis",
          "Estética",
          "Pedagogia",
          "Logística",
          "Recursos Humanos"
         ],
         "xaxis": "x",
         "y": [
          750.325642370215,
          719.709388971684,
          721.669981060606,
          651.539245667686,
          664.1458924599218,
          601.3006809848088,
          636.9467213114754,
          632.0919033339213,
          559.7869409964292,
          574.1808378266279,
          580.2647887323943,
          630.6352395672334,
          504.1649445082281,
          481.09662921348314,
          501.6786703601108,
          501.32449425915803,
          464.4831964152352,
          369.69142857142856,
          453.8220551378446,
          406.83462282398455
         ],
         "yaxis": "y"
        },
        {
         "hoverlabel": {
          "namelength": 0
         },
         "hovertemplate": "state=MS<br>canonico=%{x}<br>wtp=%{y}",
         "legendgroup": "state=MS",
         "marker": {
          "color": "#19d3f3",
          "symbol": "circle"
         },
         "mode": "markers",
         "name": "state=MS",
         "showlegend": true,
         "type": "scatter",
         "x": [
          "Arquitetura e Urbanismo",
          "Engenharia Mecânica",
          "Engenharia Civil",
          "Biomedicina",
          "Direito",
          "Fisioterapia",
          "Engenharia de Produção",
          "Psicologia",
          "Enfermagem",
          "Nutrição",
          "Publicidade e Propaganda",
          "Farmácia",
          "Educação Física",
          "Análise e Desenvolvimento de Sistemas",
          "Administração",
          "Ciências Contábeis",
          "Estética",
          "Pedagogia",
          "Logística",
          "Recursos Humanos"
         ],
         "xaxis": "x",
         "y": [
          695.9023831347388,
          705.7573221757323,
          790.8717828731867,
          671.0460795243404,
          661.591808559595,
          638.6516023007396,
          640.8876146788991,
          670.4432471264367,
          545.4607487166646,
          576.3870182555781,
          562.7590551181103,
          570.8919786096257,
          491.6740740740741,
          527.4972451790634,
          484.1894607843137,
          495.699494949495,
          456.804435483871,
          404.0834584208946,
          348.0952380952381,
          342.1529968454259
         ],
         "yaxis": "y"
        },
        {
         "hoverlabel": {
          "namelength": 0
         },
         "hovertemplate": "state=MG<br>canonico=%{x}<br>wtp=%{y}",
         "legendgroup": "state=MG",
         "marker": {
          "color": "#FF6692",
          "symbol": "circle"
         },
         "mode": "markers",
         "name": "state=MG",
         "showlegend": true,
         "type": "scatter",
         "x": [
          "Arquitetura e Urbanismo",
          "Engenharia Mecânica",
          "Engenharia Civil",
          "Biomedicina",
          "Direito",
          "Fisioterapia",
          "Engenharia de Produção",
          "Psicologia",
          "Enfermagem",
          "Nutrição",
          "Publicidade e Propaganda",
          "Farmácia",
          "Educação Física",
          "Análise e Desenvolvimento de Sistemas",
          "Administração",
          "Ciências Contábeis",
          "Estética",
          "Pedagogia",
          "Logística",
          "Recursos Humanos"
         ],
         "xaxis": "x",
         "y": [
          789.1622691292876,
          730.1135480738103,
          721.9423862380472,
          725.1070802530295,
          724.3269466608124,
          710.9612737033509,
          707.2433490613392,
          677.861880208559,
          606.5765509313115,
          641.1138985461441,
          702.0427005193307,
          664.004358353511,
          576.17268193937,
          615.8790865384616,
          585.9931857397713,
          614.7897382142665,
          541.7206806941068,
          457.6455044505784,
          498.69525490603263,
          474.02575228752005
         ],
         "yaxis": "y"
        },
        {
         "hoverlabel": {
          "namelength": 0
         },
         "hovertemplate": "state=MA<br>canonico=%{x}<br>wtp=%{y}",
         "legendgroup": "state=MA",
         "marker": {
          "color": "#B6E880",
          "symbol": "circle"
         },
         "mode": "markers",
         "name": "state=MA",
         "showlegend": true,
         "type": "scatter",
         "x": [
          "Arquitetura e Urbanismo",
          "Engenharia Mecânica",
          "Engenharia Civil",
          "Biomedicina",
          "Direito",
          "Fisioterapia",
          "Engenharia de Produção",
          "Psicologia",
          "Enfermagem",
          "Nutrição",
          "Publicidade e Propaganda",
          "Farmácia",
          "Educação Física",
          "Análise e Desenvolvimento de Sistemas",
          "Administração",
          "Ciências Contábeis",
          "Estética",
          "Pedagogia",
          "Logística",
          "Recursos Humanos"
         ],
         "xaxis": "x",
         "y": [
          734.6949494949495,
          658.4670631290028,
          627.184316691881,
          630.1664415022967,
          703.9783757448563,
          616.199469897766,
          652.4514731369151,
          622.0160142348755,
          525.3522598624053,
          549.8065636603186,
          523.8627087198515,
          577.4712933753943,
          466.4309442965954,
          444.98568872987477,
          432.36738388691595,
          482.58923600371173,
          471.2979299671116,
          360.0611907955835,
          354.5843097300051,
          339.1220556745182
         ],
         "yaxis": "y"
        },
        {
         "hoverlabel": {
          "namelength": 0
         },
         "hovertemplate": "state=GO<br>canonico=%{x}<br>wtp=%{y}",
         "legendgroup": "state=GO",
         "marker": {
          "color": "#FF97FF",
          "symbol": "circle"
         },
         "mode": "markers",
         "name": "state=GO",
         "showlegend": true,
         "type": "scatter",
         "x": [
          "Arquitetura e Urbanismo",
          "Engenharia Mecânica",
          "Engenharia Civil",
          "Biomedicina",
          "Direito",
          "Fisioterapia",
          "Engenharia de Produção",
          "Psicologia",
          "Enfermagem",
          "Nutrição",
          "Publicidade e Propaganda",
          "Farmácia",
          "Educação Física",
          "Análise e Desenvolvimento de Sistemas",
          "Administração",
          "Ciências Contábeis",
          "Estética",
          "Pedagogia",
          "Logística",
          "Recursos Humanos"
         ],
         "xaxis": "x",
         "y": [
          656.8087722894036,
          634.3991805677495,
          627.8581462818751,
          618.6857279578898,
          606.1861358520114,
          560.3442414257901,
          647.3337484433375,
          608.1416521233275,
          509.15451109531114,
          602.8674022263816,
          591.5958944281525,
          554.6106102911847,
          466.9741956557243,
          453.77154176295807,
          444.3644444444444,
          446.95367032967033,
          447.3779251170047,
          363.0331353547984,
          376.48786717752233,
          357.7345679012346
         ],
         "yaxis": "y"
        },
        {
         "hoverlabel": {
          "namelength": 0
         },
         "hovertemplate": "state=ES<br>canonico=%{x}<br>wtp=%{y}",
         "legendgroup": "state=ES",
         "marker": {
          "color": "#FECB52",
          "symbol": "circle"
         },
         "mode": "markers",
         "name": "state=ES",
         "showlegend": true,
         "type": "scatter",
         "x": [
          "Arquitetura e Urbanismo",
          "Engenharia Mecânica",
          "Engenharia Civil",
          "Biomedicina",
          "Direito",
          "Fisioterapia",
          "Engenharia de Produção",
          "Psicologia",
          "Enfermagem",
          "Nutrição",
          "Publicidade e Propaganda",
          "Farmácia",
          "Educação Física",
          "Análise e Desenvolvimento de Sistemas",
          "Administração",
          "Ciências Contábeis",
          "Estética",
          "Pedagogia",
          "Logística",
          "Recursos Humanos"
         ],
         "xaxis": "x",
         "y": [
          724.6680952380952,
          715.6713261648746,
          732.9871289729446,
          612.9772223979753,
          680.0926624737946,
          664.0410102965766,
          681.0958112662494,
          655.6130736216573,
          563.7718654434251,
          635.5911016949152,
          659.52300405954,
          584.5039049235993,
          554.6044871166846,
          510.3735632183908,
          494.1208118081181,
          535.7406356413167,
          494.1094360692351,
          398.7114270668773,
          508.5735294117647,
          397.6173469387755
         ],
         "yaxis": "y"
        },
        {
         "hoverlabel": {
          "namelength": 0
         },
         "hovertemplate": "state=DF<br>canonico=%{x}<br>wtp=%{y}",
         "legendgroup": "state=DF",
         "marker": {
          "color": "#636efa",
          "symbol": "circle"
         },
         "mode": "markers",
         "name": "state=DF",
         "showlegend": true,
         "type": "scatter",
         "x": [
          "Arquitetura e Urbanismo",
          "Engenharia Mecânica",
          "Engenharia Civil",
          "Biomedicina",
          "Direito",
          "Fisioterapia",
          "Engenharia de Produção",
          "Psicologia",
          "Enfermagem",
          "Nutrição",
          "Publicidade e Propaganda",
          "Farmácia",
          "Educação Física",
          "Análise e Desenvolvimento de Sistemas",
          "Administração",
          "Ciências Contábeis",
          "Estética",
          "Pedagogia",
          "Logística",
          "Recursos Humanos"
         ],
         "xaxis": "x",
         "y": [
          777.0728585046984,
          759.2781065088758,
          791.7089552238806,
          683.1307604126863,
          826.938053660321,
          685.0049638845578,
          723.8583234946872,
          770.6374023029653,
          635.1286395067664,
          688.4863958255684,
          677.8604108309991,
          677.0601321212805,
          575.393746906451,
          543.0620343375446,
          540.182871024236,
          566.7314801050493,
          501.8843474222016,
          460.5202819332566,
          469.5841232227488,
          444.0693738080102
         ],
         "yaxis": "y"
        },
        {
         "hoverlabel": {
          "namelength": 0
         },
         "hovertemplate": "state=CE<br>canonico=%{x}<br>wtp=%{y}",
         "legendgroup": "state=CE",
         "marker": {
          "color": "#EF553B",
          "symbol": "circle"
         },
         "mode": "markers",
         "name": "state=CE",
         "showlegend": true,
         "type": "scatter",
         "x": [
          "Arquitetura e Urbanismo",
          "Engenharia Mecânica",
          "Engenharia Civil",
          "Biomedicina",
          "Direito",
          "Fisioterapia",
          "Engenharia de Produção",
          "Psicologia",
          "Enfermagem",
          "Nutrição",
          "Publicidade e Propaganda",
          "Farmácia",
          "Educação Física",
          "Análise e Desenvolvimento de Sistemas",
          "Administração",
          "Ciências Contábeis",
          "Estética",
          "Pedagogia",
          "Logística",
          "Recursos Humanos"
         ],
         "xaxis": "x",
         "y": [
          723.4127159640636,
          656.7783693843594,
          692.0567831131959,
          599.4270862601854,
          680.2816398886994,
          586.4207527895646,
          606.8854643070193,
          612.4983900321994,
          542.2787944947452,
          617.4906236579664,
          574.4637920363111,
          598.8709189461742,
          458.9271914996378,
          452.20508390918064,
          447.3245642319291,
          470.9577495701796,
          477.5132965378826,
          353.2629419191919,
          392.1480545174764,
          385.0997135126532
         ],
         "yaxis": "y"
        },
        {
         "hoverlabel": {
          "namelength": 0
         },
         "hovertemplate": "state=BA<br>canonico=%{x}<br>wtp=%{y}",
         "legendgroup": "state=BA",
         "marker": {
          "color": "#00cc96",
          "symbol": "circle"
         },
         "mode": "markers",
         "name": "state=BA",
         "showlegend": true,
         "type": "scatter",
         "x": [
          "Arquitetura e Urbanismo",
          "Engenharia Mecânica",
          "Engenharia Civil",
          "Biomedicina",
          "Direito",
          "Fisioterapia",
          "Engenharia de Produção",
          "Psicologia",
          "Enfermagem",
          "Nutrição",
          "Publicidade e Propaganda",
          "Farmácia",
          "Educação Física",
          "Análise e Desenvolvimento de Sistemas",
          "Administração",
          "Ciências Contábeis",
          "Estética",
          "Pedagogia",
          "Logística",
          "Recursos Humanos"
         ],
         "xaxis": "x",
         "y": [
          682.040546911834,
          627.0569608394229,
          647.9776027332258,
          623.589624889373,
          682.2035447601064,
          586.0179886148007,
          641.50339958159,
          592.21745460118,
          547.2205423808801,
          551.0775378575435,
          584.6453508468718,
          573.8359699584532,
          476.6980599647266,
          495.1996438904963,
          470.80400484191955,
          477.9280372278544,
          435.7896327640925,
          364.22209098684476,
          428.50818752803946,
          385.58257173219977
         ],
         "yaxis": "y"
        },
        {
         "hoverlabel": {
          "namelength": 0
         },
         "hovertemplate": "state=AP<br>canonico=%{x}<br>wtp=%{y}",
         "legendgroup": "state=AP",
         "marker": {
          "color": "#ab63fa",
          "symbol": "circle"
         },
         "mode": "markers",
         "name": "state=AP",
         "showlegend": true,
         "type": "scatter",
         "x": [
          "Arquitetura e Urbanismo",
          "Engenharia Mecânica",
          "Engenharia Civil",
          "Biomedicina",
          "Direito",
          "Fisioterapia",
          "Psicologia",
          "Enfermagem",
          "Nutrição",
          "Publicidade e Propaganda",
          "Farmácia",
          "Educação Física",
          "Administração",
          "Ciências Contábeis",
          "Pedagogia",
          "Recursos Humanos"
         ],
         "xaxis": "x",
         "y": [
          598.4344422700588,
          658.2608695652174,
          490.63758389261744,
          552.396878483835,
          607.061475409836,
          564.0489596083231,
          531.0689855072463,
          473.89334205790936,
          543.2264736297828,
          496.6216216216216,
          521.6967808930426,
          334.23438549361987,
          342.6402698863636,
          382.65432098765433,
          289.18635724331926,
          320.796783625731
         ],
         "yaxis": "y"
        },
        {
         "hoverlabel": {
          "namelength": 0
         },
         "hovertemplate": "state=AM<br>canonico=%{x}<br>wtp=%{y}",
         "legendgroup": "state=AM",
         "marker": {
          "color": "#FFA15A",
          "symbol": "circle"
         },
         "mode": "markers",
         "name": "state=AM",
         "showlegend": true,
         "type": "scatter",
         "x": [
          "Arquitetura e Urbanismo",
          "Engenharia Mecânica",
          "Engenharia Civil",
          "Biomedicina",
          "Direito",
          "Fisioterapia",
          "Engenharia de Produção",
          "Psicologia",
          "Enfermagem",
          "Nutrição",
          "Publicidade e Propaganda",
          "Farmácia",
          "Educação Física",
          "Análise e Desenvolvimento de Sistemas",
          "Administração",
          "Ciências Contábeis",
          "Estética",
          "Pedagogia",
          "Logística",
          "Recursos Humanos"
         ],
         "xaxis": "x",
         "y": [
          573.4935270805812,
          534.7280829687247,
          561.3204439670606,
          482.54253677605186,
          748.7256969373731,
          538.352472733568,
          543.5683825769114,
          512.8733075435204,
          502.0627281778958,
          494.0461003477397,
          511.62492053401144,
          478.5799180327869,
          450.7603616835728,
          474.9362780593773,
          431.9693699856956,
          450.99112564222327,
          397.9387377584331,
          344.96520971712573,
          361.1586630504148,
          346.21669374492285
         ],
         "yaxis": "y"
        },
        {
         "hoverlabel": {
          "namelength": 0
         },
         "hovertemplate": "state=AL<br>canonico=%{x}<br>wtp=%{y}",
         "legendgroup": "state=AL",
         "marker": {
          "color": "#19d3f3",
          "symbol": "circle"
         },
         "mode": "markers",
         "name": "state=AL",
         "showlegend": true,
         "type": "scatter",
         "x": [
          "Arquitetura e Urbanismo",
          "Engenharia Mecânica",
          "Engenharia Civil",
          "Biomedicina",
          "Direito",
          "Fisioterapia",
          "Engenharia de Produção",
          "Psicologia",
          "Enfermagem",
          "Nutrição",
          "Publicidade e Propaganda",
          "Farmácia",
          "Educação Física",
          "Análise e Desenvolvimento de Sistemas",
          "Administração",
          "Ciências Contábeis",
          "Estética",
          "Pedagogia",
          "Logística",
          "Recursos Humanos"
         ],
         "xaxis": "x",
         "y": [
          590.3296551724138,
          497.67520215633425,
          566.3512110726643,
          533.0639184807782,
          532.7715118560458,
          535.7768368617684,
          507.74758620689653,
          480.71787878787876,
          488.4466491586422,
          512.2774308652988,
          475.6576923076923,
          456.063460253841,
          412.6737530662306,
          406.9639953542393,
          450.02769503260606,
          413.7698232102223,
          414.2220943613349,
          312.81940158325506,
          359.84427141268077,
          355.4952120383037
         ],
         "yaxis": "y"
        },
        {
         "hoverlabel": {
          "namelength": 0
         },
         "hovertemplate": "state=AC<br>canonico=%{x}<br>wtp=%{y}",
         "legendgroup": "state=AC",
         "marker": {
          "color": "#FF6692",
          "symbol": "circle"
         },
         "mode": "markers",
         "name": "state=AC",
         "showlegend": true,
         "type": "scatter",
         "x": [
          "Arquitetura e Urbanismo",
          "Engenharia Civil",
          "Biomedicina",
          "Direito",
          "Fisioterapia",
          "Psicologia",
          "Enfermagem",
          "Nutrição",
          "Farmácia",
          "Educação Física",
          "Análise e Desenvolvimento de Sistemas",
          "Administração",
          "Ciências Contábeis",
          "Estética",
          "Pedagogia",
          "Recursos Humanos"
         ],
         "xaxis": "x",
         "y": [
          646.6739606126914,
          692.3345864661654,
          475.69686411149826,
          638.4489388264669,
          516.4262023217248,
          554.1236858379716,
          469.3417179555793,
          527.525,
          499.87706146926536,
          374.70045662100455,
          458.95580110497235,
          349.2409200968523,
          402.4688372093023,
          401.69172932330827,
          273.64539434075857,
          250.5980861244019
         ],
         "yaxis": "y"
        }
       ],
       "layout": {
        "height": 600,
        "legend": {
         "tracegroupgap": 0
        },
        "margin": {
         "t": 60
        },
        "template": {
         "data": {
          "bar": [
           {
            "error_x": {
             "color": "#2a3f5f"
            },
            "error_y": {
             "color": "#2a3f5f"
            },
            "marker": {
             "line": {
              "color": "#E5ECF6",
              "width": 0.5
             }
            },
            "type": "bar"
           }
          ],
          "barpolar": [
           {
            "marker": {
             "line": {
              "color": "#E5ECF6",
              "width": 0.5
             }
            },
            "type": "barpolar"
           }
          ],
          "carpet": [
           {
            "aaxis": {
             "endlinecolor": "#2a3f5f",
             "gridcolor": "white",
             "linecolor": "white",
             "minorgridcolor": "white",
             "startlinecolor": "#2a3f5f"
            },
            "baxis": {
             "endlinecolor": "#2a3f5f",
             "gridcolor": "white",
             "linecolor": "white",
             "minorgridcolor": "white",
             "startlinecolor": "#2a3f5f"
            },
            "type": "carpet"
           }
          ],
          "choropleth": [
           {
            "colorbar": {
             "outlinewidth": 0,
             "ticks": ""
            },
            "type": "choropleth"
           }
          ],
          "contour": [
           {
            "colorbar": {
             "outlinewidth": 0,
             "ticks": ""
            },
            "colorscale": [
             [
              0,
              "#0d0887"
             ],
             [
              0.1111111111111111,
              "#46039f"
             ],
             [
              0.2222222222222222,
              "#7201a8"
             ],
             [
              0.3333333333333333,
              "#9c179e"
             ],
             [
              0.4444444444444444,
              "#bd3786"
             ],
             [
              0.5555555555555556,
              "#d8576b"
             ],
             [
              0.6666666666666666,
              "#ed7953"
             ],
             [
              0.7777777777777778,
              "#fb9f3a"
             ],
             [
              0.8888888888888888,
              "#fdca26"
             ],
             [
              1,
              "#f0f921"
             ]
            ],
            "type": "contour"
           }
          ],
          "contourcarpet": [
           {
            "colorbar": {
             "outlinewidth": 0,
             "ticks": ""
            },
            "type": "contourcarpet"
           }
          ],
          "heatmap": [
           {
            "colorbar": {
             "outlinewidth": 0,
             "ticks": ""
            },
            "colorscale": [
             [
              0,
              "#0d0887"
             ],
             [
              0.1111111111111111,
              "#46039f"
             ],
             [
              0.2222222222222222,
              "#7201a8"
             ],
             [
              0.3333333333333333,
              "#9c179e"
             ],
             [
              0.4444444444444444,
              "#bd3786"
             ],
             [
              0.5555555555555556,
              "#d8576b"
             ],
             [
              0.6666666666666666,
              "#ed7953"
             ],
             [
              0.7777777777777778,
              "#fb9f3a"
             ],
             [
              0.8888888888888888,
              "#fdca26"
             ],
             [
              1,
              "#f0f921"
             ]
            ],
            "type": "heatmap"
           }
          ],
          "heatmapgl": [
           {
            "colorbar": {
             "outlinewidth": 0,
             "ticks": ""
            },
            "colorscale": [
             [
              0,
              "#0d0887"
             ],
             [
              0.1111111111111111,
              "#46039f"
             ],
             [
              0.2222222222222222,
              "#7201a8"
             ],
             [
              0.3333333333333333,
              "#9c179e"
             ],
             [
              0.4444444444444444,
              "#bd3786"
             ],
             [
              0.5555555555555556,
              "#d8576b"
             ],
             [
              0.6666666666666666,
              "#ed7953"
             ],
             [
              0.7777777777777778,
              "#fb9f3a"
             ],
             [
              0.8888888888888888,
              "#fdca26"
             ],
             [
              1,
              "#f0f921"
             ]
            ],
            "type": "heatmapgl"
           }
          ],
          "histogram": [
           {
            "marker": {
             "colorbar": {
              "outlinewidth": 0,
              "ticks": ""
             }
            },
            "type": "histogram"
           }
          ],
          "histogram2d": [
           {
            "colorbar": {
             "outlinewidth": 0,
             "ticks": ""
            },
            "colorscale": [
             [
              0,
              "#0d0887"
             ],
             [
              0.1111111111111111,
              "#46039f"
             ],
             [
              0.2222222222222222,
              "#7201a8"
             ],
             [
              0.3333333333333333,
              "#9c179e"
             ],
             [
              0.4444444444444444,
              "#bd3786"
             ],
             [
              0.5555555555555556,
              "#d8576b"
             ],
             [
              0.6666666666666666,
              "#ed7953"
             ],
             [
              0.7777777777777778,
              "#fb9f3a"
             ],
             [
              0.8888888888888888,
              "#fdca26"
             ],
             [
              1,
              "#f0f921"
             ]
            ],
            "type": "histogram2d"
           }
          ],
          "histogram2dcontour": [
           {
            "colorbar": {
             "outlinewidth": 0,
             "ticks": ""
            },
            "colorscale": [
             [
              0,
              "#0d0887"
             ],
             [
              0.1111111111111111,
              "#46039f"
             ],
             [
              0.2222222222222222,
              "#7201a8"
             ],
             [
              0.3333333333333333,
              "#9c179e"
             ],
             [
              0.4444444444444444,
              "#bd3786"
             ],
             [
              0.5555555555555556,
              "#d8576b"
             ],
             [
              0.6666666666666666,
              "#ed7953"
             ],
             [
              0.7777777777777778,
              "#fb9f3a"
             ],
             [
              0.8888888888888888,
              "#fdca26"
             ],
             [
              1,
              "#f0f921"
             ]
            ],
            "type": "histogram2dcontour"
           }
          ],
          "mesh3d": [
           {
            "colorbar": {
             "outlinewidth": 0,
             "ticks": ""
            },
            "type": "mesh3d"
           }
          ],
          "parcoords": [
           {
            "line": {
             "colorbar": {
              "outlinewidth": 0,
              "ticks": ""
             }
            },
            "type": "parcoords"
           }
          ],
          "scatter": [
           {
            "marker": {
             "colorbar": {
              "outlinewidth": 0,
              "ticks": ""
             }
            },
            "type": "scatter"
           }
          ],
          "scatter3d": [
           {
            "line": {
             "colorbar": {
              "outlinewidth": 0,
              "ticks": ""
             }
            },
            "marker": {
             "colorbar": {
              "outlinewidth": 0,
              "ticks": ""
             }
            },
            "type": "scatter3d"
           }
          ],
          "scattercarpet": [
           {
            "marker": {
             "colorbar": {
              "outlinewidth": 0,
              "ticks": ""
             }
            },
            "type": "scattercarpet"
           }
          ],
          "scattergeo": [
           {
            "marker": {
             "colorbar": {
              "outlinewidth": 0,
              "ticks": ""
             }
            },
            "type": "scattergeo"
           }
          ],
          "scattergl": [
           {
            "marker": {
             "colorbar": {
              "outlinewidth": 0,
              "ticks": ""
             }
            },
            "type": "scattergl"
           }
          ],
          "scattermapbox": [
           {
            "marker": {
             "colorbar": {
              "outlinewidth": 0,
              "ticks": ""
             }
            },
            "type": "scattermapbox"
           }
          ],
          "scatterpolar": [
           {
            "marker": {
             "colorbar": {
              "outlinewidth": 0,
              "ticks": ""
             }
            },
            "type": "scatterpolar"
           }
          ],
          "scatterpolargl": [
           {
            "marker": {
             "colorbar": {
              "outlinewidth": 0,
              "ticks": ""
             }
            },
            "type": "scatterpolargl"
           }
          ],
          "scatterternary": [
           {
            "marker": {
             "colorbar": {
              "outlinewidth": 0,
              "ticks": ""
             }
            },
            "type": "scatterternary"
           }
          ],
          "surface": [
           {
            "colorbar": {
             "outlinewidth": 0,
             "ticks": ""
            },
            "colorscale": [
             [
              0,
              "#0d0887"
             ],
             [
              0.1111111111111111,
              "#46039f"
             ],
             [
              0.2222222222222222,
              "#7201a8"
             ],
             [
              0.3333333333333333,
              "#9c179e"
             ],
             [
              0.4444444444444444,
              "#bd3786"
             ],
             [
              0.5555555555555556,
              "#d8576b"
             ],
             [
              0.6666666666666666,
              "#ed7953"
             ],
             [
              0.7777777777777778,
              "#fb9f3a"
             ],
             [
              0.8888888888888888,
              "#fdca26"
             ],
             [
              1,
              "#f0f921"
             ]
            ],
            "type": "surface"
           }
          ],
          "table": [
           {
            "cells": {
             "fill": {
              "color": "#EBF0F8"
             },
             "line": {
              "color": "white"
             }
            },
            "header": {
             "fill": {
              "color": "#C8D4E3"
             },
             "line": {
              "color": "white"
             }
            },
            "type": "table"
           }
          ]
         },
         "layout": {
          "annotationdefaults": {
           "arrowcolor": "#2a3f5f",
           "arrowhead": 0,
           "arrowwidth": 1
          },
          "colorscale": {
           "diverging": [
            [
             0,
             "#8e0152"
            ],
            [
             0.1,
             "#c51b7d"
            ],
            [
             0.2,
             "#de77ae"
            ],
            [
             0.3,
             "#f1b6da"
            ],
            [
             0.4,
             "#fde0ef"
            ],
            [
             0.5,
             "#f7f7f7"
            ],
            [
             0.6,
             "#e6f5d0"
            ],
            [
             0.7,
             "#b8e186"
            ],
            [
             0.8,
             "#7fbc41"
            ],
            [
             0.9,
             "#4d9221"
            ],
            [
             1,
             "#276419"
            ]
           ],
           "sequential": [
            [
             0,
             "#0d0887"
            ],
            [
             0.1111111111111111,
             "#46039f"
            ],
            [
             0.2222222222222222,
             "#7201a8"
            ],
            [
             0.3333333333333333,
             "#9c179e"
            ],
            [
             0.4444444444444444,
             "#bd3786"
            ],
            [
             0.5555555555555556,
             "#d8576b"
            ],
            [
             0.6666666666666666,
             "#ed7953"
            ],
            [
             0.7777777777777778,
             "#fb9f3a"
            ],
            [
             0.8888888888888888,
             "#fdca26"
            ],
            [
             1,
             "#f0f921"
            ]
           ],
           "sequentialminus": [
            [
             0,
             "#0d0887"
            ],
            [
             0.1111111111111111,
             "#46039f"
            ],
            [
             0.2222222222222222,
             "#7201a8"
            ],
            [
             0.3333333333333333,
             "#9c179e"
            ],
            [
             0.4444444444444444,
             "#bd3786"
            ],
            [
             0.5555555555555556,
             "#d8576b"
            ],
            [
             0.6666666666666666,
             "#ed7953"
            ],
            [
             0.7777777777777778,
             "#fb9f3a"
            ],
            [
             0.8888888888888888,
             "#fdca26"
            ],
            [
             1,
             "#f0f921"
            ]
           ]
          },
          "colorway": [
           "#636efa",
           "#EF553B",
           "#00cc96",
           "#ab63fa",
           "#FFA15A",
           "#19d3f3",
           "#FF6692",
           "#B6E880",
           "#FF97FF",
           "#FECB52"
          ],
          "font": {
           "color": "#2a3f5f"
          },
          "geo": {
           "bgcolor": "white",
           "lakecolor": "white",
           "landcolor": "#E5ECF6",
           "showlakes": true,
           "showland": true,
           "subunitcolor": "white"
          },
          "hoverlabel": {
           "align": "left"
          },
          "hovermode": "closest",
          "mapbox": {
           "style": "light"
          },
          "paper_bgcolor": "white",
          "plot_bgcolor": "#E5ECF6",
          "polar": {
           "angularaxis": {
            "gridcolor": "white",
            "linecolor": "white",
            "ticks": ""
           },
           "bgcolor": "#E5ECF6",
           "radialaxis": {
            "gridcolor": "white",
            "linecolor": "white",
            "ticks": ""
           }
          },
          "scene": {
           "xaxis": {
            "backgroundcolor": "#E5ECF6",
            "gridcolor": "white",
            "gridwidth": 2,
            "linecolor": "white",
            "showbackground": true,
            "ticks": "",
            "zerolinecolor": "white"
           },
           "yaxis": {
            "backgroundcolor": "#E5ECF6",
            "gridcolor": "white",
            "gridwidth": 2,
            "linecolor": "white",
            "showbackground": true,
            "ticks": "",
            "zerolinecolor": "white"
           },
           "zaxis": {
            "backgroundcolor": "#E5ECF6",
            "gridcolor": "white",
            "gridwidth": 2,
            "linecolor": "white",
            "showbackground": true,
            "ticks": "",
            "zerolinecolor": "white"
           }
          },
          "shapedefaults": {
           "line": {
            "color": "#2a3f5f"
           }
          },
          "ternary": {
           "aaxis": {
            "gridcolor": "white",
            "linecolor": "white",
            "ticks": ""
           },
           "baxis": {
            "gridcolor": "white",
            "linecolor": "white",
            "ticks": ""
           },
           "bgcolor": "#E5ECF6",
           "caxis": {
            "gridcolor": "white",
            "linecolor": "white",
            "ticks": ""
           }
          },
          "title": {
           "x": 0.05
          },
          "xaxis": {
           "automargin": true,
           "gridcolor": "white",
           "linecolor": "white",
           "ticks": "",
           "zerolinecolor": "white",
           "zerolinewidth": 2
          },
          "yaxis": {
           "automargin": true,
           "gridcolor": "white",
           "linecolor": "white",
           "ticks": "",
           "zerolinecolor": "white",
           "zerolinewidth": 2
          }
         }
        },
        "xaxis": {
         "anchor": "y",
         "domain": [
          0,
          0.98
         ],
         "title": {
          "text": "canonico"
         }
        },
        "yaxis": {
         "anchor": "x",
         "domain": [
          0,
          1
         ],
         "title": {
          "text": "wtp"
         }
        }
       }
      },
      "text/html": [
       "<div>\n",
       "        \n",
       "        \n",
       "            <div id=\"c702727f-ec17-44df-9cab-fdf25ce74202\" class=\"plotly-graph-div\" style=\"height:600px; width:100%;\"></div>\n",
       "            <script type=\"text/javascript\">\n",
       "                require([\"plotly\"], function(Plotly) {\n",
       "                    window.PLOTLYENV=window.PLOTLYENV || {};\n",
       "                    \n",
       "                if (document.getElementById(\"c702727f-ec17-44df-9cab-fdf25ce74202\")) {\n",
       "                    Plotly.newPlot(\n",
       "                        'c702727f-ec17-44df-9cab-fdf25ce74202',\n",
       "                        [{\"hoverlabel\": {\"namelength\": 0}, \"hovertemplate\": \"state=TO<br>canonico=%{x}<br>wtp=%{y}\", \"legendgroup\": \"state=TO\", \"marker\": {\"color\": \"#636efa\", \"symbol\": \"circle\"}, \"mode\": \"markers\", \"name\": \"state=TO\", \"showlegend\": true, \"type\": \"scatter\", \"x\": [\"Arquitetura e Urbanismo\", \"Engenharia Mec\\u00e2nica\", \"Engenharia Civil\", \"Biomedicina\", \"Direito\", \"Fisioterapia\", \"Engenharia de Produ\\u00e7\\u00e3o\", \"Psicologia\", \"Enfermagem\", \"Nutri\\u00e7\\u00e3o\", \"Publicidade e Propaganda\", \"Farm\\u00e1cia\", \"Educa\\u00e7\\u00e3o F\\u00edsica\", \"An\\u00e1lise e Desenvolvimento de Sistemas\", \"Administra\\u00e7\\u00e3o\", \"Ci\\u00eancias Cont\\u00e1beis\", \"Est\\u00e9tica\", \"Pedagogia\", \"Recursos Humanos\"], \"xaxis\": \"x\", \"y\": [704.1099611901682, 710.8515625, 658.8618042226487, 621.8581081081081, 669.1257761502945, 635.780888618381, 794.5783132530121, 622.2160433070866, 510.5561998976633, 575.0707350901525, 562.9901960784314, 550.7381294964028, 379.474679270763, 396.4673913043478, 488.0168509741969, 444.76956839795173, 486.6796875, 286.61971830985914, 233.54700854700855], \"yaxis\": \"y\"}, {\"hoverlabel\": {\"namelength\": 0}, \"hovertemplate\": \"state=SP<br>canonico=%{x}<br>wtp=%{y}\", \"legendgroup\": \"state=SP\", \"marker\": {\"color\": \"#EF553B\", \"symbol\": \"circle\"}, \"mode\": \"markers\", \"name\": \"state=SP\", \"showlegend\": true, \"type\": \"scatter\", \"x\": [\"Arquitetura e Urbanismo\", \"Engenharia Mec\\u00e2nica\", \"Engenharia Civil\", \"Biomedicina\", \"Direito\", \"Fisioterapia\", \"Engenharia de Produ\\u00e7\\u00e3o\", \"Psicologia\", \"Enfermagem\", \"Nutri\\u00e7\\u00e3o\", \"Publicidade e Propaganda\", \"Farm\\u00e1cia\", \"Educa\\u00e7\\u00e3o F\\u00edsica\", \"An\\u00e1lise e Desenvolvimento de Sistemas\", \"Administra\\u00e7\\u00e3o\", \"Ci\\u00eancias Cont\\u00e1beis\", \"Est\\u00e9tica\", \"Pedagogia\", \"Log\\u00edstica\", \"Recursos Humanos\"], \"xaxis\": \"x\", \"y\": [746.2633077381043, 721.6444839180359, 698.1563805959295, 623.6743061052684, 680.6263397966258, 604.5889651226636, 708.0142358546582, 663.5989483560222, 562.8839288251814, 584.2704302689717, 675.7699394431726, 592.098683686258, 513.3327604003902, 519.4090377049304, 531.1021151556511, 550.3236834415085, 528.7535515158157, 411.1120538783674, 449.3692577023245, 423.6251568770773], \"yaxis\": \"y\"}, {\"hoverlabel\": {\"namelength\": 0}, \"hovertemplate\": \"state=SE<br>canonico=%{x}<br>wtp=%{y}\", \"legendgroup\": \"state=SE\", \"marker\": {\"color\": \"#00cc96\", \"symbol\": \"circle\"}, \"mode\": \"markers\", \"name\": \"state=SE\", \"showlegend\": true, \"type\": \"scatter\", \"x\": [\"Arquitetura e Urbanismo\", \"Engenharia Mec\\u00e2nica\", \"Engenharia Civil\", \"Biomedicina\", \"Direito\", \"Fisioterapia\", \"Engenharia de Produ\\u00e7\\u00e3o\", \"Psicologia\", \"Enfermagem\", \"Nutri\\u00e7\\u00e3o\", \"Publicidade e Propaganda\", \"Farm\\u00e1cia\", \"Educa\\u00e7\\u00e3o F\\u00edsica\", \"An\\u00e1lise e Desenvolvimento de Sistemas\", \"Administra\\u00e7\\u00e3o\", \"Ci\\u00eancias Cont\\u00e1beis\", \"Est\\u00e9tica\", \"Pedagogia\", \"Log\\u00edstica\", \"Recursos Humanos\"], \"xaxis\": \"x\", \"y\": [590.533950617284, 512.2591792656588, 552.2445414847161, 558.5169738118332, 608.6313458262351, 544.0424883106323, 526.2401960784314, 549.2836026803311, 507.51627075731625, 518.2067254685777, 517.7789934354486, 533.5144302290985, 419.83821478382146, 485.69767441860466, 401.34646390619275, 423.54899186416696, 438.7295081967213, 330.5523131672598, 313.53304904051174, 343.34181818181816], \"yaxis\": \"y\"}, {\"hoverlabel\": {\"namelength\": 0}, \"hovertemplate\": \"state=SC<br>canonico=%{x}<br>wtp=%{y}\", \"legendgroup\": \"state=SC\", \"marker\": {\"color\": \"#ab63fa\", \"symbol\": \"circle\"}, \"mode\": \"markers\", \"name\": \"state=SC\", \"showlegend\": true, \"type\": \"scatter\", \"x\": [\"Arquitetura e Urbanismo\", \"Engenharia Mec\\u00e2nica\", \"Engenharia Civil\", \"Biomedicina\", \"Direito\", \"Fisioterapia\", \"Engenharia de Produ\\u00e7\\u00e3o\", \"Psicologia\", \"Enfermagem\", \"Nutri\\u00e7\\u00e3o\", \"Publicidade e Propaganda\", \"Farm\\u00e1cia\", \"Educa\\u00e7\\u00e3o F\\u00edsica\", \"An\\u00e1lise e Desenvolvimento de Sistemas\", \"Administra\\u00e7\\u00e3o\", \"Ci\\u00eancias Cont\\u00e1beis\", \"Est\\u00e9tica\", \"Pedagogia\", \"Log\\u00edstica\", \"Recursos Humanos\"], \"xaxis\": \"x\", \"y\": [842.5352422907489, 826.1254098360656, 748.423563081326, 762.6859479988315, 722.9494933160845, 705.7936507936508, 682.658773527626, 714.9379045792376, 640.6183748169839, 642.7480497575374, 662.3403019744483, 693.2754454847478, 537.8028048571917, 620.41280148423, 528.7368981678738, 597.6358740003265, 546.412915851272, 406.67243451093486, 447.4349710982659, 435.1659482758621], \"yaxis\": \"y\"}, {\"hoverlabel\": {\"namelength\": 0}, \"hovertemplate\": \"state=RS<br>canonico=%{x}<br>wtp=%{y}\", \"legendgroup\": \"state=RS\", \"marker\": {\"color\": \"#FFA15A\", \"symbol\": \"circle\"}, \"mode\": \"markers\", \"name\": \"state=RS\", \"showlegend\": true, \"type\": \"scatter\", \"x\": [\"Arquitetura e Urbanismo\", \"Engenharia Mec\\u00e2nica\", \"Engenharia Civil\", \"Biomedicina\", \"Direito\", \"Fisioterapia\", \"Engenharia de Produ\\u00e7\\u00e3o\", \"Psicologia\", \"Enfermagem\", \"Nutri\\u00e7\\u00e3o\", \"Publicidade e Propaganda\", \"Farm\\u00e1cia\", \"Educa\\u00e7\\u00e3o F\\u00edsica\", \"An\\u00e1lise e Desenvolvimento de Sistemas\", \"Administra\\u00e7\\u00e3o\", \"Ci\\u00eancias Cont\\u00e1beis\", \"Est\\u00e9tica\", \"Pedagogia\", \"Log\\u00edstica\", \"Recursos Humanos\"], \"xaxis\": \"x\", \"y\": [816.2767134951043, 772.4150406504065, 776.988837660762, 769.660223567769, 728.2996703626011, 750.6297903109183, 740.1599229287091, 704.327025072324, 634.2171185649852, 674.261551292744, 746.5666666666667, 690.4528875379939, 586.7863681171666, 635.7211155378486, 563.7602835883757, 573.7898658718331, 484.9387186629526, 431.1823236196319, 484.4374453193351, 447.1996007984032], \"yaxis\": \"y\"}, {\"hoverlabel\": {\"namelength\": 0}, \"hovertemplate\": \"state=RR<br>canonico=%{x}<br>wtp=%{y}\", \"legendgroup\": \"state=RR\", \"marker\": {\"color\": \"#19d3f3\", \"symbol\": \"circle\"}, \"mode\": \"markers\", \"name\": \"state=RR\", \"showlegend\": true, \"type\": \"scatter\", \"x\": [\"Arquitetura e Urbanismo\", \"Engenharia Civil\", \"Biomedicina\", \"Direito\", \"Fisioterapia\", \"Psicologia\", \"Enfermagem\", \"Nutri\\u00e7\\u00e3o\", \"Farm\\u00e1cia\", \"Educa\\u00e7\\u00e3o F\\u00edsica\", \"Administra\\u00e7\\u00e3o\", \"Ci\\u00eancias Cont\\u00e1beis\", \"Pedagogia\"], \"xaxis\": \"x\", \"y\": [610.8928571428571, 642.2169811320755, 516.8410041841004, 542.5493218249076, 503.46820809248555, 457.0647619047619, 439.385591485878, 469.50323974082073, 509.93589743589746, 384.36995153473345, 298.58870967741933, 315.9324618736383, 277.89672544080605], \"yaxis\": \"y\"}, {\"hoverlabel\": {\"namelength\": 0}, \"hovertemplate\": \"state=RO<br>canonico=%{x}<br>wtp=%{y}\", \"legendgroup\": \"state=RO\", \"marker\": {\"color\": \"#FF6692\", \"symbol\": \"circle\"}, \"mode\": \"markers\", \"name\": \"state=RO\", \"showlegend\": true, \"type\": \"scatter\", \"x\": [\"Arquitetura e Urbanismo\", \"Engenharia Mec\\u00e2nica\", \"Engenharia Civil\", \"Biomedicina\", \"Direito\", \"Fisioterapia\", \"Engenharia de Produ\\u00e7\\u00e3o\", \"Psicologia\", \"Enfermagem\", \"Nutri\\u00e7\\u00e3o\", \"Publicidade e Propaganda\", \"Farm\\u00e1cia\", \"Educa\\u00e7\\u00e3o F\\u00edsica\", \"An\\u00e1lise e Desenvolvimento de Sistemas\", \"Administra\\u00e7\\u00e3o\", \"Ci\\u00eancias Cont\\u00e1beis\", \"Est\\u00e9tica\", \"Pedagogia\", \"Log\\u00edstica\", \"Recursos Humanos\"], \"xaxis\": \"x\", \"y\": [686.3950850661626, 629.0517448856799, 712.4508560558022, 659.0026178010471, 731.6740079975392, 633.595869297164, 600.1401673640167, 583.7306746310611, 549.4209842154132, 559.2530276816609, 517.8294573643411, 608.787622322137, 445.95498392282957, 488.6574074074074, 429.61173309449174, 432.4317797633422, 437.3370577281192, 322.0921456779289, 314.5238095238095, 359.7022587268994], \"yaxis\": \"y\"}, {\"hoverlabel\": {\"namelength\": 0}, \"hovertemplate\": \"state=RN<br>canonico=%{x}<br>wtp=%{y}\", \"legendgroup\": \"state=RN\", \"marker\": {\"color\": \"#B6E880\", \"symbol\": \"circle\"}, \"mode\": \"markers\", \"name\": \"state=RN\", \"showlegend\": true, \"type\": \"scatter\", \"x\": [\"Arquitetura e Urbanismo\", \"Engenharia Mec\\u00e2nica\", \"Engenharia Civil\", \"Biomedicina\", \"Direito\", \"Fisioterapia\", \"Engenharia de Produ\\u00e7\\u00e3o\", \"Psicologia\", \"Enfermagem\", \"Nutri\\u00e7\\u00e3o\", \"Publicidade e Propaganda\", \"Farm\\u00e1cia\", \"Educa\\u00e7\\u00e3o F\\u00edsica\", \"An\\u00e1lise e Desenvolvimento de Sistemas\", \"Administra\\u00e7\\u00e3o\", \"Ci\\u00eancias Cont\\u00e1beis\", \"Est\\u00e9tica\", \"Pedagogia\", \"Log\\u00edstica\", \"Recursos Humanos\"], \"xaxis\": \"x\", \"y\": [590.0876640419948, 683.6337760910816, 605.5961422543701, 581.6971371170266, 604.2722014013361, 554.0083256244218, 592.5823293172691, 556.4307709472275, 466.4382237077713, 511.56032617740055, 511.88602442333786, 585.5036355859709, 446.15888377337217, 406.30060422960725, 379.5815744438106, 411.87301854974703, 401.0055248618784, 314.7309417040359, 341.0863509749304, 326.86055396370585], \"yaxis\": \"y\"}, {\"hoverlabel\": {\"namelength\": 0}, \"hovertemplate\": \"state=RJ<br>canonico=%{x}<br>wtp=%{y}\", \"legendgroup\": \"state=RJ\", \"marker\": {\"color\": \"#FF97FF\", \"symbol\": \"circle\"}, \"mode\": \"markers\", \"name\": \"state=RJ\", \"showlegend\": true, \"type\": \"scatter\", \"x\": [\"Arquitetura e Urbanismo\", \"Engenharia Mec\\u00e2nica\", \"Engenharia Civil\", \"Biomedicina\", \"Direito\", \"Fisioterapia\", \"Engenharia de Produ\\u00e7\\u00e3o\", \"Psicologia\", \"Enfermagem\", \"Nutri\\u00e7\\u00e3o\", \"Publicidade e Propaganda\", \"Farm\\u00e1cia\", \"Educa\\u00e7\\u00e3o F\\u00edsica\", \"An\\u00e1lise e Desenvolvimento de Sistemas\", \"Administra\\u00e7\\u00e3o\", \"Ci\\u00eancias Cont\\u00e1beis\", \"Est\\u00e9tica\", \"Pedagogia\", \"Log\\u00edstica\", \"Recursos Humanos\"], \"xaxis\": \"x\", \"y\": [843.2251772075389, 760.3887325704995, 743.9492402878909, 687.207071799308, 707.4846393008443, 662.7000381630836, 738.8587329606747, 716.6163816934576, 626.147369565893, 673.9822755029211, 774.4364134443157, 662.5985306547038, 564.6126993680409, 622.044956811535, 563.5500313040916, 576.6396548835651, 530.5034699631317, 460.91466698479786, 479.50805599577393, 483.3089197285566], \"yaxis\": \"y\"}, {\"hoverlabel\": {\"namelength\": 0}, \"hovertemplate\": \"state=PR<br>canonico=%{x}<br>wtp=%{y}\", \"legendgroup\": \"state=PR\", \"marker\": {\"color\": \"#FECB52\", \"symbol\": \"circle\"}, \"mode\": \"markers\", \"name\": \"state=PR\", \"showlegend\": true, \"type\": \"scatter\", \"x\": [\"Arquitetura e Urbanismo\", \"Engenharia Mec\\u00e2nica\", \"Engenharia Civil\", \"Biomedicina\", \"Direito\", \"Fisioterapia\", \"Engenharia de Produ\\u00e7\\u00e3o\", \"Psicologia\", \"Enfermagem\", \"Nutri\\u00e7\\u00e3o\", \"Publicidade e Propaganda\", \"Farm\\u00e1cia\", \"Educa\\u00e7\\u00e3o F\\u00edsica\", \"An\\u00e1lise e Desenvolvimento de Sistemas\", \"Administra\\u00e7\\u00e3o\", \"Ci\\u00eancias Cont\\u00e1beis\", \"Est\\u00e9tica\", \"Pedagogia\", \"Log\\u00edstica\", \"Recursos Humanos\"], \"xaxis\": \"x\", \"y\": [939.2056877465326, 926.622156624414, 886.3293499771655, 817.6140373063547, 804.2262712275987, 791.8284822473664, 831.1344606295203, 793.6584101382489, 708.8172214657965, 776.8143688269517, 771.936297180367, 744.8438726864835, 687.5649444035217, 653.5206400742115, 617.3671352139145, 634.2611188708373, 573.1696214662195, 494.83986074847695, 514.3186925434117, 515.4383585463397], \"yaxis\": \"y\"}, {\"hoverlabel\": {\"namelength\": 0}, \"hovertemplate\": \"state=PI<br>canonico=%{x}<br>wtp=%{y}\", \"legendgroup\": \"state=PI\", \"marker\": {\"color\": \"#636efa\", \"symbol\": \"circle\"}, \"mode\": \"markers\", \"name\": \"state=PI\", \"showlegend\": true, \"type\": \"scatter\", \"x\": [\"Arquitetura e Urbanismo\", \"Engenharia Mec\\u00e2nica\", \"Engenharia Civil\", \"Biomedicina\", \"Direito\", \"Fisioterapia\", \"Engenharia de Produ\\u00e7\\u00e3o\", \"Psicologia\", \"Enfermagem\", \"Nutri\\u00e7\\u00e3o\", \"Publicidade e Propaganda\", \"Farm\\u00e1cia\", \"Educa\\u00e7\\u00e3o F\\u00edsica\", \"An\\u00e1lise e Desenvolvimento de Sistemas\", \"Administra\\u00e7\\u00e3o\", \"Ci\\u00eancias Cont\\u00e1beis\", \"Est\\u00e9tica\", \"Pedagogia\", \"Log\\u00edstica\", \"Recursos Humanos\"], \"xaxis\": \"x\", \"y\": [672.4303005008347, 621.0227272727273, 663.6243463102847, 609.5090782122905, 573.903276502524, 560.5940344992813, 576.738683127572, 535.6940397350993, 518.4498578968737, 512.7884270578647, 511.9102402022756, 571.9558962710581, 419.15689366315166, 509.30709677419355, 424.5210797147242, 449.25188339338354, 464.95171997586, 315.45571922167665, 360.3658536585366, 390.5484180249281], \"yaxis\": \"y\"}, {\"hoverlabel\": {\"namelength\": 0}, \"hovertemplate\": \"state=PE<br>canonico=%{x}<br>wtp=%{y}\", \"legendgroup\": \"state=PE\", \"marker\": {\"color\": \"#EF553B\", \"symbol\": \"circle\"}, \"mode\": \"markers\", \"name\": \"state=PE\", \"showlegend\": true, \"type\": \"scatter\", \"x\": [\"Arquitetura e Urbanismo\", \"Engenharia Mec\\u00e2nica\", \"Engenharia Civil\", \"Biomedicina\", \"Direito\", \"Fisioterapia\", \"Engenharia de Produ\\u00e7\\u00e3o\", \"Psicologia\", \"Enfermagem\", \"Nutri\\u00e7\\u00e3o\", \"Publicidade e Propaganda\", \"Farm\\u00e1cia\", \"Educa\\u00e7\\u00e3o F\\u00edsica\", \"An\\u00e1lise e Desenvolvimento de Sistemas\", \"Administra\\u00e7\\u00e3o\", \"Ci\\u00eancias Cont\\u00e1beis\", \"Est\\u00e9tica\", \"Pedagogia\", \"Log\\u00edstica\", \"Recursos Humanos\"], \"xaxis\": \"x\", \"y\": [593.1225038402458, 567.7669505962522, 565.0218475830036, 555.2355185080531, 614.1424664402763, 519.711286673343, 561.3284090909091, 518.7297934705704, 463.51090544563476, 505.1118870502505, 535.8041695146958, 531.3411417760962, 432.21006077975983, 500.6131633227077, 409.59677947853766, 432.92515898460084, 405.0184049079755, 316.67990818381975, 352.5372754089568, 327.90702423087396], \"yaxis\": \"y\"}, {\"hoverlabel\": {\"namelength\": 0}, \"hovertemplate\": \"state=PB<br>canonico=%{x}<br>wtp=%{y}\", \"legendgroup\": \"state=PB\", \"marker\": {\"color\": \"#00cc96\", \"symbol\": \"circle\"}, \"mode\": \"markers\", \"name\": \"state=PB\", \"showlegend\": true, \"type\": \"scatter\", \"x\": [\"Arquitetura e Urbanismo\", \"Engenharia Mec\\u00e2nica\", \"Engenharia Civil\", \"Biomedicina\", \"Direito\", \"Fisioterapia\", \"Engenharia de Produ\\u00e7\\u00e3o\", \"Psicologia\", \"Enfermagem\", \"Nutri\\u00e7\\u00e3o\", \"Publicidade e Propaganda\", \"Farm\\u00e1cia\", \"Educa\\u00e7\\u00e3o F\\u00edsica\", \"An\\u00e1lise e Desenvolvimento de Sistemas\", \"Administra\\u00e7\\u00e3o\", \"Ci\\u00eancias Cont\\u00e1beis\", \"Est\\u00e9tica\", \"Pedagogia\", \"Log\\u00edstica\", \"Recursos Humanos\"], \"xaxis\": \"x\", \"y\": [602.4828423929548, 593.5670194003527, 587.8702837542875, 520.2472826086956, 599.8964517998584, 528.4687250996016, 608.4360465116279, 526.8840032371189, 457.07902291068626, 485.48063306955436, 490.3175313059034, 513.1449159327462, 466.6749731086411, 444.67329545454544, 406.84837545126356, 438.1945897204689, 402.7946228528753, 321.9564471143531, 426.9689655172414, 329.01028277634964], \"yaxis\": \"y\"}, {\"hoverlabel\": {\"namelength\": 0}, \"hovertemplate\": \"state=PA<br>canonico=%{x}<br>wtp=%{y}\", \"legendgroup\": \"state=PA\", \"marker\": {\"color\": \"#ab63fa\", \"symbol\": \"circle\"}, \"mode\": \"markers\", \"name\": \"state=PA\", \"showlegend\": true, \"type\": \"scatter\", \"x\": [\"Arquitetura e Urbanismo\", \"Engenharia Mec\\u00e2nica\", \"Engenharia Civil\", \"Biomedicina\", \"Direito\", \"Fisioterapia\", \"Engenharia de Produ\\u00e7\\u00e3o\", \"Psicologia\", \"Enfermagem\", \"Nutri\\u00e7\\u00e3o\", \"Publicidade e Propaganda\", \"Farm\\u00e1cia\", \"Educa\\u00e7\\u00e3o F\\u00edsica\", \"An\\u00e1lise e Desenvolvimento de Sistemas\", \"Administra\\u00e7\\u00e3o\", \"Ci\\u00eancias Cont\\u00e1beis\", \"Est\\u00e9tica\", \"Pedagogia\", \"Log\\u00edstica\", \"Recursos Humanos\"], \"xaxis\": \"x\", \"y\": [687.2072109407377, 658.438337182448, 648.0302217889349, 657.1838814265864, 723.9477548922422, 634.0428660826033, 614.1638981173865, 627.7354902795515, 552.0529031557221, 568.039156626506, 576.0675324675325, 559.9008630744111, 478.0154836731565, 460.3163087637841, 459.33988596253056, 488.30527966544696, 439.46927374301674, 343.59197027223524, 367.25797306874557, 369.6387943607195], \"yaxis\": \"y\"}, {\"hoverlabel\": {\"namelength\": 0}, \"hovertemplate\": \"state=MT<br>canonico=%{x}<br>wtp=%{y}\", \"legendgroup\": \"state=MT\", \"marker\": {\"color\": \"#FFA15A\", \"symbol\": \"circle\"}, \"mode\": \"markers\", \"name\": \"state=MT\", \"showlegend\": true, \"type\": \"scatter\", \"x\": [\"Arquitetura e Urbanismo\", \"Engenharia Mec\\u00e2nica\", \"Engenharia Civil\", \"Biomedicina\", \"Direito\", \"Fisioterapia\", \"Engenharia de Produ\\u00e7\\u00e3o\", \"Psicologia\", \"Enfermagem\", \"Nutri\\u00e7\\u00e3o\", \"Publicidade e Propaganda\", \"Farm\\u00e1cia\", \"Educa\\u00e7\\u00e3o F\\u00edsica\", \"An\\u00e1lise e Desenvolvimento de Sistemas\", \"Administra\\u00e7\\u00e3o\", \"Ci\\u00eancias Cont\\u00e1beis\", \"Est\\u00e9tica\", \"Pedagogia\", \"Log\\u00edstica\", \"Recursos Humanos\"], \"xaxis\": \"x\", \"y\": [750.325642370215, 719.709388971684, 721.669981060606, 651.539245667686, 664.1458924599218, 601.3006809848088, 636.9467213114754, 632.0919033339213, 559.7869409964292, 574.1808378266279, 580.2647887323943, 630.6352395672334, 504.1649445082281, 481.09662921348314, 501.6786703601108, 501.32449425915803, 464.4831964152352, 369.69142857142856, 453.8220551378446, 406.83462282398455], \"yaxis\": \"y\"}, {\"hoverlabel\": {\"namelength\": 0}, \"hovertemplate\": \"state=MS<br>canonico=%{x}<br>wtp=%{y}\", \"legendgroup\": \"state=MS\", \"marker\": {\"color\": \"#19d3f3\", \"symbol\": \"circle\"}, \"mode\": \"markers\", \"name\": \"state=MS\", \"showlegend\": true, \"type\": \"scatter\", \"x\": [\"Arquitetura e Urbanismo\", \"Engenharia Mec\\u00e2nica\", \"Engenharia Civil\", \"Biomedicina\", \"Direito\", \"Fisioterapia\", \"Engenharia de Produ\\u00e7\\u00e3o\", \"Psicologia\", \"Enfermagem\", \"Nutri\\u00e7\\u00e3o\", \"Publicidade e Propaganda\", \"Farm\\u00e1cia\", \"Educa\\u00e7\\u00e3o F\\u00edsica\", \"An\\u00e1lise e Desenvolvimento de Sistemas\", \"Administra\\u00e7\\u00e3o\", \"Ci\\u00eancias Cont\\u00e1beis\", \"Est\\u00e9tica\", \"Pedagogia\", \"Log\\u00edstica\", \"Recursos Humanos\"], \"xaxis\": \"x\", \"y\": [695.9023831347388, 705.7573221757323, 790.8717828731867, 671.0460795243404, 661.591808559595, 638.6516023007396, 640.8876146788991, 670.4432471264367, 545.4607487166646, 576.3870182555781, 562.7590551181103, 570.8919786096257, 491.6740740740741, 527.4972451790634, 484.1894607843137, 495.699494949495, 456.804435483871, 404.0834584208946, 348.0952380952381, 342.1529968454259], \"yaxis\": \"y\"}, {\"hoverlabel\": {\"namelength\": 0}, \"hovertemplate\": \"state=MG<br>canonico=%{x}<br>wtp=%{y}\", \"legendgroup\": \"state=MG\", \"marker\": {\"color\": \"#FF6692\", \"symbol\": \"circle\"}, \"mode\": \"markers\", \"name\": \"state=MG\", \"showlegend\": true, \"type\": \"scatter\", \"x\": [\"Arquitetura e Urbanismo\", \"Engenharia Mec\\u00e2nica\", \"Engenharia Civil\", \"Biomedicina\", \"Direito\", \"Fisioterapia\", \"Engenharia de Produ\\u00e7\\u00e3o\", \"Psicologia\", \"Enfermagem\", \"Nutri\\u00e7\\u00e3o\", \"Publicidade e Propaganda\", \"Farm\\u00e1cia\", \"Educa\\u00e7\\u00e3o F\\u00edsica\", \"An\\u00e1lise e Desenvolvimento de Sistemas\", \"Administra\\u00e7\\u00e3o\", \"Ci\\u00eancias Cont\\u00e1beis\", \"Est\\u00e9tica\", \"Pedagogia\", \"Log\\u00edstica\", \"Recursos Humanos\"], \"xaxis\": \"x\", \"y\": [789.1622691292876, 730.1135480738103, 721.9423862380472, 725.1070802530295, 724.3269466608124, 710.9612737033509, 707.2433490613392, 677.861880208559, 606.5765509313115, 641.1138985461441, 702.0427005193307, 664.004358353511, 576.17268193937, 615.8790865384616, 585.9931857397713, 614.7897382142665, 541.7206806941068, 457.6455044505784, 498.69525490603263, 474.02575228752005], \"yaxis\": \"y\"}, {\"hoverlabel\": {\"namelength\": 0}, \"hovertemplate\": \"state=MA<br>canonico=%{x}<br>wtp=%{y}\", \"legendgroup\": \"state=MA\", \"marker\": {\"color\": \"#B6E880\", \"symbol\": \"circle\"}, \"mode\": \"markers\", \"name\": \"state=MA\", \"showlegend\": true, \"type\": \"scatter\", \"x\": [\"Arquitetura e Urbanismo\", \"Engenharia Mec\\u00e2nica\", \"Engenharia Civil\", \"Biomedicina\", \"Direito\", \"Fisioterapia\", \"Engenharia de Produ\\u00e7\\u00e3o\", \"Psicologia\", \"Enfermagem\", \"Nutri\\u00e7\\u00e3o\", \"Publicidade e Propaganda\", \"Farm\\u00e1cia\", \"Educa\\u00e7\\u00e3o F\\u00edsica\", \"An\\u00e1lise e Desenvolvimento de Sistemas\", \"Administra\\u00e7\\u00e3o\", \"Ci\\u00eancias Cont\\u00e1beis\", \"Est\\u00e9tica\", \"Pedagogia\", \"Log\\u00edstica\", \"Recursos Humanos\"], \"xaxis\": \"x\", \"y\": [734.6949494949495, 658.4670631290028, 627.184316691881, 630.1664415022967, 703.9783757448563, 616.199469897766, 652.4514731369151, 622.0160142348755, 525.3522598624053, 549.8065636603186, 523.8627087198515, 577.4712933753943, 466.4309442965954, 444.98568872987477, 432.36738388691595, 482.58923600371173, 471.2979299671116, 360.0611907955835, 354.5843097300051, 339.1220556745182], \"yaxis\": \"y\"}, {\"hoverlabel\": {\"namelength\": 0}, \"hovertemplate\": \"state=GO<br>canonico=%{x}<br>wtp=%{y}\", \"legendgroup\": \"state=GO\", \"marker\": {\"color\": \"#FF97FF\", \"symbol\": \"circle\"}, \"mode\": \"markers\", \"name\": \"state=GO\", \"showlegend\": true, \"type\": \"scatter\", \"x\": [\"Arquitetura e Urbanismo\", \"Engenharia Mec\\u00e2nica\", \"Engenharia Civil\", \"Biomedicina\", \"Direito\", \"Fisioterapia\", \"Engenharia de Produ\\u00e7\\u00e3o\", \"Psicologia\", \"Enfermagem\", \"Nutri\\u00e7\\u00e3o\", \"Publicidade e Propaganda\", \"Farm\\u00e1cia\", \"Educa\\u00e7\\u00e3o F\\u00edsica\", \"An\\u00e1lise e Desenvolvimento de Sistemas\", \"Administra\\u00e7\\u00e3o\", \"Ci\\u00eancias Cont\\u00e1beis\", \"Est\\u00e9tica\", \"Pedagogia\", \"Log\\u00edstica\", \"Recursos Humanos\"], \"xaxis\": \"x\", \"y\": [656.8087722894036, 634.3991805677495, 627.8581462818751, 618.6857279578898, 606.1861358520114, 560.3442414257901, 647.3337484433375, 608.1416521233275, 509.15451109531114, 602.8674022263816, 591.5958944281525, 554.6106102911847, 466.9741956557243, 453.77154176295807, 444.3644444444444, 446.95367032967033, 447.3779251170047, 363.0331353547984, 376.48786717752233, 357.7345679012346], \"yaxis\": \"y\"}, {\"hoverlabel\": {\"namelength\": 0}, \"hovertemplate\": \"state=ES<br>canonico=%{x}<br>wtp=%{y}\", \"legendgroup\": \"state=ES\", \"marker\": {\"color\": \"#FECB52\", \"symbol\": \"circle\"}, \"mode\": \"markers\", \"name\": \"state=ES\", \"showlegend\": true, \"type\": \"scatter\", \"x\": [\"Arquitetura e Urbanismo\", \"Engenharia Mec\\u00e2nica\", \"Engenharia Civil\", \"Biomedicina\", \"Direito\", \"Fisioterapia\", \"Engenharia de Produ\\u00e7\\u00e3o\", \"Psicologia\", \"Enfermagem\", \"Nutri\\u00e7\\u00e3o\", \"Publicidade e Propaganda\", \"Farm\\u00e1cia\", \"Educa\\u00e7\\u00e3o F\\u00edsica\", \"An\\u00e1lise e Desenvolvimento de Sistemas\", \"Administra\\u00e7\\u00e3o\", \"Ci\\u00eancias Cont\\u00e1beis\", \"Est\\u00e9tica\", \"Pedagogia\", \"Log\\u00edstica\", \"Recursos Humanos\"], \"xaxis\": \"x\", \"y\": [724.6680952380952, 715.6713261648746, 732.9871289729446, 612.9772223979753, 680.0926624737946, 664.0410102965766, 681.0958112662494, 655.6130736216573, 563.7718654434251, 635.5911016949152, 659.52300405954, 584.5039049235993, 554.6044871166846, 510.3735632183908, 494.1208118081181, 535.7406356413167, 494.1094360692351, 398.7114270668773, 508.5735294117647, 397.6173469387755], \"yaxis\": \"y\"}, {\"hoverlabel\": {\"namelength\": 0}, \"hovertemplate\": \"state=DF<br>canonico=%{x}<br>wtp=%{y}\", \"legendgroup\": \"state=DF\", \"marker\": {\"color\": \"#636efa\", \"symbol\": \"circle\"}, \"mode\": \"markers\", \"name\": \"state=DF\", \"showlegend\": true, \"type\": \"scatter\", \"x\": [\"Arquitetura e Urbanismo\", \"Engenharia Mec\\u00e2nica\", \"Engenharia Civil\", \"Biomedicina\", \"Direito\", \"Fisioterapia\", \"Engenharia de Produ\\u00e7\\u00e3o\", \"Psicologia\", \"Enfermagem\", \"Nutri\\u00e7\\u00e3o\", \"Publicidade e Propaganda\", \"Farm\\u00e1cia\", \"Educa\\u00e7\\u00e3o F\\u00edsica\", \"An\\u00e1lise e Desenvolvimento de Sistemas\", \"Administra\\u00e7\\u00e3o\", \"Ci\\u00eancias Cont\\u00e1beis\", \"Est\\u00e9tica\", \"Pedagogia\", \"Log\\u00edstica\", \"Recursos Humanos\"], \"xaxis\": \"x\", \"y\": [777.0728585046984, 759.2781065088758, 791.7089552238806, 683.1307604126863, 826.938053660321, 685.0049638845578, 723.8583234946872, 770.6374023029653, 635.1286395067664, 688.4863958255684, 677.8604108309991, 677.0601321212805, 575.393746906451, 543.0620343375446, 540.182871024236, 566.7314801050493, 501.8843474222016, 460.5202819332566, 469.5841232227488, 444.0693738080102], \"yaxis\": \"y\"}, {\"hoverlabel\": {\"namelength\": 0}, \"hovertemplate\": \"state=CE<br>canonico=%{x}<br>wtp=%{y}\", \"legendgroup\": \"state=CE\", \"marker\": {\"color\": \"#EF553B\", \"symbol\": \"circle\"}, \"mode\": \"markers\", \"name\": \"state=CE\", \"showlegend\": true, \"type\": \"scatter\", \"x\": [\"Arquitetura e Urbanismo\", \"Engenharia Mec\\u00e2nica\", \"Engenharia Civil\", \"Biomedicina\", \"Direito\", \"Fisioterapia\", \"Engenharia de Produ\\u00e7\\u00e3o\", \"Psicologia\", \"Enfermagem\", \"Nutri\\u00e7\\u00e3o\", \"Publicidade e Propaganda\", \"Farm\\u00e1cia\", \"Educa\\u00e7\\u00e3o F\\u00edsica\", \"An\\u00e1lise e Desenvolvimento de Sistemas\", \"Administra\\u00e7\\u00e3o\", \"Ci\\u00eancias Cont\\u00e1beis\", \"Est\\u00e9tica\", \"Pedagogia\", \"Log\\u00edstica\", \"Recursos Humanos\"], \"xaxis\": \"x\", \"y\": [723.4127159640636, 656.7783693843594, 692.0567831131959, 599.4270862601854, 680.2816398886994, 586.4207527895646, 606.8854643070193, 612.4983900321994, 542.2787944947452, 617.4906236579664, 574.4637920363111, 598.8709189461742, 458.9271914996378, 452.20508390918064, 447.3245642319291, 470.9577495701796, 477.5132965378826, 353.2629419191919, 392.1480545174764, 385.0997135126532], \"yaxis\": \"y\"}, {\"hoverlabel\": {\"namelength\": 0}, \"hovertemplate\": \"state=BA<br>canonico=%{x}<br>wtp=%{y}\", \"legendgroup\": \"state=BA\", \"marker\": {\"color\": \"#00cc96\", \"symbol\": \"circle\"}, \"mode\": \"markers\", \"name\": \"state=BA\", \"showlegend\": true, \"type\": \"scatter\", \"x\": [\"Arquitetura e Urbanismo\", \"Engenharia Mec\\u00e2nica\", \"Engenharia Civil\", \"Biomedicina\", \"Direito\", \"Fisioterapia\", \"Engenharia de Produ\\u00e7\\u00e3o\", \"Psicologia\", \"Enfermagem\", \"Nutri\\u00e7\\u00e3o\", \"Publicidade e Propaganda\", \"Farm\\u00e1cia\", \"Educa\\u00e7\\u00e3o F\\u00edsica\", \"An\\u00e1lise e Desenvolvimento de Sistemas\", \"Administra\\u00e7\\u00e3o\", \"Ci\\u00eancias Cont\\u00e1beis\", \"Est\\u00e9tica\", \"Pedagogia\", \"Log\\u00edstica\", \"Recursos Humanos\"], \"xaxis\": \"x\", \"y\": [682.040546911834, 627.0569608394229, 647.9776027332258, 623.589624889373, 682.2035447601064, 586.0179886148007, 641.50339958159, 592.21745460118, 547.2205423808801, 551.0775378575435, 584.6453508468718, 573.8359699584532, 476.6980599647266, 495.1996438904963, 470.80400484191955, 477.9280372278544, 435.7896327640925, 364.22209098684476, 428.50818752803946, 385.58257173219977], \"yaxis\": \"y\"}, {\"hoverlabel\": {\"namelength\": 0}, \"hovertemplate\": \"state=AP<br>canonico=%{x}<br>wtp=%{y}\", \"legendgroup\": \"state=AP\", \"marker\": {\"color\": \"#ab63fa\", \"symbol\": \"circle\"}, \"mode\": \"markers\", \"name\": \"state=AP\", \"showlegend\": true, \"type\": \"scatter\", \"x\": [\"Arquitetura e Urbanismo\", \"Engenharia Mec\\u00e2nica\", \"Engenharia Civil\", \"Biomedicina\", \"Direito\", \"Fisioterapia\", \"Psicologia\", \"Enfermagem\", \"Nutri\\u00e7\\u00e3o\", \"Publicidade e Propaganda\", \"Farm\\u00e1cia\", \"Educa\\u00e7\\u00e3o F\\u00edsica\", \"Administra\\u00e7\\u00e3o\", \"Ci\\u00eancias Cont\\u00e1beis\", \"Pedagogia\", \"Recursos Humanos\"], \"xaxis\": \"x\", \"y\": [598.4344422700588, 658.2608695652174, 490.63758389261744, 552.396878483835, 607.061475409836, 564.0489596083231, 531.0689855072463, 473.89334205790936, 543.2264736297828, 496.6216216216216, 521.6967808930426, 334.23438549361987, 342.6402698863636, 382.65432098765433, 289.18635724331926, 320.796783625731], \"yaxis\": \"y\"}, {\"hoverlabel\": {\"namelength\": 0}, \"hovertemplate\": \"state=AM<br>canonico=%{x}<br>wtp=%{y}\", \"legendgroup\": \"state=AM\", \"marker\": {\"color\": \"#FFA15A\", \"symbol\": \"circle\"}, \"mode\": \"markers\", \"name\": \"state=AM\", \"showlegend\": true, \"type\": \"scatter\", \"x\": [\"Arquitetura e Urbanismo\", \"Engenharia Mec\\u00e2nica\", \"Engenharia Civil\", \"Biomedicina\", \"Direito\", \"Fisioterapia\", \"Engenharia de Produ\\u00e7\\u00e3o\", \"Psicologia\", \"Enfermagem\", \"Nutri\\u00e7\\u00e3o\", \"Publicidade e Propaganda\", \"Farm\\u00e1cia\", \"Educa\\u00e7\\u00e3o F\\u00edsica\", \"An\\u00e1lise e Desenvolvimento de Sistemas\", \"Administra\\u00e7\\u00e3o\", \"Ci\\u00eancias Cont\\u00e1beis\", \"Est\\u00e9tica\", \"Pedagogia\", \"Log\\u00edstica\", \"Recursos Humanos\"], \"xaxis\": \"x\", \"y\": [573.4935270805812, 534.7280829687247, 561.3204439670606, 482.54253677605186, 748.7256969373731, 538.352472733568, 543.5683825769114, 512.8733075435204, 502.0627281778958, 494.0461003477397, 511.62492053401144, 478.5799180327869, 450.7603616835728, 474.9362780593773, 431.9693699856956, 450.99112564222327, 397.9387377584331, 344.96520971712573, 361.1586630504148, 346.21669374492285], \"yaxis\": \"y\"}, {\"hoverlabel\": {\"namelength\": 0}, \"hovertemplate\": \"state=AL<br>canonico=%{x}<br>wtp=%{y}\", \"legendgroup\": \"state=AL\", \"marker\": {\"color\": \"#19d3f3\", \"symbol\": \"circle\"}, \"mode\": \"markers\", \"name\": \"state=AL\", \"showlegend\": true, \"type\": \"scatter\", \"x\": [\"Arquitetura e Urbanismo\", \"Engenharia Mec\\u00e2nica\", \"Engenharia Civil\", \"Biomedicina\", \"Direito\", \"Fisioterapia\", \"Engenharia de Produ\\u00e7\\u00e3o\", \"Psicologia\", \"Enfermagem\", \"Nutri\\u00e7\\u00e3o\", \"Publicidade e Propaganda\", \"Farm\\u00e1cia\", \"Educa\\u00e7\\u00e3o F\\u00edsica\", \"An\\u00e1lise e Desenvolvimento de Sistemas\", \"Administra\\u00e7\\u00e3o\", \"Ci\\u00eancias Cont\\u00e1beis\", \"Est\\u00e9tica\", \"Pedagogia\", \"Log\\u00edstica\", \"Recursos Humanos\"], \"xaxis\": \"x\", \"y\": [590.3296551724138, 497.67520215633425, 566.3512110726643, 533.0639184807782, 532.7715118560458, 535.7768368617684, 507.74758620689653, 480.71787878787876, 488.4466491586422, 512.2774308652988, 475.6576923076923, 456.063460253841, 412.6737530662306, 406.9639953542393, 450.02769503260606, 413.7698232102223, 414.2220943613349, 312.81940158325506, 359.84427141268077, 355.4952120383037], \"yaxis\": \"y\"}, {\"hoverlabel\": {\"namelength\": 0}, \"hovertemplate\": \"state=AC<br>canonico=%{x}<br>wtp=%{y}\", \"legendgroup\": \"state=AC\", \"marker\": {\"color\": \"#FF6692\", \"symbol\": \"circle\"}, \"mode\": \"markers\", \"name\": \"state=AC\", \"showlegend\": true, \"type\": \"scatter\", \"x\": [\"Arquitetura e Urbanismo\", \"Engenharia Civil\", \"Biomedicina\", \"Direito\", \"Fisioterapia\", \"Psicologia\", \"Enfermagem\", \"Nutri\\u00e7\\u00e3o\", \"Farm\\u00e1cia\", \"Educa\\u00e7\\u00e3o F\\u00edsica\", \"An\\u00e1lise e Desenvolvimento de Sistemas\", \"Administra\\u00e7\\u00e3o\", \"Ci\\u00eancias Cont\\u00e1beis\", \"Est\\u00e9tica\", \"Pedagogia\", \"Recursos Humanos\"], \"xaxis\": \"x\", \"y\": [646.6739606126914, 692.3345864661654, 475.69686411149826, 638.4489388264669, 516.4262023217248, 554.1236858379716, 469.3417179555793, 527.525, 499.87706146926536, 374.70045662100455, 458.95580110497235, 349.2409200968523, 402.4688372093023, 401.69172932330827, 273.64539434075857, 250.5980861244019], \"yaxis\": \"y\"}],\n",
       "                        {\"height\": 600, \"legend\": {\"tracegroupgap\": 0}, \"margin\": {\"t\": 60}, \"template\": {\"data\": {\"bar\": [{\"error_x\": {\"color\": \"#2a3f5f\"}, \"error_y\": {\"color\": \"#2a3f5f\"}, \"marker\": {\"line\": {\"color\": \"#E5ECF6\", \"width\": 0.5}}, \"type\": \"bar\"}], \"barpolar\": [{\"marker\": {\"line\": {\"color\": \"#E5ECF6\", \"width\": 0.5}}, \"type\": \"barpolar\"}], \"carpet\": [{\"aaxis\": {\"endlinecolor\": \"#2a3f5f\", \"gridcolor\": \"white\", \"linecolor\": \"white\", \"minorgridcolor\": \"white\", \"startlinecolor\": \"#2a3f5f\"}, \"baxis\": {\"endlinecolor\": \"#2a3f5f\", \"gridcolor\": \"white\", \"linecolor\": \"white\", \"minorgridcolor\": \"white\", \"startlinecolor\": \"#2a3f5f\"}, \"type\": \"carpet\"}], \"choropleth\": [{\"colorbar\": {\"outlinewidth\": 0, \"ticks\": \"\"}, \"type\": \"choropleth\"}], \"contour\": [{\"colorbar\": {\"outlinewidth\": 0, \"ticks\": \"\"}, \"colorscale\": [[0.0, \"#0d0887\"], [0.1111111111111111, \"#46039f\"], [0.2222222222222222, \"#7201a8\"], [0.3333333333333333, \"#9c179e\"], [0.4444444444444444, \"#bd3786\"], [0.5555555555555556, \"#d8576b\"], [0.6666666666666666, \"#ed7953\"], [0.7777777777777778, \"#fb9f3a\"], [0.8888888888888888, \"#fdca26\"], [1.0, \"#f0f921\"]], \"type\": \"contour\"}], \"contourcarpet\": [{\"colorbar\": {\"outlinewidth\": 0, \"ticks\": \"\"}, \"type\": \"contourcarpet\"}], \"heatmap\": [{\"colorbar\": {\"outlinewidth\": 0, \"ticks\": \"\"}, \"colorscale\": [[0.0, \"#0d0887\"], [0.1111111111111111, \"#46039f\"], [0.2222222222222222, \"#7201a8\"], [0.3333333333333333, \"#9c179e\"], [0.4444444444444444, \"#bd3786\"], [0.5555555555555556, \"#d8576b\"], [0.6666666666666666, \"#ed7953\"], [0.7777777777777778, \"#fb9f3a\"], [0.8888888888888888, \"#fdca26\"], [1.0, \"#f0f921\"]], \"type\": \"heatmap\"}], \"heatmapgl\": [{\"colorbar\": {\"outlinewidth\": 0, \"ticks\": \"\"}, \"colorscale\": [[0.0, \"#0d0887\"], [0.1111111111111111, \"#46039f\"], [0.2222222222222222, \"#7201a8\"], [0.3333333333333333, \"#9c179e\"], [0.4444444444444444, \"#bd3786\"], [0.5555555555555556, \"#d8576b\"], [0.6666666666666666, \"#ed7953\"], [0.7777777777777778, \"#fb9f3a\"], [0.8888888888888888, \"#fdca26\"], [1.0, \"#f0f921\"]], \"type\": \"heatmapgl\"}], \"histogram\": [{\"marker\": {\"colorbar\": {\"outlinewidth\": 0, \"ticks\": \"\"}}, \"type\": \"histogram\"}], \"histogram2d\": [{\"colorbar\": {\"outlinewidth\": 0, \"ticks\": \"\"}, \"colorscale\": [[0.0, \"#0d0887\"], [0.1111111111111111, \"#46039f\"], [0.2222222222222222, \"#7201a8\"], [0.3333333333333333, \"#9c179e\"], [0.4444444444444444, \"#bd3786\"], [0.5555555555555556, \"#d8576b\"], [0.6666666666666666, \"#ed7953\"], [0.7777777777777778, \"#fb9f3a\"], [0.8888888888888888, \"#fdca26\"], [1.0, \"#f0f921\"]], \"type\": \"histogram2d\"}], \"histogram2dcontour\": [{\"colorbar\": {\"outlinewidth\": 0, \"ticks\": \"\"}, \"colorscale\": [[0.0, \"#0d0887\"], [0.1111111111111111, \"#46039f\"], [0.2222222222222222, \"#7201a8\"], [0.3333333333333333, \"#9c179e\"], [0.4444444444444444, \"#bd3786\"], [0.5555555555555556, \"#d8576b\"], [0.6666666666666666, \"#ed7953\"], [0.7777777777777778, \"#fb9f3a\"], [0.8888888888888888, \"#fdca26\"], [1.0, \"#f0f921\"]], \"type\": \"histogram2dcontour\"}], \"mesh3d\": [{\"colorbar\": {\"outlinewidth\": 0, \"ticks\": \"\"}, \"type\": \"mesh3d\"}], \"parcoords\": [{\"line\": {\"colorbar\": {\"outlinewidth\": 0, \"ticks\": \"\"}}, \"type\": \"parcoords\"}], \"scatter\": [{\"marker\": {\"colorbar\": {\"outlinewidth\": 0, \"ticks\": \"\"}}, \"type\": \"scatter\"}], \"scatter3d\": [{\"line\": {\"colorbar\": {\"outlinewidth\": 0, \"ticks\": \"\"}}, \"marker\": {\"colorbar\": {\"outlinewidth\": 0, \"ticks\": \"\"}}, \"type\": \"scatter3d\"}], \"scattercarpet\": [{\"marker\": {\"colorbar\": {\"outlinewidth\": 0, \"ticks\": \"\"}}, \"type\": \"scattercarpet\"}], \"scattergeo\": [{\"marker\": {\"colorbar\": {\"outlinewidth\": 0, \"ticks\": \"\"}}, \"type\": \"scattergeo\"}], \"scattergl\": [{\"marker\": {\"colorbar\": {\"outlinewidth\": 0, \"ticks\": \"\"}}, \"type\": \"scattergl\"}], \"scattermapbox\": [{\"marker\": {\"colorbar\": {\"outlinewidth\": 0, \"ticks\": \"\"}}, \"type\": \"scattermapbox\"}], \"scatterpolar\": [{\"marker\": {\"colorbar\": {\"outlinewidth\": 0, \"ticks\": \"\"}}, \"type\": \"scatterpolar\"}], \"scatterpolargl\": [{\"marker\": {\"colorbar\": {\"outlinewidth\": 0, \"ticks\": \"\"}}, \"type\": \"scatterpolargl\"}], \"scatterternary\": [{\"marker\": {\"colorbar\": {\"outlinewidth\": 0, \"ticks\": \"\"}}, \"type\": \"scatterternary\"}], \"surface\": [{\"colorbar\": {\"outlinewidth\": 0, \"ticks\": \"\"}, \"colorscale\": [[0.0, \"#0d0887\"], [0.1111111111111111, \"#46039f\"], [0.2222222222222222, \"#7201a8\"], [0.3333333333333333, \"#9c179e\"], [0.4444444444444444, \"#bd3786\"], [0.5555555555555556, \"#d8576b\"], [0.6666666666666666, \"#ed7953\"], [0.7777777777777778, \"#fb9f3a\"], [0.8888888888888888, \"#fdca26\"], [1.0, \"#f0f921\"]], \"type\": \"surface\"}], \"table\": [{\"cells\": {\"fill\": {\"color\": \"#EBF0F8\"}, \"line\": {\"color\": \"white\"}}, \"header\": {\"fill\": {\"color\": \"#C8D4E3\"}, \"line\": {\"color\": \"white\"}}, \"type\": \"table\"}]}, \"layout\": {\"annotationdefaults\": {\"arrowcolor\": \"#2a3f5f\", \"arrowhead\": 0, \"arrowwidth\": 1}, \"colorscale\": {\"diverging\": [[0, \"#8e0152\"], [0.1, \"#c51b7d\"], [0.2, \"#de77ae\"], [0.3, \"#f1b6da\"], [0.4, \"#fde0ef\"], [0.5, \"#f7f7f7\"], [0.6, \"#e6f5d0\"], [0.7, \"#b8e186\"], [0.8, \"#7fbc41\"], [0.9, \"#4d9221\"], [1, \"#276419\"]], \"sequential\": [[0.0, \"#0d0887\"], [0.1111111111111111, \"#46039f\"], [0.2222222222222222, \"#7201a8\"], [0.3333333333333333, \"#9c179e\"], [0.4444444444444444, \"#bd3786\"], [0.5555555555555556, \"#d8576b\"], [0.6666666666666666, \"#ed7953\"], [0.7777777777777778, \"#fb9f3a\"], [0.8888888888888888, \"#fdca26\"], [1.0, \"#f0f921\"]], \"sequentialminus\": [[0.0, \"#0d0887\"], [0.1111111111111111, \"#46039f\"], [0.2222222222222222, \"#7201a8\"], [0.3333333333333333, \"#9c179e\"], [0.4444444444444444, \"#bd3786\"], [0.5555555555555556, \"#d8576b\"], [0.6666666666666666, \"#ed7953\"], [0.7777777777777778, \"#fb9f3a\"], [0.8888888888888888, \"#fdca26\"], [1.0, \"#f0f921\"]]}, \"colorway\": [\"#636efa\", \"#EF553B\", \"#00cc96\", \"#ab63fa\", \"#FFA15A\", \"#19d3f3\", \"#FF6692\", \"#B6E880\", \"#FF97FF\", \"#FECB52\"], \"font\": {\"color\": \"#2a3f5f\"}, \"geo\": {\"bgcolor\": \"white\", \"lakecolor\": \"white\", \"landcolor\": \"#E5ECF6\", \"showlakes\": true, \"showland\": true, \"subunitcolor\": \"white\"}, \"hoverlabel\": {\"align\": \"left\"}, \"hovermode\": \"closest\", \"mapbox\": {\"style\": \"light\"}, \"paper_bgcolor\": \"white\", \"plot_bgcolor\": \"#E5ECF6\", \"polar\": {\"angularaxis\": {\"gridcolor\": \"white\", \"linecolor\": \"white\", \"ticks\": \"\"}, \"bgcolor\": \"#E5ECF6\", \"radialaxis\": {\"gridcolor\": \"white\", \"linecolor\": \"white\", \"ticks\": \"\"}}, \"scene\": {\"xaxis\": {\"backgroundcolor\": \"#E5ECF6\", \"gridcolor\": \"white\", \"gridwidth\": 2, \"linecolor\": \"white\", \"showbackground\": true, \"ticks\": \"\", \"zerolinecolor\": \"white\"}, \"yaxis\": {\"backgroundcolor\": \"#E5ECF6\", \"gridcolor\": \"white\", \"gridwidth\": 2, \"linecolor\": \"white\", \"showbackground\": true, \"ticks\": \"\", \"zerolinecolor\": \"white\"}, \"zaxis\": {\"backgroundcolor\": \"#E5ECF6\", \"gridcolor\": \"white\", \"gridwidth\": 2, \"linecolor\": \"white\", \"showbackground\": true, \"ticks\": \"\", \"zerolinecolor\": \"white\"}}, \"shapedefaults\": {\"line\": {\"color\": \"#2a3f5f\"}}, \"ternary\": {\"aaxis\": {\"gridcolor\": \"white\", \"linecolor\": \"white\", \"ticks\": \"\"}, \"baxis\": {\"gridcolor\": \"white\", \"linecolor\": \"white\", \"ticks\": \"\"}, \"bgcolor\": \"#E5ECF6\", \"caxis\": {\"gridcolor\": \"white\", \"linecolor\": \"white\", \"ticks\": \"\"}}, \"title\": {\"x\": 0.05}, \"xaxis\": {\"automargin\": true, \"gridcolor\": \"white\", \"linecolor\": \"white\", \"ticks\": \"\", \"zerolinecolor\": \"white\", \"zerolinewidth\": 2}, \"yaxis\": {\"automargin\": true, \"gridcolor\": \"white\", \"linecolor\": \"white\", \"ticks\": \"\", \"zerolinecolor\": \"white\", \"zerolinewidth\": 2}}}, \"xaxis\": {\"anchor\": \"y\", \"domain\": [0.0, 0.98], \"title\": {\"text\": \"canonico\"}}, \"yaxis\": {\"anchor\": \"x\", \"domain\": [0.0, 1.0], \"title\": {\"text\": \"wtp\"}}},\n",
       "                        {\"responsive\": true}\n",
       "                    ).then(function(){\n",
       "                            \n",
       "var gd = document.getElementById('c702727f-ec17-44df-9cab-fdf25ce74202');\n",
       "var x = new MutationObserver(function (mutations, observer) {{\n",
       "        var display = window.getComputedStyle(gd).display;\n",
       "        if (!display || display === 'none') {{\n",
       "            console.log([gd, 'removed!']);\n",
       "            Plotly.purge(gd);\n",
       "            observer.disconnect();\n",
       "        }}\n",
       "}});\n",
       "\n",
       "// Listen for the removal of the full notebook cells\n",
       "var notebookContainer = gd.closest('#notebook-container');\n",
       "if (notebookContainer) {{\n",
       "    x.observe(notebookContainer, {childList: true});\n",
       "}}\n",
       "\n",
       "// Listen for the clearing of the current output cell\n",
       "var outputEl = gd.closest('.output');\n",
       "if (outputEl) {{\n",
       "    x.observe(outputEl, {childList: true});\n",
       "}}\n",
       "\n",
       "                        })\n",
       "                };\n",
       "                });\n",
       "            </script>\n",
       "        </div>"
      ]
     },
     "metadata": {},
     "output_type": "display_data"
    }
   ],
   "source": [
    "df = spark.sql(\"\"\"WITH base AS(\n",
    "SELECT\n",
    "cities.state AS state,\n",
    "canonical_courses.name AS canonico,\n",
    "AVG(maximum_value) AS wtp,\n",
    "count(*) AS qtd\n",
    "FROM\n",
    "bi.global_users_searchs\n",
    "JOIN\n",
    "querobolsa_production.cities ON global_users_searchs.city_id = cities.id\n",
    "JOIN\n",
    "querobolsa_production.canonical_courses ON global_users_searchs.canonical_course_id = canonical_courses.id\n",
    "\n",
    "WHERE\n",
    "maximum_value <= 3000\n",
    "AND\n",
    "level_id = 1\n",
    "AND\n",
    "kind_id = 1\n",
    "AND\n",
    "global_users_searchs.canonical_course_id IN (2,10,14,34,48,115,121,140,153,170,192,211,214,217,257,288,869,341,346,356)\n",
    "\n",
    "GROUP BY\n",
    "1,2\n",
    "\n",
    "ORDER BY\n",
    "1,3 desc\n",
    "),\n",
    "base_ordem AS(\n",
    "SELECT\n",
    "canonical_courses.name AS canonico,\n",
    "AVG(maximum_value) AS wtp_geral\n",
    "\n",
    "FROM\n",
    "bi.global_users_searchs\n",
    "JOIN\n",
    "querobolsa_production.cities ON global_users_searchs.city_id = cities.id\n",
    "JOIN\n",
    "querobolsa_production.canonical_courses ON global_users_searchs.canonical_course_id = canonical_courses.id\n",
    "\n",
    "WHERE\n",
    "maximum_value <= 3000\n",
    "AND\n",
    "level_id = 1\n",
    "AND\n",
    "kind_id = 1\n",
    "AND\n",
    "global_users_searchs.canonical_course_id IN (2,10,14,34,48,115,121,140,153,170,192,211,214,217,257,288,869,341,346,356)\n",
    "AND\n",
    "cities.state = 'PR'\n",
    "AND\n",
    "global_users_searchs.created_at >= '2019-10-01'\n",
    "\n",
    "GROUP BY\n",
    "1\n",
    "\n",
    "ORDER BY\n",
    "1,2 desc\n",
    ")\n",
    "\n",
    "SELECT\n",
    "base.state,\n",
    "base.canonico,\n",
    "wtp,\n",
    "qtd,\n",
    "base_ordem.wtp_geral,\n",
    "max(wtp) OVER\n",
    "  (partition by base.canonico) AS max_wtp_canonico,\n",
    "wtp/max(wtp) OVER\n",
    "  (partition by base.canonico) AS relative_wtp\n",
    "\n",
    "FROM\n",
    "base\n",
    "JOIN\n",
    "base_ordem ON base_ordem.canonico = base.canonico\n",
    "\n",
    "WHERE\n",
    "qtd >= 100\n",
    "\n",
    "ORDER BY\n",
    "1 desc,5 desc\"\"\").toPandas()\n",
    "\n",
    "fig = px.scatter(df, x='canonico', y='wtp', color='state')\n",
    "fig.show()"
   ]
  },
  {
   "cell_type": "code",
   "execution_count": 12,
   "metadata": {},
   "outputs": [
    {
     "data": {
      "application/vnd.plotly.v1+json": {
       "config": {
        "plotlyServerURL": "https://plot.ly"
       },
       "data": [
        {
         "hoverlabel": {
          "namelength": 0
         },
         "hovertemplate": "state=TO<br>canonico=%{x}<br>relative_wtp=%{y}",
         "legendgroup": "state=TO",
         "marker": {
          "color": "#636efa",
          "symbol": "circle"
         },
         "mode": "markers",
         "name": "state=TO",
         "showlegend": true,
         "type": "scatter",
         "x": [
          "Arquitetura e Urbanismo",
          "Engenharia Mecânica",
          "Engenharia Civil",
          "Biomedicina",
          "Direito",
          "Fisioterapia",
          "Engenharia de Produção",
          "Psicologia",
          "Enfermagem",
          "Nutrição",
          "Publicidade e Propaganda",
          "Farmácia",
          "Educação Física",
          "Análise e Desenvolvimento de Sistemas",
          "Administração",
          "Ciências Contábeis",
          "Estética",
          "Pedagogia",
          "Recursos Humanos"
         ],
         "xaxis": "x",
         "y": [
          0.7496866451901102,
          0.767142850425201,
          0.7433600210120798,
          0.7605766042824212,
          0.8091607021692939,
          0.8029275314950892,
          0.9560165663822677,
          0.7839846908428798,
          0.7202931650586312,
          0.7402936379235012,
          0.7269676196842623,
          0.7394007653040293,
          0.5519110338005465,
          0.606663916933559,
          0.7904807741427662,
          0.7012404752001294,
          0.8491023761081921,
          0.579217118597375,
          0.45310366346359504
         ],
         "yaxis": "y"
        },
        {
         "hoverlabel": {
          "namelength": 0
         },
         "hovertemplate": "state=SP<br>canonico=%{x}<br>relative_wtp=%{y}",
         "legendgroup": "state=SP",
         "marker": {
          "color": "#EF553B",
          "symbol": "circle"
         },
         "mode": "markers",
         "name": "state=SP",
         "showlegend": true,
         "type": "scatter",
         "x": [
          "Arquitetura e Urbanismo",
          "Engenharia Mecânica",
          "Engenharia Civil",
          "Biomedicina",
          "Direito",
          "Fisioterapia",
          "Engenharia de Produção",
          "Psicologia",
          "Enfermagem",
          "Nutrição",
          "Publicidade e Propaganda",
          "Farmácia",
          "Educação Física",
          "Análise e Desenvolvimento de Sistemas",
          "Administração",
          "Ciências Contábeis",
          "Estética",
          "Pedagogia",
          "Logística",
          "Recursos Humanos"
         ],
         "xaxis": "x",
         "y": [
          0.7945685566796754,
          0.7787904473889444,
          0.7876940785204913,
          0.7627979433425282,
          0.8230681086496532,
          0.7635352588059475,
          0.851864853875018,
          0.8361266508099229,
          0.7941171740454716,
          0.7521364868047744,
          0.8725957712108051,
          0.7949299247783189,
          0.7465953064924188,
          0.7947859728591711,
          0.860269497454909,
          0.867661073756561,
          0.9225079831747128,
          0.8307981763161402,
          0.8737175300397914,
          0.8218735564652236
         ],
         "yaxis": "y"
        },
        {
         "hoverlabel": {
          "namelength": 0
         },
         "hovertemplate": "state=SE<br>canonico=%{x}<br>relative_wtp=%{y}",
         "legendgroup": "state=SE",
         "marker": {
          "color": "#00cc96",
          "symbol": "circle"
         },
         "mode": "markers",
         "name": "state=SE",
         "showlegend": true,
         "type": "scatter",
         "x": [
          "Arquitetura e Urbanismo",
          "Engenharia Mecânica",
          "Engenharia Civil",
          "Biomedicina",
          "Direito",
          "Fisioterapia",
          "Engenharia de Produção",
          "Psicologia",
          "Enfermagem",
          "Nutrição",
          "Publicidade e Propaganda",
          "Farmácia",
          "Educação Física",
          "Análise e Desenvolvimento de Sistemas",
          "Administração",
          "Ciências Contábeis",
          "Estética",
          "Pedagogia",
          "Logística",
          "Recursos Humanos"
         ],
         "xaxis": "x",
         "y": [
          0.6287589165203755,
          0.5528242289519221,
          0.6230692253381247,
          0.6831059012292379,
          0.7360059718285028,
          0.6870711277858201,
          0.6331589183293459,
          0.6920906975390715,
          0.7160044301798981,
          0.6670920959548018,
          0.6685881299571388,
          0.7162768598804908,
          0.6106160853620027,
          0.7432017363115732,
          0.6500936655255034,
          0.6677833139420606,
          0.7654444544259198,
          0.6679985574874229,
          0.6096085045830755,
          0.666116156256055
         ],
         "yaxis": "y"
        },
        {
         "hoverlabel": {
          "namelength": 0
         },
         "hovertemplate": "state=SC<br>canonico=%{x}<br>relative_wtp=%{y}",
         "legendgroup": "state=SC",
         "marker": {
          "color": "#ab63fa",
          "symbol": "circle"
         },
         "mode": "markers",
         "name": "state=SC",
         "showlegend": true,
         "type": "scatter",
         "x": [
          "Arquitetura e Urbanismo",
          "Engenharia Mecânica",
          "Engenharia Civil",
          "Biomedicina",
          "Direito",
          "Fisioterapia",
          "Engenharia de Produção",
          "Psicologia",
          "Enfermagem",
          "Nutrição",
          "Publicidade e Propaganda",
          "Farmácia",
          "Educação Física",
          "Análise e Desenvolvimento de Sistemas",
          "Administração",
          "Ciências Contábeis",
          "Estética",
          "Pedagogia",
          "Logística",
          "Recursos Humanos"
         ],
         "xaxis": "x",
         "y": [
          0.8970721251830062,
          0.8915450638969746,
          0.8444079653918802,
          0.9328190481067511,
          0.8742486696748973,
          0.8913466320262544,
          0.821357801733506,
          0.9008131148697853,
          0.9037850032653256,
          0.8274152430111912,
          0.8552545960857928,
          0.930766125502597,
          0.7821847364887806,
          0.9493392609815324,
          0.856438362214842,
          0.9422552576835955,
          0.9533179976522458,
          0.8218263457915795,
          0.8699566583621684,
          0.8442638019862062
         ],
         "yaxis": "y"
        },
        {
         "hoverlabel": {
          "namelength": 0
         },
         "hovertemplate": "state=RS<br>canonico=%{x}<br>relative_wtp=%{y}",
         "legendgroup": "state=RS",
         "marker": {
          "color": "#FFA15A",
          "symbol": "circle"
         },
         "mode": "markers",
         "name": "state=RS",
         "showlegend": true,
         "type": "scatter",
         "x": [
          "Arquitetura e Urbanismo",
          "Engenharia Mecânica",
          "Engenharia Civil",
          "Biomedicina",
          "Direito",
          "Fisioterapia",
          "Engenharia de Produção",
          "Psicologia",
          "Enfermagem",
          "Nutrição",
          "Publicidade e Propaganda",
          "Farmácia",
          "Educação Física",
          "Análise e Desenvolvimento de Sistemas",
          "Administração",
          "Ciências Contábeis",
          "Estética",
          "Pedagogia",
          "Logística",
          "Recursos Humanos"
         ],
         "xaxis": "x",
         "y": [
          0.86911389501231,
          0.8335814497078641,
          0.8766367013354343,
          0.94134908214569,
          0.8807185340412,
          0.9479701818511024,
          0.8905417330044226,
          0.8874435349959133,
          0.8947541049488862,
          0.8679828519533306,
          0.9640128662678735,
          0.9269766629719144,
          0.8534268259214657,
          0.9727636382925233,
          0.9131686016830742,
          0.904658741959999,
          0.846064935232324,
          0.8713572972222591,
          0.941901300385744,
          0.8676102454997989
         ],
         "yaxis": "y"
        },
        {
         "hoverlabel": {
          "namelength": 0
         },
         "hovertemplate": "state=RR<br>canonico=%{x}<br>relative_wtp=%{y}",
         "legendgroup": "state=RR",
         "marker": {
          "color": "#19d3f3",
          "symbol": "circle"
         },
         "mode": "markers",
         "name": "state=RR",
         "showlegend": true,
         "type": "scatter",
         "x": [
          "Arquitetura e Urbanismo",
          "Engenharia Civil",
          "Biomedicina",
          "Direito",
          "Fisioterapia",
          "Psicologia",
          "Enfermagem",
          "Nutrição",
          "Farmácia",
          "Educação Física",
          "Administração",
          "Ciências Contábeis",
          "Pedagogia"
         ],
         "xaxis": "x",
         "y": [
          0.6504356448357895,
          0.7245805198131157,
          0.6321332323095175,
          0.6560942738375528,
          0.6358298790459556,
          0.575896073255426,
          0.6198856040450765,
          0.6043956684913102,
          0.6846211885944284,
          0.5590307572591315,
          0.4836485336621618,
          0.49811103420005737,
          0.5615892079115645
         ],
         "yaxis": "y"
        },
        {
         "hoverlabel": {
          "namelength": 0
         },
         "hovertemplate": "state=RO<br>canonico=%{x}<br>relative_wtp=%{y}",
         "legendgroup": "state=RO",
         "marker": {
          "color": "#FF6692",
          "symbol": "circle"
         },
         "mode": "markers",
         "name": "state=RO",
         "showlegend": true,
         "type": "scatter",
         "x": [
          "Arquitetura e Urbanismo",
          "Engenharia Mecânica",
          "Engenharia Civil",
          "Biomedicina",
          "Direito",
          "Fisioterapia",
          "Engenharia de Produção",
          "Psicologia",
          "Enfermagem",
          "Nutrição",
          "Publicidade e Propaganda",
          "Farmácia",
          "Educação Física",
          "Análise e Desenvolvimento de Sistemas",
          "Administração",
          "Ciências Contábeis",
          "Estética",
          "Pedagogia",
          "Logística",
          "Recursos Humanos"
         ],
         "xaxis": "x",
         "y": [
          0.7308250940356346,
          0.6788654257710053,
          0.8038218028931988,
          0.806006976069227,
          0.8847990544864766,
          0.8001680711192569,
          0.7220734980829177,
          0.7354935916692169,
          0.7751236391791381,
          0.7199313634300755,
          0.6686532920905515,
          0.8173358802380661,
          0.6486005250161578,
          0.7477306414559717,
          0.6958772318608012,
          0.681788252341862,
          0.7630150680515335,
          0.6509017789931958,
          0.6115348597742474,
          0.6978569847640878
         ],
         "yaxis": "y"
        },
        {
         "hoverlabel": {
          "namelength": 0
         },
         "hovertemplate": "state=RN<br>canonico=%{x}<br>relative_wtp=%{y}",
         "legendgroup": "state=RN",
         "marker": {
          "color": "#B6E880",
          "symbol": "circle"
         },
         "mode": "markers",
         "name": "state=RN",
         "showlegend": true,
         "type": "scatter",
         "x": [
          "Arquitetura e Urbanismo",
          "Engenharia Mecânica",
          "Engenharia Civil",
          "Biomedicina",
          "Direito",
          "Fisioterapia",
          "Engenharia de Produção",
          "Psicologia",
          "Enfermagem",
          "Nutrição",
          "Publicidade e Propaganda",
          "Farmácia",
          "Educação Física",
          "Análise e Desenvolvimento de Sistemas",
          "Administração",
          "Ciências Contábeis",
          "Estética",
          "Pedagogia",
          "Logística",
          "Recursos Humanos"
         ],
         "xaxis": "x",
         "y": [
          0.6282837420393096,
          0.7377697276109679,
          0.6832631033486277,
          0.7114568862264634,
          0.7307345438108854,
          0.6996569813351955,
          0.7129800981521494,
          0.7010960431330927,
          0.6580514829241899,
          0.6585361274275799,
          0.660978765379482,
          0.7860756556594761,
          0.648897078603135,
          0.6217104392961011,
          0.6148392954417432,
          0.6493745340767483,
          0.699628015588248,
          0.6360258472872117,
          0.6631809341561907,
          0.6341409181992805
         ],
         "yaxis": "y"
        },
        {
         "hoverlabel": {
          "namelength": 0
         },
         "hovertemplate": "state=RJ<br>canonico=%{x}<br>relative_wtp=%{y}",
         "legendgroup": "state=RJ",
         "marker": {
          "color": "#FF97FF",
          "symbol": "circle"
         },
         "mode": "markers",
         "name": "state=RJ",
         "showlegend": true,
         "type": "scatter",
         "x": [
          "Arquitetura e Urbanismo",
          "Engenharia Mecânica",
          "Engenharia Civil",
          "Biomedicina",
          "Direito",
          "Fisioterapia",
          "Engenharia de Produção",
          "Psicologia",
          "Enfermagem",
          "Nutrição",
          "Publicidade e Propaganda",
          "Farmácia",
          "Educação Física",
          "Análise e Desenvolvimento de Sistemas",
          "Administração",
          "Ciências Contábeis",
          "Estética",
          "Pedagogia",
          "Logística",
          "Recursos Humanos"
         ],
         "xaxis": "x",
         "y": [
          0.8978067192402945,
          0.8206027960096647,
          0.8393598161981856,
          0.8405030251967358,
          0.8555473244570938,
          0.8369237189879927,
          0.8889761740850526,
          0.9029279757378603,
          0.8833692955019538,
          0.8676233377617424,
          1,
          0.8895804274590603,
          0.821177263273443,
          0.951836741898309,
          0.912828038876453,
          0.9091518267904319,
          0.9255610382944861,
          0.9314420755992352,
          0.9323169912890158,
          0.9376657978882366
         ],
         "yaxis": "y"
        },
        {
         "hoverlabel": {
          "namelength": 0
         },
         "hovertemplate": "state=PR<br>canonico=%{x}<br>relative_wtp=%{y}",
         "legendgroup": "state=PR",
         "marker": {
          "color": "#FECB52",
          "symbol": "circle"
         },
         "mode": "markers",
         "name": "state=PR",
         "showlegend": true,
         "type": "scatter",
         "x": [
          "Arquitetura e Urbanismo",
          "Engenharia Mecânica",
          "Engenharia Civil",
          "Biomedicina",
          "Direito",
          "Fisioterapia",
          "Engenharia de Produção",
          "Psicologia",
          "Enfermagem",
          "Nutrição",
          "Publicidade e Propaganda",
          "Farmácia",
          "Educação Física",
          "Análise e Desenvolvimento de Sistemas",
          "Administração",
          "Ciências Contábeis",
          "Estética",
          "Pedagogia",
          "Logística",
          "Recursos Humanos"
         ],
         "xaxis": "x",
         "y": [
          1,
          1,
          1,
          1,
          0.9725350861141389,
          1,
          1,
          1,
          1,
          1,
          0.9967716958803249,
          1,
          1,
          1,
          1,
          1,
          1,
          1,
          1,
          1
         ],
         "yaxis": "y"
        },
        {
         "hoverlabel": {
          "namelength": 0
         },
         "hovertemplate": "state=PI<br>canonico=%{x}<br>relative_wtp=%{y}",
         "legendgroup": "state=PI",
         "marker": {
          "color": "#636efa",
          "symbol": "circle"
         },
         "mode": "markers",
         "name": "state=PI",
         "showlegend": true,
         "type": "scatter",
         "x": [
          "Arquitetura e Urbanismo",
          "Engenharia Mecânica",
          "Engenharia Civil",
          "Biomedicina",
          "Direito",
          "Fisioterapia",
          "Engenharia de Produção",
          "Psicologia",
          "Enfermagem",
          "Nutrição",
          "Publicidade e Propaganda",
          "Farmácia",
          "Educação Física",
          "Análise e Desenvolvimento de Sistemas",
          "Administração",
          "Ciências Contábeis",
          "Estética",
          "Pedagogia",
          "Logística",
          "Recursos Humanos"
         ],
         "xaxis": "x",
         "y": [
          0.7159563759821548,
          0.6702006020825652,
          0.7487333532702959,
          0.7454728642139389,
          0.6940099974384111,
          0.7079740714910938,
          0.6939174230493788,
          0.6749680125506208,
          0.7314295451579842,
          0.6601170725410421,
          0.6610100342848657,
          0.7678869589248852,
          0.6096251664295943,
          0.779328250009607,
          0.68763148457462,
          0.7083074620641698,
          0.8111939338070144,
          0.6374905181335426,
          0.7006664523049967,
          0.757701501157905
         ],
         "yaxis": "y"
        },
        {
         "hoverlabel": {
          "namelength": 0
         },
         "hovertemplate": "state=PE<br>canonico=%{x}<br>relative_wtp=%{y}",
         "legendgroup": "state=PE",
         "marker": {
          "color": "#EF553B",
          "symbol": "circle"
         },
         "mode": "markers",
         "name": "state=PE",
         "showlegend": true,
         "type": "scatter",
         "x": [
          "Arquitetura e Urbanismo",
          "Engenharia Mecânica",
          "Engenharia Civil",
          "Biomedicina",
          "Direito",
          "Fisioterapia",
          "Engenharia de Produção",
          "Psicologia",
          "Enfermagem",
          "Nutrição",
          "Publicidade e Propaganda",
          "Farmácia",
          "Educação Física",
          "Análise e Desenvolvimento de Sistemas",
          "Administração",
          "Ciências Contábeis",
          "Estética",
          "Pedagogia",
          "Logística",
          "Recursos Humanos"
         ],
         "xaxis": "x",
         "y": [
          0.6315150254928122,
          0.6127275789136825,
          0.6374852052429046,
          0.6790924484825228,
          0.742670462100352,
          0.656343259083456,
          0.6753761703801164,
          0.6535932673859172,
          0.6539216195779199,
          0.6502349947684509,
          0.6918633476074556,
          0.7133590827023505,
          0.6286097979511039,
          0.7660250229676905,
          0.6634573758718376,
          0.6825661326289858,
          0.7066292241237453,
          0.6399644274913932,
          0.6854451928736782,
          0.6361711711865037
         ],
         "yaxis": "y"
        },
        {
         "hoverlabel": {
          "namelength": 0
         },
         "hovertemplate": "state=PB<br>canonico=%{x}<br>relative_wtp=%{y}",
         "legendgroup": "state=PB",
         "marker": {
          "color": "#00cc96",
          "symbol": "circle"
         },
         "mode": "markers",
         "name": "state=PB",
         "showlegend": true,
         "type": "scatter",
         "x": [
          "Arquitetura e Urbanismo",
          "Engenharia Mecânica",
          "Engenharia Civil",
          "Biomedicina",
          "Direito",
          "Fisioterapia",
          "Engenharia de Produção",
          "Psicologia",
          "Enfermagem",
          "Nutrição",
          "Publicidade e Propaganda",
          "Farmácia",
          "Educação Física",
          "Análise e Desenvolvimento de Sistemas",
          "Administração",
          "Ciências Contábeis",
          "Estética",
          "Pedagogia",
          "Logística",
          "Recursos Humanos"
         ],
         "xaxis": "x",
         "y": [
          0.6414812540568317,
          0.6405707171547185,
          0.6632639252772491,
          0.6362993525926492,
          0.7254430354782974,
          0.6674030259680763,
          0.7320548904334738,
          0.6638674730925361,
          0.644847513672807,
          0.6249635080806586,
          0.6331281985117538,
          0.6889294988518179,
          0.6787358443841145,
          0.6804273165787845,
          0.6590055612699447,
          0.6908741158540164,
          0.7027494266400414,
          0.6506275517646727,
          0.8301641991773467,
          0.6383115988965933
         ],
         "yaxis": "y"
        },
        {
         "hoverlabel": {
          "namelength": 0
         },
         "hovertemplate": "state=PA<br>canonico=%{x}<br>relative_wtp=%{y}",
         "legendgroup": "state=PA",
         "marker": {
          "color": "#ab63fa",
          "symbol": "circle"
         },
         "mode": "markers",
         "name": "state=PA",
         "showlegend": true,
         "type": "scatter",
         "x": [
          "Arquitetura e Urbanismo",
          "Engenharia Mecânica",
          "Engenharia Civil",
          "Biomedicina",
          "Direito",
          "Fisioterapia",
          "Engenharia de Produção",
          "Psicologia",
          "Enfermagem",
          "Nutrição",
          "Publicidade e Propaganda",
          "Farmácia",
          "Educação Física",
          "Análise e Desenvolvimento de Sistemas",
          "Administração",
          "Ciências Contábeis",
          "Estética",
          "Pedagogia",
          "Logística",
          "Recursos Humanos"
         ],
         "xaxis": "x",
         "y": [
          0.7316897884100093,
          0.7105790990160098,
          0.7311393014409713,
          0.8037825323935135,
          0.8754558478567926,
          0.800732583252201,
          0.7389464968787417,
          0.7909391272880295,
          0.7788367528854702,
          0.7312418248445739,
          0.743853881954575,
          0.7517023145467724,
          0.6952295744045617,
          0.7043638418390461,
          0.7440303504386765,
          0.7698805194535135,
          0.7667351117088425,
          0.6943498241078041,
          0.7140669363047635,
          0.7171348197739685
         ],
         "yaxis": "y"
        },
        {
         "hoverlabel": {
          "namelength": 0
         },
         "hovertemplate": "state=MT<br>canonico=%{x}<br>relative_wtp=%{y}",
         "legendgroup": "state=MT",
         "marker": {
          "color": "#FFA15A",
          "symbol": "circle"
         },
         "mode": "markers",
         "name": "state=MT",
         "showlegend": true,
         "type": "scatter",
         "x": [
          "Arquitetura e Urbanismo",
          "Engenharia Mecânica",
          "Engenharia Civil",
          "Biomedicina",
          "Direito",
          "Fisioterapia",
          "Engenharia de Produção",
          "Psicologia",
          "Enfermagem",
          "Nutrição",
          "Publicidade e Propaganda",
          "Farmácia",
          "Educação Física",
          "Análise e Desenvolvimento de Sistemas",
          "Administração",
          "Ciências Contábeis",
          "Estética",
          "Pedagogia",
          "Logística",
          "Recursos Humanos"
         ],
         "xaxis": "x",
         "y": [
          0.7988938441913572,
          0.7767021151247978,
          0.8142232693515096,
          0.7968787422170426,
          0.8031386263096452,
          0.7593824855582336,
          0.7663582145649903,
          0.7964281550595753,
          0.7897479407156889,
          0.7391480653140907,
          0.7492736377821639,
          0.8466676879446892,
          0.7332615611251133,
          0.7361613386209982,
          0.8126099394427301,
          0.7904071041776236,
          0.8103765081391533,
          0.7470930656480393,
          0.8823751921082262,
          0.789298305177279
         ],
         "yaxis": "y"
        },
        {
         "hoverlabel": {
          "namelength": 0
         },
         "hovertemplate": "state=MS<br>canonico=%{x}<br>relative_wtp=%{y}",
         "legendgroup": "state=MS",
         "marker": {
          "color": "#19d3f3",
          "symbol": "circle"
         },
         "mode": "markers",
         "name": "state=MS",
         "showlegend": true,
         "type": "scatter",
         "x": [
          "Arquitetura e Urbanismo",
          "Engenharia Mecânica",
          "Engenharia Civil",
          "Biomedicina",
          "Direito",
          "Fisioterapia",
          "Engenharia de Produção",
          "Psicologia",
          "Enfermagem",
          "Nutrição",
          "Publicidade e Propaganda",
          "Farmácia",
          "Educação Física",
          "Análise e Desenvolvimento de Sistemas",
          "Administração",
          "Ciências Contábeis",
          "Estética",
          "Pedagogia",
          "Logística",
          "Recursos Humanos"
         ],
         "xaxis": "x",
         "y": [
          0.7409477947311419,
          0.7616452047150817,
          0.8923001172121423,
          0.8207369845741821,
          0.8000500226481961,
          0.8065529551148748,
          0.7710997979718903,
          0.8447503845006203,
          0.7695365352279121,
          0.7419881008714682,
          0.7266691562387056,
          0.7664585821865559,
          0.7150947384332,
          0.8071623340299744,
          0.7842812374788052,
          0.7815385181295349,
          0.7969794950320711,
          0.8165943984579022,
          0.6768084519227476,
          0.6638097285005713
         ],
         "yaxis": "y"
        },
        {
         "hoverlabel": {
          "namelength": 0
         },
         "hovertemplate": "state=MG<br>canonico=%{x}<br>relative_wtp=%{y}",
         "legendgroup": "state=MG",
         "marker": {
          "color": "#FF6692",
          "symbol": "circle"
         },
         "mode": "markers",
         "name": "state=MG",
         "showlegend": true,
         "type": "scatter",
         "x": [
          "Arquitetura e Urbanismo",
          "Engenharia Mecânica",
          "Engenharia Civil",
          "Biomedicina",
          "Direito",
          "Fisioterapia",
          "Engenharia de Produção",
          "Psicologia",
          "Enfermagem",
          "Nutrição",
          "Publicidade e Propaganda",
          "Farmácia",
          "Educação Física",
          "Análise e Desenvolvimento de Sistemas",
          "Administração",
          "Ciências Contábeis",
          "Estética",
          "Pedagogia",
          "Logística",
          "Recursos Humanos"
         ],
         "xaxis": "x",
         "y": [
          0.8402443462866487,
          0.7879301642576046,
          0.8145306101582291,
          0.8868574255915528,
          0.8759143970393968,
          0.8978728217574362,
          0.8509373423472983,
          0.8540977724793226,
          0.8557587662401083,
          0.8253115857193456,
          0.9065207786356363,
          0.8914678400435749,
          0.8379901951505293,
          0.9424018902731588,
          0.9491810501651141,
          0.969300686929643,
          0.9451315289675272,
          0.9248355695484198,
          0.9696230413868142,
          0.9196555600254254
         ],
         "yaxis": "y"
        },
        {
         "hoverlabel": {
          "namelength": 0
         },
         "hovertemplate": "state=MA<br>canonico=%{x}<br>relative_wtp=%{y}",
         "legendgroup": "state=MA",
         "marker": {
          "color": "#B6E880",
          "symbol": "circle"
         },
         "mode": "markers",
         "name": "state=MA",
         "showlegend": true,
         "type": "scatter",
         "x": [
          "Arquitetura e Urbanismo",
          "Engenharia Mecânica",
          "Engenharia Civil",
          "Biomedicina",
          "Direito",
          "Fisioterapia",
          "Engenharia de Produção",
          "Psicologia",
          "Enfermagem",
          "Nutrição",
          "Publicidade e Propaganda",
          "Farmácia",
          "Educação Física",
          "Análise e Desenvolvimento de Sistemas",
          "Administração",
          "Ciências Contábeis",
          "Estética",
          "Pedagogia",
          "Logística",
          "Recursos Humanos"
         ],
         "xaxis": "x",
         "y": [
          0.7822513844200917,
          0.7106100997279499,
          0.7076199346304386,
          0.7707382857300155,
          0.8513072685780978,
          0.7781981624970973,
          0.7850131405244988,
          0.7837326566306092,
          0.7411674603165039,
          0.7077708468376659,
          0.6764437978709776,
          0.775291728308895,
          0.6783809269119078,
          0.6809053325069331,
          0.7003407846404116,
          0.760868389446378,
          0.8222660663024831,
          0.7276317438352035,
          0.6894252821660297,
          0.65792941105688
         ],
         "yaxis": "y"
        },
        {
         "hoverlabel": {
          "namelength": 0
         },
         "hovertemplate": "state=GO<br>canonico=%{x}<br>relative_wtp=%{y}",
         "legendgroup": "state=GO",
         "marker": {
          "color": "#FF97FF",
          "symbol": "circle"
         },
         "mode": "markers",
         "name": "state=GO",
         "showlegend": true,
         "type": "scatter",
         "x": [
          "Arquitetura e Urbanismo",
          "Engenharia Mecânica",
          "Engenharia Civil",
          "Biomedicina",
          "Direito",
          "Fisioterapia",
          "Engenharia de Produção",
          "Psicologia",
          "Enfermagem",
          "Nutrição",
          "Publicidade e Propaganda",
          "Farmácia",
          "Educação Física",
          "Análise e Desenvolvimento de Sistemas",
          "Administração",
          "Ciências Contábeis",
          "Estética",
          "Pedagogia",
          "Logística",
          "Recursos Humanos"
         ],
         "xaxis": "x",
         "y": [
          0.6993236740988086,
          0.6846363170062739,
          0.708380182037355,
          0.7566965581904169,
          0.7330490272745541,
          0.7076586078785925,
          0.7788556233765498,
          0.7662511281363403,
          0.7183156611832971,
          0.7760765331063029,
          0.7639050594186582,
          0.74459981565107,
          0.6791710360696691,
          0.6943492124616436,
          0.719773404022348,
          0.7046840126750529,
          0.7805332110459233,
          0.7336376152189671,
          0.7320128018597039,
          0.6940394752733037
         ],
         "yaxis": "y"
        },
        {
         "hoverlabel": {
          "namelength": 0
         },
         "hovertemplate": "state=ES<br>canonico=%{x}<br>relative_wtp=%{y}",
         "legendgroup": "state=ES",
         "marker": {
          "color": "#FECB52",
          "symbol": "circle"
         },
         "mode": "markers",
         "name": "state=ES",
         "showlegend": true,
         "type": "scatter",
         "x": [
          "Arquitetura e Urbanismo",
          "Engenharia Mecânica",
          "Engenharia Civil",
          "Biomedicina",
          "Direito",
          "Fisioterapia",
          "Engenharia de Produção",
          "Psicologia",
          "Enfermagem",
          "Nutrição",
          "Publicidade e Propaganda",
          "Farmácia",
          "Educação Física",
          "Análise e Desenvolvimento de Sistemas",
          "Administração",
          "Ciências Contábeis",
          "Estética",
          "Pedagogia",
          "Logística",
          "Recursos Humanos"
         ],
         "xaxis": "x",
         "y": [
          0.7715754969252959,
          0.7723442840736608,
          0.8269918275772189,
          0.7497146507139734,
          0.8224227431105188,
          0.8386172323732235,
          0.8194772849995556,
          0.8260645452083786,
          0.7953698758582286,
          0.8182020405398855,
          0.8516167274809602,
          0.7847334540263128,
          0.8066212386639587,
          0.7809601287580367,
          0.8003678583196817,
          0.8446688906220284,
          0.8620649412738565,
          0.8057382977672833,
          0.9888295657635231,
          0.7714159032714448
         ],
         "yaxis": "y"
        },
        {
         "hoverlabel": {
          "namelength": 0
         },
         "hovertemplate": "state=DF<br>canonico=%{x}<br>relative_wtp=%{y}",
         "legendgroup": "state=DF",
         "marker": {
          "color": "#636efa",
          "symbol": "circle"
         },
         "mode": "markers",
         "name": "state=DF",
         "showlegend": true,
         "type": "scatter",
         "x": [
          "Arquitetura e Urbanismo",
          "Engenharia Mecânica",
          "Engenharia Civil",
          "Biomedicina",
          "Direito",
          "Fisioterapia",
          "Engenharia de Produção",
          "Psicologia",
          "Enfermagem",
          "Nutrição",
          "Publicidade e Propaganda",
          "Farmácia",
          "Educação Física",
          "Análise e Desenvolvimento de Sistemas",
          "Administração",
          "Ciências Contábeis",
          "Estética",
          "Pedagogia",
          "Logística",
          "Recursos Humanos"
         ],
         "xaxis": "x",
         "y": [
          0.827372394186789,
          0.8194042211065244,
          0.8932446558881045,
          0.8355174070436386,
          1,
          0.8650926043230698,
          0.870928060119683,
          0.9709938084934128,
          0.8960400795473817,
          0.8862946199942654,
          0.8752951166335353,
          0.9089960419212119,
          0.8368573057569394,
          0.8309791627635147,
          0.8749783398124447,
          0.8935302247660873,
          0.8756297065052684,
          0.9306450802825186,
          0.9130216926407221,
          0.8615373040151547
         ],
         "yaxis": "y"
        },
        {
         "hoverlabel": {
          "namelength": 0
         },
         "hovertemplate": "state=CE<br>canonico=%{x}<br>relative_wtp=%{y}",
         "legendgroup": "state=CE",
         "marker": {
          "color": "#EF553B",
          "symbol": "circle"
         },
         "mode": "markers",
         "name": "state=CE",
         "showlegend": true,
         "type": "scatter",
         "x": [
          "Arquitetura e Urbanismo",
          "Engenharia Mecânica",
          "Engenharia Civil",
          "Biomedicina",
          "Direito",
          "Fisioterapia",
          "Engenharia de Produção",
          "Psicologia",
          "Enfermagem",
          "Nutrição",
          "Publicidade e Propaganda",
          "Farmácia",
          "Educação Física",
          "Análise e Desenvolvimento de Sistemas",
          "Administração",
          "Ciências Contábeis",
          "Estética",
          "Pedagogia",
          "Logística",
          "Recursos Humanos"
         ],
         "xaxis": "x",
         "y": [
          0.7702388575816356,
          0.7087876808136482,
          0.7808122151557154,
          0.733141872459785,
          0.8226512697989066,
          0.7405906278152387,
          0.7301892690712768,
          0.7717405652206307,
          0.7650474312310603,
          0.7949011352485971,
          0.7417830335241807,
          0.804022078863564,
          0.6674674083300852,
          0.6919522600813798,
          0.7245681519424151,
          0.7425297492752141,
          0.8331099183455686,
          0.713893463200113,
          0.7624612136460055,
          0.7471304902466458
         ],
         "yaxis": "y"
        },
        {
         "hoverlabel": {
          "namelength": 0
         },
         "hovertemplate": "state=BA<br>canonico=%{x}<br>relative_wtp=%{y}",
         "legendgroup": "state=BA",
         "marker": {
          "color": "#00cc96",
          "symbol": "circle"
         },
         "mode": "markers",
         "name": "state=BA",
         "showlegend": true,
         "type": "scatter",
         "x": [
          "Arquitetura e Urbanismo",
          "Engenharia Mecânica",
          "Engenharia Civil",
          "Biomedicina",
          "Direito",
          "Fisioterapia",
          "Engenharia de Produção",
          "Psicologia",
          "Enfermagem",
          "Nutrição",
          "Publicidade e Propaganda",
          "Farmácia",
          "Educação Física",
          "Análise e Desenvolvimento de Sistemas",
          "Administração",
          "Ciências Contábeis",
          "Estética",
          "Pedagogia",
          "Logística",
          "Recursos Humanos"
         ],
         "xaxis": "x",
         "y": [
          0.7261886888145626,
          0.6767126777150729,
          0.7310799340560251,
          0.762694372205009,
          0.8249753917363358,
          0.74008197703569,
          0.7718406948205476,
          0.7461868318109556,
          0.7720192537778033,
          0.7094069831505718,
          0.7549300894138671,
          0.7704110767384803,
          0.693313502738673,
          0.7577413987020565,
          0.7625997206326645,
          0.7535193676678469,
          0.7603153001188434,
          0.7360403230975281,
          0.833156938957397,
          0.7480672816428243
         ],
         "yaxis": "y"
        },
        {
         "hoverlabel": {
          "namelength": 0
         },
         "hovertemplate": "state=AP<br>canonico=%{x}<br>relative_wtp=%{y}",
         "legendgroup": "state=AP",
         "marker": {
          "color": "#ab63fa",
          "symbol": "circle"
         },
         "mode": "markers",
         "name": "state=AP",
         "showlegend": true,
         "type": "scatter",
         "x": [
          "Arquitetura e Urbanismo",
          "Engenharia Mecânica",
          "Engenharia Civil",
          "Biomedicina",
          "Direito",
          "Fisioterapia",
          "Psicologia",
          "Enfermagem",
          "Nutrição",
          "Publicidade e Propaganda",
          "Farmácia",
          "Educação Física",
          "Administração",
          "Ciências Contábeis",
          "Pedagogia",
          "Recursos Humanos"
         ],
         "xaxis": "x",
         "y": [
          0.6371708030281443,
          0.7103875779996366,
          0.5535612511367899,
          0.6756205902527277,
          0.7341075582660234,
          0.7123372955812858,
          0.6691405001488466,
          0.6685691708758472,
          0.6993002388074976,
          0.641268428240468,
          0.7004109183464184,
          0.48611318569124523,
          0.5550024456155097,
          0.6033072335710666,
          0.5844039257587422,
          0.6223766204177259
         ],
         "yaxis": "y"
        },
        {
         "hoverlabel": {
          "namelength": 0
         },
         "hovertemplate": "state=AM<br>canonico=%{x}<br>relative_wtp=%{y}",
         "legendgroup": "state=AM",
         "marker": {
          "color": "#FFA15A",
          "symbol": "circle"
         },
         "mode": "markers",
         "name": "state=AM",
         "showlegend": true,
         "type": "scatter",
         "x": [
          "Arquitetura e Urbanismo",
          "Engenharia Mecânica",
          "Engenharia Civil",
          "Biomedicina",
          "Direito",
          "Fisioterapia",
          "Engenharia de Produção",
          "Psicologia",
          "Enfermagem",
          "Nutrição",
          "Publicidade e Propaganda",
          "Farmácia",
          "Educação Física",
          "Análise e Desenvolvimento de Sistemas",
          "Administração",
          "Ciências Contábeis",
          "Estética",
          "Pedagogia",
          "Logística",
          "Recursos Humanos"
         ],
         "xaxis": "x",
         "y": [
          0.6106154749302927,
          0.5770724120354324,
          0.6333091011614609,
          0.5901837722427047,
          0.9054193281144188,
          0.6798852084805245,
          0.6540077548525666,
          0.6462141659334045,
          0.7083105672004648,
          0.6359899097821614,
          0.6606416119543671,
          0.6425238034202488,
          0.655589505184296,
          0.7267349322057298,
          0.6996960889990046,
          0.7110496169860041,
          0.6942774404904258,
          0.6971249429974048,
          0.7022079272763955,
          0.6716936914073243
         ],
         "yaxis": "y"
        },
        {
         "hoverlabel": {
          "namelength": 0
         },
         "hovertemplate": "state=AL<br>canonico=%{x}<br>relative_wtp=%{y}",
         "legendgroup": "state=AL",
         "marker": {
          "color": "#19d3f3",
          "symbol": "circle"
         },
         "mode": "markers",
         "name": "state=AL",
         "showlegend": true,
         "type": "scatter",
         "x": [
          "Arquitetura e Urbanismo",
          "Engenharia Mecânica",
          "Engenharia Civil",
          "Biomedicina",
          "Direito",
          "Fisioterapia",
          "Engenharia de Produção",
          "Psicologia",
          "Enfermagem",
          "Nutrição",
          "Publicidade e Propaganda",
          "Farmácia",
          "Educação Física",
          "Análise e Desenvolvimento de Sistemas",
          "Administração",
          "Ciências Contábeis",
          "Estética",
          "Pedagogia",
          "Logística",
          "Recursos Humanos"
         ],
         "xaxis": "x",
         "y": [
          0.6285413971340095,
          0.5370853681821209,
          0.6389850579666071,
          0.6519750079597062,
          0.6442701596544145,
          0.6766324385568039,
          0.6109090770009907,
          0.6056987145189346,
          0.6891009901657869,
          0.6594592626277965,
          0.6141985113951431,
          0.6122940350021585,
          0.6001960344622201,
          0.6227255428505301,
          0.7289466337994714,
          0.6523651078389427,
          0.7226867559758618,
          0.6321629003574928,
          0.699652329634719,
          0.6896949094764422
         ],
         "yaxis": "y"
        },
        {
         "hoverlabel": {
          "namelength": 0
         },
         "hovertemplate": "state=AC<br>canonico=%{x}<br>relative_wtp=%{y}",
         "legendgroup": "state=AC",
         "marker": {
          "color": "#FF6692",
          "symbol": "circle"
         },
         "mode": "markers",
         "name": "state=AC",
         "showlegend": true,
         "type": "scatter",
         "x": [
          "Arquitetura e Urbanismo",
          "Engenharia Civil",
          "Biomedicina",
          "Direito",
          "Fisioterapia",
          "Psicologia",
          "Enfermagem",
          "Nutrição",
          "Farmácia",
          "Educação Física",
          "Análise e Desenvolvimento de Sistemas",
          "Administração",
          "Ciências Contábeis",
          "Estética",
          "Pedagogia",
          "Recursos Humanos"
         ],
         "xaxis": "x",
         "y": [
          0.688532841154612,
          0.7811256464473415,
          0.5818110286837672,
          0.7720638033289986,
          0.6521945268450116,
          0.6981891437922868,
          0.6621477353287291,
          0.6790875930843072,
          0.6711165652290618,
          0.5449673658770747,
          0.7022820290004229,
          0.5656940581649882,
          0.6345475471140494,
          0.7008252256910348,
          0.5529978808232069,
          0.48618439425259086
         ],
         "yaxis": "y"
        }
       ],
       "layout": {
        "height": 600,
        "legend": {
         "tracegroupgap": 0
        },
        "margin": {
         "t": 60
        },
        "template": {
         "data": {
          "bar": [
           {
            "error_x": {
             "color": "#2a3f5f"
            },
            "error_y": {
             "color": "#2a3f5f"
            },
            "marker": {
             "line": {
              "color": "#E5ECF6",
              "width": 0.5
             }
            },
            "type": "bar"
           }
          ],
          "barpolar": [
           {
            "marker": {
             "line": {
              "color": "#E5ECF6",
              "width": 0.5
             }
            },
            "type": "barpolar"
           }
          ],
          "carpet": [
           {
            "aaxis": {
             "endlinecolor": "#2a3f5f",
             "gridcolor": "white",
             "linecolor": "white",
             "minorgridcolor": "white",
             "startlinecolor": "#2a3f5f"
            },
            "baxis": {
             "endlinecolor": "#2a3f5f",
             "gridcolor": "white",
             "linecolor": "white",
             "minorgridcolor": "white",
             "startlinecolor": "#2a3f5f"
            },
            "type": "carpet"
           }
          ],
          "choropleth": [
           {
            "colorbar": {
             "outlinewidth": 0,
             "ticks": ""
            },
            "type": "choropleth"
           }
          ],
          "contour": [
           {
            "colorbar": {
             "outlinewidth": 0,
             "ticks": ""
            },
            "colorscale": [
             [
              0,
              "#0d0887"
             ],
             [
              0.1111111111111111,
              "#46039f"
             ],
             [
              0.2222222222222222,
              "#7201a8"
             ],
             [
              0.3333333333333333,
              "#9c179e"
             ],
             [
              0.4444444444444444,
              "#bd3786"
             ],
             [
              0.5555555555555556,
              "#d8576b"
             ],
             [
              0.6666666666666666,
              "#ed7953"
             ],
             [
              0.7777777777777778,
              "#fb9f3a"
             ],
             [
              0.8888888888888888,
              "#fdca26"
             ],
             [
              1,
              "#f0f921"
             ]
            ],
            "type": "contour"
           }
          ],
          "contourcarpet": [
           {
            "colorbar": {
             "outlinewidth": 0,
             "ticks": ""
            },
            "type": "contourcarpet"
           }
          ],
          "heatmap": [
           {
            "colorbar": {
             "outlinewidth": 0,
             "ticks": ""
            },
            "colorscale": [
             [
              0,
              "#0d0887"
             ],
             [
              0.1111111111111111,
              "#46039f"
             ],
             [
              0.2222222222222222,
              "#7201a8"
             ],
             [
              0.3333333333333333,
              "#9c179e"
             ],
             [
              0.4444444444444444,
              "#bd3786"
             ],
             [
              0.5555555555555556,
              "#d8576b"
             ],
             [
              0.6666666666666666,
              "#ed7953"
             ],
             [
              0.7777777777777778,
              "#fb9f3a"
             ],
             [
              0.8888888888888888,
              "#fdca26"
             ],
             [
              1,
              "#f0f921"
             ]
            ],
            "type": "heatmap"
           }
          ],
          "heatmapgl": [
           {
            "colorbar": {
             "outlinewidth": 0,
             "ticks": ""
            },
            "colorscale": [
             [
              0,
              "#0d0887"
             ],
             [
              0.1111111111111111,
              "#46039f"
             ],
             [
              0.2222222222222222,
              "#7201a8"
             ],
             [
              0.3333333333333333,
              "#9c179e"
             ],
             [
              0.4444444444444444,
              "#bd3786"
             ],
             [
              0.5555555555555556,
              "#d8576b"
             ],
             [
              0.6666666666666666,
              "#ed7953"
             ],
             [
              0.7777777777777778,
              "#fb9f3a"
             ],
             [
              0.8888888888888888,
              "#fdca26"
             ],
             [
              1,
              "#f0f921"
             ]
            ],
            "type": "heatmapgl"
           }
          ],
          "histogram": [
           {
            "marker": {
             "colorbar": {
              "outlinewidth": 0,
              "ticks": ""
             }
            },
            "type": "histogram"
           }
          ],
          "histogram2d": [
           {
            "colorbar": {
             "outlinewidth": 0,
             "ticks": ""
            },
            "colorscale": [
             [
              0,
              "#0d0887"
             ],
             [
              0.1111111111111111,
              "#46039f"
             ],
             [
              0.2222222222222222,
              "#7201a8"
             ],
             [
              0.3333333333333333,
              "#9c179e"
             ],
             [
              0.4444444444444444,
              "#bd3786"
             ],
             [
              0.5555555555555556,
              "#d8576b"
             ],
             [
              0.6666666666666666,
              "#ed7953"
             ],
             [
              0.7777777777777778,
              "#fb9f3a"
             ],
             [
              0.8888888888888888,
              "#fdca26"
             ],
             [
              1,
              "#f0f921"
             ]
            ],
            "type": "histogram2d"
           }
          ],
          "histogram2dcontour": [
           {
            "colorbar": {
             "outlinewidth": 0,
             "ticks": ""
            },
            "colorscale": [
             [
              0,
              "#0d0887"
             ],
             [
              0.1111111111111111,
              "#46039f"
             ],
             [
              0.2222222222222222,
              "#7201a8"
             ],
             [
              0.3333333333333333,
              "#9c179e"
             ],
             [
              0.4444444444444444,
              "#bd3786"
             ],
             [
              0.5555555555555556,
              "#d8576b"
             ],
             [
              0.6666666666666666,
              "#ed7953"
             ],
             [
              0.7777777777777778,
              "#fb9f3a"
             ],
             [
              0.8888888888888888,
              "#fdca26"
             ],
             [
              1,
              "#f0f921"
             ]
            ],
            "type": "histogram2dcontour"
           }
          ],
          "mesh3d": [
           {
            "colorbar": {
             "outlinewidth": 0,
             "ticks": ""
            },
            "type": "mesh3d"
           }
          ],
          "parcoords": [
           {
            "line": {
             "colorbar": {
              "outlinewidth": 0,
              "ticks": ""
             }
            },
            "type": "parcoords"
           }
          ],
          "scatter": [
           {
            "marker": {
             "colorbar": {
              "outlinewidth": 0,
              "ticks": ""
             }
            },
            "type": "scatter"
           }
          ],
          "scatter3d": [
           {
            "line": {
             "colorbar": {
              "outlinewidth": 0,
              "ticks": ""
             }
            },
            "marker": {
             "colorbar": {
              "outlinewidth": 0,
              "ticks": ""
             }
            },
            "type": "scatter3d"
           }
          ],
          "scattercarpet": [
           {
            "marker": {
             "colorbar": {
              "outlinewidth": 0,
              "ticks": ""
             }
            },
            "type": "scattercarpet"
           }
          ],
          "scattergeo": [
           {
            "marker": {
             "colorbar": {
              "outlinewidth": 0,
              "ticks": ""
             }
            },
            "type": "scattergeo"
           }
          ],
          "scattergl": [
           {
            "marker": {
             "colorbar": {
              "outlinewidth": 0,
              "ticks": ""
             }
            },
            "type": "scattergl"
           }
          ],
          "scattermapbox": [
           {
            "marker": {
             "colorbar": {
              "outlinewidth": 0,
              "ticks": ""
             }
            },
            "type": "scattermapbox"
           }
          ],
          "scatterpolar": [
           {
            "marker": {
             "colorbar": {
              "outlinewidth": 0,
              "ticks": ""
             }
            },
            "type": "scatterpolar"
           }
          ],
          "scatterpolargl": [
           {
            "marker": {
             "colorbar": {
              "outlinewidth": 0,
              "ticks": ""
             }
            },
            "type": "scatterpolargl"
           }
          ],
          "scatterternary": [
           {
            "marker": {
             "colorbar": {
              "outlinewidth": 0,
              "ticks": ""
             }
            },
            "type": "scatterternary"
           }
          ],
          "surface": [
           {
            "colorbar": {
             "outlinewidth": 0,
             "ticks": ""
            },
            "colorscale": [
             [
              0,
              "#0d0887"
             ],
             [
              0.1111111111111111,
              "#46039f"
             ],
             [
              0.2222222222222222,
              "#7201a8"
             ],
             [
              0.3333333333333333,
              "#9c179e"
             ],
             [
              0.4444444444444444,
              "#bd3786"
             ],
             [
              0.5555555555555556,
              "#d8576b"
             ],
             [
              0.6666666666666666,
              "#ed7953"
             ],
             [
              0.7777777777777778,
              "#fb9f3a"
             ],
             [
              0.8888888888888888,
              "#fdca26"
             ],
             [
              1,
              "#f0f921"
             ]
            ],
            "type": "surface"
           }
          ],
          "table": [
           {
            "cells": {
             "fill": {
              "color": "#EBF0F8"
             },
             "line": {
              "color": "white"
             }
            },
            "header": {
             "fill": {
              "color": "#C8D4E3"
             },
             "line": {
              "color": "white"
             }
            },
            "type": "table"
           }
          ]
         },
         "layout": {
          "annotationdefaults": {
           "arrowcolor": "#2a3f5f",
           "arrowhead": 0,
           "arrowwidth": 1
          },
          "colorscale": {
           "diverging": [
            [
             0,
             "#8e0152"
            ],
            [
             0.1,
             "#c51b7d"
            ],
            [
             0.2,
             "#de77ae"
            ],
            [
             0.3,
             "#f1b6da"
            ],
            [
             0.4,
             "#fde0ef"
            ],
            [
             0.5,
             "#f7f7f7"
            ],
            [
             0.6,
             "#e6f5d0"
            ],
            [
             0.7,
             "#b8e186"
            ],
            [
             0.8,
             "#7fbc41"
            ],
            [
             0.9,
             "#4d9221"
            ],
            [
             1,
             "#276419"
            ]
           ],
           "sequential": [
            [
             0,
             "#0d0887"
            ],
            [
             0.1111111111111111,
             "#46039f"
            ],
            [
             0.2222222222222222,
             "#7201a8"
            ],
            [
             0.3333333333333333,
             "#9c179e"
            ],
            [
             0.4444444444444444,
             "#bd3786"
            ],
            [
             0.5555555555555556,
             "#d8576b"
            ],
            [
             0.6666666666666666,
             "#ed7953"
            ],
            [
             0.7777777777777778,
             "#fb9f3a"
            ],
            [
             0.8888888888888888,
             "#fdca26"
            ],
            [
             1,
             "#f0f921"
            ]
           ],
           "sequentialminus": [
            [
             0,
             "#0d0887"
            ],
            [
             0.1111111111111111,
             "#46039f"
            ],
            [
             0.2222222222222222,
             "#7201a8"
            ],
            [
             0.3333333333333333,
             "#9c179e"
            ],
            [
             0.4444444444444444,
             "#bd3786"
            ],
            [
             0.5555555555555556,
             "#d8576b"
            ],
            [
             0.6666666666666666,
             "#ed7953"
            ],
            [
             0.7777777777777778,
             "#fb9f3a"
            ],
            [
             0.8888888888888888,
             "#fdca26"
            ],
            [
             1,
             "#f0f921"
            ]
           ]
          },
          "colorway": [
           "#636efa",
           "#EF553B",
           "#00cc96",
           "#ab63fa",
           "#FFA15A",
           "#19d3f3",
           "#FF6692",
           "#B6E880",
           "#FF97FF",
           "#FECB52"
          ],
          "font": {
           "color": "#2a3f5f"
          },
          "geo": {
           "bgcolor": "white",
           "lakecolor": "white",
           "landcolor": "#E5ECF6",
           "showlakes": true,
           "showland": true,
           "subunitcolor": "white"
          },
          "hoverlabel": {
           "align": "left"
          },
          "hovermode": "closest",
          "mapbox": {
           "style": "light"
          },
          "paper_bgcolor": "white",
          "plot_bgcolor": "#E5ECF6",
          "polar": {
           "angularaxis": {
            "gridcolor": "white",
            "linecolor": "white",
            "ticks": ""
           },
           "bgcolor": "#E5ECF6",
           "radialaxis": {
            "gridcolor": "white",
            "linecolor": "white",
            "ticks": ""
           }
          },
          "scene": {
           "xaxis": {
            "backgroundcolor": "#E5ECF6",
            "gridcolor": "white",
            "gridwidth": 2,
            "linecolor": "white",
            "showbackground": true,
            "ticks": "",
            "zerolinecolor": "white"
           },
           "yaxis": {
            "backgroundcolor": "#E5ECF6",
            "gridcolor": "white",
            "gridwidth": 2,
            "linecolor": "white",
            "showbackground": true,
            "ticks": "",
            "zerolinecolor": "white"
           },
           "zaxis": {
            "backgroundcolor": "#E5ECF6",
            "gridcolor": "white",
            "gridwidth": 2,
            "linecolor": "white",
            "showbackground": true,
            "ticks": "",
            "zerolinecolor": "white"
           }
          },
          "shapedefaults": {
           "line": {
            "color": "#2a3f5f"
           }
          },
          "ternary": {
           "aaxis": {
            "gridcolor": "white",
            "linecolor": "white",
            "ticks": ""
           },
           "baxis": {
            "gridcolor": "white",
            "linecolor": "white",
            "ticks": ""
           },
           "bgcolor": "#E5ECF6",
           "caxis": {
            "gridcolor": "white",
            "linecolor": "white",
            "ticks": ""
           }
          },
          "title": {
           "x": 0.05
          },
          "xaxis": {
           "automargin": true,
           "gridcolor": "white",
           "linecolor": "white",
           "ticks": "",
           "zerolinecolor": "white",
           "zerolinewidth": 2
          },
          "yaxis": {
           "automargin": true,
           "gridcolor": "white",
           "linecolor": "white",
           "ticks": "",
           "zerolinecolor": "white",
           "zerolinewidth": 2
          }
         }
        },
        "xaxis": {
         "anchor": "y",
         "domain": [
          0,
          0.98
         ],
         "title": {
          "text": "canonico"
         }
        },
        "yaxis": {
         "anchor": "x",
         "domain": [
          0,
          1
         ],
         "title": {
          "text": "relative_wtp"
         }
        }
       }
      },
      "text/html": [
       "<div>\n",
       "        \n",
       "        \n",
       "            <div id=\"e049b4dc-09a6-4260-a427-9d5a2b12924e\" class=\"plotly-graph-div\" style=\"height:600px; width:100%;\"></div>\n",
       "            <script type=\"text/javascript\">\n",
       "                require([\"plotly\"], function(Plotly) {\n",
       "                    window.PLOTLYENV=window.PLOTLYENV || {};\n",
       "                    \n",
       "                if (document.getElementById(\"e049b4dc-09a6-4260-a427-9d5a2b12924e\")) {\n",
       "                    Plotly.newPlot(\n",
       "                        'e049b4dc-09a6-4260-a427-9d5a2b12924e',\n",
       "                        [{\"hoverlabel\": {\"namelength\": 0}, \"hovertemplate\": \"state=TO<br>canonico=%{x}<br>relative_wtp=%{y}\", \"legendgroup\": \"state=TO\", \"marker\": {\"color\": \"#636efa\", \"symbol\": \"circle\"}, \"mode\": \"markers\", \"name\": \"state=TO\", \"showlegend\": true, \"type\": \"scatter\", \"x\": [\"Arquitetura e Urbanismo\", \"Engenharia Mec\\u00e2nica\", \"Engenharia Civil\", \"Biomedicina\", \"Direito\", \"Fisioterapia\", \"Engenharia de Produ\\u00e7\\u00e3o\", \"Psicologia\", \"Enfermagem\", \"Nutri\\u00e7\\u00e3o\", \"Publicidade e Propaganda\", \"Farm\\u00e1cia\", \"Educa\\u00e7\\u00e3o F\\u00edsica\", \"An\\u00e1lise e Desenvolvimento de Sistemas\", \"Administra\\u00e7\\u00e3o\", \"Ci\\u00eancias Cont\\u00e1beis\", \"Est\\u00e9tica\", \"Pedagogia\", \"Recursos Humanos\"], \"xaxis\": \"x\", \"y\": [0.7496866451901102, 0.767142850425201, 0.7433600210120798, 0.7605766042824212, 0.8091607021692939, 0.8029275314950892, 0.9560165663822677, 0.7839846908428798, 0.7202931650586312, 0.7402936379235012, 0.7269676196842623, 0.7394007653040293, 0.5519110338005465, 0.606663916933559, 0.7904807741427662, 0.7012404752001294, 0.8491023761081921, 0.579217118597375, 0.45310366346359504], \"yaxis\": \"y\"}, {\"hoverlabel\": {\"namelength\": 0}, \"hovertemplate\": \"state=SP<br>canonico=%{x}<br>relative_wtp=%{y}\", \"legendgroup\": \"state=SP\", \"marker\": {\"color\": \"#EF553B\", \"symbol\": \"circle\"}, \"mode\": \"markers\", \"name\": \"state=SP\", \"showlegend\": true, \"type\": \"scatter\", \"x\": [\"Arquitetura e Urbanismo\", \"Engenharia Mec\\u00e2nica\", \"Engenharia Civil\", \"Biomedicina\", \"Direito\", \"Fisioterapia\", \"Engenharia de Produ\\u00e7\\u00e3o\", \"Psicologia\", \"Enfermagem\", \"Nutri\\u00e7\\u00e3o\", \"Publicidade e Propaganda\", \"Farm\\u00e1cia\", \"Educa\\u00e7\\u00e3o F\\u00edsica\", \"An\\u00e1lise e Desenvolvimento de Sistemas\", \"Administra\\u00e7\\u00e3o\", \"Ci\\u00eancias Cont\\u00e1beis\", \"Est\\u00e9tica\", \"Pedagogia\", \"Log\\u00edstica\", \"Recursos Humanos\"], \"xaxis\": \"x\", \"y\": [0.7945685566796754, 0.7787904473889444, 0.7876940785204913, 0.7627979433425282, 0.8230681086496532, 0.7635352588059475, 0.851864853875018, 0.8361266508099229, 0.7941171740454716, 0.7521364868047744, 0.8725957712108051, 0.7949299247783189, 0.7465953064924188, 0.7947859728591711, 0.860269497454909, 0.867661073756561, 0.9225079831747128, 0.8307981763161402, 0.8737175300397914, 0.8218735564652236], \"yaxis\": \"y\"}, {\"hoverlabel\": {\"namelength\": 0}, \"hovertemplate\": \"state=SE<br>canonico=%{x}<br>relative_wtp=%{y}\", \"legendgroup\": \"state=SE\", \"marker\": {\"color\": \"#00cc96\", \"symbol\": \"circle\"}, \"mode\": \"markers\", \"name\": \"state=SE\", \"showlegend\": true, \"type\": \"scatter\", \"x\": [\"Arquitetura e Urbanismo\", \"Engenharia Mec\\u00e2nica\", \"Engenharia Civil\", \"Biomedicina\", \"Direito\", \"Fisioterapia\", \"Engenharia de Produ\\u00e7\\u00e3o\", \"Psicologia\", \"Enfermagem\", \"Nutri\\u00e7\\u00e3o\", \"Publicidade e Propaganda\", \"Farm\\u00e1cia\", \"Educa\\u00e7\\u00e3o F\\u00edsica\", \"An\\u00e1lise e Desenvolvimento de Sistemas\", \"Administra\\u00e7\\u00e3o\", \"Ci\\u00eancias Cont\\u00e1beis\", \"Est\\u00e9tica\", \"Pedagogia\", \"Log\\u00edstica\", \"Recursos Humanos\"], \"xaxis\": \"x\", \"y\": [0.6287589165203755, 0.5528242289519221, 0.6230692253381247, 0.6831059012292379, 0.7360059718285028, 0.6870711277858201, 0.6331589183293459, 0.6920906975390715, 0.7160044301798981, 0.6670920959548018, 0.6685881299571388, 0.7162768598804908, 0.6106160853620027, 0.7432017363115732, 0.6500936655255034, 0.6677833139420606, 0.7654444544259198, 0.6679985574874229, 0.6096085045830755, 0.666116156256055], \"yaxis\": \"y\"}, {\"hoverlabel\": {\"namelength\": 0}, \"hovertemplate\": \"state=SC<br>canonico=%{x}<br>relative_wtp=%{y}\", \"legendgroup\": \"state=SC\", \"marker\": {\"color\": \"#ab63fa\", \"symbol\": \"circle\"}, \"mode\": \"markers\", \"name\": \"state=SC\", \"showlegend\": true, \"type\": \"scatter\", \"x\": [\"Arquitetura e Urbanismo\", \"Engenharia Mec\\u00e2nica\", \"Engenharia Civil\", \"Biomedicina\", \"Direito\", \"Fisioterapia\", \"Engenharia de Produ\\u00e7\\u00e3o\", \"Psicologia\", \"Enfermagem\", \"Nutri\\u00e7\\u00e3o\", \"Publicidade e Propaganda\", \"Farm\\u00e1cia\", \"Educa\\u00e7\\u00e3o F\\u00edsica\", \"An\\u00e1lise e Desenvolvimento de Sistemas\", \"Administra\\u00e7\\u00e3o\", \"Ci\\u00eancias Cont\\u00e1beis\", \"Est\\u00e9tica\", \"Pedagogia\", \"Log\\u00edstica\", \"Recursos Humanos\"], \"xaxis\": \"x\", \"y\": [0.8970721251830062, 0.8915450638969746, 0.8444079653918802, 0.9328190481067511, 0.8742486696748973, 0.8913466320262544, 0.821357801733506, 0.9008131148697853, 0.9037850032653256, 0.8274152430111912, 0.8552545960857928, 0.930766125502597, 0.7821847364887806, 0.9493392609815324, 0.856438362214842, 0.9422552576835955, 0.9533179976522458, 0.8218263457915795, 0.8699566583621684, 0.8442638019862062], \"yaxis\": \"y\"}, {\"hoverlabel\": {\"namelength\": 0}, \"hovertemplate\": \"state=RS<br>canonico=%{x}<br>relative_wtp=%{y}\", \"legendgroup\": \"state=RS\", \"marker\": {\"color\": \"#FFA15A\", \"symbol\": \"circle\"}, \"mode\": \"markers\", \"name\": \"state=RS\", \"showlegend\": true, \"type\": \"scatter\", \"x\": [\"Arquitetura e Urbanismo\", \"Engenharia Mec\\u00e2nica\", \"Engenharia Civil\", \"Biomedicina\", \"Direito\", \"Fisioterapia\", \"Engenharia de Produ\\u00e7\\u00e3o\", \"Psicologia\", \"Enfermagem\", \"Nutri\\u00e7\\u00e3o\", \"Publicidade e Propaganda\", \"Farm\\u00e1cia\", \"Educa\\u00e7\\u00e3o F\\u00edsica\", \"An\\u00e1lise e Desenvolvimento de Sistemas\", \"Administra\\u00e7\\u00e3o\", \"Ci\\u00eancias Cont\\u00e1beis\", \"Est\\u00e9tica\", \"Pedagogia\", \"Log\\u00edstica\", \"Recursos Humanos\"], \"xaxis\": \"x\", \"y\": [0.86911389501231, 0.8335814497078641, 0.8766367013354343, 0.94134908214569, 0.8807185340412, 0.9479701818511024, 0.8905417330044226, 0.8874435349959133, 0.8947541049488862, 0.8679828519533306, 0.9640128662678735, 0.9269766629719144, 0.8534268259214657, 0.9727636382925233, 0.9131686016830742, 0.904658741959999, 0.846064935232324, 0.8713572972222591, 0.941901300385744, 0.8676102454997989], \"yaxis\": \"y\"}, {\"hoverlabel\": {\"namelength\": 0}, \"hovertemplate\": \"state=RR<br>canonico=%{x}<br>relative_wtp=%{y}\", \"legendgroup\": \"state=RR\", \"marker\": {\"color\": \"#19d3f3\", \"symbol\": \"circle\"}, \"mode\": \"markers\", \"name\": \"state=RR\", \"showlegend\": true, \"type\": \"scatter\", \"x\": [\"Arquitetura e Urbanismo\", \"Engenharia Civil\", \"Biomedicina\", \"Direito\", \"Fisioterapia\", \"Psicologia\", \"Enfermagem\", \"Nutri\\u00e7\\u00e3o\", \"Farm\\u00e1cia\", \"Educa\\u00e7\\u00e3o F\\u00edsica\", \"Administra\\u00e7\\u00e3o\", \"Ci\\u00eancias Cont\\u00e1beis\", \"Pedagogia\"], \"xaxis\": \"x\", \"y\": [0.6504356448357895, 0.7245805198131157, 0.6321332323095175, 0.6560942738375528, 0.6358298790459556, 0.575896073255426, 0.6198856040450765, 0.6043956684913102, 0.6846211885944284, 0.5590307572591315, 0.4836485336621618, 0.49811103420005737, 0.5615892079115645], \"yaxis\": \"y\"}, {\"hoverlabel\": {\"namelength\": 0}, \"hovertemplate\": \"state=RO<br>canonico=%{x}<br>relative_wtp=%{y}\", \"legendgroup\": \"state=RO\", \"marker\": {\"color\": \"#FF6692\", \"symbol\": \"circle\"}, \"mode\": \"markers\", \"name\": \"state=RO\", \"showlegend\": true, \"type\": \"scatter\", \"x\": [\"Arquitetura e Urbanismo\", \"Engenharia Mec\\u00e2nica\", \"Engenharia Civil\", \"Biomedicina\", \"Direito\", \"Fisioterapia\", \"Engenharia de Produ\\u00e7\\u00e3o\", \"Psicologia\", \"Enfermagem\", \"Nutri\\u00e7\\u00e3o\", \"Publicidade e Propaganda\", \"Farm\\u00e1cia\", \"Educa\\u00e7\\u00e3o F\\u00edsica\", \"An\\u00e1lise e Desenvolvimento de Sistemas\", \"Administra\\u00e7\\u00e3o\", \"Ci\\u00eancias Cont\\u00e1beis\", \"Est\\u00e9tica\", \"Pedagogia\", \"Log\\u00edstica\", \"Recursos Humanos\"], \"xaxis\": \"x\", \"y\": [0.7308250940356346, 0.6788654257710053, 0.8038218028931988, 0.806006976069227, 0.8847990544864766, 0.8001680711192569, 0.7220734980829177, 0.7354935916692169, 0.7751236391791381, 0.7199313634300755, 0.6686532920905515, 0.8173358802380661, 0.6486005250161578, 0.7477306414559717, 0.6958772318608012, 0.681788252341862, 0.7630150680515335, 0.6509017789931958, 0.6115348597742474, 0.6978569847640878], \"yaxis\": \"y\"}, {\"hoverlabel\": {\"namelength\": 0}, \"hovertemplate\": \"state=RN<br>canonico=%{x}<br>relative_wtp=%{y}\", \"legendgroup\": \"state=RN\", \"marker\": {\"color\": \"#B6E880\", \"symbol\": \"circle\"}, \"mode\": \"markers\", \"name\": \"state=RN\", \"showlegend\": true, \"type\": \"scatter\", \"x\": [\"Arquitetura e Urbanismo\", \"Engenharia Mec\\u00e2nica\", \"Engenharia Civil\", \"Biomedicina\", \"Direito\", \"Fisioterapia\", \"Engenharia de Produ\\u00e7\\u00e3o\", \"Psicologia\", \"Enfermagem\", \"Nutri\\u00e7\\u00e3o\", \"Publicidade e Propaganda\", \"Farm\\u00e1cia\", \"Educa\\u00e7\\u00e3o F\\u00edsica\", \"An\\u00e1lise e Desenvolvimento de Sistemas\", \"Administra\\u00e7\\u00e3o\", \"Ci\\u00eancias Cont\\u00e1beis\", \"Est\\u00e9tica\", \"Pedagogia\", \"Log\\u00edstica\", \"Recursos Humanos\"], \"xaxis\": \"x\", \"y\": [0.6282837420393096, 0.7377697276109679, 0.6832631033486277, 0.7114568862264634, 0.7307345438108854, 0.6996569813351955, 0.7129800981521494, 0.7010960431330927, 0.6580514829241899, 0.6585361274275799, 0.660978765379482, 0.7860756556594761, 0.648897078603135, 0.6217104392961011, 0.6148392954417432, 0.6493745340767483, 0.699628015588248, 0.6360258472872117, 0.6631809341561907, 0.6341409181992805], \"yaxis\": \"y\"}, {\"hoverlabel\": {\"namelength\": 0}, \"hovertemplate\": \"state=RJ<br>canonico=%{x}<br>relative_wtp=%{y}\", \"legendgroup\": \"state=RJ\", \"marker\": {\"color\": \"#FF97FF\", \"symbol\": \"circle\"}, \"mode\": \"markers\", \"name\": \"state=RJ\", \"showlegend\": true, \"type\": \"scatter\", \"x\": [\"Arquitetura e Urbanismo\", \"Engenharia Mec\\u00e2nica\", \"Engenharia Civil\", \"Biomedicina\", \"Direito\", \"Fisioterapia\", \"Engenharia de Produ\\u00e7\\u00e3o\", \"Psicologia\", \"Enfermagem\", \"Nutri\\u00e7\\u00e3o\", \"Publicidade e Propaganda\", \"Farm\\u00e1cia\", \"Educa\\u00e7\\u00e3o F\\u00edsica\", \"An\\u00e1lise e Desenvolvimento de Sistemas\", \"Administra\\u00e7\\u00e3o\", \"Ci\\u00eancias Cont\\u00e1beis\", \"Est\\u00e9tica\", \"Pedagogia\", \"Log\\u00edstica\", \"Recursos Humanos\"], \"xaxis\": \"x\", \"y\": [0.8978067192402945, 0.8206027960096647, 0.8393598161981856, 0.8405030251967358, 0.8555473244570938, 0.8369237189879927, 0.8889761740850526, 0.9029279757378603, 0.8833692955019538, 0.8676233377617424, 1.0, 0.8895804274590603, 0.821177263273443, 0.951836741898309, 0.912828038876453, 0.9091518267904319, 0.9255610382944861, 0.9314420755992352, 0.9323169912890158, 0.9376657978882366], \"yaxis\": \"y\"}, {\"hoverlabel\": {\"namelength\": 0}, \"hovertemplate\": \"state=PR<br>canonico=%{x}<br>relative_wtp=%{y}\", \"legendgroup\": \"state=PR\", \"marker\": {\"color\": \"#FECB52\", \"symbol\": \"circle\"}, \"mode\": \"markers\", \"name\": \"state=PR\", \"showlegend\": true, \"type\": \"scatter\", \"x\": [\"Arquitetura e Urbanismo\", \"Engenharia Mec\\u00e2nica\", \"Engenharia Civil\", \"Biomedicina\", \"Direito\", \"Fisioterapia\", \"Engenharia de Produ\\u00e7\\u00e3o\", \"Psicologia\", \"Enfermagem\", \"Nutri\\u00e7\\u00e3o\", \"Publicidade e Propaganda\", \"Farm\\u00e1cia\", \"Educa\\u00e7\\u00e3o F\\u00edsica\", \"An\\u00e1lise e Desenvolvimento de Sistemas\", \"Administra\\u00e7\\u00e3o\", \"Ci\\u00eancias Cont\\u00e1beis\", \"Est\\u00e9tica\", \"Pedagogia\", \"Log\\u00edstica\", \"Recursos Humanos\"], \"xaxis\": \"x\", \"y\": [1.0, 1.0, 1.0, 1.0, 0.9725350861141389, 1.0, 1.0, 1.0, 1.0, 1.0, 0.9967716958803249, 1.0, 1.0, 1.0, 1.0, 1.0, 1.0, 1.0, 1.0, 1.0], \"yaxis\": \"y\"}, {\"hoverlabel\": {\"namelength\": 0}, \"hovertemplate\": \"state=PI<br>canonico=%{x}<br>relative_wtp=%{y}\", \"legendgroup\": \"state=PI\", \"marker\": {\"color\": \"#636efa\", \"symbol\": \"circle\"}, \"mode\": \"markers\", \"name\": \"state=PI\", \"showlegend\": true, \"type\": \"scatter\", \"x\": [\"Arquitetura e Urbanismo\", \"Engenharia Mec\\u00e2nica\", \"Engenharia Civil\", \"Biomedicina\", \"Direito\", \"Fisioterapia\", \"Engenharia de Produ\\u00e7\\u00e3o\", \"Psicologia\", \"Enfermagem\", \"Nutri\\u00e7\\u00e3o\", \"Publicidade e Propaganda\", \"Farm\\u00e1cia\", \"Educa\\u00e7\\u00e3o F\\u00edsica\", \"An\\u00e1lise e Desenvolvimento de Sistemas\", \"Administra\\u00e7\\u00e3o\", \"Ci\\u00eancias Cont\\u00e1beis\", \"Est\\u00e9tica\", \"Pedagogia\", \"Log\\u00edstica\", \"Recursos Humanos\"], \"xaxis\": \"x\", \"y\": [0.7159563759821548, 0.6702006020825652, 0.7487333532702959, 0.7454728642139389, 0.6940099974384111, 0.7079740714910938, 0.6939174230493788, 0.6749680125506208, 0.7314295451579842, 0.6601170725410421, 0.6610100342848657, 0.7678869589248852, 0.6096251664295943, 0.779328250009607, 0.68763148457462, 0.7083074620641698, 0.8111939338070144, 0.6374905181335426, 0.7006664523049967, 0.757701501157905], \"yaxis\": \"y\"}, {\"hoverlabel\": {\"namelength\": 0}, \"hovertemplate\": \"state=PE<br>canonico=%{x}<br>relative_wtp=%{y}\", \"legendgroup\": \"state=PE\", \"marker\": {\"color\": \"#EF553B\", \"symbol\": \"circle\"}, \"mode\": \"markers\", \"name\": \"state=PE\", \"showlegend\": true, \"type\": \"scatter\", \"x\": [\"Arquitetura e Urbanismo\", \"Engenharia Mec\\u00e2nica\", \"Engenharia Civil\", \"Biomedicina\", \"Direito\", \"Fisioterapia\", \"Engenharia de Produ\\u00e7\\u00e3o\", \"Psicologia\", \"Enfermagem\", \"Nutri\\u00e7\\u00e3o\", \"Publicidade e Propaganda\", \"Farm\\u00e1cia\", \"Educa\\u00e7\\u00e3o F\\u00edsica\", \"An\\u00e1lise e Desenvolvimento de Sistemas\", \"Administra\\u00e7\\u00e3o\", \"Ci\\u00eancias Cont\\u00e1beis\", \"Est\\u00e9tica\", \"Pedagogia\", \"Log\\u00edstica\", \"Recursos Humanos\"], \"xaxis\": \"x\", \"y\": [0.6315150254928122, 0.6127275789136825, 0.6374852052429046, 0.6790924484825228, 0.742670462100352, 0.656343259083456, 0.6753761703801164, 0.6535932673859172, 0.6539216195779199, 0.6502349947684509, 0.6918633476074556, 0.7133590827023505, 0.6286097979511039, 0.7660250229676905, 0.6634573758718376, 0.6825661326289858, 0.7066292241237453, 0.6399644274913932, 0.6854451928736782, 0.6361711711865037], \"yaxis\": \"y\"}, {\"hoverlabel\": {\"namelength\": 0}, \"hovertemplate\": \"state=PB<br>canonico=%{x}<br>relative_wtp=%{y}\", \"legendgroup\": \"state=PB\", \"marker\": {\"color\": \"#00cc96\", \"symbol\": \"circle\"}, \"mode\": \"markers\", \"name\": \"state=PB\", \"showlegend\": true, \"type\": \"scatter\", \"x\": [\"Arquitetura e Urbanismo\", \"Engenharia Mec\\u00e2nica\", \"Engenharia Civil\", \"Biomedicina\", \"Direito\", \"Fisioterapia\", \"Engenharia de Produ\\u00e7\\u00e3o\", \"Psicologia\", \"Enfermagem\", \"Nutri\\u00e7\\u00e3o\", \"Publicidade e Propaganda\", \"Farm\\u00e1cia\", \"Educa\\u00e7\\u00e3o F\\u00edsica\", \"An\\u00e1lise e Desenvolvimento de Sistemas\", \"Administra\\u00e7\\u00e3o\", \"Ci\\u00eancias Cont\\u00e1beis\", \"Est\\u00e9tica\", \"Pedagogia\", \"Log\\u00edstica\", \"Recursos Humanos\"], \"xaxis\": \"x\", \"y\": [0.6414812540568317, 0.6405707171547185, 0.6632639252772491, 0.6362993525926492, 0.7254430354782974, 0.6674030259680763, 0.7320548904334738, 0.6638674730925361, 0.644847513672807, 0.6249635080806586, 0.6331281985117538, 0.6889294988518179, 0.6787358443841145, 0.6804273165787845, 0.6590055612699447, 0.6908741158540164, 0.7027494266400414, 0.6506275517646727, 0.8301641991773467, 0.6383115988965933], \"yaxis\": \"y\"}, {\"hoverlabel\": {\"namelength\": 0}, \"hovertemplate\": \"state=PA<br>canonico=%{x}<br>relative_wtp=%{y}\", \"legendgroup\": \"state=PA\", \"marker\": {\"color\": \"#ab63fa\", \"symbol\": \"circle\"}, \"mode\": \"markers\", \"name\": \"state=PA\", \"showlegend\": true, \"type\": \"scatter\", \"x\": [\"Arquitetura e Urbanismo\", \"Engenharia Mec\\u00e2nica\", \"Engenharia Civil\", \"Biomedicina\", \"Direito\", \"Fisioterapia\", \"Engenharia de Produ\\u00e7\\u00e3o\", \"Psicologia\", \"Enfermagem\", \"Nutri\\u00e7\\u00e3o\", \"Publicidade e Propaganda\", \"Farm\\u00e1cia\", \"Educa\\u00e7\\u00e3o F\\u00edsica\", \"An\\u00e1lise e Desenvolvimento de Sistemas\", \"Administra\\u00e7\\u00e3o\", \"Ci\\u00eancias Cont\\u00e1beis\", \"Est\\u00e9tica\", \"Pedagogia\", \"Log\\u00edstica\", \"Recursos Humanos\"], \"xaxis\": \"x\", \"y\": [0.7316897884100093, 0.7105790990160098, 0.7311393014409713, 0.8037825323935135, 0.8754558478567926, 0.800732583252201, 0.7389464968787417, 0.7909391272880295, 0.7788367528854702, 0.7312418248445739, 0.743853881954575, 0.7517023145467724, 0.6952295744045617, 0.7043638418390461, 0.7440303504386765, 0.7698805194535135, 0.7667351117088425, 0.6943498241078041, 0.7140669363047635, 0.7171348197739685], \"yaxis\": \"y\"}, {\"hoverlabel\": {\"namelength\": 0}, \"hovertemplate\": \"state=MT<br>canonico=%{x}<br>relative_wtp=%{y}\", \"legendgroup\": \"state=MT\", \"marker\": {\"color\": \"#FFA15A\", \"symbol\": \"circle\"}, \"mode\": \"markers\", \"name\": \"state=MT\", \"showlegend\": true, \"type\": \"scatter\", \"x\": [\"Arquitetura e Urbanismo\", \"Engenharia Mec\\u00e2nica\", \"Engenharia Civil\", \"Biomedicina\", \"Direito\", \"Fisioterapia\", \"Engenharia de Produ\\u00e7\\u00e3o\", \"Psicologia\", \"Enfermagem\", \"Nutri\\u00e7\\u00e3o\", \"Publicidade e Propaganda\", \"Farm\\u00e1cia\", \"Educa\\u00e7\\u00e3o F\\u00edsica\", \"An\\u00e1lise e Desenvolvimento de Sistemas\", \"Administra\\u00e7\\u00e3o\", \"Ci\\u00eancias Cont\\u00e1beis\", \"Est\\u00e9tica\", \"Pedagogia\", \"Log\\u00edstica\", \"Recursos Humanos\"], \"xaxis\": \"x\", \"y\": [0.7988938441913572, 0.7767021151247978, 0.8142232693515096, 0.7968787422170426, 0.8031386263096452, 0.7593824855582336, 0.7663582145649903, 0.7964281550595753, 0.7897479407156889, 0.7391480653140907, 0.7492736377821639, 0.8466676879446892, 0.7332615611251133, 0.7361613386209982, 0.8126099394427301, 0.7904071041776236, 0.8103765081391533, 0.7470930656480393, 0.8823751921082262, 0.789298305177279], \"yaxis\": \"y\"}, {\"hoverlabel\": {\"namelength\": 0}, \"hovertemplate\": \"state=MS<br>canonico=%{x}<br>relative_wtp=%{y}\", \"legendgroup\": \"state=MS\", \"marker\": {\"color\": \"#19d3f3\", \"symbol\": \"circle\"}, \"mode\": \"markers\", \"name\": \"state=MS\", \"showlegend\": true, \"type\": \"scatter\", \"x\": [\"Arquitetura e Urbanismo\", \"Engenharia Mec\\u00e2nica\", \"Engenharia Civil\", \"Biomedicina\", \"Direito\", \"Fisioterapia\", \"Engenharia de Produ\\u00e7\\u00e3o\", \"Psicologia\", \"Enfermagem\", \"Nutri\\u00e7\\u00e3o\", \"Publicidade e Propaganda\", \"Farm\\u00e1cia\", \"Educa\\u00e7\\u00e3o F\\u00edsica\", \"An\\u00e1lise e Desenvolvimento de Sistemas\", \"Administra\\u00e7\\u00e3o\", \"Ci\\u00eancias Cont\\u00e1beis\", \"Est\\u00e9tica\", \"Pedagogia\", \"Log\\u00edstica\", \"Recursos Humanos\"], \"xaxis\": \"x\", \"y\": [0.7409477947311419, 0.7616452047150817, 0.8923001172121423, 0.8207369845741821, 0.8000500226481961, 0.8065529551148748, 0.7710997979718903, 0.8447503845006203, 0.7695365352279121, 0.7419881008714682, 0.7266691562387056, 0.7664585821865559, 0.7150947384332, 0.8071623340299744, 0.7842812374788052, 0.7815385181295349, 0.7969794950320711, 0.8165943984579022, 0.6768084519227476, 0.6638097285005713], \"yaxis\": \"y\"}, {\"hoverlabel\": {\"namelength\": 0}, \"hovertemplate\": \"state=MG<br>canonico=%{x}<br>relative_wtp=%{y}\", \"legendgroup\": \"state=MG\", \"marker\": {\"color\": \"#FF6692\", \"symbol\": \"circle\"}, \"mode\": \"markers\", \"name\": \"state=MG\", \"showlegend\": true, \"type\": \"scatter\", \"x\": [\"Arquitetura e Urbanismo\", \"Engenharia Mec\\u00e2nica\", \"Engenharia Civil\", \"Biomedicina\", \"Direito\", \"Fisioterapia\", \"Engenharia de Produ\\u00e7\\u00e3o\", \"Psicologia\", \"Enfermagem\", \"Nutri\\u00e7\\u00e3o\", \"Publicidade e Propaganda\", \"Farm\\u00e1cia\", \"Educa\\u00e7\\u00e3o F\\u00edsica\", \"An\\u00e1lise e Desenvolvimento de Sistemas\", \"Administra\\u00e7\\u00e3o\", \"Ci\\u00eancias Cont\\u00e1beis\", \"Est\\u00e9tica\", \"Pedagogia\", \"Log\\u00edstica\", \"Recursos Humanos\"], \"xaxis\": \"x\", \"y\": [0.8402443462866487, 0.7879301642576046, 0.8145306101582291, 0.8868574255915528, 0.8759143970393968, 0.8978728217574362, 0.8509373423472983, 0.8540977724793226, 0.8557587662401083, 0.8253115857193456, 0.9065207786356363, 0.8914678400435749, 0.8379901951505293, 0.9424018902731588, 0.9491810501651141, 0.969300686929643, 0.9451315289675272, 0.9248355695484198, 0.9696230413868142, 0.9196555600254254], \"yaxis\": \"y\"}, {\"hoverlabel\": {\"namelength\": 0}, \"hovertemplate\": \"state=MA<br>canonico=%{x}<br>relative_wtp=%{y}\", \"legendgroup\": \"state=MA\", \"marker\": {\"color\": \"#B6E880\", \"symbol\": \"circle\"}, \"mode\": \"markers\", \"name\": \"state=MA\", \"showlegend\": true, \"type\": \"scatter\", \"x\": [\"Arquitetura e Urbanismo\", \"Engenharia Mec\\u00e2nica\", \"Engenharia Civil\", \"Biomedicina\", \"Direito\", \"Fisioterapia\", \"Engenharia de Produ\\u00e7\\u00e3o\", \"Psicologia\", \"Enfermagem\", \"Nutri\\u00e7\\u00e3o\", \"Publicidade e Propaganda\", \"Farm\\u00e1cia\", \"Educa\\u00e7\\u00e3o F\\u00edsica\", \"An\\u00e1lise e Desenvolvimento de Sistemas\", \"Administra\\u00e7\\u00e3o\", \"Ci\\u00eancias Cont\\u00e1beis\", \"Est\\u00e9tica\", \"Pedagogia\", \"Log\\u00edstica\", \"Recursos Humanos\"], \"xaxis\": \"x\", \"y\": [0.7822513844200917, 0.7106100997279499, 0.7076199346304386, 0.7707382857300155, 0.8513072685780978, 0.7781981624970973, 0.7850131405244988, 0.7837326566306092, 0.7411674603165039, 0.7077708468376659, 0.6764437978709776, 0.775291728308895, 0.6783809269119078, 0.6809053325069331, 0.7003407846404116, 0.760868389446378, 0.8222660663024831, 0.7276317438352035, 0.6894252821660297, 0.65792941105688], \"yaxis\": \"y\"}, {\"hoverlabel\": {\"namelength\": 0}, \"hovertemplate\": \"state=GO<br>canonico=%{x}<br>relative_wtp=%{y}\", \"legendgroup\": \"state=GO\", \"marker\": {\"color\": \"#FF97FF\", \"symbol\": \"circle\"}, \"mode\": \"markers\", \"name\": \"state=GO\", \"showlegend\": true, \"type\": \"scatter\", \"x\": [\"Arquitetura e Urbanismo\", \"Engenharia Mec\\u00e2nica\", \"Engenharia Civil\", \"Biomedicina\", \"Direito\", \"Fisioterapia\", \"Engenharia de Produ\\u00e7\\u00e3o\", \"Psicologia\", \"Enfermagem\", \"Nutri\\u00e7\\u00e3o\", \"Publicidade e Propaganda\", \"Farm\\u00e1cia\", \"Educa\\u00e7\\u00e3o F\\u00edsica\", \"An\\u00e1lise e Desenvolvimento de Sistemas\", \"Administra\\u00e7\\u00e3o\", \"Ci\\u00eancias Cont\\u00e1beis\", \"Est\\u00e9tica\", \"Pedagogia\", \"Log\\u00edstica\", \"Recursos Humanos\"], \"xaxis\": \"x\", \"y\": [0.6993236740988086, 0.6846363170062739, 0.708380182037355, 0.7566965581904169, 0.7330490272745541, 0.7076586078785925, 0.7788556233765498, 0.7662511281363403, 0.7183156611832971, 0.7760765331063029, 0.7639050594186582, 0.74459981565107, 0.6791710360696691, 0.6943492124616436, 0.719773404022348, 0.7046840126750529, 0.7805332110459233, 0.7336376152189671, 0.7320128018597039, 0.6940394752733037], \"yaxis\": \"y\"}, {\"hoverlabel\": {\"namelength\": 0}, \"hovertemplate\": \"state=ES<br>canonico=%{x}<br>relative_wtp=%{y}\", \"legendgroup\": \"state=ES\", \"marker\": {\"color\": \"#FECB52\", \"symbol\": \"circle\"}, \"mode\": \"markers\", \"name\": \"state=ES\", \"showlegend\": true, \"type\": \"scatter\", \"x\": [\"Arquitetura e Urbanismo\", \"Engenharia Mec\\u00e2nica\", \"Engenharia Civil\", \"Biomedicina\", \"Direito\", \"Fisioterapia\", \"Engenharia de Produ\\u00e7\\u00e3o\", \"Psicologia\", \"Enfermagem\", \"Nutri\\u00e7\\u00e3o\", \"Publicidade e Propaganda\", \"Farm\\u00e1cia\", \"Educa\\u00e7\\u00e3o F\\u00edsica\", \"An\\u00e1lise e Desenvolvimento de Sistemas\", \"Administra\\u00e7\\u00e3o\", \"Ci\\u00eancias Cont\\u00e1beis\", \"Est\\u00e9tica\", \"Pedagogia\", \"Log\\u00edstica\", \"Recursos Humanos\"], \"xaxis\": \"x\", \"y\": [0.7715754969252959, 0.7723442840736608, 0.8269918275772189, 0.7497146507139734, 0.8224227431105188, 0.8386172323732235, 0.8194772849995556, 0.8260645452083786, 0.7953698758582286, 0.8182020405398855, 0.8516167274809602, 0.7847334540263128, 0.8066212386639587, 0.7809601287580367, 0.8003678583196817, 0.8446688906220284, 0.8620649412738565, 0.8057382977672833, 0.9888295657635231, 0.7714159032714448], \"yaxis\": \"y\"}, {\"hoverlabel\": {\"namelength\": 0}, \"hovertemplate\": \"state=DF<br>canonico=%{x}<br>relative_wtp=%{y}\", \"legendgroup\": \"state=DF\", \"marker\": {\"color\": \"#636efa\", \"symbol\": \"circle\"}, \"mode\": \"markers\", \"name\": \"state=DF\", \"showlegend\": true, \"type\": \"scatter\", \"x\": [\"Arquitetura e Urbanismo\", \"Engenharia Mec\\u00e2nica\", \"Engenharia Civil\", \"Biomedicina\", \"Direito\", \"Fisioterapia\", \"Engenharia de Produ\\u00e7\\u00e3o\", \"Psicologia\", \"Enfermagem\", \"Nutri\\u00e7\\u00e3o\", \"Publicidade e Propaganda\", \"Farm\\u00e1cia\", \"Educa\\u00e7\\u00e3o F\\u00edsica\", \"An\\u00e1lise e Desenvolvimento de Sistemas\", \"Administra\\u00e7\\u00e3o\", \"Ci\\u00eancias Cont\\u00e1beis\", \"Est\\u00e9tica\", \"Pedagogia\", \"Log\\u00edstica\", \"Recursos Humanos\"], \"xaxis\": \"x\", \"y\": [0.827372394186789, 0.8194042211065244, 0.8932446558881045, 0.8355174070436386, 1.0, 0.8650926043230698, 0.870928060119683, 0.9709938084934128, 0.8960400795473817, 0.8862946199942654, 0.8752951166335353, 0.9089960419212119, 0.8368573057569394, 0.8309791627635147, 0.8749783398124447, 0.8935302247660873, 0.8756297065052684, 0.9306450802825186, 0.9130216926407221, 0.8615373040151547], \"yaxis\": \"y\"}, {\"hoverlabel\": {\"namelength\": 0}, \"hovertemplate\": \"state=CE<br>canonico=%{x}<br>relative_wtp=%{y}\", \"legendgroup\": \"state=CE\", \"marker\": {\"color\": \"#EF553B\", \"symbol\": \"circle\"}, \"mode\": \"markers\", \"name\": \"state=CE\", \"showlegend\": true, \"type\": \"scatter\", \"x\": [\"Arquitetura e Urbanismo\", \"Engenharia Mec\\u00e2nica\", \"Engenharia Civil\", \"Biomedicina\", \"Direito\", \"Fisioterapia\", \"Engenharia de Produ\\u00e7\\u00e3o\", \"Psicologia\", \"Enfermagem\", \"Nutri\\u00e7\\u00e3o\", \"Publicidade e Propaganda\", \"Farm\\u00e1cia\", \"Educa\\u00e7\\u00e3o F\\u00edsica\", \"An\\u00e1lise e Desenvolvimento de Sistemas\", \"Administra\\u00e7\\u00e3o\", \"Ci\\u00eancias Cont\\u00e1beis\", \"Est\\u00e9tica\", \"Pedagogia\", \"Log\\u00edstica\", \"Recursos Humanos\"], \"xaxis\": \"x\", \"y\": [0.7702388575816356, 0.7087876808136482, 0.7808122151557154, 0.733141872459785, 0.8226512697989066, 0.7405906278152387, 0.7301892690712768, 0.7717405652206307, 0.7650474312310603, 0.7949011352485971, 0.7417830335241807, 0.804022078863564, 0.6674674083300852, 0.6919522600813798, 0.7245681519424151, 0.7425297492752141, 0.8331099183455686, 0.713893463200113, 0.7624612136460055, 0.7471304902466458], \"yaxis\": \"y\"}, {\"hoverlabel\": {\"namelength\": 0}, \"hovertemplate\": \"state=BA<br>canonico=%{x}<br>relative_wtp=%{y}\", \"legendgroup\": \"state=BA\", \"marker\": {\"color\": \"#00cc96\", \"symbol\": \"circle\"}, \"mode\": \"markers\", \"name\": \"state=BA\", \"showlegend\": true, \"type\": \"scatter\", \"x\": [\"Arquitetura e Urbanismo\", \"Engenharia Mec\\u00e2nica\", \"Engenharia Civil\", \"Biomedicina\", \"Direito\", \"Fisioterapia\", \"Engenharia de Produ\\u00e7\\u00e3o\", \"Psicologia\", \"Enfermagem\", \"Nutri\\u00e7\\u00e3o\", \"Publicidade e Propaganda\", \"Farm\\u00e1cia\", \"Educa\\u00e7\\u00e3o F\\u00edsica\", \"An\\u00e1lise e Desenvolvimento de Sistemas\", \"Administra\\u00e7\\u00e3o\", \"Ci\\u00eancias Cont\\u00e1beis\", \"Est\\u00e9tica\", \"Pedagogia\", \"Log\\u00edstica\", \"Recursos Humanos\"], \"xaxis\": \"x\", \"y\": [0.7261886888145626, 0.6767126777150729, 0.7310799340560251, 0.762694372205009, 0.8249753917363358, 0.74008197703569, 0.7718406948205476, 0.7461868318109556, 0.7720192537778033, 0.7094069831505718, 0.7549300894138671, 0.7704110767384803, 0.693313502738673, 0.7577413987020565, 0.7625997206326645, 0.7535193676678469, 0.7603153001188434, 0.7360403230975281, 0.833156938957397, 0.7480672816428243], \"yaxis\": \"y\"}, {\"hoverlabel\": {\"namelength\": 0}, \"hovertemplate\": \"state=AP<br>canonico=%{x}<br>relative_wtp=%{y}\", \"legendgroup\": \"state=AP\", \"marker\": {\"color\": \"#ab63fa\", \"symbol\": \"circle\"}, \"mode\": \"markers\", \"name\": \"state=AP\", \"showlegend\": true, \"type\": \"scatter\", \"x\": [\"Arquitetura e Urbanismo\", \"Engenharia Mec\\u00e2nica\", \"Engenharia Civil\", \"Biomedicina\", \"Direito\", \"Fisioterapia\", \"Psicologia\", \"Enfermagem\", \"Nutri\\u00e7\\u00e3o\", \"Publicidade e Propaganda\", \"Farm\\u00e1cia\", \"Educa\\u00e7\\u00e3o F\\u00edsica\", \"Administra\\u00e7\\u00e3o\", \"Ci\\u00eancias Cont\\u00e1beis\", \"Pedagogia\", \"Recursos Humanos\"], \"xaxis\": \"x\", \"y\": [0.6371708030281443, 0.7103875779996366, 0.5535612511367899, 0.6756205902527277, 0.7341075582660234, 0.7123372955812858, 0.6691405001488466, 0.6685691708758472, 0.6993002388074976, 0.641268428240468, 0.7004109183464184, 0.48611318569124523, 0.5550024456155097, 0.6033072335710666, 0.5844039257587422, 0.6223766204177259], \"yaxis\": \"y\"}, {\"hoverlabel\": {\"namelength\": 0}, \"hovertemplate\": \"state=AM<br>canonico=%{x}<br>relative_wtp=%{y}\", \"legendgroup\": \"state=AM\", \"marker\": {\"color\": \"#FFA15A\", \"symbol\": \"circle\"}, \"mode\": \"markers\", \"name\": \"state=AM\", \"showlegend\": true, \"type\": \"scatter\", \"x\": [\"Arquitetura e Urbanismo\", \"Engenharia Mec\\u00e2nica\", \"Engenharia Civil\", \"Biomedicina\", \"Direito\", \"Fisioterapia\", \"Engenharia de Produ\\u00e7\\u00e3o\", \"Psicologia\", \"Enfermagem\", \"Nutri\\u00e7\\u00e3o\", \"Publicidade e Propaganda\", \"Farm\\u00e1cia\", \"Educa\\u00e7\\u00e3o F\\u00edsica\", \"An\\u00e1lise e Desenvolvimento de Sistemas\", \"Administra\\u00e7\\u00e3o\", \"Ci\\u00eancias Cont\\u00e1beis\", \"Est\\u00e9tica\", \"Pedagogia\", \"Log\\u00edstica\", \"Recursos Humanos\"], \"xaxis\": \"x\", \"y\": [0.6106154749302927, 0.5770724120354324, 0.6333091011614609, 0.5901837722427047, 0.9054193281144188, 0.6798852084805245, 0.6540077548525666, 0.6462141659334045, 0.7083105672004648, 0.6359899097821614, 0.6606416119543671, 0.6425238034202488, 0.655589505184296, 0.7267349322057298, 0.6996960889990046, 0.7110496169860041, 0.6942774404904258, 0.6971249429974048, 0.7022079272763955, 0.6716936914073243], \"yaxis\": \"y\"}, {\"hoverlabel\": {\"namelength\": 0}, \"hovertemplate\": \"state=AL<br>canonico=%{x}<br>relative_wtp=%{y}\", \"legendgroup\": \"state=AL\", \"marker\": {\"color\": \"#19d3f3\", \"symbol\": \"circle\"}, \"mode\": \"markers\", \"name\": \"state=AL\", \"showlegend\": true, \"type\": \"scatter\", \"x\": [\"Arquitetura e Urbanismo\", \"Engenharia Mec\\u00e2nica\", \"Engenharia Civil\", \"Biomedicina\", \"Direito\", \"Fisioterapia\", \"Engenharia de Produ\\u00e7\\u00e3o\", \"Psicologia\", \"Enfermagem\", \"Nutri\\u00e7\\u00e3o\", \"Publicidade e Propaganda\", \"Farm\\u00e1cia\", \"Educa\\u00e7\\u00e3o F\\u00edsica\", \"An\\u00e1lise e Desenvolvimento de Sistemas\", \"Administra\\u00e7\\u00e3o\", \"Ci\\u00eancias Cont\\u00e1beis\", \"Est\\u00e9tica\", \"Pedagogia\", \"Log\\u00edstica\", \"Recursos Humanos\"], \"xaxis\": \"x\", \"y\": [0.6285413971340095, 0.5370853681821209, 0.6389850579666071, 0.6519750079597062, 0.6442701596544145, 0.6766324385568039, 0.6109090770009907, 0.6056987145189346, 0.6891009901657869, 0.6594592626277965, 0.6141985113951431, 0.6122940350021585, 0.6001960344622201, 0.6227255428505301, 0.7289466337994714, 0.6523651078389427, 0.7226867559758618, 0.6321629003574928, 0.699652329634719, 0.6896949094764422], \"yaxis\": \"y\"}, {\"hoverlabel\": {\"namelength\": 0}, \"hovertemplate\": \"state=AC<br>canonico=%{x}<br>relative_wtp=%{y}\", \"legendgroup\": \"state=AC\", \"marker\": {\"color\": \"#FF6692\", \"symbol\": \"circle\"}, \"mode\": \"markers\", \"name\": \"state=AC\", \"showlegend\": true, \"type\": \"scatter\", \"x\": [\"Arquitetura e Urbanismo\", \"Engenharia Civil\", \"Biomedicina\", \"Direito\", \"Fisioterapia\", \"Psicologia\", \"Enfermagem\", \"Nutri\\u00e7\\u00e3o\", \"Farm\\u00e1cia\", \"Educa\\u00e7\\u00e3o F\\u00edsica\", \"An\\u00e1lise e Desenvolvimento de Sistemas\", \"Administra\\u00e7\\u00e3o\", \"Ci\\u00eancias Cont\\u00e1beis\", \"Est\\u00e9tica\", \"Pedagogia\", \"Recursos Humanos\"], \"xaxis\": \"x\", \"y\": [0.688532841154612, 0.7811256464473415, 0.5818110286837672, 0.7720638033289986, 0.6521945268450116, 0.6981891437922868, 0.6621477353287291, 0.6790875930843072, 0.6711165652290618, 0.5449673658770747, 0.7022820290004229, 0.5656940581649882, 0.6345475471140494, 0.7008252256910348, 0.5529978808232069, 0.48618439425259086], \"yaxis\": \"y\"}],\n",
       "                        {\"height\": 600, \"legend\": {\"tracegroupgap\": 0}, \"margin\": {\"t\": 60}, \"template\": {\"data\": {\"bar\": [{\"error_x\": {\"color\": \"#2a3f5f\"}, \"error_y\": {\"color\": \"#2a3f5f\"}, \"marker\": {\"line\": {\"color\": \"#E5ECF6\", \"width\": 0.5}}, \"type\": \"bar\"}], \"barpolar\": [{\"marker\": {\"line\": {\"color\": \"#E5ECF6\", \"width\": 0.5}}, \"type\": \"barpolar\"}], \"carpet\": [{\"aaxis\": {\"endlinecolor\": \"#2a3f5f\", \"gridcolor\": \"white\", \"linecolor\": \"white\", \"minorgridcolor\": \"white\", \"startlinecolor\": \"#2a3f5f\"}, \"baxis\": {\"endlinecolor\": \"#2a3f5f\", \"gridcolor\": \"white\", \"linecolor\": \"white\", \"minorgridcolor\": \"white\", \"startlinecolor\": \"#2a3f5f\"}, \"type\": \"carpet\"}], \"choropleth\": [{\"colorbar\": {\"outlinewidth\": 0, \"ticks\": \"\"}, \"type\": \"choropleth\"}], \"contour\": [{\"colorbar\": {\"outlinewidth\": 0, \"ticks\": \"\"}, \"colorscale\": [[0.0, \"#0d0887\"], [0.1111111111111111, \"#46039f\"], [0.2222222222222222, \"#7201a8\"], [0.3333333333333333, \"#9c179e\"], [0.4444444444444444, \"#bd3786\"], [0.5555555555555556, \"#d8576b\"], [0.6666666666666666, \"#ed7953\"], [0.7777777777777778, \"#fb9f3a\"], [0.8888888888888888, \"#fdca26\"], [1.0, \"#f0f921\"]], \"type\": \"contour\"}], \"contourcarpet\": [{\"colorbar\": {\"outlinewidth\": 0, \"ticks\": \"\"}, \"type\": \"contourcarpet\"}], \"heatmap\": [{\"colorbar\": {\"outlinewidth\": 0, \"ticks\": \"\"}, \"colorscale\": [[0.0, \"#0d0887\"], [0.1111111111111111, \"#46039f\"], [0.2222222222222222, \"#7201a8\"], [0.3333333333333333, \"#9c179e\"], [0.4444444444444444, \"#bd3786\"], [0.5555555555555556, \"#d8576b\"], [0.6666666666666666, \"#ed7953\"], [0.7777777777777778, \"#fb9f3a\"], [0.8888888888888888, \"#fdca26\"], [1.0, \"#f0f921\"]], \"type\": \"heatmap\"}], \"heatmapgl\": [{\"colorbar\": {\"outlinewidth\": 0, \"ticks\": \"\"}, \"colorscale\": [[0.0, \"#0d0887\"], [0.1111111111111111, \"#46039f\"], [0.2222222222222222, \"#7201a8\"], [0.3333333333333333, \"#9c179e\"], [0.4444444444444444, \"#bd3786\"], [0.5555555555555556, \"#d8576b\"], [0.6666666666666666, \"#ed7953\"], [0.7777777777777778, \"#fb9f3a\"], [0.8888888888888888, \"#fdca26\"], [1.0, \"#f0f921\"]], \"type\": \"heatmapgl\"}], \"histogram\": [{\"marker\": {\"colorbar\": {\"outlinewidth\": 0, \"ticks\": \"\"}}, \"type\": \"histogram\"}], \"histogram2d\": [{\"colorbar\": {\"outlinewidth\": 0, \"ticks\": \"\"}, \"colorscale\": [[0.0, \"#0d0887\"], [0.1111111111111111, \"#46039f\"], [0.2222222222222222, \"#7201a8\"], [0.3333333333333333, \"#9c179e\"], [0.4444444444444444, \"#bd3786\"], [0.5555555555555556, \"#d8576b\"], [0.6666666666666666, \"#ed7953\"], [0.7777777777777778, \"#fb9f3a\"], [0.8888888888888888, \"#fdca26\"], [1.0, \"#f0f921\"]], \"type\": \"histogram2d\"}], \"histogram2dcontour\": [{\"colorbar\": {\"outlinewidth\": 0, \"ticks\": \"\"}, \"colorscale\": [[0.0, \"#0d0887\"], [0.1111111111111111, \"#46039f\"], [0.2222222222222222, \"#7201a8\"], [0.3333333333333333, \"#9c179e\"], [0.4444444444444444, \"#bd3786\"], [0.5555555555555556, \"#d8576b\"], [0.6666666666666666, \"#ed7953\"], [0.7777777777777778, \"#fb9f3a\"], [0.8888888888888888, \"#fdca26\"], [1.0, \"#f0f921\"]], \"type\": \"histogram2dcontour\"}], \"mesh3d\": [{\"colorbar\": {\"outlinewidth\": 0, \"ticks\": \"\"}, \"type\": \"mesh3d\"}], \"parcoords\": [{\"line\": {\"colorbar\": {\"outlinewidth\": 0, \"ticks\": \"\"}}, \"type\": \"parcoords\"}], \"scatter\": [{\"marker\": {\"colorbar\": {\"outlinewidth\": 0, \"ticks\": \"\"}}, \"type\": \"scatter\"}], \"scatter3d\": [{\"line\": {\"colorbar\": {\"outlinewidth\": 0, \"ticks\": \"\"}}, \"marker\": {\"colorbar\": {\"outlinewidth\": 0, \"ticks\": \"\"}}, \"type\": \"scatter3d\"}], \"scattercarpet\": [{\"marker\": {\"colorbar\": {\"outlinewidth\": 0, \"ticks\": \"\"}}, \"type\": \"scattercarpet\"}], \"scattergeo\": [{\"marker\": {\"colorbar\": {\"outlinewidth\": 0, \"ticks\": \"\"}}, \"type\": \"scattergeo\"}], \"scattergl\": [{\"marker\": {\"colorbar\": {\"outlinewidth\": 0, \"ticks\": \"\"}}, \"type\": \"scattergl\"}], \"scattermapbox\": [{\"marker\": {\"colorbar\": {\"outlinewidth\": 0, \"ticks\": \"\"}}, \"type\": \"scattermapbox\"}], \"scatterpolar\": [{\"marker\": {\"colorbar\": {\"outlinewidth\": 0, \"ticks\": \"\"}}, \"type\": \"scatterpolar\"}], \"scatterpolargl\": [{\"marker\": {\"colorbar\": {\"outlinewidth\": 0, \"ticks\": \"\"}}, \"type\": \"scatterpolargl\"}], \"scatterternary\": [{\"marker\": {\"colorbar\": {\"outlinewidth\": 0, \"ticks\": \"\"}}, \"type\": \"scatterternary\"}], \"surface\": [{\"colorbar\": {\"outlinewidth\": 0, \"ticks\": \"\"}, \"colorscale\": [[0.0, \"#0d0887\"], [0.1111111111111111, \"#46039f\"], [0.2222222222222222, \"#7201a8\"], [0.3333333333333333, \"#9c179e\"], [0.4444444444444444, \"#bd3786\"], [0.5555555555555556, \"#d8576b\"], [0.6666666666666666, \"#ed7953\"], [0.7777777777777778, \"#fb9f3a\"], [0.8888888888888888, \"#fdca26\"], [1.0, \"#f0f921\"]], \"type\": \"surface\"}], \"table\": [{\"cells\": {\"fill\": {\"color\": \"#EBF0F8\"}, \"line\": {\"color\": \"white\"}}, \"header\": {\"fill\": {\"color\": \"#C8D4E3\"}, \"line\": {\"color\": \"white\"}}, \"type\": \"table\"}]}, \"layout\": {\"annotationdefaults\": {\"arrowcolor\": \"#2a3f5f\", \"arrowhead\": 0, \"arrowwidth\": 1}, \"colorscale\": {\"diverging\": [[0, \"#8e0152\"], [0.1, \"#c51b7d\"], [0.2, \"#de77ae\"], [0.3, \"#f1b6da\"], [0.4, \"#fde0ef\"], [0.5, \"#f7f7f7\"], [0.6, \"#e6f5d0\"], [0.7, \"#b8e186\"], [0.8, \"#7fbc41\"], [0.9, \"#4d9221\"], [1, \"#276419\"]], \"sequential\": [[0.0, \"#0d0887\"], [0.1111111111111111, \"#46039f\"], [0.2222222222222222, \"#7201a8\"], [0.3333333333333333, \"#9c179e\"], [0.4444444444444444, \"#bd3786\"], [0.5555555555555556, \"#d8576b\"], [0.6666666666666666, \"#ed7953\"], [0.7777777777777778, \"#fb9f3a\"], [0.8888888888888888, \"#fdca26\"], [1.0, \"#f0f921\"]], \"sequentialminus\": [[0.0, \"#0d0887\"], [0.1111111111111111, \"#46039f\"], [0.2222222222222222, \"#7201a8\"], [0.3333333333333333, \"#9c179e\"], [0.4444444444444444, \"#bd3786\"], [0.5555555555555556, \"#d8576b\"], [0.6666666666666666, \"#ed7953\"], [0.7777777777777778, \"#fb9f3a\"], [0.8888888888888888, \"#fdca26\"], [1.0, \"#f0f921\"]]}, \"colorway\": [\"#636efa\", \"#EF553B\", \"#00cc96\", \"#ab63fa\", \"#FFA15A\", \"#19d3f3\", \"#FF6692\", \"#B6E880\", \"#FF97FF\", \"#FECB52\"], \"font\": {\"color\": \"#2a3f5f\"}, \"geo\": {\"bgcolor\": \"white\", \"lakecolor\": \"white\", \"landcolor\": \"#E5ECF6\", \"showlakes\": true, \"showland\": true, \"subunitcolor\": \"white\"}, \"hoverlabel\": {\"align\": \"left\"}, \"hovermode\": \"closest\", \"mapbox\": {\"style\": \"light\"}, \"paper_bgcolor\": \"white\", \"plot_bgcolor\": \"#E5ECF6\", \"polar\": {\"angularaxis\": {\"gridcolor\": \"white\", \"linecolor\": \"white\", \"ticks\": \"\"}, \"bgcolor\": \"#E5ECF6\", \"radialaxis\": {\"gridcolor\": \"white\", \"linecolor\": \"white\", \"ticks\": \"\"}}, \"scene\": {\"xaxis\": {\"backgroundcolor\": \"#E5ECF6\", \"gridcolor\": \"white\", \"gridwidth\": 2, \"linecolor\": \"white\", \"showbackground\": true, \"ticks\": \"\", \"zerolinecolor\": \"white\"}, \"yaxis\": {\"backgroundcolor\": \"#E5ECF6\", \"gridcolor\": \"white\", \"gridwidth\": 2, \"linecolor\": \"white\", \"showbackground\": true, \"ticks\": \"\", \"zerolinecolor\": \"white\"}, \"zaxis\": {\"backgroundcolor\": \"#E5ECF6\", \"gridcolor\": \"white\", \"gridwidth\": 2, \"linecolor\": \"white\", \"showbackground\": true, \"ticks\": \"\", \"zerolinecolor\": \"white\"}}, \"shapedefaults\": {\"line\": {\"color\": \"#2a3f5f\"}}, \"ternary\": {\"aaxis\": {\"gridcolor\": \"white\", \"linecolor\": \"white\", \"ticks\": \"\"}, \"baxis\": {\"gridcolor\": \"white\", \"linecolor\": \"white\", \"ticks\": \"\"}, \"bgcolor\": \"#E5ECF6\", \"caxis\": {\"gridcolor\": \"white\", \"linecolor\": \"white\", \"ticks\": \"\"}}, \"title\": {\"x\": 0.05}, \"xaxis\": {\"automargin\": true, \"gridcolor\": \"white\", \"linecolor\": \"white\", \"ticks\": \"\", \"zerolinecolor\": \"white\", \"zerolinewidth\": 2}, \"yaxis\": {\"automargin\": true, \"gridcolor\": \"white\", \"linecolor\": \"white\", \"ticks\": \"\", \"zerolinecolor\": \"white\", \"zerolinewidth\": 2}}}, \"xaxis\": {\"anchor\": \"y\", \"domain\": [0.0, 0.98], \"title\": {\"text\": \"canonico\"}}, \"yaxis\": {\"anchor\": \"x\", \"domain\": [0.0, 1.0], \"title\": {\"text\": \"relative_wtp\"}}},\n",
       "                        {\"responsive\": true}\n",
       "                    ).then(function(){\n",
       "                            \n",
       "var gd = document.getElementById('e049b4dc-09a6-4260-a427-9d5a2b12924e');\n",
       "var x = new MutationObserver(function (mutations, observer) {{\n",
       "        var display = window.getComputedStyle(gd).display;\n",
       "        if (!display || display === 'none') {{\n",
       "            console.log([gd, 'removed!']);\n",
       "            Plotly.purge(gd);\n",
       "            observer.disconnect();\n",
       "        }}\n",
       "}});\n",
       "\n",
       "// Listen for the removal of the full notebook cells\n",
       "var notebookContainer = gd.closest('#notebook-container');\n",
       "if (notebookContainer) {{\n",
       "    x.observe(notebookContainer, {childList: true});\n",
       "}}\n",
       "\n",
       "// Listen for the clearing of the current output cell\n",
       "var outputEl = gd.closest('.output');\n",
       "if (outputEl) {{\n",
       "    x.observe(outputEl, {childList: true});\n",
       "}}\n",
       "\n",
       "                        })\n",
       "                };\n",
       "                });\n",
       "            </script>\n",
       "        </div>"
      ]
     },
     "metadata": {},
     "output_type": "display_data"
    }
   ],
   "source": [
    "df = spark.sql(\"\"\"WITH base AS(\n",
    "SELECT\n",
    "cities.state AS state,\n",
    "canonical_courses.name AS canonico,\n",
    "AVG(maximum_value) AS wtp,\n",
    "count(*) AS qtd\n",
    "FROM\n",
    "bi.global_users_searchs\n",
    "JOIN\n",
    "querobolsa_production.cities ON global_users_searchs.city_id = cities.id\n",
    "JOIN\n",
    "querobolsa_production.canonical_courses ON global_users_searchs.canonical_course_id = canonical_courses.id\n",
    "\n",
    "WHERE\n",
    "maximum_value <= 3000\n",
    "AND\n",
    "level_id = 1\n",
    "AND\n",
    "kind_id = 1\n",
    "AND\n",
    "global_users_searchs.canonical_course_id IN (2,10,14,34,48,115,121,140,153,170,192,211,214,217,257,288,869,341,346,356)\n",
    "\n",
    "GROUP BY\n",
    "1,2\n",
    "\n",
    "ORDER BY\n",
    "1,3 desc\n",
    "),\n",
    "base_ordem AS(\n",
    "SELECT\n",
    "canonical_courses.name AS canonico,\n",
    "AVG(maximum_value) AS wtp_geral\n",
    "\n",
    "FROM\n",
    "bi.global_users_searchs\n",
    "JOIN\n",
    "querobolsa_production.cities ON global_users_searchs.city_id = cities.id\n",
    "JOIN\n",
    "querobolsa_production.canonical_courses ON global_users_searchs.canonical_course_id = canonical_courses.id\n",
    "\n",
    "WHERE\n",
    "maximum_value <= 3000\n",
    "AND\n",
    "level_id = 1\n",
    "AND\n",
    "kind_id = 1\n",
    "AND\n",
    "global_users_searchs.canonical_course_id IN (2,10,14,34,48,115,121,140,153,170,192,211,214,217,257,288,869,341,346,356)\n",
    "AND\n",
    "cities.state = 'PR'\n",
    "AND\n",
    "global_users_searchs.created_at >= '2019-10-01'\n",
    "\n",
    "GROUP BY\n",
    "1\n",
    "\n",
    "ORDER BY\n",
    "1,2 desc\n",
    ")\n",
    "\n",
    "SELECT\n",
    "base.state,\n",
    "base.canonico,\n",
    "wtp,\n",
    "qtd,\n",
    "base_ordem.wtp_geral,\n",
    "max(wtp) OVER\n",
    "  (partition by base.canonico) AS max_wtp_canonico,\n",
    "wtp/max(wtp) OVER\n",
    "  (partition by base.canonico) AS relative_wtp\n",
    "\n",
    "FROM\n",
    "base\n",
    "JOIN\n",
    "base_ordem ON base_ordem.canonico = base.canonico\n",
    "\n",
    "WHERE\n",
    "qtd >= 100\n",
    "\n",
    "ORDER BY\n",
    "1 desc,5 desc\"\"\").toPandas()\n",
    "\n",
    "fig = px.scatter(df, x='canonico', y='relative_wtp', color='state')\n",
    "fig.show()"
   ]
  },
  {
   "cell_type": "code",
   "execution_count": 6,
   "metadata": {},
   "outputs": [
    {
     "data": {
      "application/vnd.plotly.v1+json": {
       "config": {
        "plotlyServerURL": "https://plot.ly"
       },
       "data": [
        {
         "hoverlabel": {
          "namelength": 0
         },
         "hovertemplate": "state=SP<br>canonico=%{x}<br>pef=%{y}",
         "legendgroup": "state=SP",
         "marker": {
          "color": "#636efa",
          "symbol": "circle"
         },
         "mode": "markers",
         "name": "state=SP",
         "showlegend": true,
         "type": "scatter",
         "x": [
          "Arquitetura e Urbanismo",
          "Direito",
          "Engenharia Civil",
          "Engenharia Mecânica",
          "Psicologia",
          "Fisioterapia",
          "Engenharia de Produção",
          "Biomedicina",
          "Farmácia",
          "Enfermagem",
          "Nutrição",
          "Publicidade e Propaganda",
          "Educação Física",
          "Administração",
          "Ciências Contábeis",
          "Estética",
          "Análise e Desenvolvimento de Sistemas",
          "Recursos Humanos",
          "Pedagogia",
          "Logística"
         ],
         "xaxis": "x",
         "y": [
          781.501302,
          715.890033,
          740.079638,
          727.327651,
          739.856681,
          699.96685,
          701.317416,
          652.939598,
          656.094231,
          628.638502,
          621.521872,
          626.195966,
          520.589827,
          548.979756,
          508.979846,
          509.696693,
          442.345063,
          382.115405,
          394.283099,
          372.202835
         ],
         "yaxis": "y"
        },
        {
         "hoverlabel": {
          "namelength": 0
         },
         "hovertemplate": "state=DF<br>canonico=%{x}<br>pef=%{y}",
         "legendgroup": "state=DF",
         "marker": {
          "color": "#EF553B",
          "symbol": "circle"
         },
         "mode": "markers",
         "name": "state=DF",
         "showlegend": true,
         "type": "scatter",
         "x": [
          "Arquitetura e Urbanismo",
          "Direito",
          "Engenharia Civil",
          "Engenharia Mecânica",
          "Psicologia",
          "Fisioterapia",
          "Engenharia de Produção",
          "Biomedicina",
          "Farmácia",
          "Enfermagem",
          "Nutrição",
          "Publicidade e Propaganda",
          "Educação Física",
          "Administração",
          "Ciências Contábeis",
          "Estética",
          "Análise e Desenvolvimento de Sistemas",
          "Recursos Humanos",
          "Pedagogia",
          "Logística"
         ],
         "xaxis": "x",
         "y": [
          1175.295909,
          990.551455,
          1117.456,
          843.953333,
          1176.201515,
          930.930333,
          779.068889,
          962.244138,
          991.221071,
          857.88125,
          836.5384,
          812.944375,
          688.149821,
          540.124167,
          511.721463,
          703.694545,
          527.652963,
          439.518367,
          414.839608,
          456.831333
         ],
         "yaxis": "y"
        },
        {
         "hoverlabel": {
          "namelength": 0
         },
         "hovertemplate": "state=GO<br>canonico=%{x}<br>pef=%{y}",
         "legendgroup": "state=GO",
         "marker": {
          "color": "#00cc96",
          "symbol": "circle"
         },
         "mode": "markers",
         "name": "state=GO",
         "showlegend": true,
         "type": "scatter",
         "x": [
          "Arquitetura e Urbanismo",
          "Direito",
          "Engenharia Civil",
          "Engenharia Mecânica",
          "Psicologia",
          "Fisioterapia",
          "Engenharia de Produção",
          "Biomedicina",
          "Farmácia",
          "Enfermagem",
          "Nutrição",
          "Publicidade e Propaganda",
          "Educação Física",
          "Administração",
          "Ciências Contábeis",
          "Estética",
          "Análise e Desenvolvimento de Sistemas",
          "Recursos Humanos",
          "Pedagogia",
          "Logística"
         ],
         "xaxis": "x",
         "y": [
          769.891429,
          678.248148,
          729.476957,
          722.76,
          679.210588,
          795.19,
          738.439091,
          729.493333,
          735.14375,
          752.709545,
          873.298125,
          453.493333,
          647.080952,
          485.891818,
          458.5456,
          567.109091,
          441.888333,
          349.088571,
          307.811739,
          377.778
         ],
         "yaxis": "y"
        },
        {
         "hoverlabel": {
          "namelength": 0
         },
         "hovertemplate": "state=MS<br>canonico=%{x}<br>pef=%{y}",
         "legendgroup": "state=MS",
         "marker": {
          "color": "#ab63fa",
          "symbol": "circle"
         },
         "mode": "markers",
         "name": "state=MS",
         "showlegend": true,
         "type": "scatter",
         "x": [
          "Arquitetura e Urbanismo",
          "Direito",
          "Engenharia Civil",
          "Engenharia Mecânica",
          "Psicologia",
          "Fisioterapia",
          "Engenharia de Produção",
          "Biomedicina",
          "Farmácia",
          "Enfermagem",
          "Nutrição",
          "Publicidade e Propaganda",
          "Educação Física",
          "Administração",
          "Ciências Contábeis",
          "Estética",
          "Análise e Desenvolvimento de Sistemas",
          "Recursos Humanos",
          "Pedagogia",
          "Logística"
         ],
         "xaxis": "x",
         "y": [
          765.187778,
          715.332143,
          688.131818,
          698.4,
          752.453636,
          685.437778,
          679.4425,
          821.882222,
          611.797778,
          659.019,
          645.536667,
          543.663333,
          545.175385,
          589.717692,
          598.71,
          477.01,
          340.65,
          401.7325,
          422.358889,
          365.424
         ],
         "yaxis": "y"
        },
        {
         "hoverlabel": {
          "namelength": 0
         },
         "hovertemplate": "state=RJ<br>canonico=%{x}<br>pef=%{y}",
         "legendgroup": "state=RJ",
         "marker": {
          "color": "#FFA15A",
          "symbol": "circle"
         },
         "mode": "markers",
         "name": "state=RJ",
         "showlegend": true,
         "type": "scatter",
         "x": [
          "Arquitetura e Urbanismo",
          "Direito",
          "Engenharia Civil",
          "Engenharia Mecânica",
          "Psicologia",
          "Fisioterapia",
          "Engenharia de Produção",
          "Biomedicina",
          "Farmácia",
          "Enfermagem",
          "Nutrição",
          "Publicidade e Propaganda",
          "Educação Física",
          "Administração",
          "Ciências Contábeis",
          "Estética",
          "Análise e Desenvolvimento de Sistemas",
          "Recursos Humanos",
          "Pedagogia",
          "Logística"
         ],
         "xaxis": "x",
         "y": [
          913.341429,
          668.203058,
          796.88375,
          971.582778,
          785.38381,
          672.301852,
          812.380133,
          572.47025,
          622.58617,
          589.449324,
          661.673093,
          914.334412,
          624.889512,
          632.028095,
          531.832317,
          569.871818,
          456.696087,
          478.961143,
          394.799552,
          443.323704
         ],
         "yaxis": "y"
        },
        {
         "hoverlabel": {
          "namelength": 0
         },
         "hovertemplate": "state=PI<br>canonico=%{x}<br>pef=%{y}",
         "legendgroup": "state=PI",
         "marker": {
          "color": "#19d3f3",
          "symbol": "circle"
         },
         "mode": "markers",
         "name": "state=PI",
         "showlegend": true,
         "type": "scatter",
         "x": [
          "Arquitetura e Urbanismo",
          "Direito",
          "Engenharia Civil",
          "Engenharia Mecânica",
          "Psicologia",
          "Fisioterapia",
          "Engenharia de Produção",
          "Biomedicina",
          "Farmácia",
          "Enfermagem",
          "Nutrição",
          "Publicidade e Propaganda",
          "Educação Física",
          "Administração",
          "Ciências Contábeis",
          "Estética",
          "Análise e Desenvolvimento de Sistemas",
          "Recursos Humanos",
          "Pedagogia",
          "Logística"
         ],
         "xaxis": "x",
         "y": [
          639.419167,
          642.3325,
          697.707727,
          574.064286,
          610.613333,
          681.377143,
          695.735714,
          623.121176,
          568.664,
          613.26,
          470.288,
          398.178,
          401.162727,
          400.5784,
          387.86,
          353.884167,
          388.904286,
          383.676,
          245.699231,
          359.171111
         ],
         "yaxis": "y"
        },
        {
         "hoverlabel": {
          "namelength": 0
         },
         "hovertemplate": "state=SC<br>canonico=%{x}<br>pef=%{y}",
         "legendgroup": "state=SC",
         "marker": {
          "color": "#FF6692",
          "symbol": "circle"
         },
         "mode": "markers",
         "name": "state=SC",
         "showlegend": true,
         "type": "scatter",
         "x": [
          "Arquitetura e Urbanismo",
          "Direito",
          "Engenharia Civil",
          "Engenharia Mecânica",
          "Psicologia",
          "Fisioterapia",
          "Engenharia de Produção",
          "Biomedicina",
          "Farmácia",
          "Enfermagem",
          "Nutrição",
          "Publicidade e Propaganda",
          "Educação Física",
          "Administração",
          "Ciências Contábeis",
          "Estética",
          "Análise e Desenvolvimento de Sistemas",
          "Recursos Humanos",
          "Pedagogia",
          "Logística"
         ],
         "xaxis": "x",
         "y": [
          784.164583,
          839.662759,
          730.830833,
          693.105,
          777.8592,
          693.03875,
          662.848182,
          746.04,
          768.764286,
          779.005625,
          744.577647,
          569.987273,
          641.330952,
          578.971707,
          554.421563,
          602.855,
          420.345,
          343.913846,
          353.508333,
          606.893333
         ],
         "yaxis": "y"
        },
        {
         "hoverlabel": {
          "namelength": 0
         },
         "hovertemplate": "state=PA<br>canonico=%{x}<br>pef=%{y}",
         "legendgroup": "state=PA",
         "marker": {
          "color": "#B6E880",
          "symbol": "circle"
         },
         "mode": "markers",
         "name": "state=PA",
         "showlegend": true,
         "type": "scatter",
         "x": [
          "Arquitetura e Urbanismo",
          "Direito",
          "Engenharia Civil",
          "Engenharia Mecânica",
          "Psicologia",
          "Fisioterapia",
          "Engenharia de Produção",
          "Biomedicina",
          "Farmácia",
          "Enfermagem",
          "Nutrição",
          "Publicidade e Propaganda",
          "Educação Física",
          "Administração",
          "Ciências Contábeis",
          "Estética",
          "Análise e Desenvolvimento de Sistemas",
          "Recursos Humanos",
          "Pedagogia",
          "Logística"
         ],
         "xaxis": "x",
         "y": [
          773.800909,
          896.186786,
          794.210357,
          740.203529,
          817.407619,
          800.799091,
          744.978235,
          781.304375,
          585.939444,
          746.662963,
          714.474,
          609.01,
          655.524762,
          514.397353,
          522.037407,
          478.753333,
          464.080667,
          394.443333,
          361.569091,
          405.13
         ],
         "yaxis": "y"
        },
        {
         "hoverlabel": {
          "namelength": 0
         },
         "hovertemplate": "state=PR<br>canonico=%{x}<br>pef=%{y}",
         "legendgroup": "state=PR",
         "marker": {
          "color": "#FF97FF",
          "symbol": "circle"
         },
         "mode": "markers",
         "name": "state=PR",
         "showlegend": true,
         "type": "scatter",
         "x": [
          "Arquitetura e Urbanismo",
          "Direito",
          "Engenharia Civil",
          "Engenharia Mecânica",
          "Psicologia",
          "Fisioterapia",
          "Engenharia de Produção",
          "Biomedicina",
          "Farmácia",
          "Enfermagem",
          "Nutrição",
          "Publicidade e Propaganda",
          "Educação Física",
          "Administração",
          "Ciências Contábeis",
          "Estética",
          "Análise e Desenvolvimento de Sistemas",
          "Recursos Humanos",
          "Pedagogia",
          "Logística"
         ],
         "xaxis": "x",
         "y": [
          957.482391,
          860.888769,
          909.738085,
          933.72875,
          888.300217,
          823.634615,
          717.716136,
          809.750625,
          829.600741,
          708.228293,
          786.54697,
          725.469,
          607.602037,
          534.852432,
          531.523621,
          582.7656,
          541.903333,
          392.042083,
          399.1844,
          376.706
         ],
         "yaxis": "y"
        },
        {
         "hoverlabel": {
          "namelength": 0
         },
         "hovertemplate": "state=CE<br>canonico=%{x}<br>pef=%{y}",
         "legendgroup": "state=CE",
         "marker": {
          "color": "#FECB52",
          "symbol": "circle"
         },
         "mode": "markers",
         "name": "state=CE",
         "showlegend": true,
         "type": "scatter",
         "x": [
          "Arquitetura e Urbanismo",
          "Direito",
          "Engenharia Civil",
          "Engenharia Mecânica",
          "Psicologia",
          "Fisioterapia",
          "Engenharia de Produção",
          "Biomedicina",
          "Farmácia",
          "Enfermagem",
          "Nutrição",
          "Publicidade e Propaganda",
          "Educação Física",
          "Administração",
          "Ciências Contábeis",
          "Estética",
          "Análise e Desenvolvimento de Sistemas",
          "Recursos Humanos",
          "Pedagogia",
          "Logística"
         ],
         "xaxis": "x",
         "y": [
          761.686207,
          641.6785,
          734.137059,
          647.728333,
          644.904468,
          575.131389,
          711.1125,
          594.132632,
          666.170435,
          604.21186,
          601.948065,
          496.485,
          420.509302,
          470.032931,
          456.99,
          325.006875,
          378.761765,
          320.355135,
          236.138,
          321.94
         ],
         "yaxis": "y"
        },
        {
         "hoverlabel": {
          "namelength": 0
         },
         "hovertemplate": "state=MA<br>canonico=%{x}<br>pef=%{y}",
         "legendgroup": "state=MA",
         "marker": {
          "color": "#636efa",
          "symbol": "circle"
         },
         "mode": "markers",
         "name": "state=MA",
         "showlegend": true,
         "type": "scatter",
         "x": [
          "Arquitetura e Urbanismo",
          "Direito",
          "Engenharia Civil",
          "Engenharia Mecânica",
          "Psicologia",
          "Fisioterapia",
          "Engenharia de Produção",
          "Biomedicina",
          "Farmácia",
          "Enfermagem",
          "Nutrição",
          "Publicidade e Propaganda",
          "Educação Física",
          "Administração",
          "Ciências Contábeis",
          "Estética",
          "Análise e Desenvolvimento de Sistemas",
          "Recursos Humanos",
          "Pedagogia",
          "Logística"
         ],
         "xaxis": "x",
         "y": [
          797.512222,
          871.551852,
          779.962222,
          790.085,
          693.224545,
          701.154167,
          763.158182,
          756.663333,
          613.048462,
          666.229048,
          638.096429,
          408.1,
          480.312727,
          495.6428,
          462.612667,
          646.962,
          491.89,
          353.977857,
          359.274118,
          300.48125
         ],
         "yaxis": "y"
        },
        {
         "hoverlabel": {
          "namelength": 0
         },
         "hovertemplate": "state=RS<br>canonico=%{x}<br>pef=%{y}",
         "legendgroup": "state=RS",
         "marker": {
          "color": "#EF553B",
          "symbol": "circle"
         },
         "mode": "markers",
         "name": "state=RS",
         "showlegend": true,
         "type": "scatter",
         "x": [
          "Arquitetura e Urbanismo",
          "Direito",
          "Engenharia Civil",
          "Engenharia Mecânica",
          "Psicologia",
          "Fisioterapia",
          "Engenharia de Produção",
          "Biomedicina",
          "Farmácia",
          "Enfermagem",
          "Nutrição",
          "Publicidade e Propaganda",
          "Educação Física",
          "Administração",
          "Ciências Contábeis",
          "Estética",
          "Análise e Desenvolvimento de Sistemas",
          "Recursos Humanos",
          "Pedagogia",
          "Logística"
         ],
         "xaxis": "x",
         "y": [
          941.41125,
          843.6672,
          960.220769,
          1009.240556,
          933.761818,
          1081.724688,
          998.679375,
          1248.319375,
          998.584,
          909.56525,
          935.89,
          685.949,
          687.715161,
          731.856923,
          671.575556,
          542.755,
          712.844286,
          590.145294,
          538.085385,
          490.1625
         ],
         "yaxis": "y"
        },
        {
         "hoverlabel": {
          "namelength": 0
         },
         "hovertemplate": "state=BA<br>canonico=%{x}<br>pef=%{y}",
         "legendgroup": "state=BA",
         "marker": {
          "color": "#00cc96",
          "symbol": "circle"
         },
         "mode": "markers",
         "name": "state=BA",
         "showlegend": true,
         "type": "scatter",
         "x": [
          "Arquitetura e Urbanismo",
          "Direito",
          "Engenharia Civil",
          "Engenharia Mecânica",
          "Psicologia",
          "Fisioterapia",
          "Engenharia de Produção",
          "Biomedicina",
          "Farmácia",
          "Enfermagem",
          "Nutrição",
          "Publicidade e Propaganda",
          "Educação Física",
          "Administração",
          "Ciências Contábeis",
          "Estética",
          "Análise e Desenvolvimento de Sistemas",
          "Recursos Humanos",
          "Pedagogia",
          "Logística"
         ],
         "xaxis": "x",
         "y": [
          792.852821,
          850.613308,
          784.788442,
          770.376471,
          783.313611,
          784.908605,
          737.321569,
          758.393393,
          744.362769,
          787.210538,
          745.808784,
          680.74,
          574.329219,
          492.005922,
          491.930299,
          489.366154,
          419.22,
          351.33,
          370.32,
          336.697778
         ],
         "yaxis": "y"
        },
        {
         "hoverlabel": {
          "namelength": 0
         },
         "hovertemplate": "state=MG<br>canonico=%{x}<br>pef=%{y}",
         "legendgroup": "state=MG",
         "marker": {
          "color": "#ab63fa",
          "symbol": "circle"
         },
         "mode": "markers",
         "name": "state=MG",
         "showlegend": true,
         "type": "scatter",
         "x": [
          "Arquitetura e Urbanismo",
          "Direito",
          "Engenharia Civil",
          "Engenharia Mecânica",
          "Psicologia",
          "Fisioterapia",
          "Engenharia de Produção",
          "Biomedicina",
          "Farmácia",
          "Enfermagem",
          "Nutrição",
          "Publicidade e Propaganda",
          "Educação Física",
          "Administração",
          "Ciências Contábeis",
          "Estética",
          "Análise e Desenvolvimento de Sistemas",
          "Recursos Humanos",
          "Pedagogia",
          "Logística"
         ],
         "xaxis": "x",
         "y": [
          986.826429,
          934.106429,
          895.363243,
          908.640638,
          922.785397,
          877.403607,
          892.521034,
          815.151951,
          932.539444,
          828.938361,
          720.497234,
          837.1415,
          735.412542,
          759.274151,
          755.869079,
          622.094667,
          667.137895,
          511.900541,
          511.20814,
          542.706538
         ],
         "yaxis": "y"
        },
        {
         "hoverlabel": {
          "namelength": 0
         },
         "hovertemplate": "state=ES<br>canonico=%{x}<br>pef=%{y}",
         "legendgroup": "state=ES",
         "marker": {
          "color": "#FFA15A",
          "symbol": "circle"
         },
         "mode": "markers",
         "name": "state=ES",
         "showlegend": true,
         "type": "scatter",
         "x": [
          "Arquitetura e Urbanismo",
          "Direito",
          "Engenharia Civil",
          "Engenharia Mecânica",
          "Psicologia",
          "Fisioterapia",
          "Engenharia de Produção",
          "Biomedicina",
          "Farmácia",
          "Enfermagem",
          "Nutrição",
          "Publicidade e Propaganda",
          "Educação Física",
          "Administração",
          "Ciências Contábeis",
          "Estética",
          "Análise e Desenvolvimento de Sistemas",
          "Recursos Humanos",
          "Pedagogia",
          "Logística"
         ],
         "xaxis": "x",
         "y": [
          846.90125,
          927.136552,
          783.792222,
          785.37,
          890.532,
          788.122857,
          848.744,
          666.631667,
          719.511429,
          742.786364,
          859.306667,
          578.493333,
          671.57,
          562.560455,
          564.17625,
          479.2,
          506.69,
          550.2275,
          466.165385,
          409.97
         ],
         "yaxis": "y"
        },
        {
         "hoverlabel": {
          "namelength": 0
         },
         "hovertemplate": "state=PE<br>canonico=%{x}<br>pef=%{y}",
         "legendgroup": "state=PE",
         "marker": {
          "color": "#19d3f3",
          "symbol": "circle"
         },
         "mode": "markers",
         "name": "state=PE",
         "showlegend": true,
         "type": "scatter",
         "x": [
          "Arquitetura e Urbanismo",
          "Direito",
          "Engenharia Civil",
          "Engenharia Mecânica",
          "Psicologia",
          "Fisioterapia",
          "Engenharia de Produção",
          "Biomedicina",
          "Farmácia",
          "Enfermagem",
          "Nutrição",
          "Publicidade e Propaganda",
          "Educação Física",
          "Administração",
          "Ciências Contábeis",
          "Estética",
          "Análise e Desenvolvimento de Sistemas",
          "Recursos Humanos",
          "Pedagogia",
          "Logística"
         ],
         "xaxis": "x",
         "y": [
          596.648,
          658.87807,
          525.806176,
          514.31,
          539.819189,
          500.975897,
          518.107333,
          505.6744,
          545.500645,
          528.757674,
          477.972941,
          472.906471,
          421.175294,
          394.002037,
          396.129592,
          326.4725,
          375.794211,
          255.234103,
          263.822857,
          240.972188
         ],
         "yaxis": "y"
        },
        {
         "hoverlabel": {
          "namelength": 0
         },
         "hovertemplate": "state=MT<br>canonico=%{x}<br>pef=%{y}",
         "legendgroup": "state=MT",
         "marker": {
          "color": "#FF6692",
          "symbol": "circle"
         },
         "mode": "markers",
         "name": "state=MT",
         "showlegend": true,
         "type": "scatter",
         "x": [
          "Arquitetura e Urbanismo",
          "Direito",
          "Engenharia Civil",
          "Engenharia Mecânica",
          "Psicologia",
          "Fisioterapia",
          "Engenharia de Produção",
          "Biomedicina",
          "Farmácia",
          "Enfermagem",
          "Nutrição",
          "Publicidade e Propaganda",
          "Educação Física",
          "Administração",
          "Ciências Contábeis",
          "Estética",
          "Análise e Desenvolvimento de Sistemas",
          "Recursos Humanos",
          "Pedagogia",
          "Logística"
         ],
         "xaxis": "x",
         "y": [
          885.532,
          829.034571,
          840.038571,
          734.885556,
          990.051538,
          790.406875,
          695.0575,
          882.648333,
          871.34,
          834.034375,
          732.988462,
          773.2225,
          598.133333,
          569.747619,
          524.663684,
          490.56,
          405.074,
          375.333846,
          350.324444,
          232.7175
         ],
         "yaxis": "y"
        },
        {
         "hoverlabel": {
          "namelength": 0
         },
         "hovertemplate": "state=RN<br>canonico=%{x}<br>pef=%{y}",
         "legendgroup": "state=RN",
         "marker": {
          "color": "#B6E880",
          "symbol": "circle"
         },
         "mode": "markers",
         "name": "state=RN",
         "showlegend": true,
         "type": "scatter",
         "x": [
          "Arquitetura e Urbanismo",
          "Direito",
          "Engenharia Civil",
          "Engenharia Mecânica",
          "Psicologia",
          "Fisioterapia",
          "Engenharia de Produção",
          "Biomedicina",
          "Farmácia",
          "Enfermagem",
          "Nutrição",
          "Publicidade e Propaganda",
          "Educação Física",
          "Administração",
          "Ciências Contábeis",
          "Estética",
          "Análise e Desenvolvimento de Sistemas",
          "Recursos Humanos",
          "Pedagogia",
          "Logística"
         ],
         "xaxis": "x",
         "y": [
          788.41,
          670.573636,
          1067.098,
          1077.497143,
          768.810714,
          809.821429,
          696.595,
          758.883333,
          841.379,
          799.259286,
          870.909167,
          565.8,
          657.527895,
          363.6592,
          349.098571,
          553.543333,
          251.38,
          302.322941,
          281.034286,
          235.2
         ],
         "yaxis": "y"
        },
        {
         "hoverlabel": {
          "namelength": 0
         },
         "hovertemplate": "state=PB<br>canonico=%{x}<br>pef=%{y}",
         "legendgroup": "state=PB",
         "marker": {
          "color": "#FF97FF",
          "symbol": "circle"
         },
         "mode": "markers",
         "name": "state=PB",
         "showlegend": true,
         "type": "scatter",
         "x": [
          "Arquitetura e Urbanismo",
          "Direito",
          "Engenharia Civil",
          "Engenharia Mecânica",
          "Psicologia",
          "Fisioterapia",
          "Engenharia de Produção",
          "Biomedicina",
          "Farmácia",
          "Enfermagem",
          "Nutrição",
          "Publicidade e Propaganda",
          "Educação Física",
          "Administração",
          "Ciências Contábeis",
          "Estética",
          "Análise e Desenvolvimento de Sistemas",
          "Recursos Humanos",
          "Pedagogia",
          "Logística"
         ],
         "xaxis": "x",
         "y": [
          585.426923,
          591.091053,
          525.159,
          566.187,
          582.372857,
          504.895714,
          474.97125,
          439.916667,
          505.68,
          494.239231,
          461.392667,
          360.922,
          475.489286,
          361.503478,
          345.030526,
          302.379,
          327.15,
          283.50875,
          229.924286,
          254.04875
         ],
         "yaxis": "y"
        },
        {
         "hoverlabel": {
          "namelength": 0
         },
         "hovertemplate": "state=TO<br>canonico=%{x}<br>pef=%{y}",
         "legendgroup": "state=TO",
         "marker": {
          "color": "#FECB52",
          "symbol": "circle"
         },
         "mode": "markers",
         "name": "state=TO",
         "showlegend": true,
         "type": "scatter",
         "x": [
          "Arquitetura e Urbanismo",
          "Direito",
          "Engenharia Civil",
          "Psicologia",
          "Fisioterapia",
          "Engenharia de Produção",
          "Biomedicina",
          "Farmácia",
          "Enfermagem",
          "Publicidade e Propaganda",
          "Educação Física",
          "Administração",
          "Ciências Contábeis",
          "Estética",
          "Análise e Desenvolvimento de Sistemas",
          "Recursos Humanos",
          "Logística"
         ],
         "xaxis": "x",
         "y": [
          832.995,
          768.106667,
          623.3375,
          532,
          860.085,
          922.84,
          796.935,
          780.72,
          761.205,
          460.67,
          434.085,
          484.105714,
          473.402,
          403.67,
          401.156667,
          382.13,
          347.03
         ],
         "yaxis": "y"
        },
        {
         "hoverlabel": {
          "namelength": 0
         },
         "hovertemplate": "state=AM<br>canonico=%{x}<br>pef=%{y}",
         "legendgroup": "state=AM",
         "marker": {
          "color": "#636efa",
          "symbol": "circle"
         },
         "mode": "markers",
         "name": "state=AM",
         "showlegend": true,
         "type": "scatter",
         "x": [
          "Arquitetura e Urbanismo",
          "Direito",
          "Engenharia Civil",
          "Engenharia Mecânica",
          "Psicologia",
          "Fisioterapia",
          "Engenharia de Produção",
          "Biomedicina",
          "Farmácia",
          "Enfermagem",
          "Nutrição",
          "Publicidade e Propaganda",
          "Educação Física",
          "Administração",
          "Ciências Contábeis",
          "Estética",
          "Análise e Desenvolvimento de Sistemas",
          "Recursos Humanos",
          "Pedagogia",
          "Logística"
         ],
         "xaxis": "x",
         "y": [
          567.178,
          1015.762105,
          588.810625,
          645.855833,
          576.527333,
          588.072308,
          632.35,
          535.384286,
          482.598,
          615.2275,
          505.8375,
          538.914,
          502.315882,
          493.0372,
          473.468261,
          457.46,
          378.15625,
          339.438125,
          368.190625,
          353.966
         ],
         "yaxis": "y"
        },
        {
         "hoverlabel": {
          "namelength": 0
         },
         "hovertemplate": "state=RR<br>canonico=%{x}<br>pef=%{y}",
         "legendgroup": "state=RR",
         "marker": {
          "color": "#EF553B",
          "symbol": "circle"
         },
         "mode": "markers",
         "name": "state=RR",
         "showlegend": true,
         "type": "scatter",
         "x": [
          "Arquitetura e Urbanismo",
          "Direito",
          "Engenharia Civil",
          "Engenharia Mecânica",
          "Psicologia",
          "Fisioterapia",
          "Biomedicina",
          "Farmácia",
          "Enfermagem",
          "Nutrição",
          "Educação Física",
          "Administração",
          "Ciências Contábeis",
          "Pedagogia",
          "Logística"
         ],
         "xaxis": "x",
         "y": [
          543.983333,
          498.15,
          604.22,
          554.23,
          320.05,
          419.12,
          442.8725,
          428.51,
          424.71,
          513.4475,
          435.513333,
          345.166667,
          335.886667,
          269.793333,
          212.345
         ],
         "yaxis": "y"
        },
        {
         "hoverlabel": {
          "namelength": 0
         },
         "hovertemplate": "state=RO<br>canonico=%{x}<br>pef=%{y}",
         "legendgroup": "state=RO",
         "marker": {
          "color": "#00cc96",
          "symbol": "circle"
         },
         "mode": "markers",
         "name": "state=RO",
         "showlegend": true,
         "type": "scatter",
         "x": [
          "Arquitetura e Urbanismo",
          "Direito",
          "Engenharia Civil",
          "Engenharia Mecânica",
          "Psicologia",
          "Fisioterapia",
          "Engenharia de Produção",
          "Biomedicina",
          "Farmácia",
          "Enfermagem",
          "Nutrição",
          "Educação Física",
          "Administração",
          "Ciências Contábeis",
          "Estética",
          "Análise e Desenvolvimento de Sistemas",
          "Recursos Humanos",
          "Pedagogia",
          "Logística"
         ],
         "xaxis": "x",
         "y": [
          1057.458,
          1308.403636,
          1021.40625,
          1058.955,
          823.533333,
          785.716667,
          900.7875,
          832.4025,
          879.56,
          758.57625,
          824.864,
          764.34,
          372.635455,
          475.855714,
          821.56,
          635.94,
          837.9,
          326.852727,
          221.34
         ],
         "yaxis": "y"
        },
        {
         "hoverlabel": {
          "namelength": 0
         },
         "hovertemplate": "state=SE<br>canonico=%{x}<br>pef=%{y}",
         "legendgroup": "state=SE",
         "marker": {
          "color": "#ab63fa",
          "symbol": "circle"
         },
         "mode": "markers",
         "name": "state=SE",
         "showlegend": true,
         "type": "scatter",
         "x": [
          "Arquitetura e Urbanismo",
          "Direito",
          "Engenharia Civil",
          "Engenharia Mecânica",
          "Psicologia",
          "Fisioterapia",
          "Engenharia de Produção",
          "Biomedicina",
          "Farmácia",
          "Enfermagem",
          "Nutrição",
          "Educação Física",
          "Administração",
          "Ciências Contábeis",
          "Estética",
          "Análise e Desenvolvimento de Sistemas",
          "Recursos Humanos",
          "Pedagogia",
          "Logística"
         ],
         "xaxis": "x",
         "y": [
          497.332857,
          691.475833,
          707.549231,
          624.763333,
          619.025714,
          648.735,
          617.658333,
          657.141429,
          636.921429,
          717.694615,
          627.78375,
          455.061429,
          402.090833,
          441.370833,
          369.086667,
          273.995,
          381.01,
          360.532667,
          304.58
         ],
         "yaxis": "y"
        },
        {
         "hoverlabel": {
          "namelength": 0
         },
         "hovertemplate": "state=AL<br>canonico=%{x}<br>pef=%{y}",
         "legendgroup": "state=AL",
         "marker": {
          "color": "#FFA15A",
          "symbol": "circle"
         },
         "mode": "markers",
         "name": "state=AL",
         "showlegend": true,
         "type": "scatter",
         "x": [
          "Arquitetura e Urbanismo",
          "Direito",
          "Engenharia Civil",
          "Engenharia Mecânica",
          "Psicologia",
          "Fisioterapia",
          "Engenharia de Produção",
          "Biomedicina",
          "Farmácia",
          "Enfermagem",
          "Nutrição",
          "Publicidade e Propaganda",
          "Educação Física",
          "Administração",
          "Ciências Contábeis",
          "Estética",
          "Análise e Desenvolvimento de Sistemas",
          "Recursos Humanos",
          "Pedagogia",
          "Logística"
         ],
         "xaxis": "x",
         "y": [
          759.0025,
          631.444,
          838.235455,
          651.144,
          549.719091,
          658.795833,
          706.088889,
          824.883333,
          555.612,
          680.271875,
          590.71,
          395.732,
          526.416875,
          432.937222,
          404.864167,
          551.22,
          265.266667,
          364.631667,
          331.852308,
          294.806
         ],
         "yaxis": "y"
        },
        {
         "hoverlabel": {
          "namelength": 0
         },
         "hovertemplate": "state=AP<br>canonico=%{x}<br>pef=%{y}",
         "legendgroup": "state=AP",
         "marker": {
          "color": "#19d3f3",
          "symbol": "circle"
         },
         "mode": "markers",
         "name": "state=AP",
         "showlegend": true,
         "type": "scatter",
         "x": [
          "Arquitetura e Urbanismo",
          "Direito",
          "Engenharia Civil",
          "Engenharia Mecânica",
          "Psicologia",
          "Fisioterapia",
          "Biomedicina",
          "Farmácia",
          "Enfermagem",
          "Nutrição",
          "Publicidade e Propaganda",
          "Educação Física",
          "Administração",
          "Ciências Contábeis",
          "Recursos Humanos",
          "Pedagogia",
          "Logística"
         ],
         "xaxis": "x",
         "y": [
          1162.295,
          867.48375,
          795.9625,
          1017.145,
          804.52,
          976.25,
          894.73,
          1106.63,
          1193.628333,
          805.785,
          337.08,
          962.4975,
          541.99125,
          466.961667,
          426.0575,
          457.97,
          245.66
         ],
         "yaxis": "y"
        },
        {
         "hoverlabel": {
          "namelength": 0
         },
         "hovertemplate": "state=AC<br>canonico=%{x}<br>pef=%{y}",
         "legendgroup": "state=AC",
         "marker": {
          "color": "#FF6692",
          "symbol": "circle"
         },
         "mode": "markers",
         "name": "state=AC",
         "showlegend": true,
         "type": "scatter",
         "x": [
          "Direito",
          "Engenharia Civil",
          "Engenharia Mecânica",
          "Psicologia",
          "Enfermagem",
          "Educação Física",
          "Administração",
          "Ciências Contábeis",
          "Logística"
         ],
         "xaxis": "x",
         "y": [
          649.995,
          798.41,
          798.41,
          512.9,
          481.84,
          428.3,
          341,
          341,
          212.345
         ],
         "yaxis": "y"
        }
       ],
       "layout": {
        "height": 600,
        "legend": {
         "tracegroupgap": 0
        },
        "margin": {
         "t": 60
        },
        "template": {
         "data": {
          "bar": [
           {
            "error_x": {
             "color": "#2a3f5f"
            },
            "error_y": {
             "color": "#2a3f5f"
            },
            "marker": {
             "line": {
              "color": "#E5ECF6",
              "width": 0.5
             }
            },
            "type": "bar"
           }
          ],
          "barpolar": [
           {
            "marker": {
             "line": {
              "color": "#E5ECF6",
              "width": 0.5
             }
            },
            "type": "barpolar"
           }
          ],
          "carpet": [
           {
            "aaxis": {
             "endlinecolor": "#2a3f5f",
             "gridcolor": "white",
             "linecolor": "white",
             "minorgridcolor": "white",
             "startlinecolor": "#2a3f5f"
            },
            "baxis": {
             "endlinecolor": "#2a3f5f",
             "gridcolor": "white",
             "linecolor": "white",
             "minorgridcolor": "white",
             "startlinecolor": "#2a3f5f"
            },
            "type": "carpet"
           }
          ],
          "choropleth": [
           {
            "colorbar": {
             "outlinewidth": 0,
             "ticks": ""
            },
            "type": "choropleth"
           }
          ],
          "contour": [
           {
            "colorbar": {
             "outlinewidth": 0,
             "ticks": ""
            },
            "colorscale": [
             [
              0,
              "#0d0887"
             ],
             [
              0.1111111111111111,
              "#46039f"
             ],
             [
              0.2222222222222222,
              "#7201a8"
             ],
             [
              0.3333333333333333,
              "#9c179e"
             ],
             [
              0.4444444444444444,
              "#bd3786"
             ],
             [
              0.5555555555555556,
              "#d8576b"
             ],
             [
              0.6666666666666666,
              "#ed7953"
             ],
             [
              0.7777777777777778,
              "#fb9f3a"
             ],
             [
              0.8888888888888888,
              "#fdca26"
             ],
             [
              1,
              "#f0f921"
             ]
            ],
            "type": "contour"
           }
          ],
          "contourcarpet": [
           {
            "colorbar": {
             "outlinewidth": 0,
             "ticks": ""
            },
            "type": "contourcarpet"
           }
          ],
          "heatmap": [
           {
            "colorbar": {
             "outlinewidth": 0,
             "ticks": ""
            },
            "colorscale": [
             [
              0,
              "#0d0887"
             ],
             [
              0.1111111111111111,
              "#46039f"
             ],
             [
              0.2222222222222222,
              "#7201a8"
             ],
             [
              0.3333333333333333,
              "#9c179e"
             ],
             [
              0.4444444444444444,
              "#bd3786"
             ],
             [
              0.5555555555555556,
              "#d8576b"
             ],
             [
              0.6666666666666666,
              "#ed7953"
             ],
             [
              0.7777777777777778,
              "#fb9f3a"
             ],
             [
              0.8888888888888888,
              "#fdca26"
             ],
             [
              1,
              "#f0f921"
             ]
            ],
            "type": "heatmap"
           }
          ],
          "heatmapgl": [
           {
            "colorbar": {
             "outlinewidth": 0,
             "ticks": ""
            },
            "colorscale": [
             [
              0,
              "#0d0887"
             ],
             [
              0.1111111111111111,
              "#46039f"
             ],
             [
              0.2222222222222222,
              "#7201a8"
             ],
             [
              0.3333333333333333,
              "#9c179e"
             ],
             [
              0.4444444444444444,
              "#bd3786"
             ],
             [
              0.5555555555555556,
              "#d8576b"
             ],
             [
              0.6666666666666666,
              "#ed7953"
             ],
             [
              0.7777777777777778,
              "#fb9f3a"
             ],
             [
              0.8888888888888888,
              "#fdca26"
             ],
             [
              1,
              "#f0f921"
             ]
            ],
            "type": "heatmapgl"
           }
          ],
          "histogram": [
           {
            "marker": {
             "colorbar": {
              "outlinewidth": 0,
              "ticks": ""
             }
            },
            "type": "histogram"
           }
          ],
          "histogram2d": [
           {
            "colorbar": {
             "outlinewidth": 0,
             "ticks": ""
            },
            "colorscale": [
             [
              0,
              "#0d0887"
             ],
             [
              0.1111111111111111,
              "#46039f"
             ],
             [
              0.2222222222222222,
              "#7201a8"
             ],
             [
              0.3333333333333333,
              "#9c179e"
             ],
             [
              0.4444444444444444,
              "#bd3786"
             ],
             [
              0.5555555555555556,
              "#d8576b"
             ],
             [
              0.6666666666666666,
              "#ed7953"
             ],
             [
              0.7777777777777778,
              "#fb9f3a"
             ],
             [
              0.8888888888888888,
              "#fdca26"
             ],
             [
              1,
              "#f0f921"
             ]
            ],
            "type": "histogram2d"
           }
          ],
          "histogram2dcontour": [
           {
            "colorbar": {
             "outlinewidth": 0,
             "ticks": ""
            },
            "colorscale": [
             [
              0,
              "#0d0887"
             ],
             [
              0.1111111111111111,
              "#46039f"
             ],
             [
              0.2222222222222222,
              "#7201a8"
             ],
             [
              0.3333333333333333,
              "#9c179e"
             ],
             [
              0.4444444444444444,
              "#bd3786"
             ],
             [
              0.5555555555555556,
              "#d8576b"
             ],
             [
              0.6666666666666666,
              "#ed7953"
             ],
             [
              0.7777777777777778,
              "#fb9f3a"
             ],
             [
              0.8888888888888888,
              "#fdca26"
             ],
             [
              1,
              "#f0f921"
             ]
            ],
            "type": "histogram2dcontour"
           }
          ],
          "mesh3d": [
           {
            "colorbar": {
             "outlinewidth": 0,
             "ticks": ""
            },
            "type": "mesh3d"
           }
          ],
          "parcoords": [
           {
            "line": {
             "colorbar": {
              "outlinewidth": 0,
              "ticks": ""
             }
            },
            "type": "parcoords"
           }
          ],
          "scatter": [
           {
            "marker": {
             "colorbar": {
              "outlinewidth": 0,
              "ticks": ""
             }
            },
            "type": "scatter"
           }
          ],
          "scatter3d": [
           {
            "line": {
             "colorbar": {
              "outlinewidth": 0,
              "ticks": ""
             }
            },
            "marker": {
             "colorbar": {
              "outlinewidth": 0,
              "ticks": ""
             }
            },
            "type": "scatter3d"
           }
          ],
          "scattercarpet": [
           {
            "marker": {
             "colorbar": {
              "outlinewidth": 0,
              "ticks": ""
             }
            },
            "type": "scattercarpet"
           }
          ],
          "scattergeo": [
           {
            "marker": {
             "colorbar": {
              "outlinewidth": 0,
              "ticks": ""
             }
            },
            "type": "scattergeo"
           }
          ],
          "scattergl": [
           {
            "marker": {
             "colorbar": {
              "outlinewidth": 0,
              "ticks": ""
             }
            },
            "type": "scattergl"
           }
          ],
          "scattermapbox": [
           {
            "marker": {
             "colorbar": {
              "outlinewidth": 0,
              "ticks": ""
             }
            },
            "type": "scattermapbox"
           }
          ],
          "scatterpolar": [
           {
            "marker": {
             "colorbar": {
              "outlinewidth": 0,
              "ticks": ""
             }
            },
            "type": "scatterpolar"
           }
          ],
          "scatterpolargl": [
           {
            "marker": {
             "colorbar": {
              "outlinewidth": 0,
              "ticks": ""
             }
            },
            "type": "scatterpolargl"
           }
          ],
          "scatterternary": [
           {
            "marker": {
             "colorbar": {
              "outlinewidth": 0,
              "ticks": ""
             }
            },
            "type": "scatterternary"
           }
          ],
          "surface": [
           {
            "colorbar": {
             "outlinewidth": 0,
             "ticks": ""
            },
            "colorscale": [
             [
              0,
              "#0d0887"
             ],
             [
              0.1111111111111111,
              "#46039f"
             ],
             [
              0.2222222222222222,
              "#7201a8"
             ],
             [
              0.3333333333333333,
              "#9c179e"
             ],
             [
              0.4444444444444444,
              "#bd3786"
             ],
             [
              0.5555555555555556,
              "#d8576b"
             ],
             [
              0.6666666666666666,
              "#ed7953"
             ],
             [
              0.7777777777777778,
              "#fb9f3a"
             ],
             [
              0.8888888888888888,
              "#fdca26"
             ],
             [
              1,
              "#f0f921"
             ]
            ],
            "type": "surface"
           }
          ],
          "table": [
           {
            "cells": {
             "fill": {
              "color": "#EBF0F8"
             },
             "line": {
              "color": "white"
             }
            },
            "header": {
             "fill": {
              "color": "#C8D4E3"
             },
             "line": {
              "color": "white"
             }
            },
            "type": "table"
           }
          ]
         },
         "layout": {
          "annotationdefaults": {
           "arrowcolor": "#2a3f5f",
           "arrowhead": 0,
           "arrowwidth": 1
          },
          "colorscale": {
           "diverging": [
            [
             0,
             "#8e0152"
            ],
            [
             0.1,
             "#c51b7d"
            ],
            [
             0.2,
             "#de77ae"
            ],
            [
             0.3,
             "#f1b6da"
            ],
            [
             0.4,
             "#fde0ef"
            ],
            [
             0.5,
             "#f7f7f7"
            ],
            [
             0.6,
             "#e6f5d0"
            ],
            [
             0.7,
             "#b8e186"
            ],
            [
             0.8,
             "#7fbc41"
            ],
            [
             0.9,
             "#4d9221"
            ],
            [
             1,
             "#276419"
            ]
           ],
           "sequential": [
            [
             0,
             "#0d0887"
            ],
            [
             0.1111111111111111,
             "#46039f"
            ],
            [
             0.2222222222222222,
             "#7201a8"
            ],
            [
             0.3333333333333333,
             "#9c179e"
            ],
            [
             0.4444444444444444,
             "#bd3786"
            ],
            [
             0.5555555555555556,
             "#d8576b"
            ],
            [
             0.6666666666666666,
             "#ed7953"
            ],
            [
             0.7777777777777778,
             "#fb9f3a"
            ],
            [
             0.8888888888888888,
             "#fdca26"
            ],
            [
             1,
             "#f0f921"
            ]
           ],
           "sequentialminus": [
            [
             0,
             "#0d0887"
            ],
            [
             0.1111111111111111,
             "#46039f"
            ],
            [
             0.2222222222222222,
             "#7201a8"
            ],
            [
             0.3333333333333333,
             "#9c179e"
            ],
            [
             0.4444444444444444,
             "#bd3786"
            ],
            [
             0.5555555555555556,
             "#d8576b"
            ],
            [
             0.6666666666666666,
             "#ed7953"
            ],
            [
             0.7777777777777778,
             "#fb9f3a"
            ],
            [
             0.8888888888888888,
             "#fdca26"
            ],
            [
             1,
             "#f0f921"
            ]
           ]
          },
          "colorway": [
           "#636efa",
           "#EF553B",
           "#00cc96",
           "#ab63fa",
           "#FFA15A",
           "#19d3f3",
           "#FF6692",
           "#B6E880",
           "#FF97FF",
           "#FECB52"
          ],
          "font": {
           "color": "#2a3f5f"
          },
          "geo": {
           "bgcolor": "white",
           "lakecolor": "white",
           "landcolor": "#E5ECF6",
           "showlakes": true,
           "showland": true,
           "subunitcolor": "white"
          },
          "hoverlabel": {
           "align": "left"
          },
          "hovermode": "closest",
          "mapbox": {
           "style": "light"
          },
          "paper_bgcolor": "white",
          "plot_bgcolor": "#E5ECF6",
          "polar": {
           "angularaxis": {
            "gridcolor": "white",
            "linecolor": "white",
            "ticks": ""
           },
           "bgcolor": "#E5ECF6",
           "radialaxis": {
            "gridcolor": "white",
            "linecolor": "white",
            "ticks": ""
           }
          },
          "scene": {
           "xaxis": {
            "backgroundcolor": "#E5ECF6",
            "gridcolor": "white",
            "gridwidth": 2,
            "linecolor": "white",
            "showbackground": true,
            "ticks": "",
            "zerolinecolor": "white"
           },
           "yaxis": {
            "backgroundcolor": "#E5ECF6",
            "gridcolor": "white",
            "gridwidth": 2,
            "linecolor": "white",
            "showbackground": true,
            "ticks": "",
            "zerolinecolor": "white"
           },
           "zaxis": {
            "backgroundcolor": "#E5ECF6",
            "gridcolor": "white",
            "gridwidth": 2,
            "linecolor": "white",
            "showbackground": true,
            "ticks": "",
            "zerolinecolor": "white"
           }
          },
          "shapedefaults": {
           "line": {
            "color": "#2a3f5f"
           }
          },
          "ternary": {
           "aaxis": {
            "gridcolor": "white",
            "linecolor": "white",
            "ticks": ""
           },
           "baxis": {
            "gridcolor": "white",
            "linecolor": "white",
            "ticks": ""
           },
           "bgcolor": "#E5ECF6",
           "caxis": {
            "gridcolor": "white",
            "linecolor": "white",
            "ticks": ""
           }
          },
          "title": {
           "x": 0.05
          },
          "xaxis": {
           "automargin": true,
           "gridcolor": "white",
           "linecolor": "white",
           "ticks": "",
           "zerolinecolor": "white",
           "zerolinewidth": 2
          },
          "yaxis": {
           "automargin": true,
           "gridcolor": "white",
           "linecolor": "white",
           "ticks": "",
           "zerolinecolor": "white",
           "zerolinewidth": 2
          }
         }
        },
        "xaxis": {
         "anchor": "y",
         "domain": [
          0,
          0.98
         ],
         "title": {
          "text": "canonico"
         }
        },
        "yaxis": {
         "anchor": "x",
         "domain": [
          0,
          1
         ],
         "title": {
          "text": "pef"
         }
        }
       }
      },
      "text/html": [
       "<div>\n",
       "        \n",
       "        \n",
       "            <div id=\"774eaf11-9945-4fd2-92e0-8fc1a0a0997c\" class=\"plotly-graph-div\" style=\"height:600px; width:100%;\"></div>\n",
       "            <script type=\"text/javascript\">\n",
       "                require([\"plotly\"], function(Plotly) {\n",
       "                    window.PLOTLYENV=window.PLOTLYENV || {};\n",
       "                    \n",
       "                if (document.getElementById(\"774eaf11-9945-4fd2-92e0-8fc1a0a0997c\")) {\n",
       "                    Plotly.newPlot(\n",
       "                        '774eaf11-9945-4fd2-92e0-8fc1a0a0997c',\n",
       "                        [{\"hoverlabel\": {\"namelength\": 0}, \"hovertemplate\": \"state=SP<br>canonico=%{x}<br>pef=%{y}\", \"legendgroup\": \"state=SP\", \"marker\": {\"color\": \"#636efa\", \"symbol\": \"circle\"}, \"mode\": \"markers\", \"name\": \"state=SP\", \"showlegend\": true, \"type\": \"scatter\", \"x\": [\"Arquitetura e Urbanismo\", \"Direito\", \"Engenharia Civil\", \"Engenharia Mec\\u00e2nica\", \"Psicologia\", \"Fisioterapia\", \"Engenharia de Produ\\u00e7\\u00e3o\", \"Biomedicina\", \"Farm\\u00e1cia\", \"Enfermagem\", \"Nutri\\u00e7\\u00e3o\", \"Publicidade e Propaganda\", \"Educa\\u00e7\\u00e3o F\\u00edsica\", \"Administra\\u00e7\\u00e3o\", \"Ci\\u00eancias Cont\\u00e1beis\", \"Est\\u00e9tica\", \"An\\u00e1lise e Desenvolvimento de Sistemas\", \"Recursos Humanos\", \"Pedagogia\", \"Log\\u00edstica\"], \"xaxis\": \"x\", \"y\": [781.501302, 715.890033, 740.079638, 727.327651, 739.856681, 699.96685, 701.317416, 652.939598, 656.094231, 628.638502, 621.521872, 626.195966, 520.589827, 548.979756, 508.979846, 509.696693, 442.345063, 382.115405, 394.283099, 372.202835], \"yaxis\": \"y\"}, {\"hoverlabel\": {\"namelength\": 0}, \"hovertemplate\": \"state=DF<br>canonico=%{x}<br>pef=%{y}\", \"legendgroup\": \"state=DF\", \"marker\": {\"color\": \"#EF553B\", \"symbol\": \"circle\"}, \"mode\": \"markers\", \"name\": \"state=DF\", \"showlegend\": true, \"type\": \"scatter\", \"x\": [\"Arquitetura e Urbanismo\", \"Direito\", \"Engenharia Civil\", \"Engenharia Mec\\u00e2nica\", \"Psicologia\", \"Fisioterapia\", \"Engenharia de Produ\\u00e7\\u00e3o\", \"Biomedicina\", \"Farm\\u00e1cia\", \"Enfermagem\", \"Nutri\\u00e7\\u00e3o\", \"Publicidade e Propaganda\", \"Educa\\u00e7\\u00e3o F\\u00edsica\", \"Administra\\u00e7\\u00e3o\", \"Ci\\u00eancias Cont\\u00e1beis\", \"Est\\u00e9tica\", \"An\\u00e1lise e Desenvolvimento de Sistemas\", \"Recursos Humanos\", \"Pedagogia\", \"Log\\u00edstica\"], \"xaxis\": \"x\", \"y\": [1175.295909, 990.551455, 1117.456, 843.953333, 1176.201515, 930.930333, 779.068889, 962.244138, 991.221071, 857.88125, 836.5384, 812.944375, 688.149821, 540.124167, 511.721463, 703.694545, 527.652963, 439.518367, 414.839608, 456.831333], \"yaxis\": \"y\"}, {\"hoverlabel\": {\"namelength\": 0}, \"hovertemplate\": \"state=GO<br>canonico=%{x}<br>pef=%{y}\", \"legendgroup\": \"state=GO\", \"marker\": {\"color\": \"#00cc96\", \"symbol\": \"circle\"}, \"mode\": \"markers\", \"name\": \"state=GO\", \"showlegend\": true, \"type\": \"scatter\", \"x\": [\"Arquitetura e Urbanismo\", \"Direito\", \"Engenharia Civil\", \"Engenharia Mec\\u00e2nica\", \"Psicologia\", \"Fisioterapia\", \"Engenharia de Produ\\u00e7\\u00e3o\", \"Biomedicina\", \"Farm\\u00e1cia\", \"Enfermagem\", \"Nutri\\u00e7\\u00e3o\", \"Publicidade e Propaganda\", \"Educa\\u00e7\\u00e3o F\\u00edsica\", \"Administra\\u00e7\\u00e3o\", \"Ci\\u00eancias Cont\\u00e1beis\", \"Est\\u00e9tica\", \"An\\u00e1lise e Desenvolvimento de Sistemas\", \"Recursos Humanos\", \"Pedagogia\", \"Log\\u00edstica\"], \"xaxis\": \"x\", \"y\": [769.891429, 678.248148, 729.476957, 722.76, 679.210588, 795.19, 738.439091, 729.493333, 735.14375, 752.709545, 873.298125, 453.493333, 647.080952, 485.891818, 458.5456, 567.109091, 441.888333, 349.088571, 307.811739, 377.778], \"yaxis\": \"y\"}, {\"hoverlabel\": {\"namelength\": 0}, \"hovertemplate\": \"state=MS<br>canonico=%{x}<br>pef=%{y}\", \"legendgroup\": \"state=MS\", \"marker\": {\"color\": \"#ab63fa\", \"symbol\": \"circle\"}, \"mode\": \"markers\", \"name\": \"state=MS\", \"showlegend\": true, \"type\": \"scatter\", \"x\": [\"Arquitetura e Urbanismo\", \"Direito\", \"Engenharia Civil\", \"Engenharia Mec\\u00e2nica\", \"Psicologia\", \"Fisioterapia\", \"Engenharia de Produ\\u00e7\\u00e3o\", \"Biomedicina\", \"Farm\\u00e1cia\", \"Enfermagem\", \"Nutri\\u00e7\\u00e3o\", \"Publicidade e Propaganda\", \"Educa\\u00e7\\u00e3o F\\u00edsica\", \"Administra\\u00e7\\u00e3o\", \"Ci\\u00eancias Cont\\u00e1beis\", \"Est\\u00e9tica\", \"An\\u00e1lise e Desenvolvimento de Sistemas\", \"Recursos Humanos\", \"Pedagogia\", \"Log\\u00edstica\"], \"xaxis\": \"x\", \"y\": [765.187778, 715.332143, 688.131818, 698.4, 752.453636, 685.437778, 679.4425, 821.882222, 611.797778, 659.019, 645.536667, 543.663333, 545.175385, 589.717692, 598.71, 477.01, 340.65, 401.7325, 422.358889, 365.424], \"yaxis\": \"y\"}, {\"hoverlabel\": {\"namelength\": 0}, \"hovertemplate\": \"state=RJ<br>canonico=%{x}<br>pef=%{y}\", \"legendgroup\": \"state=RJ\", \"marker\": {\"color\": \"#FFA15A\", \"symbol\": \"circle\"}, \"mode\": \"markers\", \"name\": \"state=RJ\", \"showlegend\": true, \"type\": \"scatter\", \"x\": [\"Arquitetura e Urbanismo\", \"Direito\", \"Engenharia Civil\", \"Engenharia Mec\\u00e2nica\", \"Psicologia\", \"Fisioterapia\", \"Engenharia de Produ\\u00e7\\u00e3o\", \"Biomedicina\", \"Farm\\u00e1cia\", \"Enfermagem\", \"Nutri\\u00e7\\u00e3o\", \"Publicidade e Propaganda\", \"Educa\\u00e7\\u00e3o F\\u00edsica\", \"Administra\\u00e7\\u00e3o\", \"Ci\\u00eancias Cont\\u00e1beis\", \"Est\\u00e9tica\", \"An\\u00e1lise e Desenvolvimento de Sistemas\", \"Recursos Humanos\", \"Pedagogia\", \"Log\\u00edstica\"], \"xaxis\": \"x\", \"y\": [913.341429, 668.203058, 796.88375, 971.582778, 785.38381, 672.301852, 812.380133, 572.47025, 622.58617, 589.449324, 661.673093, 914.334412, 624.889512, 632.028095, 531.832317, 569.871818, 456.696087, 478.961143, 394.799552, 443.323704], \"yaxis\": \"y\"}, {\"hoverlabel\": {\"namelength\": 0}, \"hovertemplate\": \"state=PI<br>canonico=%{x}<br>pef=%{y}\", \"legendgroup\": \"state=PI\", \"marker\": {\"color\": \"#19d3f3\", \"symbol\": \"circle\"}, \"mode\": \"markers\", \"name\": \"state=PI\", \"showlegend\": true, \"type\": \"scatter\", \"x\": [\"Arquitetura e Urbanismo\", \"Direito\", \"Engenharia Civil\", \"Engenharia Mec\\u00e2nica\", \"Psicologia\", \"Fisioterapia\", \"Engenharia de Produ\\u00e7\\u00e3o\", \"Biomedicina\", \"Farm\\u00e1cia\", \"Enfermagem\", \"Nutri\\u00e7\\u00e3o\", \"Publicidade e Propaganda\", \"Educa\\u00e7\\u00e3o F\\u00edsica\", \"Administra\\u00e7\\u00e3o\", \"Ci\\u00eancias Cont\\u00e1beis\", \"Est\\u00e9tica\", \"An\\u00e1lise e Desenvolvimento de Sistemas\", \"Recursos Humanos\", \"Pedagogia\", \"Log\\u00edstica\"], \"xaxis\": \"x\", \"y\": [639.419167, 642.3325, 697.707727, 574.064286, 610.613333, 681.377143, 695.735714, 623.121176, 568.664, 613.26, 470.288, 398.178, 401.162727, 400.5784, 387.86, 353.884167, 388.904286, 383.676, 245.699231, 359.171111], \"yaxis\": \"y\"}, {\"hoverlabel\": {\"namelength\": 0}, \"hovertemplate\": \"state=SC<br>canonico=%{x}<br>pef=%{y}\", \"legendgroup\": \"state=SC\", \"marker\": {\"color\": \"#FF6692\", \"symbol\": \"circle\"}, \"mode\": \"markers\", \"name\": \"state=SC\", \"showlegend\": true, \"type\": \"scatter\", \"x\": [\"Arquitetura e Urbanismo\", \"Direito\", \"Engenharia Civil\", \"Engenharia Mec\\u00e2nica\", \"Psicologia\", \"Fisioterapia\", \"Engenharia de Produ\\u00e7\\u00e3o\", \"Biomedicina\", \"Farm\\u00e1cia\", \"Enfermagem\", \"Nutri\\u00e7\\u00e3o\", \"Publicidade e Propaganda\", \"Educa\\u00e7\\u00e3o F\\u00edsica\", \"Administra\\u00e7\\u00e3o\", \"Ci\\u00eancias Cont\\u00e1beis\", \"Est\\u00e9tica\", \"An\\u00e1lise e Desenvolvimento de Sistemas\", \"Recursos Humanos\", \"Pedagogia\", \"Log\\u00edstica\"], \"xaxis\": \"x\", \"y\": [784.164583, 839.662759, 730.830833, 693.105, 777.8592, 693.03875, 662.848182, 746.04, 768.764286, 779.005625, 744.577647, 569.987273, 641.330952, 578.971707, 554.421563, 602.855, 420.345, 343.913846, 353.508333, 606.893333], \"yaxis\": \"y\"}, {\"hoverlabel\": {\"namelength\": 0}, \"hovertemplate\": \"state=PA<br>canonico=%{x}<br>pef=%{y}\", \"legendgroup\": \"state=PA\", \"marker\": {\"color\": \"#B6E880\", \"symbol\": \"circle\"}, \"mode\": \"markers\", \"name\": \"state=PA\", \"showlegend\": true, \"type\": \"scatter\", \"x\": [\"Arquitetura e Urbanismo\", \"Direito\", \"Engenharia Civil\", \"Engenharia Mec\\u00e2nica\", \"Psicologia\", \"Fisioterapia\", \"Engenharia de Produ\\u00e7\\u00e3o\", \"Biomedicina\", \"Farm\\u00e1cia\", \"Enfermagem\", \"Nutri\\u00e7\\u00e3o\", \"Publicidade e Propaganda\", \"Educa\\u00e7\\u00e3o F\\u00edsica\", \"Administra\\u00e7\\u00e3o\", \"Ci\\u00eancias Cont\\u00e1beis\", \"Est\\u00e9tica\", \"An\\u00e1lise e Desenvolvimento de Sistemas\", \"Recursos Humanos\", \"Pedagogia\", \"Log\\u00edstica\"], \"xaxis\": \"x\", \"y\": [773.800909, 896.186786, 794.210357, 740.203529, 817.407619, 800.799091, 744.978235, 781.304375, 585.939444, 746.662963, 714.474, 609.01, 655.524762, 514.397353, 522.037407, 478.753333, 464.080667, 394.443333, 361.569091, 405.13], \"yaxis\": \"y\"}, {\"hoverlabel\": {\"namelength\": 0}, \"hovertemplate\": \"state=PR<br>canonico=%{x}<br>pef=%{y}\", \"legendgroup\": \"state=PR\", \"marker\": {\"color\": \"#FF97FF\", \"symbol\": \"circle\"}, \"mode\": \"markers\", \"name\": \"state=PR\", \"showlegend\": true, \"type\": \"scatter\", \"x\": [\"Arquitetura e Urbanismo\", \"Direito\", \"Engenharia Civil\", \"Engenharia Mec\\u00e2nica\", \"Psicologia\", \"Fisioterapia\", \"Engenharia de Produ\\u00e7\\u00e3o\", \"Biomedicina\", \"Farm\\u00e1cia\", \"Enfermagem\", \"Nutri\\u00e7\\u00e3o\", \"Publicidade e Propaganda\", \"Educa\\u00e7\\u00e3o F\\u00edsica\", \"Administra\\u00e7\\u00e3o\", \"Ci\\u00eancias Cont\\u00e1beis\", \"Est\\u00e9tica\", \"An\\u00e1lise e Desenvolvimento de Sistemas\", \"Recursos Humanos\", \"Pedagogia\", \"Log\\u00edstica\"], \"xaxis\": \"x\", \"y\": [957.482391, 860.888769, 909.738085, 933.72875, 888.300217, 823.634615, 717.716136, 809.750625, 829.600741, 708.228293, 786.54697, 725.469, 607.602037, 534.852432, 531.523621, 582.7656, 541.903333, 392.042083, 399.1844, 376.706], \"yaxis\": \"y\"}, {\"hoverlabel\": {\"namelength\": 0}, \"hovertemplate\": \"state=CE<br>canonico=%{x}<br>pef=%{y}\", \"legendgroup\": \"state=CE\", \"marker\": {\"color\": \"#FECB52\", \"symbol\": \"circle\"}, \"mode\": \"markers\", \"name\": \"state=CE\", \"showlegend\": true, \"type\": \"scatter\", \"x\": [\"Arquitetura e Urbanismo\", \"Direito\", \"Engenharia Civil\", \"Engenharia Mec\\u00e2nica\", \"Psicologia\", \"Fisioterapia\", \"Engenharia de Produ\\u00e7\\u00e3o\", \"Biomedicina\", \"Farm\\u00e1cia\", \"Enfermagem\", \"Nutri\\u00e7\\u00e3o\", \"Publicidade e Propaganda\", \"Educa\\u00e7\\u00e3o F\\u00edsica\", \"Administra\\u00e7\\u00e3o\", \"Ci\\u00eancias Cont\\u00e1beis\", \"Est\\u00e9tica\", \"An\\u00e1lise e Desenvolvimento de Sistemas\", \"Recursos Humanos\", \"Pedagogia\", \"Log\\u00edstica\"], \"xaxis\": \"x\", \"y\": [761.686207, 641.6785, 734.137059, 647.728333, 644.904468, 575.131389, 711.1125, 594.132632, 666.170435, 604.21186, 601.948065, 496.485, 420.509302, 470.032931, 456.99, 325.006875, 378.761765, 320.355135, 236.138, 321.94], \"yaxis\": \"y\"}, {\"hoverlabel\": {\"namelength\": 0}, \"hovertemplate\": \"state=MA<br>canonico=%{x}<br>pef=%{y}\", \"legendgroup\": \"state=MA\", \"marker\": {\"color\": \"#636efa\", \"symbol\": \"circle\"}, \"mode\": \"markers\", \"name\": \"state=MA\", \"showlegend\": true, \"type\": \"scatter\", \"x\": [\"Arquitetura e Urbanismo\", \"Direito\", \"Engenharia Civil\", \"Engenharia Mec\\u00e2nica\", \"Psicologia\", \"Fisioterapia\", \"Engenharia de Produ\\u00e7\\u00e3o\", \"Biomedicina\", \"Farm\\u00e1cia\", \"Enfermagem\", \"Nutri\\u00e7\\u00e3o\", \"Publicidade e Propaganda\", \"Educa\\u00e7\\u00e3o F\\u00edsica\", \"Administra\\u00e7\\u00e3o\", \"Ci\\u00eancias Cont\\u00e1beis\", \"Est\\u00e9tica\", \"An\\u00e1lise e Desenvolvimento de Sistemas\", \"Recursos Humanos\", \"Pedagogia\", \"Log\\u00edstica\"], \"xaxis\": \"x\", \"y\": [797.512222, 871.551852, 779.962222, 790.085, 693.224545, 701.154167, 763.158182, 756.663333, 613.048462, 666.229048, 638.096429, 408.1, 480.312727, 495.6428, 462.612667, 646.962, 491.89, 353.977857, 359.274118, 300.48125], \"yaxis\": \"y\"}, {\"hoverlabel\": {\"namelength\": 0}, \"hovertemplate\": \"state=RS<br>canonico=%{x}<br>pef=%{y}\", \"legendgroup\": \"state=RS\", \"marker\": {\"color\": \"#EF553B\", \"symbol\": \"circle\"}, \"mode\": \"markers\", \"name\": \"state=RS\", \"showlegend\": true, \"type\": \"scatter\", \"x\": [\"Arquitetura e Urbanismo\", \"Direito\", \"Engenharia Civil\", \"Engenharia Mec\\u00e2nica\", \"Psicologia\", \"Fisioterapia\", \"Engenharia de Produ\\u00e7\\u00e3o\", \"Biomedicina\", \"Farm\\u00e1cia\", \"Enfermagem\", \"Nutri\\u00e7\\u00e3o\", \"Publicidade e Propaganda\", \"Educa\\u00e7\\u00e3o F\\u00edsica\", \"Administra\\u00e7\\u00e3o\", \"Ci\\u00eancias Cont\\u00e1beis\", \"Est\\u00e9tica\", \"An\\u00e1lise e Desenvolvimento de Sistemas\", \"Recursos Humanos\", \"Pedagogia\", \"Log\\u00edstica\"], \"xaxis\": \"x\", \"y\": [941.41125, 843.6672, 960.220769, 1009.240556, 933.761818, 1081.724688, 998.679375, 1248.319375, 998.584, 909.56525, 935.89, 685.949, 687.715161, 731.856923, 671.575556, 542.755, 712.844286, 590.145294, 538.085385, 490.1625], \"yaxis\": \"y\"}, {\"hoverlabel\": {\"namelength\": 0}, \"hovertemplate\": \"state=BA<br>canonico=%{x}<br>pef=%{y}\", \"legendgroup\": \"state=BA\", \"marker\": {\"color\": \"#00cc96\", \"symbol\": \"circle\"}, \"mode\": \"markers\", \"name\": \"state=BA\", \"showlegend\": true, \"type\": \"scatter\", \"x\": [\"Arquitetura e Urbanismo\", \"Direito\", \"Engenharia Civil\", \"Engenharia Mec\\u00e2nica\", \"Psicologia\", \"Fisioterapia\", \"Engenharia de Produ\\u00e7\\u00e3o\", \"Biomedicina\", \"Farm\\u00e1cia\", \"Enfermagem\", \"Nutri\\u00e7\\u00e3o\", \"Publicidade e Propaganda\", \"Educa\\u00e7\\u00e3o F\\u00edsica\", \"Administra\\u00e7\\u00e3o\", \"Ci\\u00eancias Cont\\u00e1beis\", \"Est\\u00e9tica\", \"An\\u00e1lise e Desenvolvimento de Sistemas\", \"Recursos Humanos\", \"Pedagogia\", \"Log\\u00edstica\"], \"xaxis\": \"x\", \"y\": [792.852821, 850.613308, 784.788442, 770.376471, 783.313611, 784.908605, 737.321569, 758.393393, 744.362769, 787.210538, 745.808784, 680.74, 574.329219, 492.005922, 491.930299, 489.366154, 419.22, 351.33, 370.32, 336.697778], \"yaxis\": \"y\"}, {\"hoverlabel\": {\"namelength\": 0}, \"hovertemplate\": \"state=MG<br>canonico=%{x}<br>pef=%{y}\", \"legendgroup\": \"state=MG\", \"marker\": {\"color\": \"#ab63fa\", \"symbol\": \"circle\"}, \"mode\": \"markers\", \"name\": \"state=MG\", \"showlegend\": true, \"type\": \"scatter\", \"x\": [\"Arquitetura e Urbanismo\", \"Direito\", \"Engenharia Civil\", \"Engenharia Mec\\u00e2nica\", \"Psicologia\", \"Fisioterapia\", \"Engenharia de Produ\\u00e7\\u00e3o\", \"Biomedicina\", \"Farm\\u00e1cia\", \"Enfermagem\", \"Nutri\\u00e7\\u00e3o\", \"Publicidade e Propaganda\", \"Educa\\u00e7\\u00e3o F\\u00edsica\", \"Administra\\u00e7\\u00e3o\", \"Ci\\u00eancias Cont\\u00e1beis\", \"Est\\u00e9tica\", \"An\\u00e1lise e Desenvolvimento de Sistemas\", \"Recursos Humanos\", \"Pedagogia\", \"Log\\u00edstica\"], \"xaxis\": \"x\", \"y\": [986.826429, 934.106429, 895.363243, 908.640638, 922.785397, 877.403607, 892.521034, 815.151951, 932.539444, 828.938361, 720.497234, 837.1415, 735.412542, 759.274151, 755.869079, 622.094667, 667.137895, 511.900541, 511.20814, 542.706538], \"yaxis\": \"y\"}, {\"hoverlabel\": {\"namelength\": 0}, \"hovertemplate\": \"state=ES<br>canonico=%{x}<br>pef=%{y}\", \"legendgroup\": \"state=ES\", \"marker\": {\"color\": \"#FFA15A\", \"symbol\": \"circle\"}, \"mode\": \"markers\", \"name\": \"state=ES\", \"showlegend\": true, \"type\": \"scatter\", \"x\": [\"Arquitetura e Urbanismo\", \"Direito\", \"Engenharia Civil\", \"Engenharia Mec\\u00e2nica\", \"Psicologia\", \"Fisioterapia\", \"Engenharia de Produ\\u00e7\\u00e3o\", \"Biomedicina\", \"Farm\\u00e1cia\", \"Enfermagem\", \"Nutri\\u00e7\\u00e3o\", \"Publicidade e Propaganda\", \"Educa\\u00e7\\u00e3o F\\u00edsica\", \"Administra\\u00e7\\u00e3o\", \"Ci\\u00eancias Cont\\u00e1beis\", \"Est\\u00e9tica\", \"An\\u00e1lise e Desenvolvimento de Sistemas\", \"Recursos Humanos\", \"Pedagogia\", \"Log\\u00edstica\"], \"xaxis\": \"x\", \"y\": [846.90125, 927.136552, 783.792222, 785.37, 890.532, 788.122857, 848.744, 666.631667, 719.511429, 742.786364, 859.306667, 578.493333, 671.57, 562.560455, 564.17625, 479.2, 506.69, 550.2275, 466.165385, 409.97], \"yaxis\": \"y\"}, {\"hoverlabel\": {\"namelength\": 0}, \"hovertemplate\": \"state=PE<br>canonico=%{x}<br>pef=%{y}\", \"legendgroup\": \"state=PE\", \"marker\": {\"color\": \"#19d3f3\", \"symbol\": \"circle\"}, \"mode\": \"markers\", \"name\": \"state=PE\", \"showlegend\": true, \"type\": \"scatter\", \"x\": [\"Arquitetura e Urbanismo\", \"Direito\", \"Engenharia Civil\", \"Engenharia Mec\\u00e2nica\", \"Psicologia\", \"Fisioterapia\", \"Engenharia de Produ\\u00e7\\u00e3o\", \"Biomedicina\", \"Farm\\u00e1cia\", \"Enfermagem\", \"Nutri\\u00e7\\u00e3o\", \"Publicidade e Propaganda\", \"Educa\\u00e7\\u00e3o F\\u00edsica\", \"Administra\\u00e7\\u00e3o\", \"Ci\\u00eancias Cont\\u00e1beis\", \"Est\\u00e9tica\", \"An\\u00e1lise e Desenvolvimento de Sistemas\", \"Recursos Humanos\", \"Pedagogia\", \"Log\\u00edstica\"], \"xaxis\": \"x\", \"y\": [596.648, 658.87807, 525.806176, 514.31, 539.819189, 500.975897, 518.107333, 505.6744, 545.500645, 528.757674, 477.972941, 472.906471, 421.175294, 394.002037, 396.129592, 326.4725, 375.794211, 255.234103, 263.822857, 240.972188], \"yaxis\": \"y\"}, {\"hoverlabel\": {\"namelength\": 0}, \"hovertemplate\": \"state=MT<br>canonico=%{x}<br>pef=%{y}\", \"legendgroup\": \"state=MT\", \"marker\": {\"color\": \"#FF6692\", \"symbol\": \"circle\"}, \"mode\": \"markers\", \"name\": \"state=MT\", \"showlegend\": true, \"type\": \"scatter\", \"x\": [\"Arquitetura e Urbanismo\", \"Direito\", \"Engenharia Civil\", \"Engenharia Mec\\u00e2nica\", \"Psicologia\", \"Fisioterapia\", \"Engenharia de Produ\\u00e7\\u00e3o\", \"Biomedicina\", \"Farm\\u00e1cia\", \"Enfermagem\", \"Nutri\\u00e7\\u00e3o\", \"Publicidade e Propaganda\", \"Educa\\u00e7\\u00e3o F\\u00edsica\", \"Administra\\u00e7\\u00e3o\", \"Ci\\u00eancias Cont\\u00e1beis\", \"Est\\u00e9tica\", \"An\\u00e1lise e Desenvolvimento de Sistemas\", \"Recursos Humanos\", \"Pedagogia\", \"Log\\u00edstica\"], \"xaxis\": \"x\", \"y\": [885.532, 829.034571, 840.038571, 734.885556, 990.051538, 790.406875, 695.0575, 882.648333, 871.34, 834.034375, 732.988462, 773.2225, 598.133333, 569.747619, 524.663684, 490.56, 405.074, 375.333846, 350.324444, 232.7175], \"yaxis\": \"y\"}, {\"hoverlabel\": {\"namelength\": 0}, \"hovertemplate\": \"state=RN<br>canonico=%{x}<br>pef=%{y}\", \"legendgroup\": \"state=RN\", \"marker\": {\"color\": \"#B6E880\", \"symbol\": \"circle\"}, \"mode\": \"markers\", \"name\": \"state=RN\", \"showlegend\": true, \"type\": \"scatter\", \"x\": [\"Arquitetura e Urbanismo\", \"Direito\", \"Engenharia Civil\", \"Engenharia Mec\\u00e2nica\", \"Psicologia\", \"Fisioterapia\", \"Engenharia de Produ\\u00e7\\u00e3o\", \"Biomedicina\", \"Farm\\u00e1cia\", \"Enfermagem\", \"Nutri\\u00e7\\u00e3o\", \"Publicidade e Propaganda\", \"Educa\\u00e7\\u00e3o F\\u00edsica\", \"Administra\\u00e7\\u00e3o\", \"Ci\\u00eancias Cont\\u00e1beis\", \"Est\\u00e9tica\", \"An\\u00e1lise e Desenvolvimento de Sistemas\", \"Recursos Humanos\", \"Pedagogia\", \"Log\\u00edstica\"], \"xaxis\": \"x\", \"y\": [788.41, 670.573636, 1067.098, 1077.497143, 768.810714, 809.821429, 696.595, 758.883333, 841.379, 799.259286, 870.909167, 565.8, 657.527895, 363.6592, 349.098571, 553.543333, 251.38, 302.322941, 281.034286, 235.2], \"yaxis\": \"y\"}, {\"hoverlabel\": {\"namelength\": 0}, \"hovertemplate\": \"state=PB<br>canonico=%{x}<br>pef=%{y}\", \"legendgroup\": \"state=PB\", \"marker\": {\"color\": \"#FF97FF\", \"symbol\": \"circle\"}, \"mode\": \"markers\", \"name\": \"state=PB\", \"showlegend\": true, \"type\": \"scatter\", \"x\": [\"Arquitetura e Urbanismo\", \"Direito\", \"Engenharia Civil\", \"Engenharia Mec\\u00e2nica\", \"Psicologia\", \"Fisioterapia\", \"Engenharia de Produ\\u00e7\\u00e3o\", \"Biomedicina\", \"Farm\\u00e1cia\", \"Enfermagem\", \"Nutri\\u00e7\\u00e3o\", \"Publicidade e Propaganda\", \"Educa\\u00e7\\u00e3o F\\u00edsica\", \"Administra\\u00e7\\u00e3o\", \"Ci\\u00eancias Cont\\u00e1beis\", \"Est\\u00e9tica\", \"An\\u00e1lise e Desenvolvimento de Sistemas\", \"Recursos Humanos\", \"Pedagogia\", \"Log\\u00edstica\"], \"xaxis\": \"x\", \"y\": [585.426923, 591.091053, 525.159, 566.187, 582.372857, 504.895714, 474.97125, 439.916667, 505.68, 494.239231, 461.392667, 360.922, 475.489286, 361.503478, 345.030526, 302.379, 327.15, 283.50875, 229.924286, 254.04875], \"yaxis\": \"y\"}, {\"hoverlabel\": {\"namelength\": 0}, \"hovertemplate\": \"state=TO<br>canonico=%{x}<br>pef=%{y}\", \"legendgroup\": \"state=TO\", \"marker\": {\"color\": \"#FECB52\", \"symbol\": \"circle\"}, \"mode\": \"markers\", \"name\": \"state=TO\", \"showlegend\": true, \"type\": \"scatter\", \"x\": [\"Arquitetura e Urbanismo\", \"Direito\", \"Engenharia Civil\", \"Psicologia\", \"Fisioterapia\", \"Engenharia de Produ\\u00e7\\u00e3o\", \"Biomedicina\", \"Farm\\u00e1cia\", \"Enfermagem\", \"Publicidade e Propaganda\", \"Educa\\u00e7\\u00e3o F\\u00edsica\", \"Administra\\u00e7\\u00e3o\", \"Ci\\u00eancias Cont\\u00e1beis\", \"Est\\u00e9tica\", \"An\\u00e1lise e Desenvolvimento de Sistemas\", \"Recursos Humanos\", \"Log\\u00edstica\"], \"xaxis\": \"x\", \"y\": [832.995, 768.106667, 623.3375, 532.0, 860.085, 922.84, 796.935, 780.72, 761.205, 460.67, 434.085, 484.105714, 473.402, 403.67, 401.156667, 382.13, 347.03], \"yaxis\": \"y\"}, {\"hoverlabel\": {\"namelength\": 0}, \"hovertemplate\": \"state=AM<br>canonico=%{x}<br>pef=%{y}\", \"legendgroup\": \"state=AM\", \"marker\": {\"color\": \"#636efa\", \"symbol\": \"circle\"}, \"mode\": \"markers\", \"name\": \"state=AM\", \"showlegend\": true, \"type\": \"scatter\", \"x\": [\"Arquitetura e Urbanismo\", \"Direito\", \"Engenharia Civil\", \"Engenharia Mec\\u00e2nica\", \"Psicologia\", \"Fisioterapia\", \"Engenharia de Produ\\u00e7\\u00e3o\", \"Biomedicina\", \"Farm\\u00e1cia\", \"Enfermagem\", \"Nutri\\u00e7\\u00e3o\", \"Publicidade e Propaganda\", \"Educa\\u00e7\\u00e3o F\\u00edsica\", \"Administra\\u00e7\\u00e3o\", \"Ci\\u00eancias Cont\\u00e1beis\", \"Est\\u00e9tica\", \"An\\u00e1lise e Desenvolvimento de Sistemas\", \"Recursos Humanos\", \"Pedagogia\", \"Log\\u00edstica\"], \"xaxis\": \"x\", \"y\": [567.178, 1015.762105, 588.810625, 645.855833, 576.527333, 588.072308, 632.35, 535.384286, 482.598, 615.2275, 505.8375, 538.914, 502.315882, 493.0372, 473.468261, 457.46, 378.15625, 339.438125, 368.190625, 353.966], \"yaxis\": \"y\"}, {\"hoverlabel\": {\"namelength\": 0}, \"hovertemplate\": \"state=RR<br>canonico=%{x}<br>pef=%{y}\", \"legendgroup\": \"state=RR\", \"marker\": {\"color\": \"#EF553B\", \"symbol\": \"circle\"}, \"mode\": \"markers\", \"name\": \"state=RR\", \"showlegend\": true, \"type\": \"scatter\", \"x\": [\"Arquitetura e Urbanismo\", \"Direito\", \"Engenharia Civil\", \"Engenharia Mec\\u00e2nica\", \"Psicologia\", \"Fisioterapia\", \"Biomedicina\", \"Farm\\u00e1cia\", \"Enfermagem\", \"Nutri\\u00e7\\u00e3o\", \"Educa\\u00e7\\u00e3o F\\u00edsica\", \"Administra\\u00e7\\u00e3o\", \"Ci\\u00eancias Cont\\u00e1beis\", \"Pedagogia\", \"Log\\u00edstica\"], \"xaxis\": \"x\", \"y\": [543.983333, 498.15, 604.22, 554.23, 320.05, 419.12, 442.8725, 428.51, 424.71, 513.4475, 435.513333, 345.166667, 335.886667, 269.793333, 212.345], \"yaxis\": \"y\"}, {\"hoverlabel\": {\"namelength\": 0}, \"hovertemplate\": \"state=RO<br>canonico=%{x}<br>pef=%{y}\", \"legendgroup\": \"state=RO\", \"marker\": {\"color\": \"#00cc96\", \"symbol\": \"circle\"}, \"mode\": \"markers\", \"name\": \"state=RO\", \"showlegend\": true, \"type\": \"scatter\", \"x\": [\"Arquitetura e Urbanismo\", \"Direito\", \"Engenharia Civil\", \"Engenharia Mec\\u00e2nica\", \"Psicologia\", \"Fisioterapia\", \"Engenharia de Produ\\u00e7\\u00e3o\", \"Biomedicina\", \"Farm\\u00e1cia\", \"Enfermagem\", \"Nutri\\u00e7\\u00e3o\", \"Educa\\u00e7\\u00e3o F\\u00edsica\", \"Administra\\u00e7\\u00e3o\", \"Ci\\u00eancias Cont\\u00e1beis\", \"Est\\u00e9tica\", \"An\\u00e1lise e Desenvolvimento de Sistemas\", \"Recursos Humanos\", \"Pedagogia\", \"Log\\u00edstica\"], \"xaxis\": \"x\", \"y\": [1057.458, 1308.403636, 1021.40625, 1058.955, 823.533333, 785.716667, 900.7875, 832.4025, 879.56, 758.57625, 824.864, 764.34, 372.635455, 475.855714, 821.56, 635.94, 837.9, 326.852727, 221.34], \"yaxis\": \"y\"}, {\"hoverlabel\": {\"namelength\": 0}, \"hovertemplate\": \"state=SE<br>canonico=%{x}<br>pef=%{y}\", \"legendgroup\": \"state=SE\", \"marker\": {\"color\": \"#ab63fa\", \"symbol\": \"circle\"}, \"mode\": \"markers\", \"name\": \"state=SE\", \"showlegend\": true, \"type\": \"scatter\", \"x\": [\"Arquitetura e Urbanismo\", \"Direito\", \"Engenharia Civil\", \"Engenharia Mec\\u00e2nica\", \"Psicologia\", \"Fisioterapia\", \"Engenharia de Produ\\u00e7\\u00e3o\", \"Biomedicina\", \"Farm\\u00e1cia\", \"Enfermagem\", \"Nutri\\u00e7\\u00e3o\", \"Educa\\u00e7\\u00e3o F\\u00edsica\", \"Administra\\u00e7\\u00e3o\", \"Ci\\u00eancias Cont\\u00e1beis\", \"Est\\u00e9tica\", \"An\\u00e1lise e Desenvolvimento de Sistemas\", \"Recursos Humanos\", \"Pedagogia\", \"Log\\u00edstica\"], \"xaxis\": \"x\", \"y\": [497.332857, 691.475833, 707.549231, 624.763333, 619.025714, 648.735, 617.658333, 657.141429, 636.921429, 717.694615, 627.78375, 455.061429, 402.090833, 441.370833, 369.086667, 273.995, 381.01, 360.532667, 304.58], \"yaxis\": \"y\"}, {\"hoverlabel\": {\"namelength\": 0}, \"hovertemplate\": \"state=AL<br>canonico=%{x}<br>pef=%{y}\", \"legendgroup\": \"state=AL\", \"marker\": {\"color\": \"#FFA15A\", \"symbol\": \"circle\"}, \"mode\": \"markers\", \"name\": \"state=AL\", \"showlegend\": true, \"type\": \"scatter\", \"x\": [\"Arquitetura e Urbanismo\", \"Direito\", \"Engenharia Civil\", \"Engenharia Mec\\u00e2nica\", \"Psicologia\", \"Fisioterapia\", \"Engenharia de Produ\\u00e7\\u00e3o\", \"Biomedicina\", \"Farm\\u00e1cia\", \"Enfermagem\", \"Nutri\\u00e7\\u00e3o\", \"Publicidade e Propaganda\", \"Educa\\u00e7\\u00e3o F\\u00edsica\", \"Administra\\u00e7\\u00e3o\", \"Ci\\u00eancias Cont\\u00e1beis\", \"Est\\u00e9tica\", \"An\\u00e1lise e Desenvolvimento de Sistemas\", \"Recursos Humanos\", \"Pedagogia\", \"Log\\u00edstica\"], \"xaxis\": \"x\", \"y\": [759.0025, 631.444, 838.235455, 651.144, 549.719091, 658.795833, 706.088889, 824.883333, 555.612, 680.271875, 590.71, 395.732, 526.416875, 432.937222, 404.864167, 551.22, 265.266667, 364.631667, 331.852308, 294.806], \"yaxis\": \"y\"}, {\"hoverlabel\": {\"namelength\": 0}, \"hovertemplate\": \"state=AP<br>canonico=%{x}<br>pef=%{y}\", \"legendgroup\": \"state=AP\", \"marker\": {\"color\": \"#19d3f3\", \"symbol\": \"circle\"}, \"mode\": \"markers\", \"name\": \"state=AP\", \"showlegend\": true, \"type\": \"scatter\", \"x\": [\"Arquitetura e Urbanismo\", \"Direito\", \"Engenharia Civil\", \"Engenharia Mec\\u00e2nica\", \"Psicologia\", \"Fisioterapia\", \"Biomedicina\", \"Farm\\u00e1cia\", \"Enfermagem\", \"Nutri\\u00e7\\u00e3o\", \"Publicidade e Propaganda\", \"Educa\\u00e7\\u00e3o F\\u00edsica\", \"Administra\\u00e7\\u00e3o\", \"Ci\\u00eancias Cont\\u00e1beis\", \"Recursos Humanos\", \"Pedagogia\", \"Log\\u00edstica\"], \"xaxis\": \"x\", \"y\": [1162.295, 867.48375, 795.9625, 1017.145, 804.52, 976.25, 894.73, 1106.63, 1193.628333, 805.785, 337.08, 962.4975, 541.99125, 466.961667, 426.0575, 457.97, 245.66], \"yaxis\": \"y\"}, {\"hoverlabel\": {\"namelength\": 0}, \"hovertemplate\": \"state=AC<br>canonico=%{x}<br>pef=%{y}\", \"legendgroup\": \"state=AC\", \"marker\": {\"color\": \"#FF6692\", \"symbol\": \"circle\"}, \"mode\": \"markers\", \"name\": \"state=AC\", \"showlegend\": true, \"type\": \"scatter\", \"x\": [\"Direito\", \"Engenharia Civil\", \"Engenharia Mec\\u00e2nica\", \"Psicologia\", \"Enfermagem\", \"Educa\\u00e7\\u00e3o F\\u00edsica\", \"Administra\\u00e7\\u00e3o\", \"Ci\\u00eancias Cont\\u00e1beis\", \"Log\\u00edstica\"], \"xaxis\": \"x\", \"y\": [649.995, 798.41, 798.41, 512.9, 481.84, 428.3, 341.0, 341.0, 212.345], \"yaxis\": \"y\"}],\n",
       "                        {\"height\": 600, \"legend\": {\"tracegroupgap\": 0}, \"margin\": {\"t\": 60}, \"template\": {\"data\": {\"bar\": [{\"error_x\": {\"color\": \"#2a3f5f\"}, \"error_y\": {\"color\": \"#2a3f5f\"}, \"marker\": {\"line\": {\"color\": \"#E5ECF6\", \"width\": 0.5}}, \"type\": \"bar\"}], \"barpolar\": [{\"marker\": {\"line\": {\"color\": \"#E5ECF6\", \"width\": 0.5}}, \"type\": \"barpolar\"}], \"carpet\": [{\"aaxis\": {\"endlinecolor\": \"#2a3f5f\", \"gridcolor\": \"white\", \"linecolor\": \"white\", \"minorgridcolor\": \"white\", \"startlinecolor\": \"#2a3f5f\"}, \"baxis\": {\"endlinecolor\": \"#2a3f5f\", \"gridcolor\": \"white\", \"linecolor\": \"white\", \"minorgridcolor\": \"white\", \"startlinecolor\": \"#2a3f5f\"}, \"type\": \"carpet\"}], \"choropleth\": [{\"colorbar\": {\"outlinewidth\": 0, \"ticks\": \"\"}, \"type\": \"choropleth\"}], \"contour\": [{\"colorbar\": {\"outlinewidth\": 0, \"ticks\": \"\"}, \"colorscale\": [[0.0, \"#0d0887\"], [0.1111111111111111, \"#46039f\"], [0.2222222222222222, \"#7201a8\"], [0.3333333333333333, \"#9c179e\"], [0.4444444444444444, \"#bd3786\"], [0.5555555555555556, \"#d8576b\"], [0.6666666666666666, \"#ed7953\"], [0.7777777777777778, \"#fb9f3a\"], [0.8888888888888888, \"#fdca26\"], [1.0, \"#f0f921\"]], \"type\": \"contour\"}], \"contourcarpet\": [{\"colorbar\": {\"outlinewidth\": 0, \"ticks\": \"\"}, \"type\": \"contourcarpet\"}], \"heatmap\": [{\"colorbar\": {\"outlinewidth\": 0, \"ticks\": \"\"}, \"colorscale\": [[0.0, \"#0d0887\"], [0.1111111111111111, \"#46039f\"], [0.2222222222222222, \"#7201a8\"], [0.3333333333333333, \"#9c179e\"], [0.4444444444444444, \"#bd3786\"], [0.5555555555555556, \"#d8576b\"], [0.6666666666666666, \"#ed7953\"], [0.7777777777777778, \"#fb9f3a\"], [0.8888888888888888, \"#fdca26\"], [1.0, \"#f0f921\"]], \"type\": \"heatmap\"}], \"heatmapgl\": [{\"colorbar\": {\"outlinewidth\": 0, \"ticks\": \"\"}, \"colorscale\": [[0.0, \"#0d0887\"], [0.1111111111111111, \"#46039f\"], [0.2222222222222222, \"#7201a8\"], [0.3333333333333333, \"#9c179e\"], [0.4444444444444444, \"#bd3786\"], [0.5555555555555556, \"#d8576b\"], [0.6666666666666666, \"#ed7953\"], [0.7777777777777778, \"#fb9f3a\"], [0.8888888888888888, \"#fdca26\"], [1.0, \"#f0f921\"]], \"type\": \"heatmapgl\"}], \"histogram\": [{\"marker\": {\"colorbar\": {\"outlinewidth\": 0, \"ticks\": \"\"}}, \"type\": \"histogram\"}], \"histogram2d\": [{\"colorbar\": {\"outlinewidth\": 0, \"ticks\": \"\"}, \"colorscale\": [[0.0, \"#0d0887\"], [0.1111111111111111, \"#46039f\"], [0.2222222222222222, \"#7201a8\"], [0.3333333333333333, \"#9c179e\"], [0.4444444444444444, \"#bd3786\"], [0.5555555555555556, \"#d8576b\"], [0.6666666666666666, \"#ed7953\"], [0.7777777777777778, \"#fb9f3a\"], [0.8888888888888888, \"#fdca26\"], [1.0, \"#f0f921\"]], \"type\": \"histogram2d\"}], \"histogram2dcontour\": [{\"colorbar\": {\"outlinewidth\": 0, \"ticks\": \"\"}, \"colorscale\": [[0.0, \"#0d0887\"], [0.1111111111111111, \"#46039f\"], [0.2222222222222222, \"#7201a8\"], [0.3333333333333333, \"#9c179e\"], [0.4444444444444444, \"#bd3786\"], [0.5555555555555556, \"#d8576b\"], [0.6666666666666666, \"#ed7953\"], [0.7777777777777778, \"#fb9f3a\"], [0.8888888888888888, \"#fdca26\"], [1.0, \"#f0f921\"]], \"type\": \"histogram2dcontour\"}], \"mesh3d\": [{\"colorbar\": {\"outlinewidth\": 0, \"ticks\": \"\"}, \"type\": \"mesh3d\"}], \"parcoords\": [{\"line\": {\"colorbar\": {\"outlinewidth\": 0, \"ticks\": \"\"}}, \"type\": \"parcoords\"}], \"scatter\": [{\"marker\": {\"colorbar\": {\"outlinewidth\": 0, \"ticks\": \"\"}}, \"type\": \"scatter\"}], \"scatter3d\": [{\"line\": {\"colorbar\": {\"outlinewidth\": 0, \"ticks\": \"\"}}, \"marker\": {\"colorbar\": {\"outlinewidth\": 0, \"ticks\": \"\"}}, \"type\": \"scatter3d\"}], \"scattercarpet\": [{\"marker\": {\"colorbar\": {\"outlinewidth\": 0, \"ticks\": \"\"}}, \"type\": \"scattercarpet\"}], \"scattergeo\": [{\"marker\": {\"colorbar\": {\"outlinewidth\": 0, \"ticks\": \"\"}}, \"type\": \"scattergeo\"}], \"scattergl\": [{\"marker\": {\"colorbar\": {\"outlinewidth\": 0, \"ticks\": \"\"}}, \"type\": \"scattergl\"}], \"scattermapbox\": [{\"marker\": {\"colorbar\": {\"outlinewidth\": 0, \"ticks\": \"\"}}, \"type\": \"scattermapbox\"}], \"scatterpolar\": [{\"marker\": {\"colorbar\": {\"outlinewidth\": 0, \"ticks\": \"\"}}, \"type\": \"scatterpolar\"}], \"scatterpolargl\": [{\"marker\": {\"colorbar\": {\"outlinewidth\": 0, \"ticks\": \"\"}}, \"type\": \"scatterpolargl\"}], \"scatterternary\": [{\"marker\": {\"colorbar\": {\"outlinewidth\": 0, \"ticks\": \"\"}}, \"type\": \"scatterternary\"}], \"surface\": [{\"colorbar\": {\"outlinewidth\": 0, \"ticks\": \"\"}, \"colorscale\": [[0.0, \"#0d0887\"], [0.1111111111111111, \"#46039f\"], [0.2222222222222222, \"#7201a8\"], [0.3333333333333333, \"#9c179e\"], [0.4444444444444444, \"#bd3786\"], [0.5555555555555556, \"#d8576b\"], [0.6666666666666666, \"#ed7953\"], [0.7777777777777778, \"#fb9f3a\"], [0.8888888888888888, \"#fdca26\"], [1.0, \"#f0f921\"]], \"type\": \"surface\"}], \"table\": [{\"cells\": {\"fill\": {\"color\": \"#EBF0F8\"}, \"line\": {\"color\": \"white\"}}, \"header\": {\"fill\": {\"color\": \"#C8D4E3\"}, \"line\": {\"color\": \"white\"}}, \"type\": \"table\"}]}, \"layout\": {\"annotationdefaults\": {\"arrowcolor\": \"#2a3f5f\", \"arrowhead\": 0, \"arrowwidth\": 1}, \"colorscale\": {\"diverging\": [[0, \"#8e0152\"], [0.1, \"#c51b7d\"], [0.2, \"#de77ae\"], [0.3, \"#f1b6da\"], [0.4, \"#fde0ef\"], [0.5, \"#f7f7f7\"], [0.6, \"#e6f5d0\"], [0.7, \"#b8e186\"], [0.8, \"#7fbc41\"], [0.9, \"#4d9221\"], [1, \"#276419\"]], \"sequential\": [[0.0, \"#0d0887\"], [0.1111111111111111, \"#46039f\"], [0.2222222222222222, \"#7201a8\"], [0.3333333333333333, \"#9c179e\"], [0.4444444444444444, \"#bd3786\"], [0.5555555555555556, \"#d8576b\"], [0.6666666666666666, \"#ed7953\"], [0.7777777777777778, \"#fb9f3a\"], [0.8888888888888888, \"#fdca26\"], [1.0, \"#f0f921\"]], \"sequentialminus\": [[0.0, \"#0d0887\"], [0.1111111111111111, \"#46039f\"], [0.2222222222222222, \"#7201a8\"], [0.3333333333333333, \"#9c179e\"], [0.4444444444444444, \"#bd3786\"], [0.5555555555555556, \"#d8576b\"], [0.6666666666666666, \"#ed7953\"], [0.7777777777777778, \"#fb9f3a\"], [0.8888888888888888, \"#fdca26\"], [1.0, \"#f0f921\"]]}, \"colorway\": [\"#636efa\", \"#EF553B\", \"#00cc96\", \"#ab63fa\", \"#FFA15A\", \"#19d3f3\", \"#FF6692\", \"#B6E880\", \"#FF97FF\", \"#FECB52\"], \"font\": {\"color\": \"#2a3f5f\"}, \"geo\": {\"bgcolor\": \"white\", \"lakecolor\": \"white\", \"landcolor\": \"#E5ECF6\", \"showlakes\": true, \"showland\": true, \"subunitcolor\": \"white\"}, \"hoverlabel\": {\"align\": \"left\"}, \"hovermode\": \"closest\", \"mapbox\": {\"style\": \"light\"}, \"paper_bgcolor\": \"white\", \"plot_bgcolor\": \"#E5ECF6\", \"polar\": {\"angularaxis\": {\"gridcolor\": \"white\", \"linecolor\": \"white\", \"ticks\": \"\"}, \"bgcolor\": \"#E5ECF6\", \"radialaxis\": {\"gridcolor\": \"white\", \"linecolor\": \"white\", \"ticks\": \"\"}}, \"scene\": {\"xaxis\": {\"backgroundcolor\": \"#E5ECF6\", \"gridcolor\": \"white\", \"gridwidth\": 2, \"linecolor\": \"white\", \"showbackground\": true, \"ticks\": \"\", \"zerolinecolor\": \"white\"}, \"yaxis\": {\"backgroundcolor\": \"#E5ECF6\", \"gridcolor\": \"white\", \"gridwidth\": 2, \"linecolor\": \"white\", \"showbackground\": true, \"ticks\": \"\", \"zerolinecolor\": \"white\"}, \"zaxis\": {\"backgroundcolor\": \"#E5ECF6\", \"gridcolor\": \"white\", \"gridwidth\": 2, \"linecolor\": \"white\", \"showbackground\": true, \"ticks\": \"\", \"zerolinecolor\": \"white\"}}, \"shapedefaults\": {\"line\": {\"color\": \"#2a3f5f\"}}, \"ternary\": {\"aaxis\": {\"gridcolor\": \"white\", \"linecolor\": \"white\", \"ticks\": \"\"}, \"baxis\": {\"gridcolor\": \"white\", \"linecolor\": \"white\", \"ticks\": \"\"}, \"bgcolor\": \"#E5ECF6\", \"caxis\": {\"gridcolor\": \"white\", \"linecolor\": \"white\", \"ticks\": \"\"}}, \"title\": {\"x\": 0.05}, \"xaxis\": {\"automargin\": true, \"gridcolor\": \"white\", \"linecolor\": \"white\", \"ticks\": \"\", \"zerolinecolor\": \"white\", \"zerolinewidth\": 2}, \"yaxis\": {\"automargin\": true, \"gridcolor\": \"white\", \"linecolor\": \"white\", \"ticks\": \"\", \"zerolinecolor\": \"white\", \"zerolinewidth\": 2}}}, \"xaxis\": {\"anchor\": \"y\", \"domain\": [0.0, 0.98], \"title\": {\"text\": \"canonico\"}}, \"yaxis\": {\"anchor\": \"x\", \"domain\": [0.0, 1.0], \"title\": {\"text\": \"pef\"}}},\n",
       "                        {\"responsive\": true}\n",
       "                    ).then(function(){\n",
       "                            \n",
       "var gd = document.getElementById('774eaf11-9945-4fd2-92e0-8fc1a0a0997c');\n",
       "var x = new MutationObserver(function (mutations, observer) {{\n",
       "        var display = window.getComputedStyle(gd).display;\n",
       "        if (!display || display === 'none') {{\n",
       "            console.log([gd, 'removed!']);\n",
       "            Plotly.purge(gd);\n",
       "            observer.disconnect();\n",
       "        }}\n",
       "}});\n",
       "\n",
       "// Listen for the removal of the full notebook cells\n",
       "var notebookContainer = gd.closest('#notebook-container');\n",
       "if (notebookContainer) {{\n",
       "    x.observe(notebookContainer, {childList: true});\n",
       "}}\n",
       "\n",
       "// Listen for the clearing of the current output cell\n",
       "var outputEl = gd.closest('.output');\n",
       "if (outputEl) {{\n",
       "    x.observe(outputEl, {childList: true});\n",
       "}}\n",
       "\n",
       "                        })\n",
       "                };\n",
       "                });\n",
       "            </script>\n",
       "        </div>"
      ]
     },
     "metadata": {},
     "output_type": "display_data"
    }
   ],
   "source": [
    "df = spark.sql(\"\"\"WITH base as(\n",
    "select distinct\n",
    "    offers.university_id AS university_id,\n",
    "    universities.name AS ies,\n",
    "    offers.id AS offer_id,\n",
    "    offers.course_id AS course_id,\n",
    "    offers.discount_percentage,\n",
    "    offers.visible,\n",
    "    offers.offered_price,\n",
    "    university_offers.full_price,\n",
    "    campuses.city,\n",
    "    campuses.state,\n",
    "    courses.name AS curso,\n",
    "    clean.name AS canonico,\n",
    "    courses.kind,\n",
    "    courses.level,\n",
    "    courses.shift,\n",
    "    pre_enrollment_fees.value,\n",
    "    pre_enrollment_fees.original_value, \n",
    "    fee_experiment_alternatives.name AS alternative,\n",
    "    fee_experiment_alternatives.id AS id_alternative,\n",
    "    fee_experiment_alternatives.ratio,\n",
    "    pre_enrollment_fees.value/university_offers.full_price AS pef_full,\n",
    "    courses.digital_admission\n",
    "    \n",
    "\n",
    "from querobolsa_production.offers\n",
    "    join querobolsa_production.university_offers on university_offers.id=offers.university_offer_id\n",
    "    join querobolsa_production.pre_enrollment_fees on pre_enrollment_fees.offer_id=offers.id\n",
    "    join querobolsa_production.courses on courses.id=offers.course_id\n",
    "    join querobolsa_production.universities on universities.id = offers.university_id\n",
    "    join querobolsa_production.levels on courses.level = levels.name\n",
    "    join querobolsa_production.kinds on courses.kind = kinds.name\n",
    "    join querobolsa_production.experiment_pre_enrollment_fees on pre_enrollment_fees.id = experiment_pre_enrollment_fees.pre_enrollment_fee_id\n",
    "    join querobolsa_production.fee_experiment_alternatives on fee_experiment_alternatives.id = experiment_pre_enrollment_fees.fee_experiment_alternative_id\n",
    "    join querobolsa_production.campuses ON courses.campus_id = campuses.id\n",
    "    join querobolsa_production.canonical_courses can ON courses.canonical_course_id = can.id\n",
    "    join querobolsa_production.canonical_courses clean ON clean.id = can.clean_canonical_course_id\n",
    "\n",
    "where\n",
    "    1=1\n",
    "    and pre_enrollment_fees.enabled\n",
    "    and offers.enabled\n",
    "    and offers.visible\n",
    "    and fee_experiment_alternatives.ratio <> 0\n",
    "    and levels.parent_id = 1\n",
    "    and kinds.parent_id = 1\n",
    "    and fee_experiment_alternatives.name IN ('baseline')\n",
    "    and clean.id IN (2,10,14,34,48,115,121,140,153,170,192,211,214,217,257,288,869,341,346,356)\n",
    "  \n",
    "      \n",
    "order by\n",
    "1,17\n",
    "),\n",
    "\n",
    "base_ordem AS(\n",
    "SELECT\n",
    "canonico,\n",
    "AVG(value) AS pef_geral\n",
    "FROM\n",
    "base\n",
    "GROUP BY\n",
    "1\n",
    ")\n",
    "\n",
    "SELECT\n",
    "state,\n",
    "base.canonico,\n",
    "base_ordem.pef_geral,\n",
    "AVG(value) AS pef,\n",
    "AVG(original_value) AS pef_o\n",
    "\n",
    "\n",
    "FROM\n",
    "base\n",
    "JOIN\n",
    "base_ordem ON base.canonico = base_ordem.canonico\n",
    "\n",
    "GROUP BY\n",
    "1,2,3\n",
    "\n",
    "ORDER BY\n",
    "3 desc\"\"\").toPandas()\n",
    "\n",
    "fig = px.scatter(df, x='canonico', y='pef', color='state')\n",
    "fig.show()"
   ]
  },
  {
   "cell_type": "code",
   "execution_count": 14,
   "metadata": {},
   "outputs": [
    {
     "data": {
      "application/vnd.plotly.v1+json": {
       "config": {
        "plotlyServerURL": "https://plot.ly"
       },
       "data": [
        {
         "hoverlabel": {
          "namelength": 0
         },
         "hovertemplate": "state=TO<br>canonico=%{x}<br>relative_pef=%{y}",
         "legendgroup": "state=TO",
         "marker": {
          "color": "#636efa",
          "symbol": "circle"
         },
         "mode": "markers",
         "name": "state=TO",
         "showlegend": true,
         "type": "scatter",
         "x": [
          "Arquitetura e Urbanismo",
          "Direito",
          "Engenharia Civil",
          "Psicologia",
          "Fisioterapia",
          "Engenharia de Produção",
          "Biomedicina",
          "Farmácia",
          "Enfermagem",
          "Publicidade e Propaganda",
          "Educação Física",
          "Administração",
          "Ciências Contábeis",
          "Estética",
          "Análise e Desenvolvimento de Sistemas",
          "Recursos Humanos",
          "Logística"
         ],
         "xaxis": "x",
         "y": [
          0.7087534242408394,
          0.5870563531512534,
          0.5578183839005741,
          0.4523034473391237,
          0.795105269891002,
          0.924060337182792,
          0.6384063373205274,
          0.70549325429457,
          0.6377236355363893,
          0.5038309768876992,
          0.45099857402227017,
          0.6375901423252851,
          0.626301582049502,
          0.4913457325088855,
          0.5627549731106353,
          0.45605680868838766,
          0.5718138281146681
         ],
         "yaxis": "y"
        },
        {
         "hoverlabel": {
          "namelength": 0
         },
         "hovertemplate": "state=SP<br>canonico=%{x}<br>relative_pef=%{y}",
         "legendgroup": "state=SP",
         "marker": {
          "color": "#EF553B",
          "symbol": "circle"
         },
         "mode": "markers",
         "name": "state=SP",
         "showlegend": true,
         "type": "scatter",
         "x": [
          "Arquitetura e Urbanismo",
          "Direito",
          "Engenharia Civil",
          "Engenharia Mecânica",
          "Psicologia",
          "Fisioterapia",
          "Engenharia de Produção",
          "Biomedicina",
          "Farmácia",
          "Enfermagem",
          "Nutrição",
          "Publicidade e Propaganda",
          "Educação Física",
          "Administração",
          "Ciências Contábeis",
          "Estética",
          "Análise e Desenvolvimento de Sistemas",
          "Recursos Humanos",
          "Pedagogia",
          "Logística"
         ],
         "xaxis": "x",
         "y": [
          0.6649400342633202,
          0.5471476945666329,
          0.6622897348978394,
          0.6750158510629108,
          0.6290220438969593,
          0.6470841035293077,
          0.7022448180628542,
          0.5230549257476678,
          0.5928758763091548,
          0.5266618465900641,
          0.6640971396211093,
          0.6848653597432358,
          0.5408739523998763,
          0.7230323266990818,
          0.6733703760886348,
          0.6204010577438045,
          0.6205353282441827,
          0.4560393901420217,
          0.7327519200321712,
          0.6132920148588945
         ],
         "yaxis": "y"
        },
        {
         "hoverlabel": {
          "namelength": 0
         },
         "hovertemplate": "state=SE<br>canonico=%{x}<br>relative_pef=%{y}",
         "legendgroup": "state=SE",
         "marker": {
          "color": "#00cc96",
          "symbol": "circle"
         },
         "mode": "markers",
         "name": "state=SE",
         "showlegend": true,
         "type": "scatter",
         "x": [
          "Arquitetura e Urbanismo",
          "Direito",
          "Engenharia Civil",
          "Engenharia Mecânica",
          "Psicologia",
          "Fisioterapia",
          "Engenharia de Produção",
          "Biomedicina",
          "Farmácia",
          "Enfermagem",
          "Nutrição",
          "Educação Física",
          "Administração",
          "Ciências Contábeis",
          "Estética",
          "Análise e Desenvolvimento de Sistemas",
          "Recursos Humanos",
          "Pedagogia",
          "Logística"
         ],
         "xaxis": "x",
         "y": [
          0.4231554395719419,
          0.5284881621958439,
          0.6331786047951776,
          0.5798282965841701,
          0.5262922263792527,
          0.5997228381645293,
          0.6184751066877695,
          0.5264209161217257,
          0.5755504811906419,
          0.6012714302752731,
          0.6707879665345287,
          0.47279232309694313,
          0.5295726615616076,
          0.5839249749228067,
          0.44925101879351476,
          0.3843686557936441,
          0.4547201336675021,
          0.6700287297340365,
          0.5018674344211325
         ],
         "yaxis": "y"
        },
        {
         "hoverlabel": {
          "namelength": 0
         },
         "hovertemplate": "state=SC<br>canonico=%{x}<br>relative_pef=%{y}",
         "legendgroup": "state=SC",
         "marker": {
          "color": "#ab63fa",
          "symbol": "circle"
         },
         "mode": "markers",
         "name": "state=SC",
         "showlegend": true,
         "type": "scatter",
         "x": [
          "Arquitetura e Urbanismo",
          "Direito",
          "Engenharia Civil",
          "Engenharia Mecânica",
          "Psicologia",
          "Fisioterapia",
          "Engenharia de Produção",
          "Biomedicina",
          "Farmácia",
          "Enfermagem",
          "Nutrição",
          "Publicidade e Propaganda",
          "Educação Física",
          "Administração",
          "Ciências Contábeis",
          "Estética",
          "Análise e Desenvolvimento de Sistemas",
          "Recursos Humanos",
          "Pedagogia",
          "Logística"
         ],
         "xaxis": "x",
         "y": [
          0.6672060857143679,
          0.6417459688257852,
          0.6540130734453974,
          0.6432546058268296,
          0.6613315746324302,
          0.6406794239681807,
          0.6637247134496995,
          0.5976355209579279,
          0.6946895403160948,
          0.6526366737978563,
          0.7955824370385408,
          0.6233903761242227,
          0.6663196029080595,
          0.7625331459492818,
          0.7334888784357853,
          0.733793027898145,
          0.5896729597970012,
          0.4104473636472133,
          0.6569744186603396,
          1
         ],
         "yaxis": "y"
        },
        {
         "hoverlabel": {
          "namelength": 0
         },
         "hovertemplate": "state=RS<br>canonico=%{x}<br>relative_pef=%{y}",
         "legendgroup": "state=RS",
         "marker": {
          "color": "#FFA15A",
          "symbol": "circle"
         },
         "mode": "markers",
         "name": "state=RS",
         "showlegend": true,
         "type": "scatter",
         "x": [
          "Arquitetura e Urbanismo",
          "Direito",
          "Engenharia Civil",
          "Engenharia Mecânica",
          "Psicologia",
          "Fisioterapia",
          "Engenharia de Produção",
          "Biomedicina",
          "Farmácia",
          "Enfermagem",
          "Nutrição",
          "Publicidade e Propaganda",
          "Educação Física",
          "Administração",
          "Ciências Contábeis",
          "Estética",
          "Análise e Desenvolvimento de Sistemas",
          "Recursos Humanos",
          "Pedagogia",
          "Logística"
         ],
         "xaxis": "x",
         "y": [
          0.8009993422005521,
          0.644806523604005,
          0.8592917922495382,
          0.9366526515235503,
          0.7938791151786605,
          1,
          1,
          1,
          0.9023648373891906,
          0.7620171412268244,
          1,
          0.7502167598609424,
          0.7145111140548417,
          0.963890212825117,
          0.8884813186014717,
          0.6606395150688933,
          1,
          0.704314708199069,
          1,
          0.8076584027987667
         ],
         "yaxis": "y"
        },
        {
         "hoverlabel": {
          "namelength": 0
         },
         "hovertemplate": "state=RR<br>canonico=%{x}<br>relative_pef=%{y}",
         "legendgroup": "state=RR",
         "marker": {
          "color": "#19d3f3",
          "symbol": "circle"
         },
         "mode": "markers",
         "name": "state=RR",
         "showlegend": true,
         "type": "scatter",
         "x": [
          "Arquitetura e Urbanismo",
          "Direito",
          "Engenharia Civil",
          "Engenharia Mecânica",
          "Psicologia",
          "Fisioterapia",
          "Biomedicina",
          "Farmácia",
          "Enfermagem",
          "Nutrição",
          "Educação Física",
          "Administração",
          "Ciências Contábeis",
          "Pedagogia",
          "Logística"
         ],
         "xaxis": "x",
         "y": [
          0.4628479762707997,
          0.380731133951083,
          0.540710327744448,
          0.514367953177951,
          0.27210473368587695,
          0.3874553337364525,
          0.3547749949807516,
          0.3872206609255126,
          0.35581427506211855,
          0.5486194958809262,
          0.4524825602144421,
          0.45460084021746183,
          0.44437148751258815,
          0.501395021163788,
          0.34988850338878247
         ],
         "yaxis": "y"
        },
        {
         "hoverlabel": {
          "namelength": 0
         },
         "hovertemplate": "state=RO<br>canonico=%{x}<br>relative_pef=%{y}",
         "legendgroup": "state=RO",
         "marker": {
          "color": "#FF6692",
          "symbol": "circle"
         },
         "mode": "markers",
         "name": "state=RO",
         "showlegend": true,
         "type": "scatter",
         "x": [
          "Arquitetura e Urbanismo",
          "Direito",
          "Engenharia Civil",
          "Engenharia Mecânica",
          "Psicologia",
          "Fisioterapia",
          "Engenharia de Produção",
          "Biomedicina",
          "Farmácia",
          "Enfermagem",
          "Nutrição",
          "Educação Física",
          "Administração",
          "Ciências Contábeis",
          "Estética",
          "Análise e Desenvolvimento de Sistemas",
          "Recursos Humanos",
          "Pedagogia",
          "Logística"
         ],
         "xaxis": "x",
         "y": [
          0.8997376676821224,
          1,
          0.9140460563995361,
          0.9827914689886097,
          0.7001634690123656,
          0.7263554911118013,
          0.901978675588449,
          0.6668185375237006,
          0.794809466578712,
          0.6355213168352296,
          0.8813685369007042,
          0.7941215431728395,
          0.4907785343531338,
          0.6295477976550486,
          1,
          0.8921162903170132,
          1,
          0.6074365446666052,
          0.36470988881336086
         ],
         "yaxis": "y"
        },
        {
         "hoverlabel": {
          "namelength": 0
         },
         "hovertemplate": "state=RN<br>canonico=%{x}<br>relative_pef=%{y}",
         "legendgroup": "state=RN",
         "marker": {
          "color": "#B6E880",
          "symbol": "circle"
         },
         "mode": "markers",
         "name": "state=RN",
         "showlegend": true,
         "type": "scatter",
         "x": [
          "Arquitetura e Urbanismo",
          "Direito",
          "Engenharia Civil",
          "Engenharia Mecânica",
          "Psicologia",
          "Fisioterapia",
          "Engenharia de Produção",
          "Biomedicina",
          "Farmácia",
          "Enfermagem",
          "Nutrição",
          "Publicidade e Propaganda",
          "Educação Física",
          "Administração",
          "Ciências Contábeis",
          "Estética",
          "Análise e Desenvolvimento de Sistemas",
          "Recursos Humanos",
          "Pedagogia",
          "Logística"
         ],
         "xaxis": "x",
         "y": [
          0.6708182968753956,
          0.5125128190946115,
          0.9549351383857619,
          1,
          0.653638602055363,
          0.7486391297006249,
          0.6975161572752016,
          0.6079240202452197,
          0.7603074198241508,
          0.6696048207830201,
          0.9305678733611856,
          0.61881079020353,
          0.6831476393445178,
          0.4789563815929248,
          0.4618505779623246,
          0.6737710368080237,
          0.352643634713795,
          0.3608102888172813,
          0.5222856703309271,
          0.3875475099345011
         ],
         "yaxis": "y"
        },
        {
         "hoverlabel": {
          "namelength": 0
         },
         "hovertemplate": "state=RJ<br>canonico=%{x}<br>relative_pef=%{y}",
         "legendgroup": "state=RJ",
         "marker": {
          "color": "#FF97FF",
          "symbol": "circle"
         },
         "mode": "markers",
         "name": "state=RJ",
         "showlegend": true,
         "type": "scatter",
         "x": [
          "Arquitetura e Urbanismo",
          "Direito",
          "Engenharia Civil",
          "Engenharia Mecânica",
          "Psicologia",
          "Fisioterapia",
          "Engenharia de Produção",
          "Biomedicina",
          "Farmácia",
          "Enfermagem",
          "Nutrição",
          "Publicidade e Propaganda",
          "Educação Física",
          "Administração",
          "Ciências Contábeis",
          "Estética",
          "Análise e Desenvolvimento de Sistemas",
          "Recursos Humanos",
          "Pedagogia",
          "Logística"
         ],
         "xaxis": "x",
         "y": [
          0.7771161475216196,
          0.5107010096997315,
          0.7131231565269684,
          0.9017033449340663,
          0.6677289562919837,
          0.6215092060467053,
          0.8134544012186093,
          0.4585927779900076,
          0.5625965047034691,
          0.49382986956962593,
          0.7069987851136351,
          1,
          0.6492375429546571,
          0.8324109205714287,
          0.7036037480241998,
          0.6936460124640927,
          0.6406673883333899,
          0.5716208891275809,
          0.7337117175185868,
          0.7304804318883497
         ],
         "yaxis": "y"
        },
        {
         "hoverlabel": {
          "namelength": 0
         },
         "hovertemplate": "state=PR<br>canonico=%{x}<br>relative_pef=%{y}",
         "legendgroup": "state=PR",
         "marker": {
          "color": "#FECB52",
          "symbol": "circle"
         },
         "mode": "markers",
         "name": "state=PR",
         "showlegend": true,
         "type": "scatter",
         "x": [
          "Arquitetura e Urbanismo",
          "Direito",
          "Engenharia Civil",
          "Engenharia Mecânica",
          "Psicologia",
          "Fisioterapia",
          "Engenharia de Produção",
          "Biomedicina",
          "Farmácia",
          "Enfermagem",
          "Nutrição",
          "Publicidade e Propaganda",
          "Educação Física",
          "Administração",
          "Ciências Contábeis",
          "Estética",
          "Análise e Desenvolvimento de Sistemas",
          "Recursos Humanos",
          "Pedagogia",
          "Logística"
         ],
         "xaxis": "x",
         "y": [
          0.8146734653528008,
          0.657968799010583,
          0.814115352192838,
          0.8665719032908842,
          0.7552279143255483,
          0.7614087245460002,
          0.7186652232604683,
          0.6486726403649707,
          0.7496640620622973,
          0.5933407187310793,
          0.8404267275000267,
          0.7934394576849854,
          0.6312764833155411,
          0.7044259722204081,
          0.7031953492570372,
          0.7093402794683286,
          0.7601987469673005,
          0.46788648168039143,
          0.7418606993014687,
          0.6207120419956895
         ],
         "yaxis": "y"
        },
        {
         "hoverlabel": {
          "namelength": 0
         },
         "hovertemplate": "state=PI<br>canonico=%{x}<br>relative_pef=%{y}",
         "legendgroup": "state=PI",
         "marker": {
          "color": "#636efa",
          "symbol": "circle"
         },
         "mode": "markers",
         "name": "state=PI",
         "showlegend": true,
         "type": "scatter",
         "x": [
          "Arquitetura e Urbanismo",
          "Direito",
          "Engenharia Civil",
          "Engenharia Mecânica",
          "Psicologia",
          "Fisioterapia",
          "Engenharia de Produção",
          "Biomedicina",
          "Farmácia",
          "Enfermagem",
          "Nutrição",
          "Publicidade e Propaganda",
          "Educação Física",
          "Administração",
          "Ciências Contábeis",
          "Estética",
          "Análise e Desenvolvimento de Sistemas",
          "Recursos Humanos",
          "Pedagogia",
          "Logística"
         ],
         "xaxis": "x",
         "y": [
          0.544049513066075,
          0.4909283972671565,
          0.6243715430406208,
          0.5327756920094219,
          0.5191400667427298,
          0.629898855557968,
          0.696655734980008,
          0.4991680722731713,
          0.5138700378627002,
          0.5137780187059283,
          0.5025034993428715,
          0.43548399226168466,
          0.4167935262169512,
          0.5275807157038328,
          0.5131311900112797,
          0.4307465881980622,
          0.5455669542955416,
          0.45790189760114575,
          0.456617551506254,
          0.59181917393052
         ],
         "yaxis": "y"
        },
        {
         "hoverlabel": {
          "namelength": 0
         },
         "hovertemplate": "state=PE<br>canonico=%{x}<br>relative_pef=%{y}",
         "legendgroup": "state=PE",
         "marker": {
          "color": "#EF553B",
          "symbol": "circle"
         },
         "mode": "markers",
         "name": "state=PE",
         "showlegend": true,
         "type": "scatter",
         "x": [
          "Arquitetura e Urbanismo",
          "Direito",
          "Engenharia Civil",
          "Engenharia Mecânica",
          "Psicologia",
          "Fisioterapia",
          "Engenharia de Produção",
          "Biomedicina",
          "Farmácia",
          "Enfermagem",
          "Nutrição",
          "Publicidade e Propaganda",
          "Educação Física",
          "Administração",
          "Ciências Contábeis",
          "Estética",
          "Análise e Desenvolvimento de Sistemas",
          "Recursos Humanos",
          "Pedagogia",
          "Logística"
         ],
         "xaxis": "x",
         "y": [
          0.5076576846997262,
          0.503574013302421,
          0.4705385948082072,
          0.47731913104478646,
          0.45895127842953,
          0.46312698837100036,
          0.5187924632968414,
          0.40508415564726774,
          0.49293860188138766,
          0.4429835145342516,
          0.5107148714058276,
          0.5172139042274174,
          0.4375858576256042,
          0.5189193343156496,
          0.5240716984005639,
          0.39738120161643703,
          0.5271757358240226,
          0.30461165174841864,
          0.4902992431210522,
          0.3970585519679782
         ],
         "yaxis": "y"
        },
        {
         "hoverlabel": {
          "namelength": 0
         },
         "hovertemplate": "state=PB<br>canonico=%{x}<br>relative_pef=%{y}",
         "legendgroup": "state=PB",
         "marker": {
          "color": "#00cc96",
          "symbol": "circle"
         },
         "mode": "markers",
         "name": "state=PB",
         "showlegend": true,
         "type": "scatter",
         "x": [
          "Arquitetura e Urbanismo",
          "Direito",
          "Engenharia Civil",
          "Engenharia Mecânica",
          "Psicologia",
          "Fisioterapia",
          "Engenharia de Produção",
          "Biomedicina",
          "Farmácia",
          "Enfermagem",
          "Nutrição",
          "Publicidade e Propaganda",
          "Educação Física",
          "Administração",
          "Ciências Contábeis",
          "Estética",
          "Análise e Desenvolvimento de Sistemas",
          "Recursos Humanos",
          "Pedagogia",
          "Logística"
         ],
         "xaxis": "x",
         "y": [
          0.4981102363387874,
          0.4517650644926823,
          0.46995944359330477,
          0.5254649663604722,
          0.4951301707854032,
          0.4667506617913115,
          0.47559933837624313,
          0.3524071450064612,
          0.456954899108103,
          0.41406459392414574,
          0.4929988214426909,
          0.3947374125518531,
          0.4940161257561708,
          0.47611719366961563,
          0.4564686340344397,
          0.36805467646915624,
          0.4589361329326837,
          0.3383563074352548,
          0.42730074521537137,
          0.41860527408364195
         ],
         "yaxis": "y"
        },
        {
         "hoverlabel": {
          "namelength": 0
         },
         "hovertemplate": "state=PA<br>canonico=%{x}<br>relative_pef=%{y}",
         "legendgroup": "state=PA",
         "marker": {
          "color": "#ab63fa",
          "symbol": "circle"
         },
         "mode": "markers",
         "name": "state=PA",
         "showlegend": true,
         "type": "scatter",
         "x": [
          "Arquitetura e Urbanismo",
          "Direito",
          "Engenharia Civil",
          "Engenharia Mecânica",
          "Psicologia",
          "Fisioterapia",
          "Engenharia de Produção",
          "Biomedicina",
          "Farmácia",
          "Enfermagem",
          "Nutrição",
          "Publicidade e Propaganda",
          "Educação Física",
          "Administração",
          "Ciências Contábeis",
          "Estética",
          "Análise e Desenvolvimento de Sistemas",
          "Recursos Humanos",
          "Pedagogia",
          "Logística"
         ],
         "xaxis": "x",
         "y": [
          0.6583881583135843,
          0.6849467254155506,
          0.7107307643432941,
          0.6869656535135704,
          0.6949554209679792,
          0.7402984325712274,
          0.7459633728793087,
          0.6258850023857075,
          0.5294808960537849,
          0.625540582740172,
          0.7634166408445437,
          0.6660692105723787,
          0.6810664567959916,
          0.6774856648583576,
          0.6906452737696921,
          0.5827369066166804,
          0.6510267054311494,
          0.47075227712137485,
          0.6719548627026917,
          0.6675472903901549
         ],
         "yaxis": "y"
        },
        {
         "hoverlabel": {
          "namelength": 0
         },
         "hovertemplate": "state=MT<br>canonico=%{x}<br>relative_pef=%{y}",
         "legendgroup": "state=MT",
         "marker": {
          "color": "#FFA15A",
          "symbol": "circle"
         },
         "mode": "markers",
         "name": "state=MT",
         "showlegend": true,
         "type": "scatter",
         "x": [
          "Arquitetura e Urbanismo",
          "Direito",
          "Engenharia Civil",
          "Engenharia Mecânica",
          "Psicologia",
          "Fisioterapia",
          "Engenharia de Produção",
          "Biomedicina",
          "Farmácia",
          "Enfermagem",
          "Nutrição",
          "Publicidade e Propaganda",
          "Educação Física",
          "Administração",
          "Ciências Contábeis",
          "Estética",
          "Análise e Desenvolvimento de Sistemas",
          "Recursos Humanos",
          "Pedagogia",
          "Logística"
         ],
         "xaxis": "x",
         "y": [
          0.7534545072597543,
          0.633622949516169,
          0.7517419665740754,
          0.6820301666451843,
          0.8417363227082734,
          0.7306913522158607,
          0.6959766241292407,
          0.707069321102222,
          0.7873815096283311,
          0.6987387547208969,
          0.7831993738580388,
          0.8456670665043284,
          0.6214388432177745,
          0.750384585395954,
          0.6941197868473729,
          0.5971079409903112,
          0.5682503289364937,
          0.4479458718224132,
          0.6510573484540934,
          0.38345700528563886
         ],
         "yaxis": "y"
        },
        {
         "hoverlabel": {
          "namelength": 0
         },
         "hovertemplate": "state=MS<br>canonico=%{x}<br>relative_pef=%{y}",
         "legendgroup": "state=MS",
         "marker": {
          "color": "#19d3f3",
          "symbol": "circle"
         },
         "mode": "markers",
         "name": "state=MS",
         "showlegend": true,
         "type": "scatter",
         "x": [
          "Arquitetura e Urbanismo",
          "Direito",
          "Engenharia Civil",
          "Engenharia Mecânica",
          "Psicologia",
          "Fisioterapia",
          "Engenharia de Produção",
          "Biomedicina",
          "Farmácia",
          "Enfermagem",
          "Nutrição",
          "Publicidade e Propaganda",
          "Educação Física",
          "Administração",
          "Ciências Contábeis",
          "Estética",
          "Análise e Desenvolvimento de Sistemas",
          "Recursos Humanos",
          "Pedagogia",
          "Logística"
         ],
         "xaxis": "x",
         "y": [
          0.6510596796436224,
          0.5467213047396331,
          0.6158021595481165,
          0.6481687719890317,
          0.6397319051234176,
          0.6336527081278929,
          0.6803409753005062,
          0.6583909842783623,
          0.5528476347107886,
          0.552114072513391,
          0.6897569874664757,
          0.5946001002092876,
          0.5664174556297549,
          0.7766861168963989,
          0.7920816139113425,
          0.5806149276985247,
          0.47787435024765,
          0.4794516052034849,
          0.7849291223548099,
          0.6021222843125219
         ],
         "yaxis": "y"
        },
        {
         "hoverlabel": {
          "namelength": 0
         },
         "hovertemplate": "state=MG<br>canonico=%{x}<br>relative_pef=%{y}",
         "legendgroup": "state=MG",
         "marker": {
          "color": "#FF6692",
          "symbol": "circle"
         },
         "mode": "markers",
         "name": "state=MG",
         "showlegend": true,
         "type": "scatter",
         "x": [
          "Arquitetura e Urbanismo",
          "Direito",
          "Engenharia Civil",
          "Engenharia Mecânica",
          "Psicologia",
          "Fisioterapia",
          "Engenharia de Produção",
          "Biomedicina",
          "Farmácia",
          "Enfermagem",
          "Nutrição",
          "Publicidade e Propaganda",
          "Educação Física",
          "Administração",
          "Ciências Contábeis",
          "Estética",
          "Análise e Desenvolvimento de Sistemas",
          "Recursos Humanos",
          "Pedagogia",
          "Logística"
         ],
         "xaxis": "x",
         "y": [
          0.8396408269978927,
          0.7139283347268228,
          0.8012514524061798,
          0.8432882109275347,
          0.7845470229648531,
          0.8111154499230584,
          0.8937012782505896,
          0.6529995186528287,
          0.8426840443508671,
          0.6944694073377027,
          0.769852476252551,
          0.9155747492526837,
          0.7640669632908137,
          1,
          1,
          0.7572114842494766,
          0.9358816618191985,
          0.6109327377968732,
          0.9500502229771581,
          0.8942371064076263
         ],
         "yaxis": "y"
        },
        {
         "hoverlabel": {
          "namelength": 0
         },
         "hovertemplate": "state=MA<br>canonico=%{x}<br>relative_pef=%{y}",
         "legendgroup": "state=MA",
         "marker": {
          "color": "#B6E880",
          "symbol": "circle"
         },
         "mode": "markers",
         "name": "state=MA",
         "showlegend": true,
         "type": "scatter",
         "x": [
          "Arquitetura e Urbanismo",
          "Direito",
          "Engenharia Civil",
          "Engenharia Mecânica",
          "Psicologia",
          "Fisioterapia",
          "Engenharia de Produção",
          "Biomedicina",
          "Farmácia",
          "Enfermagem",
          "Nutrição",
          "Publicidade e Propaganda",
          "Educação Física",
          "Administração",
          "Ciências Contábeis",
          "Estética",
          "Análise e Desenvolvimento de Sistemas",
          "Recursos Humanos",
          "Pedagogia",
          "Logística"
         ],
         "xaxis": "x",
         "y": [
          0.6785629184045768,
          0.6661184882246842,
          0.6979802533612062,
          0.7332594848467269,
          0.5893756606834502,
          0.648181718304279,
          0.7641673605204874,
          0.6061456291984574,
          0.5539778083008774,
          0.5581545189410312,
          0.6818070809603692,
          0.4463356017710509,
          0.49902750604547025,
          0.6527850307391803,
          0.612027505625746,
          0.7874799162568772,
          0.6900384974117615,
          0.4224583566058002,
          0.6676897905338945,
          0.49511377644347926
         ],
         "yaxis": "y"
        },
        {
         "hoverlabel": {
          "namelength": 0
         },
         "hovertemplate": "state=GO<br>canonico=%{x}<br>relative_pef=%{y}",
         "legendgroup": "state=GO",
         "marker": {
          "color": "#FF97FF",
          "symbol": "circle"
         },
         "mode": "markers",
         "name": "state=GO",
         "showlegend": true,
         "type": "scatter",
         "x": [
          "Arquitetura e Urbanismo",
          "Direito",
          "Engenharia Civil",
          "Engenharia Mecânica",
          "Psicologia",
          "Fisioterapia",
          "Engenharia de Produção",
          "Biomedicina",
          "Farmácia",
          "Enfermagem",
          "Nutrição",
          "Publicidade e Propaganda",
          "Educação Física",
          "Administração",
          "Ciências Contábeis",
          "Estética",
          "Análise e Desenvolvimento de Sistemas",
          "Recursos Humanos",
          "Pedagogia",
          "Logística"
         ],
         "xaxis": "x",
         "y": [
          0.6550617789991814,
          0.5183783729564628,
          0.6528015035938776,
          0.6707767205652814,
          0.5774610722211151,
          0.7351131104072574,
          0.7394155817025859,
          0.5843803658018205,
          0.6643085313067602,
          0.6306062986190861,
          0.9331204789024351,
          0.49598191542199116,
          0.6722936443990764,
          0.6399425258453189,
          0.6066468555727228,
          0.6902832306830907,
          0.6198946132816445,
          0.4166231901181525,
          0.5720499897985521,
          0.6224784150001529
         ],
         "yaxis": "y"
        },
        {
         "hoverlabel": {
          "namelength": 0
         },
         "hovertemplate": "state=ES<br>canonico=%{x}<br>relative_pef=%{y}",
         "legendgroup": "state=ES",
         "marker": {
          "color": "#FECB52",
          "symbol": "circle"
         },
         "mode": "markers",
         "name": "state=ES",
         "showlegend": true,
         "type": "scatter",
         "x": [
          "Arquitetura e Urbanismo",
          "Direito",
          "Engenharia Civil",
          "Engenharia Mecânica",
          "Psicologia",
          "Fisioterapia",
          "Engenharia de Produção",
          "Biomedicina",
          "Farmácia",
          "Enfermagem",
          "Nutrição",
          "Publicidade e Propaganda",
          "Educação Física",
          "Administração",
          "Ciências Contábeis",
          "Estética",
          "Análise e Desenvolvimento de Sistemas",
          "Recursos Humanos",
          "Pedagogia",
          "Logística"
         ],
         "xaxis": "x",
         "y": [
          0.7205855508512623,
          0.7086013264487748,
          0.701407681376269,
          0.7288836031744356,
          0.7571253638454972,
          0.7285798925946303,
          0.849866354754748,
          0.5340233279644482,
          0.6501824720096148,
          0.6222928389552562,
          0.918170583081345,
          0.632693383741965,
          0.6977368772386422,
          0.7409187501761798,
          0.7463941384484124,
          0.5832805881493743,
          0.7108003949126135,
          0.6566744241556272,
          0.8663409153920804,
          0.6755223326864261
         ],
         "yaxis": "y"
        },
        {
         "hoverlabel": {
          "namelength": 0
         },
         "hovertemplate": "state=DF<br>canonico=%{x}<br>relative_pef=%{y}",
         "legendgroup": "state=DF",
         "marker": {
          "color": "#636efa",
          "symbol": "circle"
         },
         "mode": "markers",
         "name": "state=DF",
         "showlegend": true,
         "type": "scatter",
         "x": [
          "Arquitetura e Urbanismo",
          "Direito",
          "Engenharia Civil",
          "Engenharia Mecânica",
          "Psicologia",
          "Fisioterapia",
          "Engenharia de Produção",
          "Biomedicina",
          "Farmácia",
          "Enfermagem",
          "Nutrição",
          "Publicidade e Propaganda",
          "Educação Física",
          "Administração",
          "Ciências Contábeis",
          "Estética",
          "Análise e Desenvolvimento de Sistemas",
          "Recursos Humanos",
          "Pedagogia",
          "Logística"
         ],
         "xaxis": "x",
         "y": [
          1,
          0.7570687116311254,
          1,
          0.7832534299350806,
          1,
          0.8605982125832743,
          0.7800991073836886,
          0.7708316936120614,
          0.895711367846525,
          0.7187172307177464,
          0.8938426524484715,
          0.8891105533497081,
          0.714962710033013,
          0.7113690967730574,
          0.67699748172924,
          0.8565345744680851,
          0.7402078874207318,
          0.5245475199904523,
          0.7709549814292019,
          0.7527374386233371
         ],
         "yaxis": "y"
        },
        {
         "hoverlabel": {
          "namelength": 0
         },
         "hovertemplate": "state=CE<br>canonico=%{x}<br>relative_pef=%{y}",
         "legendgroup": "state=CE",
         "marker": {
          "color": "#EF553B",
          "symbol": "circle"
         },
         "mode": "markers",
         "name": "state=CE",
         "showlegend": true,
         "type": "scatter",
         "x": [
          "Arquitetura e Urbanismo",
          "Direito",
          "Engenharia Civil",
          "Engenharia Mecânica",
          "Psicologia",
          "Fisioterapia",
          "Engenharia de Produção",
          "Biomedicina",
          "Farmácia",
          "Enfermagem",
          "Nutrição",
          "Publicidade e Propaganda",
          "Educação Física",
          "Administração",
          "Ciências Contábeis",
          "Estética",
          "Análise e Desenvolvimento de Sistemas",
          "Recursos Humanos",
          "Pedagogia",
          "Logística"
         ],
         "xaxis": "x",
         "y": [
          0.6480803695199453,
          0.49042855151466425,
          0.6569717814392692,
          0.601141578154514,
          0.5482941994000067,
          0.5316800063640592,
          0.712052854801372,
          0.47594601501719064,
          0.6019811816054146,
          0.5061976523977166,
          0.6431824947376295,
          0.5430015467907381,
          0.43689391608809375,
          0.6190556209255174,
          0.6045888272140842,
          0.3955972479185939,
          0.5313387123089038,
          0.3823309881847476,
          0.4388485667567425,
          0.5304721315829647
         ],
         "yaxis": "y"
        },
        {
         "hoverlabel": {
          "namelength": 0
         },
         "hovertemplate": "state=BA<br>canonico=%{x}<br>relative_pef=%{y}",
         "legendgroup": "state=BA",
         "marker": {
          "color": "#00cc96",
          "symbol": "circle"
         },
         "mode": "markers",
         "name": "state=BA",
         "showlegend": true,
         "type": "scatter",
         "x": [
          "Arquitetura e Urbanismo",
          "Direito",
          "Engenharia Civil",
          "Engenharia Mecânica",
          "Psicologia",
          "Fisioterapia",
          "Engenharia de Produção",
          "Biomedicina",
          "Farmácia",
          "Enfermagem",
          "Nutrição",
          "Publicidade e Propaganda",
          "Educação Física",
          "Administração",
          "Ciências Contábeis",
          "Estética",
          "Análise e Desenvolvimento de Sistemas",
          "Recursos Humanos",
          "Pedagogia",
          "Logística"
         ],
         "xaxis": "x",
         "y": [
          0.6745984691417828,
          0.6501153654696814,
          0.7022991885139102,
          0.7149684581576659,
          0.6659688845920251,
          0.7256084784856089,
          0.7382965819235027,
          0.6075315405562779,
          0.6726392461798433,
          0.6595105999381468,
          0.7968979089422902,
          0.7445197195531125,
          0.5967072319668363,
          0.6479950902477121,
          0.6508141590483026,
          0.5956547957544184,
          0.588094775020754,
          0.4192982456140351,
          0.688217911735328,
          0.5547890538451508
         ],
         "yaxis": "y"
        },
        {
         "hoverlabel": {
          "namelength": 0
         },
         "hovertemplate": "state=AP<br>canonico=%{x}<br>relative_pef=%{y}",
         "legendgroup": "state=AP",
         "marker": {
          "color": "#ab63fa",
          "symbol": "circle"
         },
         "mode": "markers",
         "name": "state=AP",
         "showlegend": true,
         "type": "scatter",
         "x": [
          "Arquitetura e Urbanismo",
          "Direito",
          "Engenharia Civil",
          "Engenharia Mecânica",
          "Psicologia",
          "Fisioterapia",
          "Biomedicina",
          "Farmácia",
          "Enfermagem",
          "Nutrição",
          "Publicidade e Propaganda",
          "Educação Física",
          "Administração",
          "Ciências Contábeis",
          "Recursos Humanos",
          "Pedagogia",
          "Logística"
         ],
         "xaxis": "x",
         "y": [
          0.9889381823756522,
          0.6630092779717711,
          0.7122987392792199,
          0.9439885818797016,
          0.6839984388219394,
          0.9024939624933475,
          0.7167476672386023,
          1,
          1,
          0.8609825941082819,
          0.3686616139303745,
          1,
          0.7138281334695404,
          0.6177811475206542,
          0.5084825158133429,
          0.8511102749984558,
          0.40478282861611203
         ],
         "yaxis": "y"
        },
        {
         "hoverlabel": {
          "namelength": 0
         },
         "hovertemplate": "state=AM<br>canonico=%{x}<br>relative_pef=%{y}",
         "legendgroup": "state=AM",
         "marker": {
          "color": "#FFA15A",
          "symbol": "circle"
         },
         "mode": "markers",
         "name": "state=AM",
         "showlegend": true,
         "type": "scatter",
         "x": [
          "Arquitetura e Urbanismo",
          "Direito",
          "Engenharia Civil",
          "Engenharia Mecânica",
          "Psicologia",
          "Fisioterapia",
          "Engenharia de Produção",
          "Biomedicina",
          "Farmácia",
          "Enfermagem",
          "Nutrição",
          "Publicidade e Propaganda",
          "Educação Física",
          "Administração",
          "Ciências Contábeis",
          "Estética",
          "Análise e Desenvolvimento de Sistemas",
          "Recursos Humanos",
          "Pedagogia",
          "Logística"
         ],
         "xaxis": "x",
         "y": [
          0.4825831483431123,
          0.7763369628850527,
          0.5269206349064304,
          0.5994037545211385,
          0.49016033872393033,
          0.5436432342940111,
          0.6331862015273921,
          0.42888406342327257,
          0.43609697911677797,
          0.5154263542435533,
          0.5404881983993846,
          0.5894057939055235,
          0.5218879862025616,
          0.649353332193183,
          0.626389244055848,
          0.5568187350893422,
          0.5304892771490911,
          0.4051057703783268,
          0.6842605936974111,
          0.5832425250913079
         ],
         "yaxis": "y"
        },
        {
         "hoverlabel": {
          "namelength": 0
         },
         "hovertemplate": "state=AL<br>canonico=%{x}<br>relative_pef=%{y}",
         "legendgroup": "state=AL",
         "marker": {
          "color": "#19d3f3",
          "symbol": "circle"
         },
         "mode": "markers",
         "name": "state=AL",
         "showlegend": true,
         "type": "scatter",
         "x": [
          "Arquitetura e Urbanismo",
          "Direito",
          "Engenharia Civil",
          "Engenharia Mecânica",
          "Psicologia",
          "Fisioterapia",
          "Engenharia de Produção",
          "Biomedicina",
          "Farmácia",
          "Enfermagem",
          "Nutrição",
          "Publicidade e Propaganda",
          "Educação Física",
          "Administração",
          "Ciências Contábeis",
          "Estética",
          "Análise e Desenvolvimento de Sistemas",
          "Recursos Humanos",
          "Pedagogia",
          "Logística"
         ],
         "xaxis": "x",
         "y": [
          0.6457969386159074,
          0.4826064240622456,
          0.7501283764192953,
          0.6043115791352033,
          0.46736812016434104,
          0.609023571624354,
          0.7070226007220786,
          0.6607951054192361,
          0.5020756711818765,
          0.5699193427239131,
          0.6311746038530169,
          0.43280882224959943,
          0.5469280439689453,
          0.5701988161058837,
          0.535627370199648,
          0.6709430838891864,
          0.37212428044909657,
          0.43517325098460435,
          0.6167279715281618,
          0.4857624626434972
         ],
         "yaxis": "y"
        },
        {
         "hoverlabel": {
          "namelength": 0
         },
         "hovertemplate": "state=AC<br>canonico=%{x}<br>relative_pef=%{y}",
         "legendgroup": "state=AC",
         "marker": {
          "color": "#FF6692",
          "symbol": "circle"
         },
         "mode": "markers",
         "name": "state=AC",
         "showlegend": true,
         "type": "scatter",
         "x": [
          "Direito",
          "Engenharia Civil",
          "Engenharia Mecânica",
          "Psicologia",
          "Enfermagem",
          "Educação Física",
          "Administração",
          "Ciências Contábeis",
          "Logística"
         ],
         "xaxis": "x",
         "y": [
          0.4967847704758289,
          0.7144889821165218,
          0.7409857234303591,
          0.4360647333463093,
          0.4036767448280737,
          0.44498816880043846,
          0.4491131425334141,
          0.45113632700934975,
          0.34988850338878247
         ],
         "yaxis": "y"
        }
       ],
       "layout": {
        "height": 600,
        "legend": {
         "tracegroupgap": 0
        },
        "margin": {
         "t": 60
        },
        "template": {
         "data": {
          "bar": [
           {
            "error_x": {
             "color": "#2a3f5f"
            },
            "error_y": {
             "color": "#2a3f5f"
            },
            "marker": {
             "line": {
              "color": "#E5ECF6",
              "width": 0.5
             }
            },
            "type": "bar"
           }
          ],
          "barpolar": [
           {
            "marker": {
             "line": {
              "color": "#E5ECF6",
              "width": 0.5
             }
            },
            "type": "barpolar"
           }
          ],
          "carpet": [
           {
            "aaxis": {
             "endlinecolor": "#2a3f5f",
             "gridcolor": "white",
             "linecolor": "white",
             "minorgridcolor": "white",
             "startlinecolor": "#2a3f5f"
            },
            "baxis": {
             "endlinecolor": "#2a3f5f",
             "gridcolor": "white",
             "linecolor": "white",
             "minorgridcolor": "white",
             "startlinecolor": "#2a3f5f"
            },
            "type": "carpet"
           }
          ],
          "choropleth": [
           {
            "colorbar": {
             "outlinewidth": 0,
             "ticks": ""
            },
            "type": "choropleth"
           }
          ],
          "contour": [
           {
            "colorbar": {
             "outlinewidth": 0,
             "ticks": ""
            },
            "colorscale": [
             [
              0,
              "#0d0887"
             ],
             [
              0.1111111111111111,
              "#46039f"
             ],
             [
              0.2222222222222222,
              "#7201a8"
             ],
             [
              0.3333333333333333,
              "#9c179e"
             ],
             [
              0.4444444444444444,
              "#bd3786"
             ],
             [
              0.5555555555555556,
              "#d8576b"
             ],
             [
              0.6666666666666666,
              "#ed7953"
             ],
             [
              0.7777777777777778,
              "#fb9f3a"
             ],
             [
              0.8888888888888888,
              "#fdca26"
             ],
             [
              1,
              "#f0f921"
             ]
            ],
            "type": "contour"
           }
          ],
          "contourcarpet": [
           {
            "colorbar": {
             "outlinewidth": 0,
             "ticks": ""
            },
            "type": "contourcarpet"
           }
          ],
          "heatmap": [
           {
            "colorbar": {
             "outlinewidth": 0,
             "ticks": ""
            },
            "colorscale": [
             [
              0,
              "#0d0887"
             ],
             [
              0.1111111111111111,
              "#46039f"
             ],
             [
              0.2222222222222222,
              "#7201a8"
             ],
             [
              0.3333333333333333,
              "#9c179e"
             ],
             [
              0.4444444444444444,
              "#bd3786"
             ],
             [
              0.5555555555555556,
              "#d8576b"
             ],
             [
              0.6666666666666666,
              "#ed7953"
             ],
             [
              0.7777777777777778,
              "#fb9f3a"
             ],
             [
              0.8888888888888888,
              "#fdca26"
             ],
             [
              1,
              "#f0f921"
             ]
            ],
            "type": "heatmap"
           }
          ],
          "heatmapgl": [
           {
            "colorbar": {
             "outlinewidth": 0,
             "ticks": ""
            },
            "colorscale": [
             [
              0,
              "#0d0887"
             ],
             [
              0.1111111111111111,
              "#46039f"
             ],
             [
              0.2222222222222222,
              "#7201a8"
             ],
             [
              0.3333333333333333,
              "#9c179e"
             ],
             [
              0.4444444444444444,
              "#bd3786"
             ],
             [
              0.5555555555555556,
              "#d8576b"
             ],
             [
              0.6666666666666666,
              "#ed7953"
             ],
             [
              0.7777777777777778,
              "#fb9f3a"
             ],
             [
              0.8888888888888888,
              "#fdca26"
             ],
             [
              1,
              "#f0f921"
             ]
            ],
            "type": "heatmapgl"
           }
          ],
          "histogram": [
           {
            "marker": {
             "colorbar": {
              "outlinewidth": 0,
              "ticks": ""
             }
            },
            "type": "histogram"
           }
          ],
          "histogram2d": [
           {
            "colorbar": {
             "outlinewidth": 0,
             "ticks": ""
            },
            "colorscale": [
             [
              0,
              "#0d0887"
             ],
             [
              0.1111111111111111,
              "#46039f"
             ],
             [
              0.2222222222222222,
              "#7201a8"
             ],
             [
              0.3333333333333333,
              "#9c179e"
             ],
             [
              0.4444444444444444,
              "#bd3786"
             ],
             [
              0.5555555555555556,
              "#d8576b"
             ],
             [
              0.6666666666666666,
              "#ed7953"
             ],
             [
              0.7777777777777778,
              "#fb9f3a"
             ],
             [
              0.8888888888888888,
              "#fdca26"
             ],
             [
              1,
              "#f0f921"
             ]
            ],
            "type": "histogram2d"
           }
          ],
          "histogram2dcontour": [
           {
            "colorbar": {
             "outlinewidth": 0,
             "ticks": ""
            },
            "colorscale": [
             [
              0,
              "#0d0887"
             ],
             [
              0.1111111111111111,
              "#46039f"
             ],
             [
              0.2222222222222222,
              "#7201a8"
             ],
             [
              0.3333333333333333,
              "#9c179e"
             ],
             [
              0.4444444444444444,
              "#bd3786"
             ],
             [
              0.5555555555555556,
              "#d8576b"
             ],
             [
              0.6666666666666666,
              "#ed7953"
             ],
             [
              0.7777777777777778,
              "#fb9f3a"
             ],
             [
              0.8888888888888888,
              "#fdca26"
             ],
             [
              1,
              "#f0f921"
             ]
            ],
            "type": "histogram2dcontour"
           }
          ],
          "mesh3d": [
           {
            "colorbar": {
             "outlinewidth": 0,
             "ticks": ""
            },
            "type": "mesh3d"
           }
          ],
          "parcoords": [
           {
            "line": {
             "colorbar": {
              "outlinewidth": 0,
              "ticks": ""
             }
            },
            "type": "parcoords"
           }
          ],
          "scatter": [
           {
            "marker": {
             "colorbar": {
              "outlinewidth": 0,
              "ticks": ""
             }
            },
            "type": "scatter"
           }
          ],
          "scatter3d": [
           {
            "line": {
             "colorbar": {
              "outlinewidth": 0,
              "ticks": ""
             }
            },
            "marker": {
             "colorbar": {
              "outlinewidth": 0,
              "ticks": ""
             }
            },
            "type": "scatter3d"
           }
          ],
          "scattercarpet": [
           {
            "marker": {
             "colorbar": {
              "outlinewidth": 0,
              "ticks": ""
             }
            },
            "type": "scattercarpet"
           }
          ],
          "scattergeo": [
           {
            "marker": {
             "colorbar": {
              "outlinewidth": 0,
              "ticks": ""
             }
            },
            "type": "scattergeo"
           }
          ],
          "scattergl": [
           {
            "marker": {
             "colorbar": {
              "outlinewidth": 0,
              "ticks": ""
             }
            },
            "type": "scattergl"
           }
          ],
          "scattermapbox": [
           {
            "marker": {
             "colorbar": {
              "outlinewidth": 0,
              "ticks": ""
             }
            },
            "type": "scattermapbox"
           }
          ],
          "scatterpolar": [
           {
            "marker": {
             "colorbar": {
              "outlinewidth": 0,
              "ticks": ""
             }
            },
            "type": "scatterpolar"
           }
          ],
          "scatterpolargl": [
           {
            "marker": {
             "colorbar": {
              "outlinewidth": 0,
              "ticks": ""
             }
            },
            "type": "scatterpolargl"
           }
          ],
          "scatterternary": [
           {
            "marker": {
             "colorbar": {
              "outlinewidth": 0,
              "ticks": ""
             }
            },
            "type": "scatterternary"
           }
          ],
          "surface": [
           {
            "colorbar": {
             "outlinewidth": 0,
             "ticks": ""
            },
            "colorscale": [
             [
              0,
              "#0d0887"
             ],
             [
              0.1111111111111111,
              "#46039f"
             ],
             [
              0.2222222222222222,
              "#7201a8"
             ],
             [
              0.3333333333333333,
              "#9c179e"
             ],
             [
              0.4444444444444444,
              "#bd3786"
             ],
             [
              0.5555555555555556,
              "#d8576b"
             ],
             [
              0.6666666666666666,
              "#ed7953"
             ],
             [
              0.7777777777777778,
              "#fb9f3a"
             ],
             [
              0.8888888888888888,
              "#fdca26"
             ],
             [
              1,
              "#f0f921"
             ]
            ],
            "type": "surface"
           }
          ],
          "table": [
           {
            "cells": {
             "fill": {
              "color": "#EBF0F8"
             },
             "line": {
              "color": "white"
             }
            },
            "header": {
             "fill": {
              "color": "#C8D4E3"
             },
             "line": {
              "color": "white"
             }
            },
            "type": "table"
           }
          ]
         },
         "layout": {
          "annotationdefaults": {
           "arrowcolor": "#2a3f5f",
           "arrowhead": 0,
           "arrowwidth": 1
          },
          "colorscale": {
           "diverging": [
            [
             0,
             "#8e0152"
            ],
            [
             0.1,
             "#c51b7d"
            ],
            [
             0.2,
             "#de77ae"
            ],
            [
             0.3,
             "#f1b6da"
            ],
            [
             0.4,
             "#fde0ef"
            ],
            [
             0.5,
             "#f7f7f7"
            ],
            [
             0.6,
             "#e6f5d0"
            ],
            [
             0.7,
             "#b8e186"
            ],
            [
             0.8,
             "#7fbc41"
            ],
            [
             0.9,
             "#4d9221"
            ],
            [
             1,
             "#276419"
            ]
           ],
           "sequential": [
            [
             0,
             "#0d0887"
            ],
            [
             0.1111111111111111,
             "#46039f"
            ],
            [
             0.2222222222222222,
             "#7201a8"
            ],
            [
             0.3333333333333333,
             "#9c179e"
            ],
            [
             0.4444444444444444,
             "#bd3786"
            ],
            [
             0.5555555555555556,
             "#d8576b"
            ],
            [
             0.6666666666666666,
             "#ed7953"
            ],
            [
             0.7777777777777778,
             "#fb9f3a"
            ],
            [
             0.8888888888888888,
             "#fdca26"
            ],
            [
             1,
             "#f0f921"
            ]
           ],
           "sequentialminus": [
            [
             0,
             "#0d0887"
            ],
            [
             0.1111111111111111,
             "#46039f"
            ],
            [
             0.2222222222222222,
             "#7201a8"
            ],
            [
             0.3333333333333333,
             "#9c179e"
            ],
            [
             0.4444444444444444,
             "#bd3786"
            ],
            [
             0.5555555555555556,
             "#d8576b"
            ],
            [
             0.6666666666666666,
             "#ed7953"
            ],
            [
             0.7777777777777778,
             "#fb9f3a"
            ],
            [
             0.8888888888888888,
             "#fdca26"
            ],
            [
             1,
             "#f0f921"
            ]
           ]
          },
          "colorway": [
           "#636efa",
           "#EF553B",
           "#00cc96",
           "#ab63fa",
           "#FFA15A",
           "#19d3f3",
           "#FF6692",
           "#B6E880",
           "#FF97FF",
           "#FECB52"
          ],
          "font": {
           "color": "#2a3f5f"
          },
          "geo": {
           "bgcolor": "white",
           "lakecolor": "white",
           "landcolor": "#E5ECF6",
           "showlakes": true,
           "showland": true,
           "subunitcolor": "white"
          },
          "hoverlabel": {
           "align": "left"
          },
          "hovermode": "closest",
          "mapbox": {
           "style": "light"
          },
          "paper_bgcolor": "white",
          "plot_bgcolor": "#E5ECF6",
          "polar": {
           "angularaxis": {
            "gridcolor": "white",
            "linecolor": "white",
            "ticks": ""
           },
           "bgcolor": "#E5ECF6",
           "radialaxis": {
            "gridcolor": "white",
            "linecolor": "white",
            "ticks": ""
           }
          },
          "scene": {
           "xaxis": {
            "backgroundcolor": "#E5ECF6",
            "gridcolor": "white",
            "gridwidth": 2,
            "linecolor": "white",
            "showbackground": true,
            "ticks": "",
            "zerolinecolor": "white"
           },
           "yaxis": {
            "backgroundcolor": "#E5ECF6",
            "gridcolor": "white",
            "gridwidth": 2,
            "linecolor": "white",
            "showbackground": true,
            "ticks": "",
            "zerolinecolor": "white"
           },
           "zaxis": {
            "backgroundcolor": "#E5ECF6",
            "gridcolor": "white",
            "gridwidth": 2,
            "linecolor": "white",
            "showbackground": true,
            "ticks": "",
            "zerolinecolor": "white"
           }
          },
          "shapedefaults": {
           "line": {
            "color": "#2a3f5f"
           }
          },
          "ternary": {
           "aaxis": {
            "gridcolor": "white",
            "linecolor": "white",
            "ticks": ""
           },
           "baxis": {
            "gridcolor": "white",
            "linecolor": "white",
            "ticks": ""
           },
           "bgcolor": "#E5ECF6",
           "caxis": {
            "gridcolor": "white",
            "linecolor": "white",
            "ticks": ""
           }
          },
          "title": {
           "x": 0.05
          },
          "xaxis": {
           "automargin": true,
           "gridcolor": "white",
           "linecolor": "white",
           "ticks": "",
           "zerolinecolor": "white",
           "zerolinewidth": 2
          },
          "yaxis": {
           "automargin": true,
           "gridcolor": "white",
           "linecolor": "white",
           "ticks": "",
           "zerolinecolor": "white",
           "zerolinewidth": 2
          }
         }
        },
        "xaxis": {
         "anchor": "y",
         "domain": [
          0,
          0.98
         ],
         "title": {
          "text": "canonico"
         }
        },
        "yaxis": {
         "anchor": "x",
         "domain": [
          0,
          1
         ],
         "title": {
          "text": "relative_pef"
         }
        }
       }
      },
      "text/html": [
       "<div>\n",
       "        \n",
       "        \n",
       "            <div id=\"63564ff3-3008-4185-806c-f326056ae4ed\" class=\"plotly-graph-div\" style=\"height:600px; width:100%;\"></div>\n",
       "            <script type=\"text/javascript\">\n",
       "                require([\"plotly\"], function(Plotly) {\n",
       "                    window.PLOTLYENV=window.PLOTLYENV || {};\n",
       "                    \n",
       "                if (document.getElementById(\"63564ff3-3008-4185-806c-f326056ae4ed\")) {\n",
       "                    Plotly.newPlot(\n",
       "                        '63564ff3-3008-4185-806c-f326056ae4ed',\n",
       "                        [{\"hoverlabel\": {\"namelength\": 0}, \"hovertemplate\": \"state=TO<br>canonico=%{x}<br>relative_pef=%{y}\", \"legendgroup\": \"state=TO\", \"marker\": {\"color\": \"#636efa\", \"symbol\": \"circle\"}, \"mode\": \"markers\", \"name\": \"state=TO\", \"showlegend\": true, \"type\": \"scatter\", \"x\": [\"Arquitetura e Urbanismo\", \"Direito\", \"Engenharia Civil\", \"Psicologia\", \"Fisioterapia\", \"Engenharia de Produ\\u00e7\\u00e3o\", \"Biomedicina\", \"Farm\\u00e1cia\", \"Enfermagem\", \"Publicidade e Propaganda\", \"Educa\\u00e7\\u00e3o F\\u00edsica\", \"Administra\\u00e7\\u00e3o\", \"Ci\\u00eancias Cont\\u00e1beis\", \"Est\\u00e9tica\", \"An\\u00e1lise e Desenvolvimento de Sistemas\", \"Recursos Humanos\", \"Log\\u00edstica\"], \"xaxis\": \"x\", \"y\": [0.7087534242408394, 0.5870563531512534, 0.5578183839005741, 0.4523034473391237, 0.795105269891002, 0.924060337182792, 0.6384063373205274, 0.70549325429457, 0.6377236355363893, 0.5038309768876992, 0.45099857402227017, 0.6375901423252851, 0.626301582049502, 0.4913457325088855, 0.5627549731106353, 0.45605680868838766, 0.5718138281146681], \"yaxis\": \"y\"}, {\"hoverlabel\": {\"namelength\": 0}, \"hovertemplate\": \"state=SP<br>canonico=%{x}<br>relative_pef=%{y}\", \"legendgroup\": \"state=SP\", \"marker\": {\"color\": \"#EF553B\", \"symbol\": \"circle\"}, \"mode\": \"markers\", \"name\": \"state=SP\", \"showlegend\": true, \"type\": \"scatter\", \"x\": [\"Arquitetura e Urbanismo\", \"Direito\", \"Engenharia Civil\", \"Engenharia Mec\\u00e2nica\", \"Psicologia\", \"Fisioterapia\", \"Engenharia de Produ\\u00e7\\u00e3o\", \"Biomedicina\", \"Farm\\u00e1cia\", \"Enfermagem\", \"Nutri\\u00e7\\u00e3o\", \"Publicidade e Propaganda\", \"Educa\\u00e7\\u00e3o F\\u00edsica\", \"Administra\\u00e7\\u00e3o\", \"Ci\\u00eancias Cont\\u00e1beis\", \"Est\\u00e9tica\", \"An\\u00e1lise e Desenvolvimento de Sistemas\", \"Recursos Humanos\", \"Pedagogia\", \"Log\\u00edstica\"], \"xaxis\": \"x\", \"y\": [0.6649400342633202, 0.5471476945666329, 0.6622897348978394, 0.6750158510629108, 0.6290220438969593, 0.6470841035293077, 0.7022448180628542, 0.5230549257476678, 0.5928758763091548, 0.5266618465900641, 0.6640971396211093, 0.6848653597432358, 0.5408739523998763, 0.7230323266990818, 0.6733703760886348, 0.6204010577438045, 0.6205353282441827, 0.4560393901420217, 0.7327519200321712, 0.6132920148588945], \"yaxis\": \"y\"}, {\"hoverlabel\": {\"namelength\": 0}, \"hovertemplate\": \"state=SE<br>canonico=%{x}<br>relative_pef=%{y}\", \"legendgroup\": \"state=SE\", \"marker\": {\"color\": \"#00cc96\", \"symbol\": \"circle\"}, \"mode\": \"markers\", \"name\": \"state=SE\", \"showlegend\": true, \"type\": \"scatter\", \"x\": [\"Arquitetura e Urbanismo\", \"Direito\", \"Engenharia Civil\", \"Engenharia Mec\\u00e2nica\", \"Psicologia\", \"Fisioterapia\", \"Engenharia de Produ\\u00e7\\u00e3o\", \"Biomedicina\", \"Farm\\u00e1cia\", \"Enfermagem\", \"Nutri\\u00e7\\u00e3o\", \"Educa\\u00e7\\u00e3o F\\u00edsica\", \"Administra\\u00e7\\u00e3o\", \"Ci\\u00eancias Cont\\u00e1beis\", \"Est\\u00e9tica\", \"An\\u00e1lise e Desenvolvimento de Sistemas\", \"Recursos Humanos\", \"Pedagogia\", \"Log\\u00edstica\"], \"xaxis\": \"x\", \"y\": [0.4231554395719419, 0.5284881621958439, 0.6331786047951776, 0.5798282965841701, 0.5262922263792527, 0.5997228381645293, 0.6184751066877695, 0.5264209161217257, 0.5755504811906419, 0.6012714302752731, 0.6707879665345287, 0.47279232309694313, 0.5295726615616076, 0.5839249749228067, 0.44925101879351476, 0.3843686557936441, 0.4547201336675021, 0.6700287297340365, 0.5018674344211325], \"yaxis\": \"y\"}, {\"hoverlabel\": {\"namelength\": 0}, \"hovertemplate\": \"state=SC<br>canonico=%{x}<br>relative_pef=%{y}\", \"legendgroup\": \"state=SC\", \"marker\": {\"color\": \"#ab63fa\", \"symbol\": \"circle\"}, \"mode\": \"markers\", \"name\": \"state=SC\", \"showlegend\": true, \"type\": \"scatter\", \"x\": [\"Arquitetura e Urbanismo\", \"Direito\", \"Engenharia Civil\", \"Engenharia Mec\\u00e2nica\", \"Psicologia\", \"Fisioterapia\", \"Engenharia de Produ\\u00e7\\u00e3o\", \"Biomedicina\", \"Farm\\u00e1cia\", \"Enfermagem\", \"Nutri\\u00e7\\u00e3o\", \"Publicidade e Propaganda\", \"Educa\\u00e7\\u00e3o F\\u00edsica\", \"Administra\\u00e7\\u00e3o\", \"Ci\\u00eancias Cont\\u00e1beis\", \"Est\\u00e9tica\", \"An\\u00e1lise e Desenvolvimento de Sistemas\", \"Recursos Humanos\", \"Pedagogia\", \"Log\\u00edstica\"], \"xaxis\": \"x\", \"y\": [0.6672060857143679, 0.6417459688257852, 0.6540130734453974, 0.6432546058268296, 0.6613315746324302, 0.6406794239681807, 0.6637247134496995, 0.5976355209579279, 0.6946895403160948, 0.6526366737978563, 0.7955824370385408, 0.6233903761242227, 0.6663196029080595, 0.7625331459492818, 0.7334888784357853, 0.733793027898145, 0.5896729597970012, 0.4104473636472133, 0.6569744186603396, 1.0], \"yaxis\": \"y\"}, {\"hoverlabel\": {\"namelength\": 0}, \"hovertemplate\": \"state=RS<br>canonico=%{x}<br>relative_pef=%{y}\", \"legendgroup\": \"state=RS\", \"marker\": {\"color\": \"#FFA15A\", \"symbol\": \"circle\"}, \"mode\": \"markers\", \"name\": \"state=RS\", \"showlegend\": true, \"type\": \"scatter\", \"x\": [\"Arquitetura e Urbanismo\", \"Direito\", \"Engenharia Civil\", \"Engenharia Mec\\u00e2nica\", \"Psicologia\", \"Fisioterapia\", \"Engenharia de Produ\\u00e7\\u00e3o\", \"Biomedicina\", \"Farm\\u00e1cia\", \"Enfermagem\", \"Nutri\\u00e7\\u00e3o\", \"Publicidade e Propaganda\", \"Educa\\u00e7\\u00e3o F\\u00edsica\", \"Administra\\u00e7\\u00e3o\", \"Ci\\u00eancias Cont\\u00e1beis\", \"Est\\u00e9tica\", \"An\\u00e1lise e Desenvolvimento de Sistemas\", \"Recursos Humanos\", \"Pedagogia\", \"Log\\u00edstica\"], \"xaxis\": \"x\", \"y\": [0.8009993422005521, 0.644806523604005, 0.8592917922495382, 0.9366526515235503, 0.7938791151786605, 1.0, 1.0, 1.0, 0.9023648373891906, 0.7620171412268244, 1.0, 0.7502167598609424, 0.7145111140548417, 0.963890212825117, 0.8884813186014717, 0.6606395150688933, 1.0, 0.704314708199069, 1.0, 0.8076584027987667], \"yaxis\": \"y\"}, {\"hoverlabel\": {\"namelength\": 0}, \"hovertemplate\": \"state=RR<br>canonico=%{x}<br>relative_pef=%{y}\", \"legendgroup\": \"state=RR\", \"marker\": {\"color\": \"#19d3f3\", \"symbol\": \"circle\"}, \"mode\": \"markers\", \"name\": \"state=RR\", \"showlegend\": true, \"type\": \"scatter\", \"x\": [\"Arquitetura e Urbanismo\", \"Direito\", \"Engenharia Civil\", \"Engenharia Mec\\u00e2nica\", \"Psicologia\", \"Fisioterapia\", \"Biomedicina\", \"Farm\\u00e1cia\", \"Enfermagem\", \"Nutri\\u00e7\\u00e3o\", \"Educa\\u00e7\\u00e3o F\\u00edsica\", \"Administra\\u00e7\\u00e3o\", \"Ci\\u00eancias Cont\\u00e1beis\", \"Pedagogia\", \"Log\\u00edstica\"], \"xaxis\": \"x\", \"y\": [0.4628479762707997, 0.380731133951083, 0.540710327744448, 0.514367953177951, 0.27210473368587695, 0.3874553337364525, 0.3547749949807516, 0.3872206609255126, 0.35581427506211855, 0.5486194958809262, 0.4524825602144421, 0.45460084021746183, 0.44437148751258815, 0.501395021163788, 0.34988850338878247], \"yaxis\": \"y\"}, {\"hoverlabel\": {\"namelength\": 0}, \"hovertemplate\": \"state=RO<br>canonico=%{x}<br>relative_pef=%{y}\", \"legendgroup\": \"state=RO\", \"marker\": {\"color\": \"#FF6692\", \"symbol\": \"circle\"}, \"mode\": \"markers\", \"name\": \"state=RO\", \"showlegend\": true, \"type\": \"scatter\", \"x\": [\"Arquitetura e Urbanismo\", \"Direito\", \"Engenharia Civil\", \"Engenharia Mec\\u00e2nica\", \"Psicologia\", \"Fisioterapia\", \"Engenharia de Produ\\u00e7\\u00e3o\", \"Biomedicina\", \"Farm\\u00e1cia\", \"Enfermagem\", \"Nutri\\u00e7\\u00e3o\", \"Educa\\u00e7\\u00e3o F\\u00edsica\", \"Administra\\u00e7\\u00e3o\", \"Ci\\u00eancias Cont\\u00e1beis\", \"Est\\u00e9tica\", \"An\\u00e1lise e Desenvolvimento de Sistemas\", \"Recursos Humanos\", \"Pedagogia\", \"Log\\u00edstica\"], \"xaxis\": \"x\", \"y\": [0.8997376676821224, 1.0, 0.9140460563995361, 0.9827914689886097, 0.7001634690123656, 0.7263554911118013, 0.901978675588449, 0.6668185375237006, 0.794809466578712, 0.6355213168352296, 0.8813685369007042, 0.7941215431728395, 0.4907785343531338, 0.6295477976550486, 1.0, 0.8921162903170132, 1.0, 0.6074365446666052, 0.36470988881336086], \"yaxis\": \"y\"}, {\"hoverlabel\": {\"namelength\": 0}, \"hovertemplate\": \"state=RN<br>canonico=%{x}<br>relative_pef=%{y}\", \"legendgroup\": \"state=RN\", \"marker\": {\"color\": \"#B6E880\", \"symbol\": \"circle\"}, \"mode\": \"markers\", \"name\": \"state=RN\", \"showlegend\": true, \"type\": \"scatter\", \"x\": [\"Arquitetura e Urbanismo\", \"Direito\", \"Engenharia Civil\", \"Engenharia Mec\\u00e2nica\", \"Psicologia\", \"Fisioterapia\", \"Engenharia de Produ\\u00e7\\u00e3o\", \"Biomedicina\", \"Farm\\u00e1cia\", \"Enfermagem\", \"Nutri\\u00e7\\u00e3o\", \"Publicidade e Propaganda\", \"Educa\\u00e7\\u00e3o F\\u00edsica\", \"Administra\\u00e7\\u00e3o\", \"Ci\\u00eancias Cont\\u00e1beis\", \"Est\\u00e9tica\", \"An\\u00e1lise e Desenvolvimento de Sistemas\", \"Recursos Humanos\", \"Pedagogia\", \"Log\\u00edstica\"], \"xaxis\": \"x\", \"y\": [0.6708182968753956, 0.5125128190946115, 0.9549351383857619, 1.0, 0.653638602055363, 0.7486391297006249, 0.6975161572752016, 0.6079240202452197, 0.7603074198241508, 0.6696048207830201, 0.9305678733611856, 0.61881079020353, 0.6831476393445178, 0.4789563815929248, 0.4618505779623246, 0.6737710368080237, 0.352643634713795, 0.3608102888172813, 0.5222856703309271, 0.3875475099345011], \"yaxis\": \"y\"}, {\"hoverlabel\": {\"namelength\": 0}, \"hovertemplate\": \"state=RJ<br>canonico=%{x}<br>relative_pef=%{y}\", \"legendgroup\": \"state=RJ\", \"marker\": {\"color\": \"#FF97FF\", \"symbol\": \"circle\"}, \"mode\": \"markers\", \"name\": \"state=RJ\", \"showlegend\": true, \"type\": \"scatter\", \"x\": [\"Arquitetura e Urbanismo\", \"Direito\", \"Engenharia Civil\", \"Engenharia Mec\\u00e2nica\", \"Psicologia\", \"Fisioterapia\", \"Engenharia de Produ\\u00e7\\u00e3o\", \"Biomedicina\", \"Farm\\u00e1cia\", \"Enfermagem\", \"Nutri\\u00e7\\u00e3o\", \"Publicidade e Propaganda\", \"Educa\\u00e7\\u00e3o F\\u00edsica\", \"Administra\\u00e7\\u00e3o\", \"Ci\\u00eancias Cont\\u00e1beis\", \"Est\\u00e9tica\", \"An\\u00e1lise e Desenvolvimento de Sistemas\", \"Recursos Humanos\", \"Pedagogia\", \"Log\\u00edstica\"], \"xaxis\": \"x\", \"y\": [0.7771161475216196, 0.5107010096997315, 0.7131231565269684, 0.9017033449340663, 0.6677289562919837, 0.6215092060467053, 0.8134544012186093, 0.4585927779900076, 0.5625965047034691, 0.49382986956962593, 0.7069987851136351, 1.0, 0.6492375429546571, 0.8324109205714287, 0.7036037480241998, 0.6936460124640927, 0.6406673883333899, 0.5716208891275809, 0.7337117175185868, 0.7304804318883497], \"yaxis\": \"y\"}, {\"hoverlabel\": {\"namelength\": 0}, \"hovertemplate\": \"state=PR<br>canonico=%{x}<br>relative_pef=%{y}\", \"legendgroup\": \"state=PR\", \"marker\": {\"color\": \"#FECB52\", \"symbol\": \"circle\"}, \"mode\": \"markers\", \"name\": \"state=PR\", \"showlegend\": true, \"type\": \"scatter\", \"x\": [\"Arquitetura e Urbanismo\", \"Direito\", \"Engenharia Civil\", \"Engenharia Mec\\u00e2nica\", \"Psicologia\", \"Fisioterapia\", \"Engenharia de Produ\\u00e7\\u00e3o\", \"Biomedicina\", \"Farm\\u00e1cia\", \"Enfermagem\", \"Nutri\\u00e7\\u00e3o\", \"Publicidade e Propaganda\", \"Educa\\u00e7\\u00e3o F\\u00edsica\", \"Administra\\u00e7\\u00e3o\", \"Ci\\u00eancias Cont\\u00e1beis\", \"Est\\u00e9tica\", \"An\\u00e1lise e Desenvolvimento de Sistemas\", \"Recursos Humanos\", \"Pedagogia\", \"Log\\u00edstica\"], \"xaxis\": \"x\", \"y\": [0.8146734653528008, 0.657968799010583, 0.814115352192838, 0.8665719032908842, 0.7552279143255483, 0.7614087245460002, 0.7186652232604683, 0.6486726403649707, 0.7496640620622973, 0.5933407187310793, 0.8404267275000267, 0.7934394576849854, 0.6312764833155411, 0.7044259722204081, 0.7031953492570372, 0.7093402794683286, 0.7601987469673005, 0.46788648168039143, 0.7418606993014687, 0.6207120419956895], \"yaxis\": \"y\"}, {\"hoverlabel\": {\"namelength\": 0}, \"hovertemplate\": \"state=PI<br>canonico=%{x}<br>relative_pef=%{y}\", \"legendgroup\": \"state=PI\", \"marker\": {\"color\": \"#636efa\", \"symbol\": \"circle\"}, \"mode\": \"markers\", \"name\": \"state=PI\", \"showlegend\": true, \"type\": \"scatter\", \"x\": [\"Arquitetura e Urbanismo\", \"Direito\", \"Engenharia Civil\", \"Engenharia Mec\\u00e2nica\", \"Psicologia\", \"Fisioterapia\", \"Engenharia de Produ\\u00e7\\u00e3o\", \"Biomedicina\", \"Farm\\u00e1cia\", \"Enfermagem\", \"Nutri\\u00e7\\u00e3o\", \"Publicidade e Propaganda\", \"Educa\\u00e7\\u00e3o F\\u00edsica\", \"Administra\\u00e7\\u00e3o\", \"Ci\\u00eancias Cont\\u00e1beis\", \"Est\\u00e9tica\", \"An\\u00e1lise e Desenvolvimento de Sistemas\", \"Recursos Humanos\", \"Pedagogia\", \"Log\\u00edstica\"], \"xaxis\": \"x\", \"y\": [0.544049513066075, 0.4909283972671565, 0.6243715430406208, 0.5327756920094219, 0.5191400667427298, 0.629898855557968, 0.696655734980008, 0.4991680722731713, 0.5138700378627002, 0.5137780187059283, 0.5025034993428715, 0.43548399226168466, 0.4167935262169512, 0.5275807157038328, 0.5131311900112797, 0.4307465881980622, 0.5455669542955416, 0.45790189760114575, 0.456617551506254, 0.59181917393052], \"yaxis\": \"y\"}, {\"hoverlabel\": {\"namelength\": 0}, \"hovertemplate\": \"state=PE<br>canonico=%{x}<br>relative_pef=%{y}\", \"legendgroup\": \"state=PE\", \"marker\": {\"color\": \"#EF553B\", \"symbol\": \"circle\"}, \"mode\": \"markers\", \"name\": \"state=PE\", \"showlegend\": true, \"type\": \"scatter\", \"x\": [\"Arquitetura e Urbanismo\", \"Direito\", \"Engenharia Civil\", \"Engenharia Mec\\u00e2nica\", \"Psicologia\", \"Fisioterapia\", \"Engenharia de Produ\\u00e7\\u00e3o\", \"Biomedicina\", \"Farm\\u00e1cia\", \"Enfermagem\", \"Nutri\\u00e7\\u00e3o\", \"Publicidade e Propaganda\", \"Educa\\u00e7\\u00e3o F\\u00edsica\", \"Administra\\u00e7\\u00e3o\", \"Ci\\u00eancias Cont\\u00e1beis\", \"Est\\u00e9tica\", \"An\\u00e1lise e Desenvolvimento de Sistemas\", \"Recursos Humanos\", \"Pedagogia\", \"Log\\u00edstica\"], \"xaxis\": \"x\", \"y\": [0.5076576846997262, 0.503574013302421, 0.4705385948082072, 0.47731913104478646, 0.45895127842953, 0.46312698837100036, 0.5187924632968414, 0.40508415564726774, 0.49293860188138766, 0.4429835145342516, 0.5107148714058276, 0.5172139042274174, 0.4375858576256042, 0.5189193343156496, 0.5240716984005639, 0.39738120161643703, 0.5271757358240226, 0.30461165174841864, 0.4902992431210522, 0.3970585519679782], \"yaxis\": \"y\"}, {\"hoverlabel\": {\"namelength\": 0}, \"hovertemplate\": \"state=PB<br>canonico=%{x}<br>relative_pef=%{y}\", \"legendgroup\": \"state=PB\", \"marker\": {\"color\": \"#00cc96\", \"symbol\": \"circle\"}, \"mode\": \"markers\", \"name\": \"state=PB\", \"showlegend\": true, \"type\": \"scatter\", \"x\": [\"Arquitetura e Urbanismo\", \"Direito\", \"Engenharia Civil\", \"Engenharia Mec\\u00e2nica\", \"Psicologia\", \"Fisioterapia\", \"Engenharia de Produ\\u00e7\\u00e3o\", \"Biomedicina\", \"Farm\\u00e1cia\", \"Enfermagem\", \"Nutri\\u00e7\\u00e3o\", \"Publicidade e Propaganda\", \"Educa\\u00e7\\u00e3o F\\u00edsica\", \"Administra\\u00e7\\u00e3o\", \"Ci\\u00eancias Cont\\u00e1beis\", \"Est\\u00e9tica\", \"An\\u00e1lise e Desenvolvimento de Sistemas\", \"Recursos Humanos\", \"Pedagogia\", \"Log\\u00edstica\"], \"xaxis\": \"x\", \"y\": [0.4981102363387874, 0.4517650644926823, 0.46995944359330477, 0.5254649663604722, 0.4951301707854032, 0.4667506617913115, 0.47559933837624313, 0.3524071450064612, 0.456954899108103, 0.41406459392414574, 0.4929988214426909, 0.3947374125518531, 0.4940161257561708, 0.47611719366961563, 0.4564686340344397, 0.36805467646915624, 0.4589361329326837, 0.3383563074352548, 0.42730074521537137, 0.41860527408364195], \"yaxis\": \"y\"}, {\"hoverlabel\": {\"namelength\": 0}, \"hovertemplate\": \"state=PA<br>canonico=%{x}<br>relative_pef=%{y}\", \"legendgroup\": \"state=PA\", \"marker\": {\"color\": \"#ab63fa\", \"symbol\": \"circle\"}, \"mode\": \"markers\", \"name\": \"state=PA\", \"showlegend\": true, \"type\": \"scatter\", \"x\": [\"Arquitetura e Urbanismo\", \"Direito\", \"Engenharia Civil\", \"Engenharia Mec\\u00e2nica\", \"Psicologia\", \"Fisioterapia\", \"Engenharia de Produ\\u00e7\\u00e3o\", \"Biomedicina\", \"Farm\\u00e1cia\", \"Enfermagem\", \"Nutri\\u00e7\\u00e3o\", \"Publicidade e Propaganda\", \"Educa\\u00e7\\u00e3o F\\u00edsica\", \"Administra\\u00e7\\u00e3o\", \"Ci\\u00eancias Cont\\u00e1beis\", \"Est\\u00e9tica\", \"An\\u00e1lise e Desenvolvimento de Sistemas\", \"Recursos Humanos\", \"Pedagogia\", \"Log\\u00edstica\"], \"xaxis\": \"x\", \"y\": [0.6583881583135843, 0.6849467254155506, 0.7107307643432941, 0.6869656535135704, 0.6949554209679792, 0.7402984325712274, 0.7459633728793087, 0.6258850023857075, 0.5294808960537849, 0.625540582740172, 0.7634166408445437, 0.6660692105723787, 0.6810664567959916, 0.6774856648583576, 0.6906452737696921, 0.5827369066166804, 0.6510267054311494, 0.47075227712137485, 0.6719548627026917, 0.6675472903901549], \"yaxis\": \"y\"}, {\"hoverlabel\": {\"namelength\": 0}, \"hovertemplate\": \"state=MT<br>canonico=%{x}<br>relative_pef=%{y}\", \"legendgroup\": \"state=MT\", \"marker\": {\"color\": \"#FFA15A\", \"symbol\": \"circle\"}, \"mode\": \"markers\", \"name\": \"state=MT\", \"showlegend\": true, \"type\": \"scatter\", \"x\": [\"Arquitetura e Urbanismo\", \"Direito\", \"Engenharia Civil\", \"Engenharia Mec\\u00e2nica\", \"Psicologia\", \"Fisioterapia\", \"Engenharia de Produ\\u00e7\\u00e3o\", \"Biomedicina\", \"Farm\\u00e1cia\", \"Enfermagem\", \"Nutri\\u00e7\\u00e3o\", \"Publicidade e Propaganda\", \"Educa\\u00e7\\u00e3o F\\u00edsica\", \"Administra\\u00e7\\u00e3o\", \"Ci\\u00eancias Cont\\u00e1beis\", \"Est\\u00e9tica\", \"An\\u00e1lise e Desenvolvimento de Sistemas\", \"Recursos Humanos\", \"Pedagogia\", \"Log\\u00edstica\"], \"xaxis\": \"x\", \"y\": [0.7534545072597543, 0.633622949516169, 0.7517419665740754, 0.6820301666451843, 0.8417363227082734, 0.7306913522158607, 0.6959766241292407, 0.707069321102222, 0.7873815096283311, 0.6987387547208969, 0.7831993738580388, 0.8456670665043284, 0.6214388432177745, 0.750384585395954, 0.6941197868473729, 0.5971079409903112, 0.5682503289364937, 0.4479458718224132, 0.6510573484540934, 0.38345700528563886], \"yaxis\": \"y\"}, {\"hoverlabel\": {\"namelength\": 0}, \"hovertemplate\": \"state=MS<br>canonico=%{x}<br>relative_pef=%{y}\", \"legendgroup\": \"state=MS\", \"marker\": {\"color\": \"#19d3f3\", \"symbol\": \"circle\"}, \"mode\": \"markers\", \"name\": \"state=MS\", \"showlegend\": true, \"type\": \"scatter\", \"x\": [\"Arquitetura e Urbanismo\", \"Direito\", \"Engenharia Civil\", \"Engenharia Mec\\u00e2nica\", \"Psicologia\", \"Fisioterapia\", \"Engenharia de Produ\\u00e7\\u00e3o\", \"Biomedicina\", \"Farm\\u00e1cia\", \"Enfermagem\", \"Nutri\\u00e7\\u00e3o\", \"Publicidade e Propaganda\", \"Educa\\u00e7\\u00e3o F\\u00edsica\", \"Administra\\u00e7\\u00e3o\", \"Ci\\u00eancias Cont\\u00e1beis\", \"Est\\u00e9tica\", \"An\\u00e1lise e Desenvolvimento de Sistemas\", \"Recursos Humanos\", \"Pedagogia\", \"Log\\u00edstica\"], \"xaxis\": \"x\", \"y\": [0.6510596796436224, 0.5467213047396331, 0.6158021595481165, 0.6481687719890317, 0.6397319051234176, 0.6336527081278929, 0.6803409753005062, 0.6583909842783623, 0.5528476347107886, 0.552114072513391, 0.6897569874664757, 0.5946001002092876, 0.5664174556297549, 0.7766861168963989, 0.7920816139113425, 0.5806149276985247, 0.47787435024765, 0.4794516052034849, 0.7849291223548099, 0.6021222843125219], \"yaxis\": \"y\"}, {\"hoverlabel\": {\"namelength\": 0}, \"hovertemplate\": \"state=MG<br>canonico=%{x}<br>relative_pef=%{y}\", \"legendgroup\": \"state=MG\", \"marker\": {\"color\": \"#FF6692\", \"symbol\": \"circle\"}, \"mode\": \"markers\", \"name\": \"state=MG\", \"showlegend\": true, \"type\": \"scatter\", \"x\": [\"Arquitetura e Urbanismo\", \"Direito\", \"Engenharia Civil\", \"Engenharia Mec\\u00e2nica\", \"Psicologia\", \"Fisioterapia\", \"Engenharia de Produ\\u00e7\\u00e3o\", \"Biomedicina\", \"Farm\\u00e1cia\", \"Enfermagem\", \"Nutri\\u00e7\\u00e3o\", \"Publicidade e Propaganda\", \"Educa\\u00e7\\u00e3o F\\u00edsica\", \"Administra\\u00e7\\u00e3o\", \"Ci\\u00eancias Cont\\u00e1beis\", \"Est\\u00e9tica\", \"An\\u00e1lise e Desenvolvimento de Sistemas\", \"Recursos Humanos\", \"Pedagogia\", \"Log\\u00edstica\"], \"xaxis\": \"x\", \"y\": [0.8396408269978927, 0.7139283347268228, 0.8012514524061798, 0.8432882109275347, 0.7845470229648531, 0.8111154499230584, 0.8937012782505896, 0.6529995186528287, 0.8426840443508671, 0.6944694073377027, 0.769852476252551, 0.9155747492526837, 0.7640669632908137, 1.0, 1.0, 0.7572114842494766, 0.9358816618191985, 0.6109327377968732, 0.9500502229771581, 0.8942371064076263], \"yaxis\": \"y\"}, {\"hoverlabel\": {\"namelength\": 0}, \"hovertemplate\": \"state=MA<br>canonico=%{x}<br>relative_pef=%{y}\", \"legendgroup\": \"state=MA\", \"marker\": {\"color\": \"#B6E880\", \"symbol\": \"circle\"}, \"mode\": \"markers\", \"name\": \"state=MA\", \"showlegend\": true, \"type\": \"scatter\", \"x\": [\"Arquitetura e Urbanismo\", \"Direito\", \"Engenharia Civil\", \"Engenharia Mec\\u00e2nica\", \"Psicologia\", \"Fisioterapia\", \"Engenharia de Produ\\u00e7\\u00e3o\", \"Biomedicina\", \"Farm\\u00e1cia\", \"Enfermagem\", \"Nutri\\u00e7\\u00e3o\", \"Publicidade e Propaganda\", \"Educa\\u00e7\\u00e3o F\\u00edsica\", \"Administra\\u00e7\\u00e3o\", \"Ci\\u00eancias Cont\\u00e1beis\", \"Est\\u00e9tica\", \"An\\u00e1lise e Desenvolvimento de Sistemas\", \"Recursos Humanos\", \"Pedagogia\", \"Log\\u00edstica\"], \"xaxis\": \"x\", \"y\": [0.6785629184045768, 0.6661184882246842, 0.6979802533612062, 0.7332594848467269, 0.5893756606834502, 0.648181718304279, 0.7641673605204874, 0.6061456291984574, 0.5539778083008774, 0.5581545189410312, 0.6818070809603692, 0.4463356017710509, 0.49902750604547025, 0.6527850307391803, 0.612027505625746, 0.7874799162568772, 0.6900384974117615, 0.4224583566058002, 0.6676897905338945, 0.49511377644347926], \"yaxis\": \"y\"}, {\"hoverlabel\": {\"namelength\": 0}, \"hovertemplate\": \"state=GO<br>canonico=%{x}<br>relative_pef=%{y}\", \"legendgroup\": \"state=GO\", \"marker\": {\"color\": \"#FF97FF\", \"symbol\": \"circle\"}, \"mode\": \"markers\", \"name\": \"state=GO\", \"showlegend\": true, \"type\": \"scatter\", \"x\": [\"Arquitetura e Urbanismo\", \"Direito\", \"Engenharia Civil\", \"Engenharia Mec\\u00e2nica\", \"Psicologia\", \"Fisioterapia\", \"Engenharia de Produ\\u00e7\\u00e3o\", \"Biomedicina\", \"Farm\\u00e1cia\", \"Enfermagem\", \"Nutri\\u00e7\\u00e3o\", \"Publicidade e Propaganda\", \"Educa\\u00e7\\u00e3o F\\u00edsica\", \"Administra\\u00e7\\u00e3o\", \"Ci\\u00eancias Cont\\u00e1beis\", \"Est\\u00e9tica\", \"An\\u00e1lise e Desenvolvimento de Sistemas\", \"Recursos Humanos\", \"Pedagogia\", \"Log\\u00edstica\"], \"xaxis\": \"x\", \"y\": [0.6550617789991814, 0.5183783729564628, 0.6528015035938776, 0.6707767205652814, 0.5774610722211151, 0.7351131104072574, 0.7394155817025859, 0.5843803658018205, 0.6643085313067602, 0.6306062986190861, 0.9331204789024351, 0.49598191542199116, 0.6722936443990764, 0.6399425258453189, 0.6066468555727228, 0.6902832306830907, 0.6198946132816445, 0.4166231901181525, 0.5720499897985521, 0.6224784150001529], \"yaxis\": \"y\"}, {\"hoverlabel\": {\"namelength\": 0}, \"hovertemplate\": \"state=ES<br>canonico=%{x}<br>relative_pef=%{y}\", \"legendgroup\": \"state=ES\", \"marker\": {\"color\": \"#FECB52\", \"symbol\": \"circle\"}, \"mode\": \"markers\", \"name\": \"state=ES\", \"showlegend\": true, \"type\": \"scatter\", \"x\": [\"Arquitetura e Urbanismo\", \"Direito\", \"Engenharia Civil\", \"Engenharia Mec\\u00e2nica\", \"Psicologia\", \"Fisioterapia\", \"Engenharia de Produ\\u00e7\\u00e3o\", \"Biomedicina\", \"Farm\\u00e1cia\", \"Enfermagem\", \"Nutri\\u00e7\\u00e3o\", \"Publicidade e Propaganda\", \"Educa\\u00e7\\u00e3o F\\u00edsica\", \"Administra\\u00e7\\u00e3o\", \"Ci\\u00eancias Cont\\u00e1beis\", \"Est\\u00e9tica\", \"An\\u00e1lise e Desenvolvimento de Sistemas\", \"Recursos Humanos\", \"Pedagogia\", \"Log\\u00edstica\"], \"xaxis\": \"x\", \"y\": [0.7205855508512623, 0.7086013264487748, 0.701407681376269, 0.7288836031744356, 0.7571253638454972, 0.7285798925946303, 0.849866354754748, 0.5340233279644482, 0.6501824720096148, 0.6222928389552562, 0.918170583081345, 0.632693383741965, 0.6977368772386422, 0.7409187501761798, 0.7463941384484124, 0.5832805881493743, 0.7108003949126135, 0.6566744241556272, 0.8663409153920804, 0.6755223326864261], \"yaxis\": \"y\"}, {\"hoverlabel\": {\"namelength\": 0}, \"hovertemplate\": \"state=DF<br>canonico=%{x}<br>relative_pef=%{y}\", \"legendgroup\": \"state=DF\", \"marker\": {\"color\": \"#636efa\", \"symbol\": \"circle\"}, \"mode\": \"markers\", \"name\": \"state=DF\", \"showlegend\": true, \"type\": \"scatter\", \"x\": [\"Arquitetura e Urbanismo\", \"Direito\", \"Engenharia Civil\", \"Engenharia Mec\\u00e2nica\", \"Psicologia\", \"Fisioterapia\", \"Engenharia de Produ\\u00e7\\u00e3o\", \"Biomedicina\", \"Farm\\u00e1cia\", \"Enfermagem\", \"Nutri\\u00e7\\u00e3o\", \"Publicidade e Propaganda\", \"Educa\\u00e7\\u00e3o F\\u00edsica\", \"Administra\\u00e7\\u00e3o\", \"Ci\\u00eancias Cont\\u00e1beis\", \"Est\\u00e9tica\", \"An\\u00e1lise e Desenvolvimento de Sistemas\", \"Recursos Humanos\", \"Pedagogia\", \"Log\\u00edstica\"], \"xaxis\": \"x\", \"y\": [1.0, 0.7570687116311254, 1.0, 0.7832534299350806, 1.0, 0.8605982125832743, 0.7800991073836886, 0.7708316936120614, 0.895711367846525, 0.7187172307177464, 0.8938426524484715, 0.8891105533497081, 0.714962710033013, 0.7113690967730574, 0.67699748172924, 0.8565345744680851, 0.7402078874207318, 0.5245475199904523, 0.7709549814292019, 0.7527374386233371], \"yaxis\": \"y\"}, {\"hoverlabel\": {\"namelength\": 0}, \"hovertemplate\": \"state=CE<br>canonico=%{x}<br>relative_pef=%{y}\", \"legendgroup\": \"state=CE\", \"marker\": {\"color\": \"#EF553B\", \"symbol\": \"circle\"}, \"mode\": \"markers\", \"name\": \"state=CE\", \"showlegend\": true, \"type\": \"scatter\", \"x\": [\"Arquitetura e Urbanismo\", \"Direito\", \"Engenharia Civil\", \"Engenharia Mec\\u00e2nica\", \"Psicologia\", \"Fisioterapia\", \"Engenharia de Produ\\u00e7\\u00e3o\", \"Biomedicina\", \"Farm\\u00e1cia\", \"Enfermagem\", \"Nutri\\u00e7\\u00e3o\", \"Publicidade e Propaganda\", \"Educa\\u00e7\\u00e3o F\\u00edsica\", \"Administra\\u00e7\\u00e3o\", \"Ci\\u00eancias Cont\\u00e1beis\", \"Est\\u00e9tica\", \"An\\u00e1lise e Desenvolvimento de Sistemas\", \"Recursos Humanos\", \"Pedagogia\", \"Log\\u00edstica\"], \"xaxis\": \"x\", \"y\": [0.6480803695199453, 0.49042855151466425, 0.6569717814392692, 0.601141578154514, 0.5482941994000067, 0.5316800063640592, 0.712052854801372, 0.47594601501719064, 0.6019811816054146, 0.5061976523977166, 0.6431824947376295, 0.5430015467907381, 0.43689391608809375, 0.6190556209255174, 0.6045888272140842, 0.3955972479185939, 0.5313387123089038, 0.3823309881847476, 0.4388485667567425, 0.5304721315829647], \"yaxis\": \"y\"}, {\"hoverlabel\": {\"namelength\": 0}, \"hovertemplate\": \"state=BA<br>canonico=%{x}<br>relative_pef=%{y}\", \"legendgroup\": \"state=BA\", \"marker\": {\"color\": \"#00cc96\", \"symbol\": \"circle\"}, \"mode\": \"markers\", \"name\": \"state=BA\", \"showlegend\": true, \"type\": \"scatter\", \"x\": [\"Arquitetura e Urbanismo\", \"Direito\", \"Engenharia Civil\", \"Engenharia Mec\\u00e2nica\", \"Psicologia\", \"Fisioterapia\", \"Engenharia de Produ\\u00e7\\u00e3o\", \"Biomedicina\", \"Farm\\u00e1cia\", \"Enfermagem\", \"Nutri\\u00e7\\u00e3o\", \"Publicidade e Propaganda\", \"Educa\\u00e7\\u00e3o F\\u00edsica\", \"Administra\\u00e7\\u00e3o\", \"Ci\\u00eancias Cont\\u00e1beis\", \"Est\\u00e9tica\", \"An\\u00e1lise e Desenvolvimento de Sistemas\", \"Recursos Humanos\", \"Pedagogia\", \"Log\\u00edstica\"], \"xaxis\": \"x\", \"y\": [0.6745984691417828, 0.6501153654696814, 0.7022991885139102, 0.7149684581576659, 0.6659688845920251, 0.7256084784856089, 0.7382965819235027, 0.6075315405562779, 0.6726392461798433, 0.6595105999381468, 0.7968979089422902, 0.7445197195531125, 0.5967072319668363, 0.6479950902477121, 0.6508141590483026, 0.5956547957544184, 0.588094775020754, 0.4192982456140351, 0.688217911735328, 0.5547890538451508], \"yaxis\": \"y\"}, {\"hoverlabel\": {\"namelength\": 0}, \"hovertemplate\": \"state=AP<br>canonico=%{x}<br>relative_pef=%{y}\", \"legendgroup\": \"state=AP\", \"marker\": {\"color\": \"#ab63fa\", \"symbol\": \"circle\"}, \"mode\": \"markers\", \"name\": \"state=AP\", \"showlegend\": true, \"type\": \"scatter\", \"x\": [\"Arquitetura e Urbanismo\", \"Direito\", \"Engenharia Civil\", \"Engenharia Mec\\u00e2nica\", \"Psicologia\", \"Fisioterapia\", \"Biomedicina\", \"Farm\\u00e1cia\", \"Enfermagem\", \"Nutri\\u00e7\\u00e3o\", \"Publicidade e Propaganda\", \"Educa\\u00e7\\u00e3o F\\u00edsica\", \"Administra\\u00e7\\u00e3o\", \"Ci\\u00eancias Cont\\u00e1beis\", \"Recursos Humanos\", \"Pedagogia\", \"Log\\u00edstica\"], \"xaxis\": \"x\", \"y\": [0.9889381823756522, 0.6630092779717711, 0.7122987392792199, 0.9439885818797016, 0.6839984388219394, 0.9024939624933475, 0.7167476672386023, 1.0, 1.0, 0.8609825941082819, 0.3686616139303745, 1.0, 0.7138281334695404, 0.6177811475206542, 0.5084825158133429, 0.8511102749984558, 0.40478282861611203], \"yaxis\": \"y\"}, {\"hoverlabel\": {\"namelength\": 0}, \"hovertemplate\": \"state=AM<br>canonico=%{x}<br>relative_pef=%{y}\", \"legendgroup\": \"state=AM\", \"marker\": {\"color\": \"#FFA15A\", \"symbol\": \"circle\"}, \"mode\": \"markers\", \"name\": \"state=AM\", \"showlegend\": true, \"type\": \"scatter\", \"x\": [\"Arquitetura e Urbanismo\", \"Direito\", \"Engenharia Civil\", \"Engenharia Mec\\u00e2nica\", \"Psicologia\", \"Fisioterapia\", \"Engenharia de Produ\\u00e7\\u00e3o\", \"Biomedicina\", \"Farm\\u00e1cia\", \"Enfermagem\", \"Nutri\\u00e7\\u00e3o\", \"Publicidade e Propaganda\", \"Educa\\u00e7\\u00e3o F\\u00edsica\", \"Administra\\u00e7\\u00e3o\", \"Ci\\u00eancias Cont\\u00e1beis\", \"Est\\u00e9tica\", \"An\\u00e1lise e Desenvolvimento de Sistemas\", \"Recursos Humanos\", \"Pedagogia\", \"Log\\u00edstica\"], \"xaxis\": \"x\", \"y\": [0.4825831483431123, 0.7763369628850527, 0.5269206349064304, 0.5994037545211385, 0.49016033872393033, 0.5436432342940111, 0.6331862015273921, 0.42888406342327257, 0.43609697911677797, 0.5154263542435533, 0.5404881983993846, 0.5894057939055235, 0.5218879862025616, 0.649353332193183, 0.626389244055848, 0.5568187350893422, 0.5304892771490911, 0.4051057703783268, 0.6842605936974111, 0.5832425250913079], \"yaxis\": \"y\"}, {\"hoverlabel\": {\"namelength\": 0}, \"hovertemplate\": \"state=AL<br>canonico=%{x}<br>relative_pef=%{y}\", \"legendgroup\": \"state=AL\", \"marker\": {\"color\": \"#19d3f3\", \"symbol\": \"circle\"}, \"mode\": \"markers\", \"name\": \"state=AL\", \"showlegend\": true, \"type\": \"scatter\", \"x\": [\"Arquitetura e Urbanismo\", \"Direito\", \"Engenharia Civil\", \"Engenharia Mec\\u00e2nica\", \"Psicologia\", \"Fisioterapia\", \"Engenharia de Produ\\u00e7\\u00e3o\", \"Biomedicina\", \"Farm\\u00e1cia\", \"Enfermagem\", \"Nutri\\u00e7\\u00e3o\", \"Publicidade e Propaganda\", \"Educa\\u00e7\\u00e3o F\\u00edsica\", \"Administra\\u00e7\\u00e3o\", \"Ci\\u00eancias Cont\\u00e1beis\", \"Est\\u00e9tica\", \"An\\u00e1lise e Desenvolvimento de Sistemas\", \"Recursos Humanos\", \"Pedagogia\", \"Log\\u00edstica\"], \"xaxis\": \"x\", \"y\": [0.6457969386159074, 0.4826064240622456, 0.7501283764192953, 0.6043115791352033, 0.46736812016434104, 0.609023571624354, 0.7070226007220786, 0.6607951054192361, 0.5020756711818765, 0.5699193427239131, 0.6311746038530169, 0.43280882224959943, 0.5469280439689453, 0.5701988161058837, 0.535627370199648, 0.6709430838891864, 0.37212428044909657, 0.43517325098460435, 0.6167279715281618, 0.4857624626434972], \"yaxis\": \"y\"}, {\"hoverlabel\": {\"namelength\": 0}, \"hovertemplate\": \"state=AC<br>canonico=%{x}<br>relative_pef=%{y}\", \"legendgroup\": \"state=AC\", \"marker\": {\"color\": \"#FF6692\", \"symbol\": \"circle\"}, \"mode\": \"markers\", \"name\": \"state=AC\", \"showlegend\": true, \"type\": \"scatter\", \"x\": [\"Direito\", \"Engenharia Civil\", \"Engenharia Mec\\u00e2nica\", \"Psicologia\", \"Enfermagem\", \"Educa\\u00e7\\u00e3o F\\u00edsica\", \"Administra\\u00e7\\u00e3o\", \"Ci\\u00eancias Cont\\u00e1beis\", \"Log\\u00edstica\"], \"xaxis\": \"x\", \"y\": [0.4967847704758289, 0.7144889821165218, 0.7409857234303591, 0.4360647333463093, 0.4036767448280737, 0.44498816880043846, 0.4491131425334141, 0.45113632700934975, 0.34988850338878247], \"yaxis\": \"y\"}],\n",
       "                        {\"height\": 600, \"legend\": {\"tracegroupgap\": 0}, \"margin\": {\"t\": 60}, \"template\": {\"data\": {\"bar\": [{\"error_x\": {\"color\": \"#2a3f5f\"}, \"error_y\": {\"color\": \"#2a3f5f\"}, \"marker\": {\"line\": {\"color\": \"#E5ECF6\", \"width\": 0.5}}, \"type\": \"bar\"}], \"barpolar\": [{\"marker\": {\"line\": {\"color\": \"#E5ECF6\", \"width\": 0.5}}, \"type\": \"barpolar\"}], \"carpet\": [{\"aaxis\": {\"endlinecolor\": \"#2a3f5f\", \"gridcolor\": \"white\", \"linecolor\": \"white\", \"minorgridcolor\": \"white\", \"startlinecolor\": \"#2a3f5f\"}, \"baxis\": {\"endlinecolor\": \"#2a3f5f\", \"gridcolor\": \"white\", \"linecolor\": \"white\", \"minorgridcolor\": \"white\", \"startlinecolor\": \"#2a3f5f\"}, \"type\": \"carpet\"}], \"choropleth\": [{\"colorbar\": {\"outlinewidth\": 0, \"ticks\": \"\"}, \"type\": \"choropleth\"}], \"contour\": [{\"colorbar\": {\"outlinewidth\": 0, \"ticks\": \"\"}, \"colorscale\": [[0.0, \"#0d0887\"], [0.1111111111111111, \"#46039f\"], [0.2222222222222222, \"#7201a8\"], [0.3333333333333333, \"#9c179e\"], [0.4444444444444444, \"#bd3786\"], [0.5555555555555556, \"#d8576b\"], [0.6666666666666666, \"#ed7953\"], [0.7777777777777778, \"#fb9f3a\"], [0.8888888888888888, \"#fdca26\"], [1.0, \"#f0f921\"]], \"type\": \"contour\"}], \"contourcarpet\": [{\"colorbar\": {\"outlinewidth\": 0, \"ticks\": \"\"}, \"type\": \"contourcarpet\"}], \"heatmap\": [{\"colorbar\": {\"outlinewidth\": 0, \"ticks\": \"\"}, \"colorscale\": [[0.0, \"#0d0887\"], [0.1111111111111111, \"#46039f\"], [0.2222222222222222, \"#7201a8\"], [0.3333333333333333, \"#9c179e\"], [0.4444444444444444, \"#bd3786\"], [0.5555555555555556, \"#d8576b\"], [0.6666666666666666, \"#ed7953\"], [0.7777777777777778, \"#fb9f3a\"], [0.8888888888888888, \"#fdca26\"], [1.0, \"#f0f921\"]], \"type\": \"heatmap\"}], \"heatmapgl\": [{\"colorbar\": {\"outlinewidth\": 0, \"ticks\": \"\"}, \"colorscale\": [[0.0, \"#0d0887\"], [0.1111111111111111, \"#46039f\"], [0.2222222222222222, \"#7201a8\"], [0.3333333333333333, \"#9c179e\"], [0.4444444444444444, \"#bd3786\"], [0.5555555555555556, \"#d8576b\"], [0.6666666666666666, \"#ed7953\"], [0.7777777777777778, \"#fb9f3a\"], [0.8888888888888888, \"#fdca26\"], [1.0, \"#f0f921\"]], \"type\": \"heatmapgl\"}], \"histogram\": [{\"marker\": {\"colorbar\": {\"outlinewidth\": 0, \"ticks\": \"\"}}, \"type\": \"histogram\"}], \"histogram2d\": [{\"colorbar\": {\"outlinewidth\": 0, \"ticks\": \"\"}, \"colorscale\": [[0.0, \"#0d0887\"], [0.1111111111111111, \"#46039f\"], [0.2222222222222222, \"#7201a8\"], [0.3333333333333333, \"#9c179e\"], [0.4444444444444444, \"#bd3786\"], [0.5555555555555556, \"#d8576b\"], [0.6666666666666666, \"#ed7953\"], [0.7777777777777778, \"#fb9f3a\"], [0.8888888888888888, \"#fdca26\"], [1.0, \"#f0f921\"]], \"type\": \"histogram2d\"}], \"histogram2dcontour\": [{\"colorbar\": {\"outlinewidth\": 0, \"ticks\": \"\"}, \"colorscale\": [[0.0, \"#0d0887\"], [0.1111111111111111, \"#46039f\"], [0.2222222222222222, \"#7201a8\"], [0.3333333333333333, \"#9c179e\"], [0.4444444444444444, \"#bd3786\"], [0.5555555555555556, \"#d8576b\"], [0.6666666666666666, \"#ed7953\"], [0.7777777777777778, \"#fb9f3a\"], [0.8888888888888888, \"#fdca26\"], [1.0, \"#f0f921\"]], \"type\": \"histogram2dcontour\"}], \"mesh3d\": [{\"colorbar\": {\"outlinewidth\": 0, \"ticks\": \"\"}, \"type\": \"mesh3d\"}], \"parcoords\": [{\"line\": {\"colorbar\": {\"outlinewidth\": 0, \"ticks\": \"\"}}, \"type\": \"parcoords\"}], \"scatter\": [{\"marker\": {\"colorbar\": {\"outlinewidth\": 0, \"ticks\": \"\"}}, \"type\": \"scatter\"}], \"scatter3d\": [{\"line\": {\"colorbar\": {\"outlinewidth\": 0, \"ticks\": \"\"}}, \"marker\": {\"colorbar\": {\"outlinewidth\": 0, \"ticks\": \"\"}}, \"type\": \"scatter3d\"}], \"scattercarpet\": [{\"marker\": {\"colorbar\": {\"outlinewidth\": 0, \"ticks\": \"\"}}, \"type\": \"scattercarpet\"}], \"scattergeo\": [{\"marker\": {\"colorbar\": {\"outlinewidth\": 0, \"ticks\": \"\"}}, \"type\": \"scattergeo\"}], \"scattergl\": [{\"marker\": {\"colorbar\": {\"outlinewidth\": 0, \"ticks\": \"\"}}, \"type\": \"scattergl\"}], \"scattermapbox\": [{\"marker\": {\"colorbar\": {\"outlinewidth\": 0, \"ticks\": \"\"}}, \"type\": \"scattermapbox\"}], \"scatterpolar\": [{\"marker\": {\"colorbar\": {\"outlinewidth\": 0, \"ticks\": \"\"}}, \"type\": \"scatterpolar\"}], \"scatterpolargl\": [{\"marker\": {\"colorbar\": {\"outlinewidth\": 0, \"ticks\": \"\"}}, \"type\": \"scatterpolargl\"}], \"scatterternary\": [{\"marker\": {\"colorbar\": {\"outlinewidth\": 0, \"ticks\": \"\"}}, \"type\": \"scatterternary\"}], \"surface\": [{\"colorbar\": {\"outlinewidth\": 0, \"ticks\": \"\"}, \"colorscale\": [[0.0, \"#0d0887\"], [0.1111111111111111, \"#46039f\"], [0.2222222222222222, \"#7201a8\"], [0.3333333333333333, \"#9c179e\"], [0.4444444444444444, \"#bd3786\"], [0.5555555555555556, \"#d8576b\"], [0.6666666666666666, \"#ed7953\"], [0.7777777777777778, \"#fb9f3a\"], [0.8888888888888888, \"#fdca26\"], [1.0, \"#f0f921\"]], \"type\": \"surface\"}], \"table\": [{\"cells\": {\"fill\": {\"color\": \"#EBF0F8\"}, \"line\": {\"color\": \"white\"}}, \"header\": {\"fill\": {\"color\": \"#C8D4E3\"}, \"line\": {\"color\": \"white\"}}, \"type\": \"table\"}]}, \"layout\": {\"annotationdefaults\": {\"arrowcolor\": \"#2a3f5f\", \"arrowhead\": 0, \"arrowwidth\": 1}, \"colorscale\": {\"diverging\": [[0, \"#8e0152\"], [0.1, \"#c51b7d\"], [0.2, \"#de77ae\"], [0.3, \"#f1b6da\"], [0.4, \"#fde0ef\"], [0.5, \"#f7f7f7\"], [0.6, \"#e6f5d0\"], [0.7, \"#b8e186\"], [0.8, \"#7fbc41\"], [0.9, \"#4d9221\"], [1, \"#276419\"]], \"sequential\": [[0.0, \"#0d0887\"], [0.1111111111111111, \"#46039f\"], [0.2222222222222222, \"#7201a8\"], [0.3333333333333333, \"#9c179e\"], [0.4444444444444444, \"#bd3786\"], [0.5555555555555556, \"#d8576b\"], [0.6666666666666666, \"#ed7953\"], [0.7777777777777778, \"#fb9f3a\"], [0.8888888888888888, \"#fdca26\"], [1.0, \"#f0f921\"]], \"sequentialminus\": [[0.0, \"#0d0887\"], [0.1111111111111111, \"#46039f\"], [0.2222222222222222, \"#7201a8\"], [0.3333333333333333, \"#9c179e\"], [0.4444444444444444, \"#bd3786\"], [0.5555555555555556, \"#d8576b\"], [0.6666666666666666, \"#ed7953\"], [0.7777777777777778, \"#fb9f3a\"], [0.8888888888888888, \"#fdca26\"], [1.0, \"#f0f921\"]]}, \"colorway\": [\"#636efa\", \"#EF553B\", \"#00cc96\", \"#ab63fa\", \"#FFA15A\", \"#19d3f3\", \"#FF6692\", \"#B6E880\", \"#FF97FF\", \"#FECB52\"], \"font\": {\"color\": \"#2a3f5f\"}, \"geo\": {\"bgcolor\": \"white\", \"lakecolor\": \"white\", \"landcolor\": \"#E5ECF6\", \"showlakes\": true, \"showland\": true, \"subunitcolor\": \"white\"}, \"hoverlabel\": {\"align\": \"left\"}, \"hovermode\": \"closest\", \"mapbox\": {\"style\": \"light\"}, \"paper_bgcolor\": \"white\", \"plot_bgcolor\": \"#E5ECF6\", \"polar\": {\"angularaxis\": {\"gridcolor\": \"white\", \"linecolor\": \"white\", \"ticks\": \"\"}, \"bgcolor\": \"#E5ECF6\", \"radialaxis\": {\"gridcolor\": \"white\", \"linecolor\": \"white\", \"ticks\": \"\"}}, \"scene\": {\"xaxis\": {\"backgroundcolor\": \"#E5ECF6\", \"gridcolor\": \"white\", \"gridwidth\": 2, \"linecolor\": \"white\", \"showbackground\": true, \"ticks\": \"\", \"zerolinecolor\": \"white\"}, \"yaxis\": {\"backgroundcolor\": \"#E5ECF6\", \"gridcolor\": \"white\", \"gridwidth\": 2, \"linecolor\": \"white\", \"showbackground\": true, \"ticks\": \"\", \"zerolinecolor\": \"white\"}, \"zaxis\": {\"backgroundcolor\": \"#E5ECF6\", \"gridcolor\": \"white\", \"gridwidth\": 2, \"linecolor\": \"white\", \"showbackground\": true, \"ticks\": \"\", \"zerolinecolor\": \"white\"}}, \"shapedefaults\": {\"line\": {\"color\": \"#2a3f5f\"}}, \"ternary\": {\"aaxis\": {\"gridcolor\": \"white\", \"linecolor\": \"white\", \"ticks\": \"\"}, \"baxis\": {\"gridcolor\": \"white\", \"linecolor\": \"white\", \"ticks\": \"\"}, \"bgcolor\": \"#E5ECF6\", \"caxis\": {\"gridcolor\": \"white\", \"linecolor\": \"white\", \"ticks\": \"\"}}, \"title\": {\"x\": 0.05}, \"xaxis\": {\"automargin\": true, \"gridcolor\": \"white\", \"linecolor\": \"white\", \"ticks\": \"\", \"zerolinecolor\": \"white\", \"zerolinewidth\": 2}, \"yaxis\": {\"automargin\": true, \"gridcolor\": \"white\", \"linecolor\": \"white\", \"ticks\": \"\", \"zerolinecolor\": \"white\", \"zerolinewidth\": 2}}}, \"xaxis\": {\"anchor\": \"y\", \"domain\": [0.0, 0.98], \"title\": {\"text\": \"canonico\"}}, \"yaxis\": {\"anchor\": \"x\", \"domain\": [0.0, 1.0], \"title\": {\"text\": \"relative_pef\"}}},\n",
       "                        {\"responsive\": true}\n",
       "                    ).then(function(){\n",
       "                            \n",
       "var gd = document.getElementById('63564ff3-3008-4185-806c-f326056ae4ed');\n",
       "var x = new MutationObserver(function (mutations, observer) {{\n",
       "        var display = window.getComputedStyle(gd).display;\n",
       "        if (!display || display === 'none') {{\n",
       "            console.log([gd, 'removed!']);\n",
       "            Plotly.purge(gd);\n",
       "            observer.disconnect();\n",
       "        }}\n",
       "}});\n",
       "\n",
       "// Listen for the removal of the full notebook cells\n",
       "var notebookContainer = gd.closest('#notebook-container');\n",
       "if (notebookContainer) {{\n",
       "    x.observe(notebookContainer, {childList: true});\n",
       "}}\n",
       "\n",
       "// Listen for the clearing of the current output cell\n",
       "var outputEl = gd.closest('.output');\n",
       "if (outputEl) {{\n",
       "    x.observe(outputEl, {childList: true});\n",
       "}}\n",
       "\n",
       "                        })\n",
       "                };\n",
       "                });\n",
       "            </script>\n",
       "        </div>"
      ]
     },
     "metadata": {},
     "output_type": "display_data"
    }
   ],
   "source": [
    "df = spark.sql(\"\"\"WITH base as(\n",
    "select distinct\n",
    "    offers.university_id AS university_id,\n",
    "    universities.name AS ies,\n",
    "    offers.id AS offer_id,\n",
    "    offers.course_id AS course_id,\n",
    "    offers.discount_percentage,\n",
    "    offers.visible,\n",
    "    offers.offered_price,\n",
    "    university_offers.full_price,\n",
    "    campuses.city,\n",
    "    campuses.state,\n",
    "    courses.name AS curso,\n",
    "    clean.name AS canonico,\n",
    "    courses.kind,\n",
    "    courses.level,\n",
    "    courses.shift,\n",
    "    pre_enrollment_fees.value,\n",
    "    pre_enrollment_fees.original_value, \n",
    "    fee_experiment_alternatives.name AS alternative,\n",
    "    fee_experiment_alternatives.id AS id_alternative,\n",
    "    fee_experiment_alternatives.ratio,\n",
    "    pre_enrollment_fees.value/university_offers.full_price AS pef_full,\n",
    "    courses.digital_admission\n",
    "    \n",
    "\n",
    "from querobolsa_production.offers\n",
    "    join querobolsa_production.university_offers on university_offers.id=offers.university_offer_id\n",
    "    join querobolsa_production.pre_enrollment_fees on pre_enrollment_fees.offer_id=offers.id\n",
    "    join querobolsa_production.courses on courses.id=offers.course_id\n",
    "    join querobolsa_production.universities on universities.id = offers.university_id\n",
    "    join querobolsa_production.levels on courses.level = levels.name\n",
    "    join querobolsa_production.kinds on courses.kind = kinds.name\n",
    "    join querobolsa_production.experiment_pre_enrollment_fees on pre_enrollment_fees.id = experiment_pre_enrollment_fees.pre_enrollment_fee_id\n",
    "    join querobolsa_production.fee_experiment_alternatives on fee_experiment_alternatives.id = experiment_pre_enrollment_fees.fee_experiment_alternative_id\n",
    "    join querobolsa_production.campuses ON courses.campus_id = campuses.id\n",
    "    join querobolsa_production.canonical_courses can ON courses.canonical_course_id = can.id\n",
    "    join querobolsa_production.canonical_courses clean ON clean.id = can.clean_canonical_course_id\n",
    "\n",
    "where\n",
    "    1=1\n",
    "    and pre_enrollment_fees.enabled\n",
    "    and offers.enabled\n",
    "    and offers.visible\n",
    "    and fee_experiment_alternatives.ratio <> 0\n",
    "    and levels.parent_id = 1\n",
    "    and kinds.parent_id = 1\n",
    "    and fee_experiment_alternatives.name IN ('baseline')\n",
    "    and clean.id IN (2,10,14,34,48,115,121,140,153,170,192,211,214,217,257,288,869,341,346,356)\n",
    "  \n",
    "      \n",
    "order by\n",
    "1,17\n",
    "),\n",
    "\n",
    "base_ordem AS(\n",
    "SELECT\n",
    "canonico,\n",
    "AVG(value) AS pef_geral\n",
    "FROM\n",
    "base\n",
    "GROUP BY\n",
    "1\n",
    "),\n",
    "\n",
    "base2 AS(\n",
    "SELECT\n",
    "state,\n",
    "base.canonico,\n",
    "base_ordem.pef_geral,\n",
    "AVG(value) AS pef,\n",
    "AVG(original_value) AS pef_o\n",
    "\n",
    "\n",
    "FROM\n",
    "base\n",
    "JOIN\n",
    "base_ordem ON base.canonico = base_ordem.canonico\n",
    "\n",
    "GROUP BY\n",
    "1,2,3\n",
    "\n",
    "ORDER BY\n",
    "1 desc,3 desc\n",
    ")\n",
    "\n",
    "SELECT\n",
    "state,\n",
    "canonico,\n",
    "pef_geral,\n",
    "pef,\n",
    "pef_o,\n",
    "MAX(pef) OVER\n",
    "  (partition by canonico) AS max_pef,\n",
    "pef/MAX(pef) OVER\n",
    "  (partition by canonico) AS relative_pef\n",
    "\n",
    "FROM\n",
    "base2\n",
    "\n",
    "ORDER BY 1 desc,3 desc\"\"\").toPandas()\n",
    "\n",
    "fig = px.scatter(df, x='canonico', y='relative_pef', color='state')\n",
    "fig.show()"
   ]
  }
 ],
 "metadata": {
  "kernelspec": {
   "display_name": "Python 3",
   "language": "python",
   "name": "python3"
  },
  "language_info": {
   "codemirror_mode": {
    "name": "ipython",
    "version": 3
   },
   "file_extension": ".py",
   "mimetype": "text/x-python",
   "name": "python",
   "nbconvert_exporter": "python",
   "pygments_lexer": "ipython3",
   "version": "3.7.6"
  }
 },
 "nbformat": 4,
 "nbformat_minor": 4
}
